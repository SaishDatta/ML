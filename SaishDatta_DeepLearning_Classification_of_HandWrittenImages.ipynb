{
 "cells": [
  {
   "cell_type": "markdown",
   "metadata": {
    "id": "XxeyelGk_Tp4"
   },
   "source": [
    "# Classifying Handwritten digits using Tensorflow 2.x"
   ]
  },
  {
   "cell_type": "markdown",
   "metadata": {
    "id": "VqFvADlTZgrp"
   },
   "source": [
    "This is a [Google Colaboratory](https://colab.research.google.com/notebooks/welcome.ipynb) notebook file. Python programs are run directly in the browser—a great way to learn and use TensorFlow. To follow this tutorial, run the notebook in Google Colab by clicking the button at the top of this page.\n",
    "\n",
    "1. In Colab, connect to a Python runtime: At the top-right of the menu bar, select *CONNECT*.\n",
    "2. Run all the notebook code cells: Select *Runtime* > *Run all*."
   ]
  },
  {
   "cell_type": "markdown",
   "metadata": {
    "id": "JL8GMQz2R90b"
   },
   "source": [
    "##Problem Statement"
   ]
  },
  {
   "cell_type": "markdown",
   "metadata": {
    "id": "CI0fQw8zSEku"
   },
   "source": [
    "**MNIST (\"Modified National Institute of Standards and Technology\")** is the de facto “hello world” dataset of computer vision. Since its release in 1999, this classic dataset of handwritten images has served as the basis for benchmarking classification algorithms. As new machine learning techniques emerge, MNIST remains a reliable resource for researchers and learners alike.\n",
    "\n",
    "In this demo, your goal is to correctly identify digits from a dataset of thousands of handwritten images. "
   ]
  },
  {
   "cell_type": "markdown",
   "metadata": {
    "id": "HruLQ2fqS3f2"
   },
   "source": [
    "####**Tasks to be Performed**"
   ]
  },
  {
   "cell_type": "markdown",
   "metadata": {
    "id": "GtuEkgrQS7Rs"
   },
   "source": [
    "In this tutorial you will be performing the following tasks:\n",
    "- Prepare the dataset for the model\n",
    "- Install Tensorflow 2.x\n",
    "- Develop Single Layer Perceptron model for classifying the handwritten digits\n",
    "- Plot the change in accuracy per epochs\n",
    "- Evaluate the model on the testing data\n",
    "- Analyse the model summary\n",
    "- Add hidden layer to the model to make it Multi-Layer Perceptron\n",
    "- Add Dropout to prevent overfitting and check its effect on accuracy\n",
    "- Increasing the number of Hidden Layer neuron and check its effect on accuracy\n",
    "- Use different optimizers and check its effect on accuracy\n",
    "- Increase the hidden layers and check its effect on accuracy\n",
    "- Manipulate the batch_size and epochs and check its effect on accuracy\n",
    "- Answer: What parameters should be choosen to get best accuracy on classifying the handwritten digits?"
   ]
  },
  {
   "cell_type": "markdown",
   "metadata": {
    "id": "PwEj36wcbsXF"
   },
   "source": [
    "####**Dataset Description**\n",
    "MNIST Fashion Dataset\n",
    "\n"
   ]
  },
  {
   "cell_type": "markdown",
   "metadata": {
    "id": "u5DMnZp1bxAU"
   },
   "source": [
    "####**Skills Gained**"
   ]
  },
  {
   "cell_type": "markdown",
   "metadata": {
    "id": "InSeMIvFScja"
   },
   "source": [
    "- TensorFlow 2.x\n",
    "- Single Layer Perceptron\n",
    "- Multi Layer Perceptron\n",
    "- Model Improvisation"
   ]
  },
  {
   "cell_type": "markdown",
   "metadata": {
    "id": "szLxFVyIytsv"
   },
   "source": [
    "# Solution: Classifying fashion images using Tensorflow 2.x"
   ]
  },
  {
   "cell_type": "markdown",
   "metadata": {
    "id": "yZBPiGLXYGUM"
   },
   "source": [
    "##Installing TensorFlow 2.x"
   ]
  },
  {
   "cell_type": "code",
   "execution_count": 1,
   "metadata": {
    "executionInfo": {
     "elapsed": 1210,
     "status": "ok",
     "timestamp": 1606816384861,
     "user": {
      "displayName": "saish datta",
      "photoUrl": "https://lh3.googleusercontent.com/a-/AOh14Gj1uI-O0cP8d2PT6_HqiThvJsj2xAVV7-g2-A2wFg=s64",
      "userId": "15870591529822835278"
     },
     "user_tz": -330
    },
    "id": "qSt1IGYaYe_y"
   },
   "outputs": [],
   "source": [
    "# !pip install tensorflow"
   ]
  },
  {
   "cell_type": "code",
   "execution_count": 3,
   "metadata": {
    "colab": {
     "base_uri": "https://localhost:8080/"
    },
    "executionInfo": {
     "elapsed": 1493,
     "status": "ok",
     "timestamp": 1606816417304,
     "user": {
      "displayName": "saish datta",
      "photoUrl": "https://lh3.googleusercontent.com/a-/AOh14Gj1uI-O0cP8d2PT6_HqiThvJsj2xAVV7-g2-A2wFg=s64",
      "userId": "15870591529822835278"
     },
     "user_tz": -330
    },
    "id": "Xne1Dqd9M-c_",
    "outputId": "6d2ba312-aab3-4846-d8cd-ec3a3bbbd26a"
   },
   "outputs": [
    {
     "name": "stdout",
     "output_type": "stream",
     "text": [
      "2.3.0\n"
     ]
    }
   ],
   "source": [
    "import tensorflow as tf\n",
    "print(tf.__version__)"
   ]
  },
  {
   "cell_type": "code",
   "execution_count": 4,
   "metadata": {
    "colab": {
     "base_uri": "https://localhost:8080/"
    },
    "executionInfo": {
     "elapsed": 1002,
     "status": "ok",
     "timestamp": 1606816751302,
     "user": {
      "displayName": "saish datta",
      "photoUrl": "https://lh3.googleusercontent.com/a-/AOh14Gj1uI-O0cP8d2PT6_HqiThvJsj2xAVV7-g2-A2wFg=s64",
      "userId": "15870591529822835278"
     },
     "user_tz": -330
    },
    "id": "knttI4ECLnHE",
    "outputId": "0ff08f48-1100-42c4-9b9a-5c2b03f8bde1"
   },
   "outputs": [
    {
     "name": "stdout",
     "output_type": "stream",
     "text": [
      "2.4.0\n"
     ]
    }
   ],
   "source": [
    "#verify the installation\n",
    "import tensorflow as tf\n",
    "from tensorflow import keras \n",
    "\n",
    "#Check tf.keras version\n",
    "print(tf.keras.__version__)\n"
   ]
  },
  {
   "cell_type": "markdown",
   "metadata": {
    "id": "RaTcM_Gk_jco"
   },
   "source": [
    "##Preparing the Data"
   ]
  },
  {
   "cell_type": "markdown",
   "metadata": {
    "id": "M0UnlNytbPmC"
   },
   "source": [
    "###Loading the Data"
   ]
  },
  {
   "cell_type": "markdown",
   "metadata": {
    "id": "peAAgeflZwcH"
   },
   "source": [
    "Load and prepare the [MNIST dataset](http://yann.lecun.com/exdb/mnist/) and convert the samples from integers to floating-point numbers and deal with categorical data:"
   ]
  },
  {
   "cell_type": "code",
   "execution_count": 5,
   "metadata": {
    "colab": {
     "base_uri": "https://localhost:8080/"
    },
    "executionInfo": {
     "elapsed": 2094,
     "status": "ok",
     "timestamp": 1606816777939,
     "user": {
      "displayName": "saish datta",
      "photoUrl": "https://lh3.googleusercontent.com/a-/AOh14Gj1uI-O0cP8d2PT6_HqiThvJsj2xAVV7-g2-A2wFg=s64",
      "userId": "15870591529822835278"
     },
     "user_tz": -330
    },
    "id": "c8-PSPuqLn_K",
    "outputId": "0223b746-755c-406e-c823-7fa44055467f"
   },
   "outputs": [
    {
     "name": "stdout",
     "output_type": "stream",
     "text": [
      "Downloading data from https://storage.googleapis.com/tensorflow/tf-keras-datasets/train-labels-idx1-ubyte.gz\n",
      "32768/29515 [=================================] - 0s 0us/step\n",
      "Downloading data from https://storage.googleapis.com/tensorflow/tf-keras-datasets/train-images-idx3-ubyte.gz\n",
      "26427392/26421880 [==============================] - 0s 0us/step\n",
      "Downloading data from https://storage.googleapis.com/tensorflow/tf-keras-datasets/t10k-labels-idx1-ubyte.gz\n",
      "8192/5148 [===============================================] - 0s 0us/step\n",
      "Downloading data from https://storage.googleapis.com/tensorflow/tf-keras-datasets/t10k-images-idx3-ubyte.gz\n",
      "4423680/4422102 [==============================] - 0s 0us/step\n"
     ]
    }
   ],
   "source": [
    "# Loading MNIST dataset\n",
    "fmnist = keras.datasets.fashion_mnist \n",
    "(X_train, Y_train), (X_test, Y_test) = fmnist.load_data()"
   ]
  },
  {
   "cell_type": "code",
   "execution_count": 6,
   "metadata": {
    "colab": {
     "base_uri": "https://localhost:8080/"
    },
    "executionInfo": {
     "elapsed": 1226,
     "status": "ok",
     "timestamp": 1606816967878,
     "user": {
      "displayName": "saish datta",
      "photoUrl": "https://lh3.googleusercontent.com/a-/AOh14Gj1uI-O0cP8d2PT6_HqiThvJsj2xAVV7-g2-A2wFg=s64",
      "userId": "15870591529822835278"
     },
     "user_tz": -330
    },
    "id": "t_v4WkSBLrJH",
    "outputId": "c02e343c-d02d-4ef4-ea7b-83c580b12abd"
   },
   "outputs": [
    {
     "name": "stdout",
     "output_type": "stream",
     "text": [
      "(60000, 28, 28)\n",
      "(10000, 28, 28)\n",
      "(60000,)\n",
      "(10000,)\n"
     ]
    }
   ],
   "source": [
    "# Data Exploration\n",
    "print(X_train.shape)\n",
    "print(X_test.shape)\n",
    "print(Y_train.shape)\n",
    "print(Y_test.shape)"
   ]
  },
  {
   "cell_type": "markdown",
   "metadata": {
    "id": "WQR_cGsYaWVD"
   },
   "source": [
    "###Data Preprocessing"
   ]
  },
  {
   "cell_type": "code",
   "execution_count": 7,
   "metadata": {
    "colab": {
     "base_uri": "https://localhost:8080/"
    },
    "executionInfo": {
     "elapsed": 1198,
     "status": "ok",
     "timestamp": 1606817028588,
     "user": {
      "displayName": "saish datta",
      "photoUrl": "https://lh3.googleusercontent.com/a-/AOh14Gj1uI-O0cP8d2PT6_HqiThvJsj2xAVV7-g2-A2wFg=s64",
      "userId": "15870591529822835278"
     },
     "user_tz": -330
    },
    "id": "5uAo7yDtRhbG",
    "outputId": "cf6bb077-5c7b-4bcd-93d9-27b74c2454de"
   },
   "outputs": [
    {
     "name": "stdout",
     "output_type": "stream",
     "text": [
      "60000 train samples\n",
      "10000 test samples\n",
      "(60000, 784)\n",
      "(60000, 10)\n",
      "(10000, 784)\n",
      "(10000, 10)\n"
     ]
    }
   ],
   "source": [
    "# X_train is 60000 rows of 28x28 values; we reshape it to # 60000 x 784. \n",
    "RESHAPED = 784 # 28x28 = 784 neurons\n",
    "X_train = X_train.reshape(60000, RESHAPED) \n",
    "X_test = X_test.reshape(10000, RESHAPED) \n",
    "\n",
    "# Data is converted into float32 to use 32-bit precision # when training a neural network \n",
    "X_train = X_train.astype('float32')\n",
    "X_test = X_test.astype('float32') \n",
    "\n",
    "# Normalizing the input to be within the range [0,1]\n",
    "X_train /= 255\n",
    "#intensity of each pixel is divided by 255, the maximum intensity value\n",
    "X_test /= 255\n",
    "print(X_train.shape[0], 'train samples') \n",
    "print(X_test.shape[0], 'test samples') \n",
    "\n",
    "# One-hot representation of the labels.\n",
    "Y_train = tf.keras.utils.to_categorical(Y_train, 10) \n",
    "Y_test = tf.keras.utils.to_categorical(Y_test, 10)\n",
    "print(X_train.shape)\n",
    "print(Y_train.shape)\n",
    "print(X_test.shape)\n",
    "print(Y_test.shape)"
   ]
  },
  {
   "cell_type": "markdown",
   "metadata": {
    "id": "8g6qsSi21x97"
   },
   "source": [
    "## Designing the Model"
   ]
  },
  {
   "cell_type": "markdown",
   "metadata": {
    "id": "ajqy56PT_pHr"
   },
   "source": [
    "###Preparing the Model 0: Single layer Perceptron"
   ]
  },
  {
   "cell_type": "markdown",
   "metadata": {
    "id": "wncYBuNkaCFf"
   },
   "source": [
    "Build the `Sequential` model with 0 hidden layers. Choose an optimizer and loss function for training:"
   ]
  },
  {
   "cell_type": "code",
   "execution_count": 8,
   "metadata": {
    "executionInfo": {
     "elapsed": 1631,
     "status": "ok",
     "timestamp": 1606817093731,
     "user": {
      "displayName": "saish datta",
      "photoUrl": "https://lh3.googleusercontent.com/a-/AOh14Gj1uI-O0cP8d2PT6_HqiThvJsj2xAVV7-g2-A2wFg=s64",
      "userId": "15870591529822835278"
     },
     "user_tz": -330
    },
    "id": "2Q5jFOQUM-c0"
   },
   "outputs": [],
   "source": [
    "import tensorflow as tf\n",
    "from tensorflow.keras.layers import Dense\n",
    "from tensorflow.keras import Sequential\n",
    "model_0 = Sequential()\n",
    "# Now the model will take as input arrays of shape (*, 784)# and output arrays of shape (*, 10)\n",
    "model_0.add(Dense(10,input_shape=(784,),name='dense_layer', activation='softmax')) "
   ]
  },
  {
   "cell_type": "code",
   "execution_count": 9,
   "metadata": {
    "executionInfo": {
     "elapsed": 1294,
     "status": "ok",
     "timestamp": 1606817106874,
     "user": {
      "displayName": "saish datta",
      "photoUrl": "https://lh3.googleusercontent.com/a-/AOh14Gj1uI-O0cP8d2PT6_HqiThvJsj2xAVV7-g2-A2wFg=s64",
      "userId": "15870591529822835278"
     },
     "user_tz": -330
    },
    "id": "ocCzyD2SWC9I"
   },
   "outputs": [],
   "source": [
    "# Compiling the model.\n",
    "model_0.compile(optimizer='SGD', \n",
    "              loss='categorical_crossentropy',\n",
    "              metrics=['accuracy'])"
   ]
  },
  {
   "cell_type": "code",
   "execution_count": 10,
   "metadata": {
    "colab": {
     "base_uri": "https://localhost:8080/"
    },
    "executionInfo": {
     "elapsed": 72106,
     "status": "ok",
     "timestamp": 1606817183478,
     "user": {
      "displayName": "saish datta",
      "photoUrl": "https://lh3.googleusercontent.com/a-/AOh14Gj1uI-O0cP8d2PT6_HqiThvJsj2xAVV7-g2-A2wFg=s64",
      "userId": "15870591529822835278"
     },
     "user_tz": -330
    },
    "id": "fvAt9Atl-cnx",
    "outputId": "6251661e-d1e7-42d2-888e-f8f714aae542"
   },
   "outputs": [
    {
     "name": "stdout",
     "output_type": "stream",
     "text": [
      "Epoch 1/70\n",
      "750/750 [==============================] - 1s 2ms/step - loss: 1.0326 - accuracy: 0.6748 - val_loss: 0.7607 - val_accuracy: 0.7588\n",
      "Epoch 2/70\n",
      "750/750 [==============================] - 1s 1ms/step - loss: 0.7083 - accuracy: 0.7736 - val_loss: 0.6569 - val_accuracy: 0.7863\n",
      "Epoch 3/70\n",
      "750/750 [==============================] - 1s 1ms/step - loss: 0.6353 - accuracy: 0.7964 - val_loss: 0.6102 - val_accuracy: 0.7983\n",
      "Epoch 4/70\n",
      "750/750 [==============================] - 1s 1ms/step - loss: 0.5958 - accuracy: 0.8072 - val_loss: 0.5783 - val_accuracy: 0.8115\n",
      "Epoch 5/70\n",
      "750/750 [==============================] - 1s 1ms/step - loss: 0.5697 - accuracy: 0.8145 - val_loss: 0.5581 - val_accuracy: 0.8152\n",
      "Epoch 6/70\n",
      "750/750 [==============================] - 1s 1ms/step - loss: 0.5510 - accuracy: 0.8196 - val_loss: 0.5425 - val_accuracy: 0.8190\n",
      "Epoch 7/70\n",
      "750/750 [==============================] - 1s 1ms/step - loss: 0.5366 - accuracy: 0.8238 - val_loss: 0.5309 - val_accuracy: 0.8217\n",
      "Epoch 8/70\n",
      "750/750 [==============================] - 1s 1ms/step - loss: 0.5252 - accuracy: 0.8276 - val_loss: 0.5210 - val_accuracy: 0.8238\n",
      "Epoch 9/70\n",
      "750/750 [==============================] - 1s 1ms/step - loss: 0.5154 - accuracy: 0.8296 - val_loss: 0.5138 - val_accuracy: 0.8266\n",
      "Epoch 10/70\n",
      "750/750 [==============================] - 1s 1ms/step - loss: 0.5074 - accuracy: 0.8314 - val_loss: 0.5067 - val_accuracy: 0.8298\n",
      "Epoch 11/70\n",
      "750/750 [==============================] - 1s 1ms/step - loss: 0.5006 - accuracy: 0.8337 - val_loss: 0.5002 - val_accuracy: 0.8317\n",
      "Epoch 12/70\n",
      "750/750 [==============================] - 1s 1ms/step - loss: 0.4945 - accuracy: 0.8353 - val_loss: 0.4975 - val_accuracy: 0.8295\n",
      "Epoch 13/70\n",
      "750/750 [==============================] - 1s 1ms/step - loss: 0.4892 - accuracy: 0.8374 - val_loss: 0.4902 - val_accuracy: 0.8354\n",
      "Epoch 14/70\n",
      "750/750 [==============================] - 1s 1ms/step - loss: 0.4842 - accuracy: 0.8383 - val_loss: 0.4866 - val_accuracy: 0.8354\n",
      "Epoch 15/70\n",
      "750/750 [==============================] - 1s 1ms/step - loss: 0.4798 - accuracy: 0.8398 - val_loss: 0.4839 - val_accuracy: 0.8344\n",
      "Epoch 16/70\n",
      "750/750 [==============================] - 1s 1ms/step - loss: 0.4761 - accuracy: 0.8409 - val_loss: 0.4800 - val_accuracy: 0.8365\n",
      "Epoch 17/70\n",
      "750/750 [==============================] - 1s 1ms/step - loss: 0.4724 - accuracy: 0.8409 - val_loss: 0.4765 - val_accuracy: 0.8378\n",
      "Epoch 18/70\n",
      "750/750 [==============================] - 1s 1ms/step - loss: 0.4692 - accuracy: 0.8424 - val_loss: 0.4734 - val_accuracy: 0.8392\n",
      "Epoch 19/70\n",
      "750/750 [==============================] - 1s 1ms/step - loss: 0.4661 - accuracy: 0.8435 - val_loss: 0.4711 - val_accuracy: 0.8388\n",
      "Epoch 20/70\n",
      "750/750 [==============================] - 1s 1ms/step - loss: 0.4632 - accuracy: 0.8451 - val_loss: 0.4690 - val_accuracy: 0.8403\n",
      "Epoch 21/70\n",
      "750/750 [==============================] - 1s 1ms/step - loss: 0.4606 - accuracy: 0.8448 - val_loss: 0.4682 - val_accuracy: 0.8405\n",
      "Epoch 22/70\n",
      "750/750 [==============================] - 1s 1ms/step - loss: 0.4585 - accuracy: 0.8457 - val_loss: 0.4644 - val_accuracy: 0.8413\n",
      "Epoch 23/70\n",
      "750/750 [==============================] - 1s 1ms/step - loss: 0.4560 - accuracy: 0.8465 - val_loss: 0.4645 - val_accuracy: 0.8413\n",
      "Epoch 24/70\n",
      "750/750 [==============================] - 1s 1ms/step - loss: 0.4539 - accuracy: 0.8472 - val_loss: 0.4606 - val_accuracy: 0.8419\n",
      "Epoch 25/70\n",
      "750/750 [==============================] - 1s 1ms/step - loss: 0.4517 - accuracy: 0.8472 - val_loss: 0.4585 - val_accuracy: 0.8439\n",
      "Epoch 26/70\n",
      "750/750 [==============================] - 1s 1ms/step - loss: 0.4497 - accuracy: 0.8484 - val_loss: 0.4604 - val_accuracy: 0.8398\n",
      "Epoch 27/70\n",
      "750/750 [==============================] - 1s 1ms/step - loss: 0.4481 - accuracy: 0.8484 - val_loss: 0.4564 - val_accuracy: 0.8446\n",
      "Epoch 28/70\n",
      "750/750 [==============================] - 1s 1ms/step - loss: 0.4463 - accuracy: 0.8496 - val_loss: 0.4550 - val_accuracy: 0.8442\n",
      "Epoch 29/70\n",
      "750/750 [==============================] - 1s 1ms/step - loss: 0.4447 - accuracy: 0.8495 - val_loss: 0.4535 - val_accuracy: 0.8435\n",
      "Epoch 30/70\n",
      "750/750 [==============================] - 1s 1ms/step - loss: 0.4431 - accuracy: 0.8496 - val_loss: 0.4574 - val_accuracy: 0.8416\n",
      "Epoch 31/70\n",
      "750/750 [==============================] - 1s 2ms/step - loss: 0.4417 - accuracy: 0.8511 - val_loss: 0.4516 - val_accuracy: 0.8438\n",
      "Epoch 32/70\n",
      "750/750 [==============================] - 1s 2ms/step - loss: 0.4403 - accuracy: 0.8509 - val_loss: 0.4494 - val_accuracy: 0.8446\n",
      "Epoch 33/70\n",
      "750/750 [==============================] - 1s 1ms/step - loss: 0.4389 - accuracy: 0.8517 - val_loss: 0.4496 - val_accuracy: 0.8459\n",
      "Epoch 34/70\n",
      "750/750 [==============================] - 1s 1ms/step - loss: 0.4377 - accuracy: 0.8520 - val_loss: 0.4477 - val_accuracy: 0.8468\n",
      "Epoch 35/70\n",
      "750/750 [==============================] - 1s 2ms/step - loss: 0.4362 - accuracy: 0.8529 - val_loss: 0.4459 - val_accuracy: 0.8463\n",
      "Epoch 36/70\n",
      "750/750 [==============================] - 1s 1ms/step - loss: 0.4349 - accuracy: 0.8528 - val_loss: 0.4464 - val_accuracy: 0.8474\n",
      "Epoch 37/70\n",
      "750/750 [==============================] - 1s 1ms/step - loss: 0.4341 - accuracy: 0.8526 - val_loss: 0.4445 - val_accuracy: 0.8485\n",
      "Epoch 38/70\n",
      "750/750 [==============================] - 1s 1ms/step - loss: 0.4329 - accuracy: 0.8537 - val_loss: 0.4446 - val_accuracy: 0.8458\n",
      "Epoch 39/70\n",
      "750/750 [==============================] - 1s 1ms/step - loss: 0.4319 - accuracy: 0.8534 - val_loss: 0.4431 - val_accuracy: 0.8484\n",
      "Epoch 40/70\n",
      "750/750 [==============================] - 1s 1ms/step - loss: 0.4308 - accuracy: 0.8538 - val_loss: 0.4416 - val_accuracy: 0.8480\n",
      "Epoch 41/70\n",
      "750/750 [==============================] - 1s 1ms/step - loss: 0.4299 - accuracy: 0.8541 - val_loss: 0.4412 - val_accuracy: 0.8511\n",
      "Epoch 42/70\n",
      "750/750 [==============================] - 1s 1ms/step - loss: 0.4286 - accuracy: 0.8540 - val_loss: 0.4428 - val_accuracy: 0.8483\n",
      "Epoch 43/70\n",
      "750/750 [==============================] - 1s 1ms/step - loss: 0.4279 - accuracy: 0.8550 - val_loss: 0.4420 - val_accuracy: 0.8495\n",
      "Epoch 44/70\n",
      "750/750 [==============================] - 1s 1ms/step - loss: 0.4270 - accuracy: 0.8547 - val_loss: 0.4388 - val_accuracy: 0.8501\n",
      "Epoch 45/70\n",
      "750/750 [==============================] - 1s 1ms/step - loss: 0.4261 - accuracy: 0.8538 - val_loss: 0.4382 - val_accuracy: 0.8512\n",
      "Epoch 46/70\n",
      "750/750 [==============================] - 1s 1ms/step - loss: 0.4252 - accuracy: 0.8551 - val_loss: 0.4381 - val_accuracy: 0.8503\n",
      "Epoch 47/70\n",
      "750/750 [==============================] - 1s 1ms/step - loss: 0.4243 - accuracy: 0.8559 - val_loss: 0.4396 - val_accuracy: 0.8484\n",
      "Epoch 48/70\n",
      "750/750 [==============================] - 1s 1ms/step - loss: 0.4236 - accuracy: 0.8554 - val_loss: 0.4367 - val_accuracy: 0.8506\n",
      "Epoch 49/70\n",
      "750/750 [==============================] - 1s 1ms/step - loss: 0.4230 - accuracy: 0.8563 - val_loss: 0.4364 - val_accuracy: 0.8515\n",
      "Epoch 50/70\n",
      "750/750 [==============================] - 1s 1ms/step - loss: 0.4222 - accuracy: 0.8557 - val_loss: 0.4363 - val_accuracy: 0.8522\n",
      "Epoch 51/70\n",
      "750/750 [==============================] - 1s 1ms/step - loss: 0.4215 - accuracy: 0.8563 - val_loss: 0.4349 - val_accuracy: 0.8513\n",
      "Epoch 52/70\n",
      "750/750 [==============================] - 1s 1ms/step - loss: 0.4208 - accuracy: 0.8568 - val_loss: 0.4343 - val_accuracy: 0.8518\n",
      "Epoch 53/70\n",
      "750/750 [==============================] - 1s 1ms/step - loss: 0.4200 - accuracy: 0.8568 - val_loss: 0.4358 - val_accuracy: 0.8507\n",
      "Epoch 54/70\n",
      "750/750 [==============================] - 1s 1ms/step - loss: 0.4192 - accuracy: 0.8572 - val_loss: 0.4340 - val_accuracy: 0.8522\n",
      "Epoch 55/70\n",
      "750/750 [==============================] - 1s 1ms/step - loss: 0.4186 - accuracy: 0.8575 - val_loss: 0.4358 - val_accuracy: 0.8508\n",
      "Epoch 56/70\n",
      "750/750 [==============================] - 1s 1ms/step - loss: 0.4179 - accuracy: 0.8573 - val_loss: 0.4333 - val_accuracy: 0.8543\n",
      "Epoch 57/70\n",
      "750/750 [==============================] - 1s 1ms/step - loss: 0.4176 - accuracy: 0.8581 - val_loss: 0.4334 - val_accuracy: 0.8528\n",
      "Epoch 58/70\n",
      "750/750 [==============================] - 1s 1ms/step - loss: 0.4167 - accuracy: 0.8583 - val_loss: 0.4327 - val_accuracy: 0.8520\n",
      "Epoch 59/70\n",
      "750/750 [==============================] - 1s 1ms/step - loss: 0.4161 - accuracy: 0.8586 - val_loss: 0.4311 - val_accuracy: 0.8523\n",
      "Epoch 60/70\n",
      "750/750 [==============================] - 1s 1ms/step - loss: 0.4157 - accuracy: 0.8585 - val_loss: 0.4306 - val_accuracy: 0.8535\n",
      "Epoch 61/70\n",
      "750/750 [==============================] - 1s 1ms/step - loss: 0.4152 - accuracy: 0.8586 - val_loss: 0.4314 - val_accuracy: 0.8529\n",
      "Epoch 62/70\n",
      "750/750 [==============================] - 1s 1ms/step - loss: 0.4145 - accuracy: 0.8575 - val_loss: 0.4314 - val_accuracy: 0.8537\n",
      "Epoch 63/70\n",
      "750/750 [==============================] - 1s 1ms/step - loss: 0.4138 - accuracy: 0.8591 - val_loss: 0.4309 - val_accuracy: 0.8519\n",
      "Epoch 64/70\n",
      "750/750 [==============================] - 1s 1ms/step - loss: 0.4134 - accuracy: 0.8584 - val_loss: 0.4292 - val_accuracy: 0.8534\n",
      "Epoch 65/70\n",
      "750/750 [==============================] - 1s 1ms/step - loss: 0.4129 - accuracy: 0.8590 - val_loss: 0.4287 - val_accuracy: 0.8538\n",
      "Epoch 66/70\n",
      "750/750 [==============================] - 1s 1ms/step - loss: 0.4123 - accuracy: 0.8590 - val_loss: 0.4312 - val_accuracy: 0.8511\n",
      "Epoch 67/70\n",
      "750/750 [==============================] - 1s 1ms/step - loss: 0.4120 - accuracy: 0.8584 - val_loss: 0.4287 - val_accuracy: 0.8520\n",
      "Epoch 68/70\n",
      "750/750 [==============================] - 1s 1ms/step - loss: 0.4114 - accuracy: 0.8594 - val_loss: 0.4300 - val_accuracy: 0.8520\n",
      "Epoch 69/70\n",
      "750/750 [==============================] - 1s 1ms/step - loss: 0.4110 - accuracy: 0.8597 - val_loss: 0.4288 - val_accuracy: 0.8543\n",
      "Epoch 70/70\n",
      "750/750 [==============================] - 1s 1ms/step - loss: 0.4103 - accuracy: 0.8600 - val_loss: 0.4276 - val_accuracy: 0.8542\n"
     ]
    }
   ],
   "source": [
    "# Training the model. \n",
    "#training = model_0.fit(X_train, Y_train, batch_size=64, epochs=70, validation_split=0.2) \n",
    "training = model_0.fit(X_train, Y_train, batch_size=64, epochs=70, validation_split=0.2) \n",
    "#training = model_0.fit(X_test, Y_test, batch_size=100, epochs=70, validation_split=0.2) "
   ]
  },
  {
   "cell_type": "code",
   "execution_count": 11,
   "metadata": {
    "colab": {
     "base_uri": "https://localhost:8080/",
     "height": 590
    },
    "executionInfo": {
     "elapsed": 1590,
     "status": "ok",
     "timestamp": 1606817645096,
     "user": {
      "displayName": "saish datta",
      "photoUrl": "https://lh3.googleusercontent.com/a-/AOh14Gj1uI-O0cP8d2PT6_HqiThvJsj2xAVV7-g2-A2wFg=s64",
      "userId": "15870591529822835278"
     },
     "user_tz": -330
    },
    "id": "hof2yoiDBCab",
    "outputId": "3b5047ec-387c-42a3-e01b-3b47458317ea"
   },
   "outputs": [
    {
     "name": "stdout",
     "output_type": "stream",
     "text": [
      "dict_keys(['loss', 'accuracy', 'val_loss', 'val_accuracy'])\n"
     ]
    },
    {
     "data": {
      "image/png": "[encoded data removed]",
      "text/plain": [
       "<Figure size 432x288 with 1 Axes>"
      ]
     },
     "metadata": {
      "needs_background": "light",
      "tags": []
     },
     "output_type": "display_data"
    },
    {
     "data": {
      "image/png": "[encoded data removed]",
      "text/plain": [
       "<Figure size 432x288 with 1 Axes>"
      ]
     },
     "metadata": {
      "needs_background": "light",
      "tags": []
     },
     "output_type": "display_data"
    }
   ],
   "source": [
    "import matplotlib.pyplot as plt\n",
    "%matplotlib inline\n",
    "# list all data in training\n",
    "print(training.history.keys())\n",
    "# summarize training for accuracy\n",
    "plt.plot(training.history['accuracy'])\n",
    "plt.plot(training.history['val_accuracy'])\n",
    "plt.title('model accuracy')\n",
    "plt.ylabel('accuracy')\n",
    "plt.xlabel('epoch')\n",
    "plt.legend(['train', 'test'], loc='upper left')\n",
    "plt.show()\n",
    "# summarize traning for loss\n",
    "plt.plot(training.history['loss'])\n",
    "plt.plot(training.history['val_loss'])\n",
    "plt.title('model loss')\n",
    "plt.ylabel('loss')\n",
    "plt.xlabel('epoch')\n",
    "plt.legend(['train', 'test'], loc='upper left')\n",
    "plt.show()"
   ]
  },
  {
   "cell_type": "code",
   "execution_count": 12,
   "metadata": {
    "colab": {
     "base_uri": "https://localhost:8080/"
    },
    "executionInfo": {
     "elapsed": 1477,
     "status": "ok",
     "timestamp": 1606817682760,
     "user": {
      "displayName": "saish datta",
      "photoUrl": "https://lh3.googleusercontent.com/a-/AOh14Gj1uI-O0cP8d2PT6_HqiThvJsj2xAVV7-g2-A2wFg=s64",
      "userId": "15870591529822835278"
     },
     "user_tz": -330
    },
    "id": "SzP_B7w7_1tj",
    "outputId": "7c57505f-2682-4a0c-c001-a80fe80cc501"
   },
   "outputs": [
    {
     "name": "stdout",
     "output_type": "stream",
     "text": [
      "313/313 [==============================] - 0s 1ms/step - loss: 0.4550 - accuracy: 0.8418\n",
      "Test accuracy: 0.8417999744415283\n"
     ]
    }
   ],
   "source": [
    "#evaluate the model\n",
    "test_loss, test_acc = model_0.evaluate(X_test, Y_test)\n",
    "print('Test accuracy:', test_acc)"
   ]
  },
  {
   "cell_type": "code",
   "execution_count": 13,
   "metadata": {
    "colab": {
     "base_uri": "https://localhost:8080/"
    },
    "executionInfo": {
     "elapsed": 1291,
     "status": "ok",
     "timestamp": 1606817734290,
     "user": {
      "displayName": "saish datta",
      "photoUrl": "https://lh3.googleusercontent.com/a-/AOh14Gj1uI-O0cP8d2PT6_HqiThvJsj2xAVV7-g2-A2wFg=s64",
      "userId": "15870591529822835278"
     },
     "user_tz": -330
    },
    "id": "ZrHaOTYTaukM",
    "outputId": "d5864dc8-ffb9-4f9b-9bc9-71b39a33ff25"
   },
   "outputs": [
    {
     "name": "stdout",
     "output_type": "stream",
     "text": [
      "Model: \"sequential\"\n",
      "_________________________________________________________________\n",
      "Layer (type)                 Output Shape              Param #   \n",
      "=================================================================\n",
      "dense_layer (Dense)          (None, 10)                7850      \n",
      "=================================================================\n",
      "Total params: 7,850\n",
      "Trainable params: 7,850\n",
      "Non-trainable params: 0\n",
      "_________________________________________________________________\n"
     ]
    }
   ],
   "source": [
    "model_0.summary()"
   ]
  },
  {
   "cell_type": "code",
   "execution_count": 14,
   "metadata": {
    "colab": {
     "base_uri": "https://localhost:8080/"
    },
    "executionInfo": {
     "elapsed": 1020,
     "status": "ok",
     "timestamp": 1606817741145,
     "user": {
      "displayName": "saish datta",
      "photoUrl": "https://lh3.googleusercontent.com/a-/AOh14Gj1uI-O0cP8d2PT6_HqiThvJsj2xAVV7-g2-A2wFg=s64",
      "userId": "15870591529822835278"
     },
     "user_tz": -330
    },
    "id": "SsL3O8UfartE",
    "outputId": "dfc9a31a-61de-4915-9924-2838bfdccaee"
   },
   "outputs": [
    {
     "data": {
      "text/plain": [
       "{'layers': [{'class_name': 'InputLayer',\n",
       "   'config': {'batch_input_shape': (None, 784),\n",
       "    'dtype': 'float32',\n",
       "    'name': 'dense_layer_input',\n",
       "    'ragged': False,\n",
       "    'sparse': False}},\n",
       "  {'class_name': 'Dense',\n",
       "   'config': {'activation': 'softmax',\n",
       "    'activity_regularizer': None,\n",
       "    'batch_input_shape': (None, 784),\n",
       "    'bias_constraint': None,\n",
       "    'bias_initializer': {'class_name': 'Zeros', 'config': {}},\n",
       "    'bias_regularizer': None,\n",
       "    'dtype': 'float32',\n",
       "    'kernel_constraint': None,\n",
       "    'kernel_initializer': {'class_name': 'GlorotUniform',\n",
       "     'config': {'seed': None}},\n",
       "    'kernel_regularizer': None,\n",
       "    'name': 'dense_layer',\n",
       "    'trainable': True,\n",
       "    'units': 10,\n",
       "    'use_bias': True}}],\n",
       " 'name': 'sequential'}"
      ]
     },
     "execution_count": 14,
     "metadata": {
      "tags": []
     },
     "output_type": "execute_result"
    }
   ],
   "source": [
    "model_0.get_config()"
   ]
  },
  {
   "cell_type": "markdown",
   "metadata": {
    "id": "n8iGAu5OAO5Y"
   },
   "source": [
    "###Improved Model 1: Adding Hidden Layer - Multi Layer Perceptron "
   ]
  },
  {
   "cell_type": "code",
   "execution_count": 15,
   "metadata": {
    "executionInfo": {
     "elapsed": 1120,
     "status": "ok",
     "timestamp": 1606817754073,
     "user": {
      "displayName": "saish datta",
      "photoUrl": "https://lh3.googleusercontent.com/a-/AOh14Gj1uI-O0cP8d2PT6_HqiThvJsj2xAVV7-g2-A2wFg=s64",
      "userId": "15870591529822835278"
     },
     "user_tz": -330
    },
    "id": "VVkZL5uiAhJB"
   },
   "outputs": [],
   "source": [
    "#Most common type of model is a stack of layers\n",
    "model_1 = tf.keras.Sequential()\n",
    "N_hidden = 64\n",
    "# Adds a densely-connected layer with 64 units to the model:\n",
    "model_1.add(Dense(N_hidden, name='dense_layer', input_shape=(784,), activation = 'relu'))\n",
    "# Now the model will take as input arrays of shape (*, 784)# and output arrays of shape (*, 64)\n",
    "\n",
    "# Adding another dense layer:\n",
    "model_1.add(Dense(N_hidden, name='dense_layer_2', activation='relu'))\n",
    "# After the first layer, you don't need to specify\u000b",
    "# the size of the input anymore:\n",
    "# Add an output layer with 10 output units (10 different classes):\n",
    "model_1.add(Dense(10, name='dense_layer_3', activation = 'softmax'))"
   ]
  },
  {
   "cell_type": "code",
   "execution_count": 16,
   "metadata": {
    "executionInfo": {
     "elapsed": 1075,
     "status": "ok",
     "timestamp": 1606817757928,
     "user": {
      "displayName": "saish datta",
      "photoUrl": "https://lh3.googleusercontent.com/a-/AOh14Gj1uI-O0cP8d2PT6_HqiThvJsj2xAVV7-g2-A2wFg=s64",
      "userId": "15870591529822835278"
     },
     "user_tz": -330
    },
    "id": "MiYit8ATfCXw"
   },
   "outputs": [],
   "source": [
    "# Compiling the model.\n",
    "model_1.compile(optimizer='SGD', \n",
    "              loss='categorical_crossentropy',\n",
    "              metrics=['accuracy'])"
   ]
  },
  {
   "cell_type": "code",
   "execution_count": 17,
   "metadata": {
    "colab": {
     "base_uri": "https://localhost:8080/"
    },
    "executionInfo": {
     "elapsed": 28762,
     "status": "ok",
     "timestamp": 1606817792261,
     "user": {
      "displayName": "saish datta",
      "photoUrl": "https://lh3.googleusercontent.com/a-/AOh14Gj1uI-O0cP8d2PT6_HqiThvJsj2xAVV7-g2-A2wFg=s64",
      "userId": "15870591529822835278"
     },
     "user_tz": -330
    },
    "id": "qeWrSoxzfCYE",
    "outputId": "feee09df-c872-4a38-b9fa-8ca7312ba0b6"
   },
   "outputs": [
    {
     "name": "stdout",
     "output_type": "stream",
     "text": [
      "Epoch 1/20\n",
      "750/750 [==============================] - 2s 2ms/step - loss: 1.0135 - accuracy: 0.6856 - val_loss: 0.6805 - val_accuracy: 0.7541\n",
      "Epoch 2/20\n",
      "750/750 [==============================] - 2s 2ms/step - loss: 0.6039 - accuracy: 0.7947 - val_loss: 0.5691 - val_accuracy: 0.8000\n",
      "Epoch 3/20\n",
      "750/750 [==============================] - 1s 2ms/step - loss: 0.5300 - accuracy: 0.8165 - val_loss: 0.5168 - val_accuracy: 0.8199\n",
      "Epoch 4/20\n",
      "750/750 [==============================] - 2s 2ms/step - loss: 0.4932 - accuracy: 0.8271 - val_loss: 0.4958 - val_accuracy: 0.8251\n",
      "Epoch 5/20\n",
      "750/750 [==============================] - 1s 2ms/step - loss: 0.4721 - accuracy: 0.8343 - val_loss: 0.4892 - val_accuracy: 0.8301\n",
      "Epoch 6/20\n",
      "750/750 [==============================] - 1s 2ms/step - loss: 0.4565 - accuracy: 0.8388 - val_loss: 0.4688 - val_accuracy: 0.8357\n",
      "Epoch 7/20\n",
      "750/750 [==============================] - 1s 2ms/step - loss: 0.4452 - accuracy: 0.8430 - val_loss: 0.4438 - val_accuracy: 0.8438\n",
      "Epoch 8/20\n",
      "750/750 [==============================] - 1s 2ms/step - loss: 0.4345 - accuracy: 0.8472 - val_loss: 0.4564 - val_accuracy: 0.8367\n",
      "Epoch 9/20\n",
      "750/750 [==============================] - 1s 2ms/step - loss: 0.4250 - accuracy: 0.8504 - val_loss: 0.4403 - val_accuracy: 0.8432\n",
      "Epoch 10/20\n",
      "750/750 [==============================] - 1s 2ms/step - loss: 0.4179 - accuracy: 0.8538 - val_loss: 0.4227 - val_accuracy: 0.8525\n",
      "Epoch 11/20\n",
      "750/750 [==============================] - 1s 2ms/step - loss: 0.4105 - accuracy: 0.8553 - val_loss: 0.4293 - val_accuracy: 0.8506\n",
      "Epoch 12/20\n",
      "750/750 [==============================] - 1s 2ms/step - loss: 0.4032 - accuracy: 0.8587 - val_loss: 0.4320 - val_accuracy: 0.8466\n",
      "Epoch 13/20\n",
      "750/750 [==============================] - 1s 2ms/step - loss: 0.3969 - accuracy: 0.8605 - val_loss: 0.4133 - val_accuracy: 0.8547\n",
      "Epoch 14/20\n",
      "750/750 [==============================] - 1s 2ms/step - loss: 0.3924 - accuracy: 0.8621 - val_loss: 0.4034 - val_accuracy: 0.8593\n",
      "Epoch 15/20\n",
      "750/750 [==============================] - 1s 2ms/step - loss: 0.3858 - accuracy: 0.8638 - val_loss: 0.4043 - val_accuracy: 0.8567\n",
      "Epoch 16/20\n",
      "750/750 [==============================] - 1s 2ms/step - loss: 0.3811 - accuracy: 0.8657 - val_loss: 0.3945 - val_accuracy: 0.8614\n",
      "Epoch 17/20\n",
      "750/750 [==============================] - 1s 2ms/step - loss: 0.3758 - accuracy: 0.8677 - val_loss: 0.4083 - val_accuracy: 0.8540\n",
      "Epoch 18/20\n",
      "750/750 [==============================] - 1s 2ms/step - loss: 0.3710 - accuracy: 0.8685 - val_loss: 0.3973 - val_accuracy: 0.8611\n",
      "Epoch 19/20\n",
      "750/750 [==============================] - 1s 2ms/step - loss: 0.3662 - accuracy: 0.8701 - val_loss: 0.3889 - val_accuracy: 0.8627\n",
      "Epoch 20/20\n",
      "750/750 [==============================] - 1s 2ms/step - loss: 0.3631 - accuracy: 0.8728 - val_loss: 0.3855 - val_accuracy: 0.8637\n"
     ]
    }
   ],
   "source": [
    "# Training the model. \n",
    "training = model_1.fit(X_train, Y_train, batch_size=64, epochs=20,validation_split=0.2) "
   ]
  },
  {
   "cell_type": "code",
   "execution_count": 18,
   "metadata": {
    "colab": {
     "base_uri": "https://localhost:8080/",
     "height": 590
    },
    "executionInfo": {
     "elapsed": 1322,
     "status": "ok",
     "timestamp": 1606817858842,
     "user": {
      "displayName": "saish datta",
      "photoUrl": "https://lh3.googleusercontent.com/a-/AOh14Gj1uI-O0cP8d2PT6_HqiThvJsj2xAVV7-g2-A2wFg=s64",
      "userId": "15870591529822835278"
     },
     "user_tz": -330
    },
    "id": "0W6J4tagfCYR",
    "outputId": "77a71253-4f6d-4db1-e7d2-f3ed4a0651bd"
   },
   "outputs": [
    {
     "name": "stdout",
     "output_type": "stream",
     "text": [
      "dict_keys(['loss', 'accuracy', 'val_loss', 'val_accuracy'])\n"
     ]
    },
    {
     "data": {
      "image/png": "[encoded data removed]",
      "text/plain": [
       "<Figure size 432x288 with 1 Axes>"
      ]
     },
     "metadata": {
      "needs_background": "light",
      "tags": []
     },
     "output_type": "display_data"
    },
    {
     "data": {
      "image/png": "[encoded data removed]",
      "text/plain": [
       "<Figure size 432x288 with 1 Axes>"
      ]
     },
     "metadata": {
      "needs_background": "light",
      "tags": []
     },
     "output_type": "display_data"
    }
   ],
   "source": [
    "import matplotlib.pyplot as plt\n",
    "%matplotlib inline\n",
    "# list all data in training\n",
    "print(training.history.keys())\n",
    "# summarize training for accuracy\n",
    "plt.plot(training.history['accuracy'])\n",
    "plt.plot(training.history['val_accuracy'])\n",
    "plt.title('model accuracy')\n",
    "plt.ylabel('accuracy')\n",
    "plt.xlabel('epoch')\n",
    "plt.legend(['train', 'test'], loc='upper left')\n",
    "plt.show()\n",
    "# summarize traning for loss\n",
    "plt.plot(training.history['loss'])\n",
    "plt.plot(training.history['val_loss'])\n",
    "plt.title('model loss')\n",
    "plt.ylabel('loss')\n",
    "plt.xlabel('epoch')\n",
    "plt.legend(['train', 'test'], loc='upper left')\n",
    "plt.show()"
   ]
  },
  {
   "cell_type": "code",
   "execution_count": 19,
   "metadata": {
    "colab": {
     "base_uri": "https://localhost:8080/"
    },
    "executionInfo": {
     "elapsed": 1108,
     "status": "ok",
     "timestamp": 1606818103453,
     "user": {
      "displayName": "saish datta",
      "photoUrl": "https://lh3.googleusercontent.com/a-/AOh14Gj1uI-O0cP8d2PT6_HqiThvJsj2xAVV7-g2-A2wFg=s64",
      "userId": "15870591529822835278"
     },
     "user_tz": -330
    },
    "id": "LG8UWh68fCYe",
    "outputId": "9db30e87-cc1d-46b1-8c80-cf2111117d8a"
   },
   "outputs": [
    {
     "name": "stdout",
     "output_type": "stream",
     "text": [
      "313/313 [==============================] - 0s 875us/step - loss: 0.4104 - accuracy: 0.8553\n",
      "Test accuracy: 0.8553000092506409\n"
     ]
    }
   ],
   "source": [
    "#evaluate the model\n",
    "test_loss, test_acc = model_1.evaluate(X_test, Y_test)\n",
    "print('Test accuracy:', test_acc)"
   ]
  },
  {
   "cell_type": "code",
   "execution_count": 20,
   "metadata": {
    "colab": {
     "base_uri": "https://localhost:8080/"
    },
    "executionInfo": {
     "elapsed": 1069,
     "status": "ok",
     "timestamp": 1606818107781,
     "user": {
      "displayName": "saish datta",
      "photoUrl": "https://lh3.googleusercontent.com/a-/AOh14Gj1uI-O0cP8d2PT6_HqiThvJsj2xAVV7-g2-A2wFg=s64",
      "userId": "15870591529822835278"
     },
     "user_tz": -330
    },
    "id": "iE5uSPRvfCYq",
    "outputId": "c3ce8932-18a1-4007-a34b-087b85a88f5d"
   },
   "outputs": [
    {
     "name": "stdout",
     "output_type": "stream",
     "text": [
      "Model: \"sequential_1\"\n",
      "_________________________________________________________________\n",
      "Layer (type)                 Output Shape              Param #   \n",
      "=================================================================\n",
      "dense_layer (Dense)          (None, 64)                50240     \n",
      "_________________________________________________________________\n",
      "dense_layer_2 (Dense)        (None, 64)                4160      \n",
      "_________________________________________________________________\n",
      "dense_layer_3 (Dense)        (None, 10)                650       \n",
      "=================================================================\n",
      "Total params: 55,050\n",
      "Trainable params: 55,050\n",
      "Non-trainable params: 0\n",
      "_________________________________________________________________\n"
     ]
    }
   ],
   "source": [
    "model_1.summary()"
   ]
  },
  {
   "cell_type": "code",
   "execution_count": null,
   "metadata": {
    "id": "p3TehZJnAlD6"
   },
   "outputs": [],
   "source": [
    "model_1.weights"
   ]
  },
  {
   "cell_type": "code",
   "execution_count": 22,
   "metadata": {
    "colab": {
     "base_uri": "https://localhost:8080/"
    },
    "executionInfo": {
     "elapsed": 1056,
     "status": "ok",
     "timestamp": 1606818130900,
     "user": {
      "displayName": "saish datta",
      "photoUrl": "https://lh3.googleusercontent.com/a-/AOh14Gj1uI-O0cP8d2PT6_HqiThvJsj2xAVV7-g2-A2wFg=s64",
      "userId": "15870591529822835278"
     },
     "user_tz": -330
    },
    "id": "x_no8rMBfCY6",
    "outputId": "7b254de1-86ca-4691-a647-3bb0d6469e5d"
   },
   "outputs": [
    {
     "data": {
      "text/plain": [
       "{'layers': [{'class_name': 'InputLayer',\n",
       "   'config': {'batch_input_shape': (None, 784),\n",
       "    'dtype': 'float32',\n",
       "    'name': 'dense_layer_input',\n",
       "    'ragged': False,\n",
       "    'sparse': False}},\n",
       "  {'class_name': 'Dense',\n",
       "   'config': {'activation': 'relu',\n",
       "    'activity_regularizer': None,\n",
       "    'batch_input_shape': (None, 784),\n",
       "    'bias_constraint': None,\n",
       "    'bias_initializer': {'class_name': 'Zeros', 'config': {}},\n",
       "    'bias_regularizer': None,\n",
       "    'dtype': 'float32',\n",
       "    'kernel_constraint': None,\n",
       "    'kernel_initializer': {'class_name': 'GlorotUniform',\n",
       "     'config': {'seed': None}},\n",
       "    'kernel_regularizer': None,\n",
       "    'name': 'dense_layer',\n",
       "    'trainable': True,\n",
       "    'units': 64,\n",
       "    'use_bias': True}},\n",
       "  {'class_name': 'Dense',\n",
       "   'config': {'activation': 'relu',\n",
       "    'activity_regularizer': None,\n",
       "    'bias_constraint': None,\n",
       "    'bias_initializer': {'class_name': 'Zeros', 'config': {}},\n",
       "    'bias_regularizer': None,\n",
       "    'dtype': 'float32',\n",
       "    'kernel_constraint': None,\n",
       "    'kernel_initializer': {'class_name': 'GlorotUniform',\n",
       "     'config': {'seed': None}},\n",
       "    'kernel_regularizer': None,\n",
       "    'name': 'dense_layer_2',\n",
       "    'trainable': True,\n",
       "    'units': 64,\n",
       "    'use_bias': True}},\n",
       "  {'class_name': 'Dense',\n",
       "   'config': {'activation': 'softmax',\n",
       "    'activity_regularizer': None,\n",
       "    'bias_constraint': None,\n",
       "    'bias_initializer': {'class_name': 'Zeros', 'config': {}},\n",
       "    'bias_regularizer': None,\n",
       "    'dtype': 'float32',\n",
       "    'kernel_constraint': None,\n",
       "    'kernel_initializer': {'class_name': 'GlorotUniform',\n",
       "     'config': {'seed': None}},\n",
       "    'kernel_regularizer': None,\n",
       "    'name': 'dense_layer_3',\n",
       "    'trainable': True,\n",
       "    'units': 10,\n",
       "    'use_bias': True}}],\n",
       " 'name': 'sequential_1'}"
      ]
     },
     "execution_count": 22,
     "metadata": {
      "tags": []
     },
     "output_type": "execute_result"
    }
   ],
   "source": [
    "model_1.get_config()"
   ]
  },
  {
   "cell_type": "markdown",
   "metadata": {
    "id": "Nw7DXcLYfZzp"
   },
   "source": [
    "###Improved Model 2 - Adding Dropout to Avoid Overfitting"
   ]
  },
  {
   "cell_type": "code",
   "execution_count": 31,
   "metadata": {
    "executionInfo": {
     "elapsed": 2990,
     "status": "ok",
     "timestamp": 1606820006313,
     "user": {
      "displayName": "saish datta",
      "photoUrl": "https://lh3.googleusercontent.com/a-/AOh14Gj1uI-O0cP8d2PT6_HqiThvJsj2xAVV7-g2-A2wFg=s64",
      "userId": "15870591529822835278"
     },
     "user_tz": -330
    },
    "id": "AXUf6nhvBHnc"
   },
   "outputs": [],
   "source": [
    "from tensorflow.keras.layers import Dropout\n",
    "\n",
    "#Most common type of model is a stack of layers\n",
    "model_2 = tf.keras.Sequential()\n",
    "N_hidden = 128\n",
    "# Adds a densely-connected layer with 64 units to the model:\n",
    "model_2.add(Dense(N_hidden, name='dense_layer', input_shape=(784,), activation = 'relu'))\n",
    "# Now the model will take as input arrays of shape (*, 784)# and output arrays of shape (*, 64)\n",
    "model_2.add(Dropout(0.3))\n",
    "# Adding another dense layer:\n",
    "model_2.add(Dense(N_hidden, name='dense_layer_2', activation='relu'))\n",
    "model_2.add(Dropout(0.3))\n",
    "\n",
    "# Add an output layer with 10 output units (10 different classes):\n",
    "model_2.add(Dense(10, name='dense_layer_3', activation = 'softmax'))\n"
   ]
  },
  {
   "cell_type": "code",
   "execution_count": 32,
   "metadata": {
    "executionInfo": {
     "elapsed": 3425,
     "status": "ok",
     "timestamp": 1606820006763,
     "user": {
      "displayName": "saish datta",
      "photoUrl": "https://lh3.googleusercontent.com/a-/AOh14Gj1uI-O0cP8d2PT6_HqiThvJsj2xAVV7-g2-A2wFg=s64",
      "userId": "15870591529822835278"
     },
     "user_tz": -330
    },
    "id": "wo95PYlPgBe4"
   },
   "outputs": [],
   "source": [
    "# Compiling the model.\n",
    "model_2.compile(optimizer='SGD', \n",
    "              loss='categorical_crossentropy',\n",
    "              metrics=['accuracy'])"
   ]
  },
  {
   "cell_type": "code",
   "execution_count": 39,
   "metadata": {
    "colab": {
     "base_uri": "https://localhost:8080/"
    },
    "executionInfo": {
     "elapsed": 21631,
     "status": "ok",
     "timestamp": 1606820148133,
     "user": {
      "displayName": "saish datta",
      "photoUrl": "https://lh3.googleusercontent.com/a-/AOh14Gj1uI-O0cP8d2PT6_HqiThvJsj2xAVV7-g2-A2wFg=s64",
      "userId": "15870591529822835278"
     },
     "user_tz": -330
    },
    "id": "VfargzxGgBfI",
    "outputId": "0983ae64-1fc1-4b2f-a689-9c8a313021d3"
   },
   "outputs": [
    {
     "name": "stdout",
     "output_type": "stream",
     "text": [
      "Epoch 1/10\n",
      "750/750 [==============================] - 2s 3ms/step - loss: 0.3897 - accuracy: 0.8626 - val_loss: 0.3572 - val_accuracy: 0.8707\n",
      "Epoch 2/10\n",
      "750/750 [==============================] - 2s 3ms/step - loss: 0.3877 - accuracy: 0.8622 - val_loss: 0.3594 - val_accuracy: 0.8687\n",
      "Epoch 3/10\n",
      "750/750 [==============================] - 2s 3ms/step - loss: 0.3862 - accuracy: 0.8629 - val_loss: 0.3526 - val_accuracy: 0.8728\n",
      "Epoch 4/10\n",
      "750/750 [==============================] - 2s 3ms/step - loss: 0.3822 - accuracy: 0.8642 - val_loss: 0.3556 - val_accuracy: 0.8719\n",
      "Epoch 5/10\n",
      "750/750 [==============================] - 2s 3ms/step - loss: 0.3776 - accuracy: 0.8665 - val_loss: 0.3516 - val_accuracy: 0.8729\n",
      "Epoch 6/10\n",
      "750/750 [==============================] - 2s 3ms/step - loss: 0.3749 - accuracy: 0.8679 - val_loss: 0.3517 - val_accuracy: 0.8741\n",
      "Epoch 7/10\n",
      "750/750 [==============================] - 2s 3ms/step - loss: 0.3715 - accuracy: 0.8672 - val_loss: 0.3465 - val_accuracy: 0.8743\n",
      "Epoch 8/10\n",
      "750/750 [==============================] - 2s 3ms/step - loss: 0.3700 - accuracy: 0.8672 - val_loss: 0.3475 - val_accuracy: 0.8747\n",
      "Epoch 9/10\n",
      "750/750 [==============================] - 2s 3ms/step - loss: 0.3653 - accuracy: 0.8699 - val_loss: 0.3436 - val_accuracy: 0.8760\n",
      "Epoch 10/10\n",
      "750/750 [==============================] - 2s 3ms/step - loss: 0.3621 - accuracy: 0.8698 - val_loss: 0.3436 - val_accuracy: 0.8766\n"
     ]
    }
   ],
   "source": [
    "# Training the model. \n",
    "training = model_2.fit(X_train, Y_train, batch_size=64, epochs=10, validation_split=0.2) "
   ]
  },
  {
   "cell_type": "code",
   "execution_count": 35,
   "metadata": {
    "colab": {
     "base_uri": "https://localhost:8080/",
     "height": 590
    },
    "executionInfo": {
     "elapsed": 1443,
     "status": "ok",
     "timestamp": 1606820090235,
     "user": {
      "displayName": "saish datta",
      "photoUrl": "https://lh3.googleusercontent.com/a-/AOh14Gj1uI-O0cP8d2PT6_HqiThvJsj2xAVV7-g2-A2wFg=s64",
      "userId": "15870591529822835278"
     },
     "user_tz": -330
    },
    "id": "9QfbwIhAgBfX",
    "outputId": "4ae4c3ff-094c-4247-fdbc-007d2a9542bf"
   },
   "outputs": [
    {
     "name": "stdout",
     "output_type": "stream",
     "text": [
      "dict_keys(['loss', 'accuracy', 'val_loss', 'val_accuracy'])\n"
     ]
    },
    {
     "data": {
      "image/png": "[encoded data removed]",
      "text/plain": [
       "<Figure size 432x288 with 1 Axes>"
      ]
     },
     "metadata": {
      "needs_background": "light",
      "tags": []
     },
     "output_type": "display_data"
    },
    {
     "data": {
      "image/png": "[encoded data removed]",
      "text/plain": [
       "<Figure size 432x288 with 1 Axes>"
      ]
     },
     "metadata": {
      "needs_background": "light",
      "tags": []
     },
     "output_type": "display_data"
    }
   ],
   "source": [
    "import matplotlib.pyplot as plt\n",
    "%matplotlib inline\n",
    "# list all data in training\n",
    "print(training.history.keys())\n",
    "# summarize training for accuracy\n",
    "plt.plot(training.history['accuracy'])\n",
    "plt.plot(training.history['val_accuracy'])\n",
    "plt.title('model accuracy')\n",
    "plt.ylabel('accuracy')\n",
    "plt.xlabel('epoch')\n",
    "plt.legend(['train', 'test'], loc='upper left')\n",
    "plt.show()\n",
    "# summarize traning for loss\n",
    "plt.plot(training.history['loss'])\n",
    "plt.plot(training.history['val_loss'])\n",
    "plt.title('model loss')\n",
    "plt.ylabel('loss')\n",
    "plt.xlabel('epoch')\n",
    "plt.legend(['train', 'test'], loc='upper left')\n",
    "plt.show()"
   ]
  },
  {
   "cell_type": "code",
   "execution_count": 40,
   "metadata": {
    "colab": {
     "base_uri": "https://localhost:8080/"
    },
    "executionInfo": {
     "elapsed": 1416,
     "status": "ok",
     "timestamp": 1606820165845,
     "user": {
      "displayName": "saish datta",
      "photoUrl": "https://lh3.googleusercontent.com/a-/AOh14Gj1uI-O0cP8d2PT6_HqiThvJsj2xAVV7-g2-A2wFg=s64",
      "userId": "15870591529822835278"
     },
     "user_tz": -330
    },
    "id": "yT7LK87agBfq",
    "outputId": "3cc03a50-296c-4657-8b1b-002c6fc3eaea"
   },
   "outputs": [
    {
     "name": "stdout",
     "output_type": "stream",
     "text": [
      "313/313 [==============================] - 0s 1ms/step - loss: 0.3698 - accuracy: 0.8681\n",
      "Test accuracy: 0.8680999875068665\n"
     ]
    }
   ],
   "source": [
    "#evaluate the model\n",
    "test_loss, test_acc = model_2.evaluate(X_test, Y_test)\n",
    "print('Test accuracy:', test_acc)"
   ]
  },
  {
   "cell_type": "code",
   "execution_count": 29,
   "metadata": {
    "colab": {
     "base_uri": "https://localhost:8080/"
    },
    "executionInfo": {
     "elapsed": 17371,
     "status": "ok",
     "timestamp": 1606819277376,
     "user": {
      "displayName": "saish datta",
      "photoUrl": "https://lh3.googleusercontent.com/a-/AOh14Gj1uI-O0cP8d2PT6_HqiThvJsj2xAVV7-g2-A2wFg=s64",
      "userId": "15870591529822835278"
     },
     "user_tz": -330
    },
    "id": "jdOVuO0AgBf0",
    "outputId": "a5c54829-7176-4dad-a8b2-9221475217a1"
   },
   "outputs": [
    {
     "data": {
      "text/plain": [
       "<bound method Model.summary of <tensorflow.python.keras.engine.sequential.Sequential object at 0x7f5060bb6a90>>"
      ]
     },
     "execution_count": 29,
     "metadata": {
      "tags": []
     },
     "output_type": "execute_result"
    }
   ],
   "source": [
    "model_2.summary"
   ]
  },
  {
   "cell_type": "code",
   "execution_count": 37,
   "metadata": {
    "colab": {
     "base_uri": "https://localhost:8080/"
    },
    "executionInfo": {
     "elapsed": 1596,
     "status": "ok",
     "timestamp": 1606820100671,
     "user": {
      "displayName": "saish datta",
      "photoUrl": "https://lh3.googleusercontent.com/a-/AOh14Gj1uI-O0cP8d2PT6_HqiThvJsj2xAVV7-g2-A2wFg=s64",
      "userId": "15870591529822835278"
     },
     "user_tz": -330
    },
    "id": "oykr_QswgBf_",
    "outputId": "3c0a98d5-90a4-46fc-e171-68235b2bddbe"
   },
   "outputs": [
    {
     "data": {
      "text/plain": [
       "[<tf.Variable 'dense_layer/kernel:0' shape=(784, 128) dtype=float32, numpy=\n",
       " array([[-0.06570391,  0.06625404,  0.07001735, ..., -0.00883118,\n",
       "         -0.00416323, -0.04075779],\n",
       "        [ 0.01556384, -0.04549605,  0.05106478, ..., -0.00429851,\n",
       "         -0.0072891 ,  0.04002936],\n",
       "        [ 0.02057106, -0.0167814 , -0.00572391, ..., -0.00910174,\n",
       "         -0.07002942, -0.06898504],\n",
       "        ...,\n",
       "        [ 0.0220316 , -0.07064962,  0.00247214, ...,  0.07551344,\n",
       "          0.0324316 ,  0.0838959 ],\n",
       "        [-0.06222234,  0.00484151,  0.04380137, ..., -0.00236743,\n",
       "          0.0143867 ,  0.00788035],\n",
       "        [-0.01409057, -0.06241014,  0.00826926, ...,  0.00893287,\n",
       "          0.06028241, -0.07447726]], dtype=float32)>,\n",
       " <tf.Variable 'dense_layer/bias:0' shape=(128,) dtype=float32, numpy=\n",
       " array([ 5.75031862e-02,  1.77683663e-02,  2.43359283e-02,  1.70231164e-01,\n",
       "         1.23250276e-01, -1.02607757e-01,  1.67694449e-01,  1.91435441e-01,\n",
       "         1.59364238e-01,  1.62894607e-01,  4.33822386e-02,  7.66301602e-02,\n",
       "         1.66307136e-01,  2.80518290e-02,  1.12733379e-01,  9.72861201e-02,\n",
       "         7.17011020e-02, -2.58208569e-02,  1.06575660e-01,  1.48240179e-01,\n",
       "         1.20757878e-01, -5.30011468e-02, -1.15633067e-02,  5.11969142e-02,\n",
       "         2.29898244e-02, -1.55414250e-02,  7.72288665e-02,  6.43396303e-02,\n",
       "         9.69237760e-02,  1.39694437e-01,  4.68842499e-02,  1.37453645e-01,\n",
       "         1.56596750e-01, -4.33759317e-02,  3.24778222e-02,  1.78011373e-01,\n",
       "         5.60895391e-02,  1.39380574e-01, -1.64573014e-01,  5.28233722e-02,\n",
       "         6.44718558e-02,  1.25573233e-01,  1.57337800e-01, -9.68181938e-02,\n",
       "        -1.43457484e-02, -7.09755952e-03,  4.75983582e-02,  2.64302325e-02,\n",
       "         5.28543666e-02,  1.25359860e-03,  1.07384786e-01,  1.53914064e-01,\n",
       "         1.37828207e-02,  9.65655223e-03,  6.40540197e-02,  3.04837395e-02,\n",
       "        -1.51901886e-01,  5.03300093e-02,  1.35719076e-01, -4.37438376e-02,\n",
       "         1.96619019e-01,  4.19159085e-02,  6.23837300e-02,  2.74555311e-02,\n",
       "         1.25331990e-02,  2.77696066e-02, -3.29692266e-03,  5.93447350e-02,\n",
       "        -3.15607851e-03,  1.08127289e-01,  8.90271738e-02,  1.38748974e-01,\n",
       "         1.15113415e-01,  2.56386191e-01,  1.12991832e-01, -1.10014088e-01,\n",
       "         6.72361627e-03,  1.93446994e-01,  1.07191153e-01,  1.62157030e-05,\n",
       "        -2.09323820e-02, -7.59973899e-02,  3.75142731e-02,  1.76647548e-02,\n",
       "         1.48847610e-01,  4.19670995e-03, -3.83124134e-04, -4.55725491e-02,\n",
       "        -9.59628746e-02,  2.90064067e-01,  4.92840521e-02, -1.58846041e-03,\n",
       "        -2.49728281e-02,  2.28870008e-02, -6.25771731e-02,  1.28692299e-01,\n",
       "         1.52523359e-02, -1.92185026e-02,  7.53944069e-02, -3.47101898e-03,\n",
       "         1.24705493e-01, -1.68661848e-01,  5.66662177e-02,  3.46405176e-03,\n",
       "        -1.25290275e-01,  2.18752027e-01,  1.10846631e-01, -2.97493599e-02,\n",
       "         2.56978005e-01, -4.46945503e-02,  9.07185376e-02, -1.52257718e-02,\n",
       "         8.83196741e-02,  1.01286188e-01, -5.26594929e-02,  1.22325301e-01,\n",
       "         1.42222717e-01,  8.16416964e-02,  2.24509880e-01,  7.48814419e-02,\n",
       "         3.77650447e-02,  4.41778153e-02,  4.71007358e-03, -3.58614214e-02,\n",
       "         6.80468604e-03,  6.86807185e-02, -6.51453286e-02,  1.16760917e-01],\n",
       "       dtype=float32)>,\n",
       " <tf.Variable 'dense_layer_2/kernel:0' shape=(128, 128) dtype=float32, numpy=\n",
       " array([[-1.21150026e-02,  2.20117703e-01,  1.23924904e-01, ...,\n",
       "          4.33618575e-02, -4.84975893e-03,  4.09826823e-02],\n",
       "        [ 9.31580961e-02, -8.67319256e-02, -2.07269620e-02, ...,\n",
       "         -9.55185592e-02,  1.36481389e-01, -1.23021528e-01],\n",
       "        [-1.32864267e-01,  3.08306376e-03, -2.02828765e-01, ...,\n",
       "          1.00964375e-01,  1.26589894e-01, -9.38618835e-03],\n",
       "        ...,\n",
       "        [ 1.27801433e-01, -2.83821449e-02,  8.65464583e-02, ...,\n",
       "         -1.62558541e-01,  5.19036874e-03, -1.49521217e-01],\n",
       "        [-3.31364311e-02, -1.19338818e-01,  1.64856896e-01, ...,\n",
       "          8.88143256e-02,  5.05465869e-05, -9.80915874e-02],\n",
       "        [-5.11541450e-03,  7.34317750e-02,  6.63370313e-03, ...,\n",
       "         -1.13355517e-01,  5.46165481e-02, -1.31567225e-01]], dtype=float32)>,\n",
       " <tf.Variable 'dense_layer_2/bias:0' shape=(128,) dtype=float32, numpy=\n",
       " array([ 0.05442141,  0.10908596,  0.06523309,  0.0317889 ,  0.06759567,\n",
       "        -0.01249177,  0.07613135, -0.07947797,  0.02710206,  0.00425818,\n",
       "         0.10054528,  0.04007712,  0.05282629,  0.21623649, -0.02700826,\n",
       "         0.11552066,  0.0058905 , -0.03920402,  0.07918748,  0.1570017 ,\n",
       "         0.01427454,  0.00566103, -0.08630842,  0.02637178,  0.02846955,\n",
       "         0.1008838 , -0.03452313,  0.00042661,  0.06086505,  0.11408182,\n",
       "        -0.01639268,  0.01089251,  0.06441315,  0.06626986,  0.0430364 ,\n",
       "         0.0305657 ,  0.11716699,  0.00925296, -0.05219023,  0.09596204,\n",
       "         0.0707904 ,  0.20868057,  0.12834863,  0.02755879,  0.02136542,\n",
       "         0.04399005,  0.02077796,  0.03786306, -0.03464834,  0.10595005,\n",
       "         0.05309441, -0.00933149,  0.07101201,  0.00564846,  0.08325734,\n",
       "         0.15415728, -0.01866182,  0.10105663,  0.01978017,  0.17929992,\n",
       "         0.07132506,  0.09376311,  0.17949174,  0.14830077,  0.18078326,\n",
       "         0.05280134,  0.05339969,  0.08323038, -0.00807237, -0.02047526,\n",
       "        -0.05383301,  0.01209079,  0.03243639,  0.03529493,  0.00118553,\n",
       "        -0.07018106,  0.01203899,  0.04863061,  0.06402721, -0.0326703 ,\n",
       "         0.06353953,  0.08542519, -0.04848849,  0.04844954,  0.07083973,\n",
       "        -0.02591381,  0.09751004,  0.10792448,  0.13969757,  0.05717769,\n",
       "         0.00454035,  0.0645251 ,  0.02819815,  0.02097308,  0.07826914,\n",
       "         0.00897689, -0.02013472,  0.0767673 , -0.01325156,  0.12782386,\n",
       "         0.09332366, -0.04839569,  0.03951273,  0.00943583,  0.00981126,\n",
       "        -0.05856516,  0.09631851, -0.01579026,  0.12090218,  0.08170552,\n",
       "         0.04289798,  0.01529855,  0.08102549,  0.07776371,  0.09279524,\n",
       "         0.00809812, -0.02054864,  0.08040141,  0.10142163,  0.04216547,\n",
       "         0.02886351,  0.03455161,  0.09821886,  0.03389472,  0.0043255 ,\n",
       "         0.12127094,  0.03212615,  0.03495735], dtype=float32)>,\n",
       " <tf.Variable 'dense_layer_3/kernel:0' shape=(128, 10) dtype=float32, numpy=\n",
       " array([[ 0.21773061,  0.35102472,  0.0032623 , ..., -0.22232865,\n",
       "         -0.28631002,  0.23889929],\n",
       "        [-0.28930944, -0.33232707, -0.05385578, ...,  0.23668994,\n",
       "          0.20788725, -0.2930463 ],\n",
       "        [ 0.19824608, -0.15329498, -0.19720128, ..., -0.09974501,\n",
       "          0.2642702 ,  0.15706536],\n",
       "        ...,\n",
       "        [ 0.292143  , -0.276751  , -0.08651283, ..., -0.12536575,\n",
       "         -0.01621141, -0.21737456],\n",
       "        [-0.12496376,  0.18443863, -0.21867897, ...,  0.34387016,\n",
       "         -0.00113533, -0.04991947],\n",
       "        [ 0.26201716,  0.12652846, -0.13451661, ..., -0.20233096,\n",
       "          0.31147665, -0.18427388]], dtype=float32)>,\n",
       " <tf.Variable 'dense_layer_3/bias:0' shape=(10,) dtype=float32, numpy=\n",
       " array([ 0.12340908, -0.23157029,  0.11731227,  0.23555633, -0.2982154 ,\n",
       "         0.36638045,  0.22101119,  0.04818427, -0.16726051, -0.4148099 ],\n",
       "       dtype=float32)>]"
      ]
     },
     "execution_count": 37,
     "metadata": {
      "tags": []
     },
     "output_type": "execute_result"
    }
   ],
   "source": [
    "model_2.weights"
   ]
  },
  {
   "cell_type": "code",
   "execution_count": 38,
   "metadata": {
    "colab": {
     "base_uri": "https://localhost:8080/"
    },
    "executionInfo": {
     "elapsed": 1272,
     "status": "ok",
     "timestamp": 1606820105776,
     "user": {
      "displayName": "saish datta",
      "photoUrl": "https://lh3.googleusercontent.com/a-/AOh14Gj1uI-O0cP8d2PT6_HqiThvJsj2xAVV7-g2-A2wFg=s64",
      "userId": "15870591529822835278"
     },
     "user_tz": -330
    },
    "id": "SPzS9VdLgBgK",
    "outputId": "98553e96-3560-4066-9e0d-ee86d04b3ec9"
   },
   "outputs": [
    {
     "data": {
      "text/plain": [
       "{'layers': [{'class_name': 'InputLayer',\n",
       "   'config': {'batch_input_shape': (None, 784),\n",
       "    'dtype': 'float32',\n",
       "    'name': 'dense_layer_input',\n",
       "    'ragged': False,\n",
       "    'sparse': False}},\n",
       "  {'class_name': 'Dense',\n",
       "   'config': {'activation': 'relu',\n",
       "    'activity_regularizer': None,\n",
       "    'batch_input_shape': (None, 784),\n",
       "    'bias_constraint': None,\n",
       "    'bias_initializer': {'class_name': 'Zeros', 'config': {}},\n",
       "    'bias_regularizer': None,\n",
       "    'dtype': 'float32',\n",
       "    'kernel_constraint': None,\n",
       "    'kernel_initializer': {'class_name': 'GlorotUniform',\n",
       "     'config': {'seed': None}},\n",
       "    'kernel_regularizer': None,\n",
       "    'name': 'dense_layer',\n",
       "    'trainable': True,\n",
       "    'units': 128,\n",
       "    'use_bias': True}},\n",
       "  {'class_name': 'Dropout',\n",
       "   'config': {'dtype': 'float32',\n",
       "    'name': 'dropout_2',\n",
       "    'noise_shape': None,\n",
       "    'rate': 0.3,\n",
       "    'seed': None,\n",
       "    'trainable': True}},\n",
       "  {'class_name': 'Dense',\n",
       "   'config': {'activation': 'relu',\n",
       "    'activity_regularizer': None,\n",
       "    'bias_constraint': None,\n",
       "    'bias_initializer': {'class_name': 'Zeros', 'config': {}},\n",
       "    'bias_regularizer': None,\n",
       "    'dtype': 'float32',\n",
       "    'kernel_constraint': None,\n",
       "    'kernel_initializer': {'class_name': 'GlorotUniform',\n",
       "     'config': {'seed': None}},\n",
       "    'kernel_regularizer': None,\n",
       "    'name': 'dense_layer_2',\n",
       "    'trainable': True,\n",
       "    'units': 128,\n",
       "    'use_bias': True}},\n",
       "  {'class_name': 'Dropout',\n",
       "   'config': {'dtype': 'float32',\n",
       "    'name': 'dropout_3',\n",
       "    'noise_shape': None,\n",
       "    'rate': 0.3,\n",
       "    'seed': None,\n",
       "    'trainable': True}},\n",
       "  {'class_name': 'Dense',\n",
       "   'config': {'activation': 'softmax',\n",
       "    'activity_regularizer': None,\n",
       "    'bias_constraint': None,\n",
       "    'bias_initializer': {'class_name': 'Zeros', 'config': {}},\n",
       "    'bias_regularizer': None,\n",
       "    'dtype': 'float32',\n",
       "    'kernel_constraint': None,\n",
       "    'kernel_initializer': {'class_name': 'GlorotUniform',\n",
       "     'config': {'seed': None}},\n",
       "    'kernel_regularizer': None,\n",
       "    'name': 'dense_layer_3',\n",
       "    'trainable': True,\n",
       "    'units': 10,\n",
       "    'use_bias': True}}],\n",
       " 'name': 'sequential_3'}"
      ]
     },
     "execution_count": 38,
     "metadata": {
      "tags": []
     },
     "output_type": "execute_result"
    }
   ],
   "source": [
    "model_2.get_config()"
   ]
  },
  {
   "cell_type": "markdown",
   "metadata": {
    "id": "pjps75cBuR1Z"
   },
   "source": [
    "###Improved Model 3: Changing the Optimizer - Adam"
   ]
  },
  {
   "cell_type": "code",
   "execution_count": 41,
   "metadata": {
    "executionInfo": {
     "elapsed": 1047,
     "status": "ok",
     "timestamp": 1606820265099,
     "user": {
      "displayName": "saish datta",
      "photoUrl": "https://lh3.googleusercontent.com/a-/AOh14Gj1uI-O0cP8d2PT6_HqiThvJsj2xAVV7-g2-A2wFg=s64",
      "userId": "15870591529822835278"
     },
     "user_tz": -330
    },
    "id": "WmXFwU5puZIF"
   },
   "outputs": [],
   "source": [
    "#Most common type of model is a stack of layers\n",
    "model_3 = tf.keras.Sequential()\n",
    "N_hidden = 64\n",
    "# Adds a densely-connected layer with 64 units to the model:\n",
    "model_3.add(Dense(N_hidden, name='dense_layer', input_shape=(784,), activation = 'relu'))\n",
    "# Now the model will take as input arrays of shape (*, 784)# and output arrays of shape (*, 64)\n",
    "model_3.add(Dropout(0.3))\n",
    "# Adding another dense layer:\n",
    "model_3.add(Dense(N_hidden, name='dense_layer_2', activation='relu'))\n",
    "model_3.add(Dropout(0.3))\n",
    "# After the first layer, you don't need to specify\u000b",
    "# the size of the input anymore:\n",
    "# Add an output layer with 10 output units (10 different classes):\n",
    "model_3.add(Dense(10, name='dense_layer_3', activation = 'softmax'))\n"
   ]
  },
  {
   "cell_type": "code",
   "execution_count": 42,
   "metadata": {
    "executionInfo": {
     "elapsed": 1031,
     "status": "ok",
     "timestamp": 1606820269814,
     "user": {
      "displayName": "saish datta",
      "photoUrl": "https://lh3.googleusercontent.com/a-/AOh14Gj1uI-O0cP8d2PT6_HqiThvJsj2xAVV7-g2-A2wFg=s64",
      "userId": "15870591529822835278"
     },
     "user_tz": -330
    },
    "id": "71IzuyLBt3pQ"
   },
   "outputs": [],
   "source": [
    "# Compiling the model.\n",
    "model_3.compile(optimizer='Adam', \n",
    "              loss='categorical_crossentropy',\n",
    "              metrics=['accuracy'])"
   ]
  },
  {
   "cell_type": "code",
   "execution_count": 43,
   "metadata": {
    "colab": {
     "base_uri": "https://localhost:8080/"
    },
    "executionInfo": {
     "elapsed": 36196,
     "status": "ok",
     "timestamp": 1606820311740,
     "user": {
      "displayName": "saish datta",
      "photoUrl": "https://lh3.googleusercontent.com/a-/AOh14Gj1uI-O0cP8d2PT6_HqiThvJsj2xAVV7-g2-A2wFg=s64",
      "userId": "15870591529822835278"
     },
     "user_tz": -330
    },
    "id": "KfP4B4Sat3pW",
    "outputId": "6fefedd8-2189-4981-e613-5d13c9b4fd1f"
   },
   "outputs": [
    {
     "name": "stdout",
     "output_type": "stream",
     "text": [
      "Epoch 1/20\n",
      "750/750 [==============================] - 2s 2ms/step - loss: 0.7570 - accuracy: 0.7261 - val_loss: 0.4685 - val_accuracy: 0.8282\n",
      "Epoch 2/20\n",
      "750/750 [==============================] - 2s 2ms/step - loss: 0.5198 - accuracy: 0.8158 - val_loss: 0.4202 - val_accuracy: 0.8443\n",
      "Epoch 3/20\n",
      "750/750 [==============================] - 2s 2ms/step - loss: 0.4753 - accuracy: 0.8303 - val_loss: 0.3931 - val_accuracy: 0.8570\n",
      "Epoch 4/20\n",
      "750/750 [==============================] - 2s 2ms/step - loss: 0.4480 - accuracy: 0.8400 - val_loss: 0.3770 - val_accuracy: 0.8582\n",
      "Epoch 5/20\n",
      "750/750 [==============================] - 2s 2ms/step - loss: 0.4281 - accuracy: 0.8468 - val_loss: 0.3747 - val_accuracy: 0.8625\n",
      "Epoch 6/20\n",
      "750/750 [==============================] - 2s 2ms/step - loss: 0.4179 - accuracy: 0.8498 - val_loss: 0.3698 - val_accuracy: 0.8657\n",
      "Epoch 7/20\n",
      "750/750 [==============================] - 2s 2ms/step - loss: 0.4094 - accuracy: 0.8524 - val_loss: 0.3604 - val_accuracy: 0.8662\n",
      "Epoch 8/20\n",
      "750/750 [==============================] - 2s 2ms/step - loss: 0.3976 - accuracy: 0.8549 - val_loss: 0.3626 - val_accuracy: 0.8686\n",
      "Epoch 9/20\n",
      "750/750 [==============================] - 2s 2ms/step - loss: 0.3906 - accuracy: 0.8583 - val_loss: 0.3534 - val_accuracy: 0.8708\n",
      "Epoch 10/20\n",
      "750/750 [==============================] - 2s 2ms/step - loss: 0.3790 - accuracy: 0.8617 - val_loss: 0.3684 - val_accuracy: 0.8643\n",
      "Epoch 11/20\n",
      "750/750 [==============================] - 2s 2ms/step - loss: 0.3738 - accuracy: 0.8642 - val_loss: 0.3514 - val_accuracy: 0.8758\n",
      "Epoch 12/20\n",
      "750/750 [==============================] - 2s 2ms/step - loss: 0.3683 - accuracy: 0.8646 - val_loss: 0.3458 - val_accuracy: 0.8715\n",
      "Epoch 13/20\n",
      "750/750 [==============================] - 2s 2ms/step - loss: 0.3656 - accuracy: 0.8666 - val_loss: 0.3390 - val_accuracy: 0.8751\n",
      "Epoch 14/20\n",
      "750/750 [==============================] - 2s 2ms/step - loss: 0.3595 - accuracy: 0.8684 - val_loss: 0.3539 - val_accuracy: 0.8727\n",
      "Epoch 15/20\n",
      "750/750 [==============================] - 2s 2ms/step - loss: 0.3565 - accuracy: 0.8705 - val_loss: 0.3422 - val_accuracy: 0.8755\n",
      "Epoch 16/20\n",
      "750/750 [==============================] - 2s 2ms/step - loss: 0.3504 - accuracy: 0.8722 - val_loss: 0.3416 - val_accuracy: 0.8765\n",
      "Epoch 17/20\n",
      "750/750 [==============================] - 2s 2ms/step - loss: 0.3472 - accuracy: 0.8727 - val_loss: 0.3374 - val_accuracy: 0.8784\n",
      "Epoch 18/20\n",
      "750/750 [==============================] - 2s 2ms/step - loss: 0.3459 - accuracy: 0.8730 - val_loss: 0.3412 - val_accuracy: 0.8769\n",
      "Epoch 19/20\n",
      "750/750 [==============================] - 2s 2ms/step - loss: 0.3392 - accuracy: 0.8741 - val_loss: 0.3315 - val_accuracy: 0.8808\n",
      "Epoch 20/20\n",
      "750/750 [==============================] - 2s 2ms/step - loss: 0.3377 - accuracy: 0.8754 - val_loss: 0.3296 - val_accuracy: 0.8817\n"
     ]
    }
   ],
   "source": [
    "# Training the model. \n",
    "training = model_3.fit(X_train, Y_train, batch_size=64, epochs=20, validation_split=0.2) \n"
   ]
  },
  {
   "cell_type": "code",
   "execution_count": 44,
   "metadata": {
    "executionInfo": {
     "elapsed": 1077,
     "status": "ok",
     "timestamp": 1606820366425,
     "user": {
      "displayName": "saish datta",
      "photoUrl": "https://lh3.googleusercontent.com/a-/AOh14Gj1uI-O0cP8d2PT6_HqiThvJsj2xAVV7-g2-A2wFg=s64",
      "userId": "15870591529822835278"
     },
     "user_tz": -330
    },
    "id": "7UQ6qB9kY1s4"
   },
   "outputs": [],
   "source": [
    "# Training1 the model. \n",
    "training1 = model_3.predict(X_test)"
   ]
  },
  {
   "cell_type": "code",
   "execution_count": null,
   "metadata": {
    "colab": {
     "base_uri": "https://localhost:8080/",
     "height": 590
    },
    "id": "uuwhbVkxj0iR",
    "outputId": "c10785d5-c8b1-4b8a-8748-cc290a407081"
   },
   "outputs": [
    {
     "name": "stdout",
     "output_type": "stream",
     "text": [
      "dict_keys(['loss', 'accuracy', 'val_loss', 'val_accuracy'])\n"
     ]
    },
    {
     "data": {
      "image/png": "[encoded data removed]",
      "text/plain": [
       "<Figure size 432x288 with 1 Axes>"
      ]
     },
     "metadata": {
      "needs_background": "light",
      "tags": []
     },
     "output_type": "display_data"
    },
    {
     "data": {
      "image/png": "[encoded data removed]",
      "text/plain": [
       "<Figure size 432x288 with 1 Axes>"
      ]
     },
     "metadata": {
      "needs_background": "light",
      "tags": []
     },
     "output_type": "display_data"
    }
   ],
   "source": [
    "import matplotlib.pyplot as plt\n",
    "%matplotlib inline\n",
    "# list all data in training\n",
    "print(training.history.keys())\n",
    "# summarize training for accuracy\n",
    "plt.plot(training.history['accuracy'])\n",
    "plt.plot(training.history['val_accuracy'])\n",
    "plt.title('model accuracy')\n",
    "plt.ylabel('accuracy')\n",
    "plt.xlabel('epoch')\n",
    "plt.legend(['train', 'test'], loc='upper left')\n",
    "plt.show()\n",
    "# summarize traning for loss\n",
    "plt.plot(training.history['loss'])\n",
    "plt.plot(training.history['val_loss'])\n",
    "plt.title('model loss')\n",
    "plt.ylabel('loss')\n",
    "plt.xlabel('epoch')\n",
    "plt.legend(['train', 'test'], loc='upper left')\n",
    "plt.show()"
   ]
  },
  {
   "cell_type": "code",
   "execution_count": 46,
   "metadata": {
    "colab": {
     "base_uri": "https://localhost:8080/"
    },
    "executionInfo": {
     "elapsed": 1190,
     "status": "ok",
     "timestamp": 1606820447527,
     "user": {
      "displayName": "saish datta",
      "photoUrl": "https://lh3.googleusercontent.com/a-/AOh14Gj1uI-O0cP8d2PT6_HqiThvJsj2xAVV7-g2-A2wFg=s64",
      "userId": "15870591529822835278"
     },
     "user_tz": -330
    },
    "id": "En35EsWnuHmC",
    "outputId": "f22bcd86-3cf9-4a8c-f6fc-6bee8c53af0d"
   },
   "outputs": [
    {
     "name": "stdout",
     "output_type": "stream",
     "text": [
      "313/313 [==============================] - 0s 890us/step - loss: 0.3562 - accuracy: 0.8730\n",
      "Test accuracy: 0.8730000257492065\n"
     ]
    }
   ],
   "source": [
    "#evaluate the model\n",
    "test_loss, test_acc = model_3.evaluate(X_test, Y_test)\n",
    "print('Test accuracy:', test_acc)"
   ]
  },
  {
   "cell_type": "code",
   "execution_count": 47,
   "metadata": {
    "colab": {
     "base_uri": "https://localhost:8080/"
    },
    "executionInfo": {
     "elapsed": 1179,
     "status": "ok",
     "timestamp": 1606820472300,
     "user": {
      "displayName": "saish datta",
      "photoUrl": "https://lh3.googleusercontent.com/a-/AOh14Gj1uI-O0cP8d2PT6_HqiThvJsj2xAVV7-g2-A2wFg=s64",
      "userId": "15870591529822835278"
     },
     "user_tz": -330
    },
    "id": "Vn7mv0zhj0i2",
    "outputId": "1c04be27-fa99-486e-ba57-c44d5ec567a3"
   },
   "outputs": [
    {
     "name": "stdout",
     "output_type": "stream",
     "text": [
      "Model: \"sequential_4\"\n",
      "_________________________________________________________________\n",
      "Layer (type)                 Output Shape              Param #   \n",
      "=================================================================\n",
      "dense_layer (Dense)          (None, 64)                50240     \n",
      "_________________________________________________________________\n",
      "dropout_4 (Dropout)          (None, 64)                0         \n",
      "_________________________________________________________________\n",
      "dense_layer_2 (Dense)        (None, 64)                4160      \n",
      "_________________________________________________________________\n",
      "dropout_5 (Dropout)          (None, 64)                0         \n",
      "_________________________________________________________________\n",
      "dense_layer_3 (Dense)        (None, 10)                650       \n",
      "=================================================================\n",
      "Total params: 55,050\n",
      "Trainable params: 55,050\n",
      "Non-trainable params: 0\n",
      "_________________________________________________________________\n"
     ]
    }
   ],
   "source": [
    "model_3.summary()"
   ]
  },
  {
   "cell_type": "code",
   "execution_count": null,
   "metadata": {
    "colab": {
     "base_uri": "https://localhost:8080/",
     "height": 1000
    },
    "id": "P5eSv_K5j0jK",
    "outputId": "a021ef71-57e4-4f83-8d8f-a04c2e5b49aa"
   },
   "outputs": [
    {
     "data": {
      "text/plain": [
       "[<tf.Variable 'dense_layer_13/kernel:0' shape=(784, 64) dtype=float32, numpy=\n",
       " array([[-0.0470706 , -0.0605566 ,  0.05311502, ..., -0.01239798,\n",
       "         -0.0326965 , -0.02283692],\n",
       "        [ 0.07164595,  0.02803487, -0.02333463, ...,  0.01268711,\n",
       "         -0.03852979,  0.02235638],\n",
       "        [ 0.05867215, -0.01342206,  0.06247915, ...,  0.01603825,\n",
       "         -0.03628643,  0.08254684],\n",
       "        ...,\n",
       "        [-0.01443823,  0.02990945, -0.03689074, ..., -0.03065324,\n",
       "         -0.08300345, -0.03869148],\n",
       "        [ 0.06107562,  0.07450309,  0.07854266, ..., -0.07303339,\n",
       "         -0.01769431,  0.02703007],\n",
       "        [ 0.04674842,  0.00284481, -0.06997869, ...,  0.04096612,\n",
       "          0.07909941, -0.07747878]], dtype=float32)>,\n",
       " <tf.Variable 'dense_layer_13/bias:0' shape=(64,) dtype=float32, numpy=\n",
       " array([ 0.10088244,  0.18129638,  0.12534155,  0.20884629, -0.1675351 ,\n",
       "         0.07976656,  0.12854438,  0.1139936 ,  0.114476  ,  0.03627298,\n",
       "         0.07132903, -0.01702681,  0.12008646, -0.21088558, -0.1324918 ,\n",
       "         0.11062928, -0.02381096,  0.05061848,  0.2108599 , -0.06089197,\n",
       "         0.14248879,  0.18774086,  0.01980659, -0.08696775,  0.01647558,\n",
       "         0.04214298, -0.13008761, -0.19700107,  0.1633848 ,  0.02320112,\n",
       "         0.04256311, -0.18670858,  0.09073232,  0.03259607,  0.138731  ,\n",
       "         0.14557911, -0.17825799,  0.11196923, -0.00412054, -0.01948399,\n",
       "         0.0097669 ,  0.01620232,  0.10847654, -0.30725443, -0.11319588,\n",
       "        -0.15700898,  0.02590508,  0.0579115 ,  0.03796792,  0.21784915,\n",
       "        -0.09549914, -0.06987676, -0.19919446, -0.09664752, -0.1258551 ,\n",
       "        -0.14236246,  0.22991958, -0.13837199, -0.07291663,  0.14777851,\n",
       "        -0.11686894,  0.15530914,  0.05171415, -0.09861977], dtype=float32)>,\n",
       " <tf.Variable 'dense_layer_2_9/kernel:0' shape=(64, 64) dtype=float32, numpy=\n",
       " array([[-4.0781382e-01, -6.8228334e-02,  4.0575877e-01, ...,\n",
       "         -7.2645722e-05, -2.5101976e-02,  1.5503132e-01],\n",
       "        [-2.5653794e-01, -4.6340537e-01,  3.8930133e-02, ...,\n",
       "          3.1169134e-01,  8.7202666e-03, -1.0850321e-01],\n",
       "        [ 7.3149897e-02, -1.1395136e-01, -9.5249362e-02, ...,\n",
       "          9.2661090e-02,  1.5565404e-02, -4.2817852e-01],\n",
       "        ...,\n",
       "        [ 9.6417643e-02, -2.5123453e-01, -1.9544794e-01, ...,\n",
       "          5.5191256e-02,  4.6664231e-02,  3.6760237e-02],\n",
       "        [-6.4554530e-01, -2.5379978e-02, -1.2536760e-01, ...,\n",
       "          1.5836065e-01, -2.2185858e-01,  1.1060374e-01],\n",
       "        [-2.0423849e-01,  5.2111739e-01,  6.8455376e-02, ...,\n",
       "         -4.2958722e-02, -7.7344991e-02,  2.8873888e-01]], dtype=float32)>,\n",
       " <tf.Variable 'dense_layer_2_9/bias:0' shape=(64,) dtype=float32, numpy=\n",
       " array([ 0.1755591 ,  0.46047127,  0.14018022, -0.05229123,  0.28742462,\n",
       "         0.2864333 ,  0.29529786,  0.05272812, -0.13269603,  0.4980384 ,\n",
       "         0.1444995 ,  0.18650608, -0.0848458 ,  0.17965637,  0.39334434,\n",
       "         0.20629558, -0.11217009,  0.37477803,  0.2647638 ,  0.16042486,\n",
       "         0.22444241, -0.04642924,  0.11544821,  0.3029032 ,  0.5770661 ,\n",
       "         0.23867013,  0.3206537 ,  0.3430054 ,  0.19473259,  0.018384  ,\n",
       "         0.10373057,  0.03308691, -0.02490985,  0.20072588,  0.17520691,\n",
       "         0.20531297,  0.33308673, -0.25081512, -0.01790644,  0.31960648,\n",
       "         0.20417666,  0.3296084 ,  0.00317623, -0.02972183,  0.15245304,\n",
       "         0.18554775,  0.09421682, -0.0669879 ,  0.05807612,  0.04690688,\n",
       "         0.34504554, -0.03155986,  0.41826814, -0.00698835,  0.00426959,\n",
       "         0.38986772, -0.01295717,  0.02660272, -0.08271722, -0.22099546,\n",
       "         0.12743472,  0.0175237 ,  0.16526353,  0.33311957], dtype=float32)>,\n",
       " <tf.Variable 'dense_layer_3_9/kernel:0' shape=(64, 10) dtype=float32, numpy=\n",
       " array([[ 0.21370365, -0.4821873 ,  0.09995935, -0.08871552, -0.2279562 ,\n",
       "         -0.23503259, -0.4855176 ,  0.23965117,  0.26352218, -0.13258646],\n",
       "        [-0.24014358,  0.24438071, -0.1106395 ,  0.06692962,  0.2668029 ,\n",
       "         -0.6459054 , -0.61187476,  0.1697124 ,  0.17991829,  0.25561517],\n",
       "        [-0.314797  ,  0.25031433,  0.23853713, -0.20425169,  0.14107478,\n",
       "          0.13548017,  0.2713912 , -0.35732383,  0.23714884, -0.24512722],\n",
       "        [ 0.22794868,  0.27703482,  0.2976778 ,  0.21336612,  0.2135935 ,\n",
       "          0.04617962, -0.36232692,  0.20018086, -0.2665472 , -0.6507202 ],\n",
       "        [ 0.03641258, -0.60497415, -0.6461229 ,  0.03093209,  0.25550592,\n",
       "          0.29778922,  0.3218019 , -0.47052926,  0.28940973,  0.22328512],\n",
       "        [-0.17798552, -0.2418651 , -0.18928072, -0.3885612 ,  0.46861273,\n",
       "         -0.335928  , -0.32590204, -0.50408465,  0.03097473,  0.42560852],\n",
       "        [ 0.27196735, -0.15742148, -0.2583754 , -0.36473435, -0.6536323 ,\n",
       "          0.20740241, -0.45559648,  0.24609008, -0.2402682 ,  0.12875335],\n",
       "        [-0.4029673 ,  0.27841824,  0.18639581,  0.16494481, -0.26743537,\n",
       "         -0.70598483, -0.22826858,  0.19763558, -0.210619  ,  0.19233827],\n",
       "        [ 0.27592328, -0.3121325 ,  0.26364818, -0.10816386,  0.1692552 ,\n",
       "         -0.16389337,  0.27770957,  0.08217525, -0.30225733, -0.258207  ],\n",
       "        [ 0.32099378, -0.34473482, -0.48329628,  0.18712515, -0.6077287 ,\n",
       "          0.2877816 , -0.266275  ,  0.10284257,  0.27267137,  0.18024519],\n",
       "        [-0.44068325,  0.10924719,  0.06661757,  0.03345614, -0.61613137,\n",
       "          0.11035155,  0.16673574, -0.00788756,  0.12066796, -0.74274105],\n",
       "        [ 0.3023181 , -0.54940146,  0.25527743, -0.13363954,  0.24115896,\n",
       "          0.24542116,  0.27913013, -0.42816508,  0.22650655,  0.09021869],\n",
       "        [-0.2713207 ,  0.18252599,  0.30174643, -0.10838459, -0.5737162 ,\n",
       "          0.26946008,  0.30212638,  0.01025194,  0.25249183, -0.31710425],\n",
       "        [-0.5007046 , -0.14305808, -0.22915827, -0.02279005,  0.32176644,\n",
       "         -0.24438682, -0.2077252 ,  0.2820241 , -0.33958083,  0.27681264],\n",
       "        [ 0.2989742 , -0.65562654, -0.17291352,  0.1351119 , -0.72995496,\n",
       "          0.15825993, -0.65972406,  0.24283485,  0.2914102 ,  0.2008285 ],\n",
       "        [-0.3222801 ,  0.40421292, -0.49580917, -0.33314466, -0.07250943,\n",
       "         -0.28722072, -0.6274078 ,  0.37050295, -0.2803774 ,  0.19740777],\n",
       "        [ 0.07460383, -0.244543  ,  0.29780567,  0.25502673, -0.54904866,\n",
       "         -0.05692095, -0.4195504 ,  0.16722362,  0.20099467, -0.41109672],\n",
       "        [-0.23764396,  0.32098952, -0.79457104, -0.5741067 ,  0.10813852,\n",
       "          0.26541775,  0.11190618, -0.0607031 ,  0.2847795 , -0.10508895],\n",
       "        [-0.13921228, -0.12298802, -0.04940356, -0.36679116, -0.2437951 ,\n",
       "          0.19442722, -0.18482316, -0.5288793 ,  0.3962083 , -0.5488445 ],\n",
       "        [ 0.34872308, -0.33515486, -0.08332206,  0.31633815, -0.6799036 ,\n",
       "          0.30856296,  0.08840486, -0.11473158, -0.49694175, -0.28682607],\n",
       "        [ 0.09874347, -0.76915234,  0.20446499,  0.20457222, -0.4090241 ,\n",
       "         -0.41106108, -0.7226522 ,  0.11558807,  0.11982436,  0.19256687],\n",
       "        [-0.24786094,  0.30760488,  0.23033582, -0.52179146,  0.2676183 ,\n",
       "          0.07933949,  0.31829923, -0.19990405, -0.0212066 ,  0.15461008],\n",
       "        [-0.14817731, -0.46631607, -0.38999397,  0.36533374, -0.05558748,\n",
       "          0.37901857, -0.20971362, -0.5391535 ,  0.14019184,  0.3590845 ],\n",
       "        [-0.45526966,  0.27698797, -0.05975458,  0.29477468, -0.3569993 ,\n",
       "         -0.39986882, -0.58842665,  0.26846245,  0.22648631,  0.28212148],\n",
       "        [ 0.34667546,  0.49007156, -0.37296563, -0.31330612, -0.19923346,\n",
       "         -0.38282672,  0.2917028 , -0.15996817,  0.5113589 , -0.34352982],\n",
       "        [ 0.3096252 , -0.6114181 , -0.56025636, -0.42241493,  0.21803072,\n",
       "          0.22581565,  0.1822692 ,  0.21520495, -0.13177344, -0.3157114 ],\n",
       "        [ 0.428892  , -0.5893937 , -0.03278527,  0.3330057 ,  0.40075055,\n",
       "          0.15405382, -0.308136  , -0.56309444,  0.06217959,  0.04233563],\n",
       "        [ 0.37159988, -0.2181733 , -0.00574952, -0.28783175, -0.38887113,\n",
       "         -0.31085017,  0.33899692, -0.7317295 ,  0.34329167, -0.60373217],\n",
       "        [-0.17146586, -0.45837975,  0.01621148, -0.3334288 ,  0.44238013,\n",
       "         -0.18411624, -0.47551146, -0.43796238, -0.11543346,  0.4124699 ],\n",
       "        [-0.42884737,  0.08129807,  0.21343723,  0.24512075,  0.17356028,\n",
       "         -0.43741223,  0.12176995,  0.03328931,  0.0428995 , -0.60140866],\n",
       "        [ 0.18723315, -0.50344586,  0.12984069, -0.20360114,  0.14365716,\n",
       "         -0.16686223,  0.1660154 ,  0.15950999, -0.6443348 ,  0.11307498],\n",
       "        [-0.11842545, -0.5792567 , -0.12396777, -0.30839345,  0.31739953,\n",
       "          0.28468516, -0.2520185 ,  0.36748052, -0.11545683,  0.03303384],\n",
       "        [ 0.13253689, -0.4111417 ,  0.14753479, -0.29760388, -0.54655   ,\n",
       "          0.03693283,  0.01675776,  0.0563292 , -0.41503757,  0.20598596],\n",
       "        [-0.45385864,  0.18458565,  0.16647078,  0.1805272 ,  0.21265304,\n",
       "          0.1373933 , -0.7719268 , -0.30630857,  0.20564106,  0.16269824],\n",
       "        [-0.64252114,  0.22122917, -0.6390982 ,  0.14596826,  0.23492204,\n",
       "         -0.10987929, -0.75505376,  0.25821322, -0.42252564,  0.25995478],\n",
       "        [ 0.32317686, -0.6252342 ,  0.1730689 ,  0.05671719,  0.02329782,\n",
       "         -0.5259492 , -0.07424413, -0.54304934,  0.14959094, -0.11679304],\n",
       "        [ 0.39615017, -0.44514808, -0.19223498, -0.36119488, -0.4212406 ,\n",
       "          0.15209982, -0.03847541, -0.4910034 ,  0.18925475,  0.38767532],\n",
       "        [ 0.12268135,  0.04928337,  0.15180346,  0.13417007, -0.66640663,\n",
       "          0.16017848, -0.03969402,  0.18299586, -0.5155229 , -0.1533129 ],\n",
       "        [-0.49117166, -0.5533216 , -0.46687305,  0.17313676, -0.06971823,\n",
       "          0.24691606, -0.61724305,  0.188824  , -0.37267494,  0.03896413],\n",
       "        [ 0.2712204 , -0.694637  , -0.3264002 ,  0.28882152,  0.04970665,\n",
       "          0.22789466,  0.32579124, -0.6283117 , -0.21982858, -0.40689716],\n",
       "        [ 0.01150626,  0.2059879 ,  0.18903655, -0.2986938 ,  0.22798294,\n",
       "         -0.33633184, -0.5044318 ,  0.08330148,  0.19843498, -0.08940884],\n",
       "        [-0.6882293 ,  0.0540971 , -0.55277544, -0.01360319, -0.15559913,\n",
       "          0.32877693,  0.2073235 , -0.5239112 ,  0.31714556,  0.4004381 ],\n",
       "        [-0.7457299 ,  0.15882455,  0.18859503,  0.09734698, -0.6267157 ,\n",
       "          0.10624105, -0.4045831 , -0.17881703,  0.05480117, -0.17721844],\n",
       "        [-0.5808471 ,  0.30451173,  0.32086805,  0.29929036, -0.528424  ,\n",
       "          0.04939485, -0.17313904,  0.29247743,  0.255709  , -0.6185541 ],\n",
       "        [-0.2962976 , -0.10245261, -0.08491356,  0.2942048 ,  0.08043777,\n",
       "          0.3221592 , -0.23515533, -0.8622369 ,  0.18574373,  0.19467565],\n",
       "        [-0.46945417, -0.60882974, -0.0128899 , -0.42704058,  0.13084427,\n",
       "          0.17240669,  0.23267786, -0.5924645 ,  0.19948027,  0.19127895],\n",
       "        [ 0.30386862, -0.6111507 ,  0.2800929 ,  0.27545196,  0.14884551,\n",
       "         -0.3465885 , -0.10855585,  0.22307679,  0.17261074,  0.22617514],\n",
       "        [-0.42878982,  0.2565101 ,  0.16895708, -0.1690192 ,  0.07255176,\n",
       "          0.2727414 , -0.19589838,  0.20166312, -0.34706196, -0.75948864],\n",
       "        [-0.807278  ,  0.14767523, -0.43792725,  0.03568921, -0.30212954,\n",
       "          0.09257218,  0.17449111, -0.55955845, -0.3288794 ,  0.10426355],\n",
       "        [ 0.21935724, -0.10598341, -0.617786  , -0.50339943, -0.02287374,\n",
       "         -0.32181585,  0.22620174,  0.18301417, -0.56131345, -0.2975914 ],\n",
       "        [-0.74959403,  0.26266414, -0.31276006,  0.281582  ,  0.25928554,\n",
       "          0.26490867, -0.5325263 , -0.26613927,  0.07424971,  0.25586492],\n",
       "        [-0.19667445,  0.23618357, -0.2167998 ,  0.2193336 ,  0.08509111,\n",
       "         -0.24707319, -0.08119424,  0.14375213, -0.63727546, -0.4700852 ],\n",
       "        [-0.11837143,  0.38037091, -0.22750367, -0.43412456,  0.1430964 ,\n",
       "         -0.41291025,  0.3125078 , -0.25942296,  0.4093803 , -0.43564382],\n",
       "        [-0.24398492, -0.33058664, -0.4117015 , -0.38844624,  0.09563109,\n",
       "          0.20382039,  0.27331096,  0.14312142, -0.11807151, -0.3220905 ],\n",
       "        [-0.07310602,  0.15416524,  0.11302956, -0.6123636 ,  0.30735096,\n",
       "         -0.5059039 ,  0.17820619,  0.0721107 , -0.45447958, -0.37374586],\n",
       "        [-0.30770284, -0.00359771, -0.22976738,  0.22625601, -0.6635102 ,\n",
       "         -0.3279724 , -0.84648764,  0.16123933,  0.3359848 ,  0.09132244],\n",
       "        [-0.0030071 ,  0.18070638, -0.38973555, -0.3971632 , -0.3683571 ,\n",
       "         -0.26403245,  0.5142373 ,  0.1019116 , -0.18222561, -0.3931493 ],\n",
       "        [-0.21841003, -0.42261064,  0.21833059, -0.30740815,  0.18993083,\n",
       "         -0.40580186,  0.19164442,  0.1500295 , -0.51544976,  0.1511909 ],\n",
       "        [-0.7666487 ,  0.10436942,  0.16885087,  0.25542125,  0.15984079,\n",
       "          0.289036  , -0.47540736,  0.26767096, -0.68472695,  0.21021278],\n",
       "        [-0.7532346 ,  0.19157767,  0.27336118,  0.21564128, -0.35698825,\n",
       "         -0.21665458, -0.47296944,  0.25313318, -0.11598594, -0.56031334],\n",
       "        [-0.23259348,  0.28870237, -0.62248266, -0.3733366 ,  0.18998204,\n",
       "         -0.384754  , -0.36345467,  0.23562494, -0.5234669 ,  0.13369891],\n",
       "        [ 0.19168451,  0.22975326,  0.12439388,  0.01325776, -0.4264903 ,\n",
       "          0.12655343,  0.21209592, -0.5923908 , -0.20632918, -0.23236379],\n",
       "        [-0.16485515, -0.6065631 , -0.07567848, -0.48055306,  0.21620922,\n",
       "         -0.5426247 ,  0.31675828,  0.17157267,  0.01705871,  0.11222655],\n",
       "        [-0.13005637, -0.05477382, -0.42866978, -0.22669253,  0.34600356,\n",
       "         -0.17782383, -0.47098714, -0.61779445, -0.1471275 ,  0.39183915]],\n",
       "       dtype=float32)>,\n",
       " <tf.Variable 'dense_layer_3_9/bias:0' shape=(10,) dtype=float32, numpy=\n",
       " array([ 0.22892731,  0.05918827, -0.24621633, -0.11734647, -0.02094047,\n",
       "        -0.06462077, -0.07601947, -0.2618203 ,  0.36780226,  0.07394043],\n",
       "       dtype=float32)>]"
      ]
     },
     "execution_count": 101,
     "metadata": {
      "tags": []
     },
     "output_type": "execute_result"
    }
   ],
   "source": [
    "model_3.weights"
   ]
  },
  {
   "cell_type": "code",
   "execution_count": null,
   "metadata": {
    "colab": {
     "base_uri": "https://localhost:8080/",
     "height": 1000
    },
    "id": "OK9ct5w-j0jm",
    "outputId": "6970f9ac-b538-412a-ac9f-c886a2895fcd"
   },
   "outputs": [
    {
     "data": {
      "text/plain": [
       "{'build_input_shape': TensorShape([None, 784]),\n",
       " 'layers': [{'class_name': 'Dense',\n",
       "   'config': {'activation': 'relu',\n",
       "    'activity_regularizer': None,\n",
       "    'batch_input_shape': (None, 784),\n",
       "    'bias_constraint': None,\n",
       "    'bias_initializer': {'class_name': 'Zeros', 'config': {}},\n",
       "    'bias_regularizer': None,\n",
       "    'dtype': 'float32',\n",
       "    'kernel_constraint': None,\n",
       "    'kernel_initializer': {'class_name': 'GlorotUniform',\n",
       "     'config': {'seed': None}},\n",
       "    'kernel_regularizer': None,\n",
       "    'name': 'dense_layer',\n",
       "    'trainable': True,\n",
       "    'units': 64,\n",
       "    'use_bias': True}},\n",
       "  {'class_name': 'Dropout',\n",
       "   'config': {'dtype': 'float32',\n",
       "    'name': 'dropout_16',\n",
       "    'noise_shape': None,\n",
       "    'rate': 0.3,\n",
       "    'seed': None,\n",
       "    'trainable': True}},\n",
       "  {'class_name': 'Dense',\n",
       "   'config': {'activation': 'relu',\n",
       "    'activity_regularizer': None,\n",
       "    'bias_constraint': None,\n",
       "    'bias_initializer': {'class_name': 'Zeros', 'config': {}},\n",
       "    'bias_regularizer': None,\n",
       "    'dtype': 'float32',\n",
       "    'kernel_constraint': None,\n",
       "    'kernel_initializer': {'class_name': 'GlorotUniform',\n",
       "     'config': {'seed': None}},\n",
       "    'kernel_regularizer': None,\n",
       "    'name': 'dense_layer_2',\n",
       "    'trainable': True,\n",
       "    'units': 64,\n",
       "    'use_bias': True}},\n",
       "  {'class_name': 'Dropout',\n",
       "   'config': {'dtype': 'float32',\n",
       "    'name': 'dropout_17',\n",
       "    'noise_shape': None,\n",
       "    'rate': 0.3,\n",
       "    'seed': None,\n",
       "    'trainable': True}},\n",
       "  {'class_name': 'Dense',\n",
       "   'config': {'activation': 'softmax',\n",
       "    'activity_regularizer': None,\n",
       "    'bias_constraint': None,\n",
       "    'bias_initializer': {'class_name': 'Zeros', 'config': {}},\n",
       "    'bias_regularizer': None,\n",
       "    'dtype': 'float32',\n",
       "    'kernel_constraint': None,\n",
       "    'kernel_initializer': {'class_name': 'GlorotUniform',\n",
       "     'config': {'seed': None}},\n",
       "    'kernel_regularizer': None,\n",
       "    'name': 'dense_layer_3',\n",
       "    'trainable': True,\n",
       "    'units': 10,\n",
       "    'use_bias': True}}],\n",
       " 'name': 'sequential_11'}"
      ]
     },
     "execution_count": 102,
     "metadata": {
      "tags": []
     },
     "output_type": "execute_result"
    }
   ],
   "source": [
    "model_3.get_config()"
   ]
  },
  {
   "cell_type": "code",
   "execution_count": null,
   "metadata": {
    "id": "c-LKIa0I-ipw"
   },
   "outputs": [],
   "source": []
  },
  {
   "cell_type": "markdown",
   "metadata": {
    "id": "mBnxm6kkzUYm"
   },
   "source": [
    "###Improved Model 4: Increasing the number of Hidden Layer neuron "
   ]
  },
  {
   "cell_type": "code",
   "execution_count": null,
   "metadata": {
    "id": "1tV9x2SNzUYq"
   },
   "outputs": [],
   "source": [
    "#Most common type of model is a stack of layers\n",
    "model_4 = tf.keras.Sequential()\n",
    "N_hidden = 512\n",
    "# Adds a densely-connected layer with 64 units to the model:\n",
    "model_4.add(Dense(N_hidden, name='dense_layer', input_shape=(784,), activation = 'relu'))\n",
    "# Now the model will take as input arrays of shape (*, 784)# and output arrays of shape (*, 64)\n",
    "model_4.add(Dropout(0.3))\n",
    "# Adding another dense layer:\n",
    "model_4.add(Dense(N_hidden, name='dense_layer_2', activation='relu'))\n",
    "model_4.add(Dropout(0.3))\n",
    "# After the first layer, you don't need to specify\u000b",
    "# the size of the input anymore:\n",
    "# Add an output layer with 10 output units (10 different classes):\n",
    "model_4.add(Dense(10, name='dense_layer_3', activation = 'softmax'))\n"
   ]
  },
  {
   "cell_type": "code",
   "execution_count": null,
   "metadata": {
    "id": "ODypsK52zUY3"
   },
   "outputs": [],
   "source": [
    "# Compiling the model.\n",
    "model_4.compile(optimizer='Adam', \n",
    "              loss='categorical_crossentropy',\n",
    "              metrics=['accuracy'])"
   ]
  },
  {
   "cell_type": "code",
   "execution_count": null,
   "metadata": {
    "colab": {
     "base_uri": "https://localhost:8080/",
     "height": 1000
    },
    "id": "wcbJiQdpzUY_",
    "outputId": "803345cf-f24d-43e8-d40e-79df41543b55"
   },
   "outputs": [
    {
     "name": "stdout",
     "output_type": "stream",
     "text": [
      "Epoch 1/70\n",
      "750/750 [==============================] - 8s 11ms/step - loss: 0.5506 - accuracy: 0.7985 - val_loss: 0.4030 - val_accuracy: 0.8507\n",
      "Epoch 2/70\n",
      "750/750 [==============================] - 8s 11ms/step - loss: 0.4162 - accuracy: 0.8475 - val_loss: 0.3644 - val_accuracy: 0.8636\n",
      "Epoch 3/70\n",
      "750/750 [==============================] - 8s 11ms/step - loss: 0.3824 - accuracy: 0.8589 - val_loss: 0.3651 - val_accuracy: 0.8637\n",
      "Epoch 4/70\n",
      "750/750 [==============================] - 8s 11ms/step - loss: 0.3586 - accuracy: 0.8674 - val_loss: 0.3560 - val_accuracy: 0.8701\n",
      "Epoch 5/70\n",
      "750/750 [==============================] - 8s 11ms/step - loss: 0.3471 - accuracy: 0.8722 - val_loss: 0.3382 - val_accuracy: 0.8785\n",
      "Epoch 6/70\n",
      "750/750 [==============================] - 8s 11ms/step - loss: 0.3311 - accuracy: 0.8770 - val_loss: 0.3272 - val_accuracy: 0.8837\n",
      "Epoch 7/70\n",
      "750/750 [==============================] - 8s 11ms/step - loss: 0.3197 - accuracy: 0.8812 - val_loss: 0.3208 - val_accuracy: 0.8816\n",
      "Epoch 8/70\n",
      "750/750 [==============================] - 8s 11ms/step - loss: 0.3114 - accuracy: 0.8846 - val_loss: 0.3287 - val_accuracy: 0.8758\n",
      "Epoch 9/70\n",
      "750/750 [==============================] - 8s 11ms/step - loss: 0.3054 - accuracy: 0.8881 - val_loss: 0.3082 - val_accuracy: 0.8871\n",
      "Epoch 10/70\n",
      "750/750 [==============================] - 8s 11ms/step - loss: 0.2977 - accuracy: 0.8887 - val_loss: 0.3216 - val_accuracy: 0.8846\n",
      "Epoch 11/70\n",
      "750/750 [==============================] - 8s 11ms/step - loss: 0.2929 - accuracy: 0.8914 - val_loss: 0.3107 - val_accuracy: 0.8894\n",
      "Epoch 12/70\n",
      "750/750 [==============================] - 8s 11ms/step - loss: 0.2863 - accuracy: 0.8917 - val_loss: 0.3293 - val_accuracy: 0.8833\n",
      "Epoch 13/70\n",
      "750/750 [==============================] - 8s 10ms/step - loss: 0.2805 - accuracy: 0.8941 - val_loss: 0.3296 - val_accuracy: 0.8813\n",
      "Epoch 14/70\n",
      "750/750 [==============================] - 8s 11ms/step - loss: 0.2743 - accuracy: 0.8958 - val_loss: 0.3021 - val_accuracy: 0.8910\n",
      "Epoch 15/70\n",
      "750/750 [==============================] - 8s 11ms/step - loss: 0.2689 - accuracy: 0.8986 - val_loss: 0.3180 - val_accuracy: 0.8867\n",
      "Epoch 16/70\n",
      "750/750 [==============================] - 8s 11ms/step - loss: 0.2619 - accuracy: 0.9011 - val_loss: 0.3026 - val_accuracy: 0.8939\n",
      "Epoch 17/70\n",
      "750/750 [==============================] - 8s 11ms/step - loss: 0.2643 - accuracy: 0.9011 - val_loss: 0.2960 - val_accuracy: 0.8928\n",
      "Epoch 18/70\n",
      "750/750 [==============================] - 8s 11ms/step - loss: 0.2586 - accuracy: 0.9032 - val_loss: 0.3188 - val_accuracy: 0.8870\n",
      "Epoch 19/70\n",
      "750/750 [==============================] - 8s 11ms/step - loss: 0.2496 - accuracy: 0.9059 - val_loss: 0.3034 - val_accuracy: 0.8957\n",
      "Epoch 20/70\n",
      "750/750 [==============================] - 8s 11ms/step - loss: 0.2478 - accuracy: 0.9056 - val_loss: 0.3211 - val_accuracy: 0.8893\n",
      "Epoch 21/70\n",
      "750/750 [==============================] - 8s 11ms/step - loss: 0.2448 - accuracy: 0.9080 - val_loss: 0.3018 - val_accuracy: 0.8948\n",
      "Epoch 22/70\n",
      "750/750 [==============================] - 8s 11ms/step - loss: 0.2434 - accuracy: 0.9083 - val_loss: 0.3044 - val_accuracy: 0.8903\n",
      "Epoch 23/70\n",
      "750/750 [==============================] - 8s 11ms/step - loss: 0.2398 - accuracy: 0.9096 - val_loss: 0.3059 - val_accuracy: 0.8954\n",
      "Epoch 24/70\n",
      "750/750 [==============================] - 8s 11ms/step - loss: 0.2357 - accuracy: 0.9105 - val_loss: 0.3043 - val_accuracy: 0.8963\n",
      "Epoch 25/70\n",
      "750/750 [==============================] - 8s 11ms/step - loss: 0.2303 - accuracy: 0.9125 - val_loss: 0.3270 - val_accuracy: 0.8926\n",
      "Epoch 26/70\n",
      "750/750 [==============================] - 8s 11ms/step - loss: 0.2301 - accuracy: 0.9140 - val_loss: 0.3198 - val_accuracy: 0.8923\n",
      "Epoch 27/70\n",
      "750/750 [==============================] - 8s 11ms/step - loss: 0.2242 - accuracy: 0.9150 - val_loss: 0.3035 - val_accuracy: 0.8932\n",
      "Epoch 28/70\n",
      "750/750 [==============================] - 8s 11ms/step - loss: 0.2268 - accuracy: 0.9143 - val_loss: 0.3231 - val_accuracy: 0.8934\n",
      "Epoch 29/70\n",
      "750/750 [==============================] - 8s 11ms/step - loss: 0.2224 - accuracy: 0.9156 - val_loss: 0.2990 - val_accuracy: 0.8977\n",
      "Epoch 30/70\n",
      "750/750 [==============================] - 8s 10ms/step - loss: 0.2191 - accuracy: 0.9170 - val_loss: 0.3227 - val_accuracy: 0.8937\n",
      "Epoch 31/70\n",
      "750/750 [==============================] - 8s 11ms/step - loss: 0.2217 - accuracy: 0.9156 - val_loss: 0.3022 - val_accuracy: 0.8988\n",
      "Epoch 32/70\n",
      "750/750 [==============================] - 8s 11ms/step - loss: 0.2137 - accuracy: 0.9194 - val_loss: 0.3210 - val_accuracy: 0.8958\n",
      "Epoch 33/70\n",
      "750/750 [==============================] - 8s 11ms/step - loss: 0.2138 - accuracy: 0.9191 - val_loss: 0.3120 - val_accuracy: 0.8970\n",
      "Epoch 34/70\n",
      "750/750 [==============================] - 8s 11ms/step - loss: 0.2100 - accuracy: 0.9213 - val_loss: 0.3097 - val_accuracy: 0.8988\n",
      "Epoch 35/70\n",
      "750/750 [==============================] - 8s 11ms/step - loss: 0.2070 - accuracy: 0.9216 - val_loss: 0.3112 - val_accuracy: 0.8981\n",
      "Epoch 36/70\n",
      "750/750 [==============================] - 8s 11ms/step - loss: 0.2089 - accuracy: 0.9207 - val_loss: 0.3050 - val_accuracy: 0.8970\n",
      "Epoch 37/70\n",
      "750/750 [==============================] - 8s 11ms/step - loss: 0.2060 - accuracy: 0.9218 - val_loss: 0.3074 - val_accuracy: 0.8967\n",
      "Epoch 38/70\n",
      "750/750 [==============================] - 8s 11ms/step - loss: 0.2002 - accuracy: 0.9238 - val_loss: 0.3251 - val_accuracy: 0.8953\n",
      "Epoch 39/70\n",
      "750/750 [==============================] - 8s 11ms/step - loss: 0.2041 - accuracy: 0.9231 - val_loss: 0.3073 - val_accuracy: 0.8984\n",
      "Epoch 40/70\n",
      "750/750 [==============================] - 8s 11ms/step - loss: 0.1979 - accuracy: 0.9247 - val_loss: 0.3398 - val_accuracy: 0.8977\n",
      "Epoch 41/70\n",
      "750/750 [==============================] - 8s 11ms/step - loss: 0.1981 - accuracy: 0.9261 - val_loss: 0.3421 - val_accuracy: 0.8963\n",
      "Epoch 42/70\n",
      "750/750 [==============================] - 8s 11ms/step - loss: 0.1975 - accuracy: 0.9245 - val_loss: 0.3184 - val_accuracy: 0.8992\n",
      "Epoch 43/70\n",
      "750/750 [==============================] - 8s 11ms/step - loss: 0.1914 - accuracy: 0.9275 - val_loss: 0.3158 - val_accuracy: 0.8997\n",
      "Epoch 44/70\n",
      "750/750 [==============================] - 8s 11ms/step - loss: 0.1906 - accuracy: 0.9276 - val_loss: 0.3336 - val_accuracy: 0.8956\n",
      "Epoch 45/70\n",
      "750/750 [==============================] - 8s 11ms/step - loss: 0.1930 - accuracy: 0.9263 - val_loss: 0.3206 - val_accuracy: 0.8977\n",
      "Epoch 46/70\n",
      "750/750 [==============================] - 8s 11ms/step - loss: 0.1909 - accuracy: 0.9268 - val_loss: 0.3193 - val_accuracy: 0.8992\n",
      "Epoch 47/70\n",
      "750/750 [==============================] - 8s 11ms/step - loss: 0.1894 - accuracy: 0.9285 - val_loss: 0.3225 - val_accuracy: 0.8980\n",
      "Epoch 48/70\n",
      "750/750 [==============================] - 8s 11ms/step - loss: 0.1858 - accuracy: 0.9296 - val_loss: 0.3202 - val_accuracy: 0.9011\n",
      "Epoch 49/70\n",
      "750/750 [==============================] - 8s 11ms/step - loss: 0.1861 - accuracy: 0.9291 - val_loss: 0.3397 - val_accuracy: 0.8982\n",
      "Epoch 50/70\n",
      "750/750 [==============================] - 8s 11ms/step - loss: 0.1812 - accuracy: 0.9312 - val_loss: 0.3338 - val_accuracy: 0.9001\n",
      "Epoch 51/70\n",
      "750/750 [==============================] - 8s 11ms/step - loss: 0.1840 - accuracy: 0.9315 - val_loss: 0.3333 - val_accuracy: 0.9012\n",
      "Epoch 52/70\n",
      "750/750 [==============================] - 8s 11ms/step - loss: 0.1768 - accuracy: 0.9315 - val_loss: 0.3387 - val_accuracy: 0.8976\n",
      "Epoch 53/70\n",
      "750/750 [==============================] - 8s 11ms/step - loss: 0.1836 - accuracy: 0.9302 - val_loss: 0.3256 - val_accuracy: 0.8993\n",
      "Epoch 54/70\n",
      "750/750 [==============================] - 8s 11ms/step - loss: 0.1771 - accuracy: 0.9330 - val_loss: 0.3426 - val_accuracy: 0.8989\n",
      "Epoch 55/70\n",
      "750/750 [==============================] - 8s 11ms/step - loss: 0.1754 - accuracy: 0.9324 - val_loss: 0.3484 - val_accuracy: 0.8985\n",
      "Epoch 56/70\n",
      "750/750 [==============================] - 8s 10ms/step - loss: 0.1784 - accuracy: 0.9325 - val_loss: 0.3497 - val_accuracy: 0.8968\n",
      "Epoch 57/70\n",
      "750/750 [==============================] - 9s 11ms/step - loss: 0.1724 - accuracy: 0.9340 - val_loss: 0.3421 - val_accuracy: 0.9011\n",
      "Epoch 58/70\n",
      "750/750 [==============================] - 8s 11ms/step - loss: 0.1703 - accuracy: 0.9344 - val_loss: 0.3432 - val_accuracy: 0.8992\n",
      "Epoch 59/70\n",
      "750/750 [==============================] - 8s 11ms/step - loss: 0.1709 - accuracy: 0.9351 - val_loss: 0.3393 - val_accuracy: 0.9012\n",
      "Epoch 60/70\n",
      "750/750 [==============================] - 8s 11ms/step - loss: 0.1634 - accuracy: 0.9384 - val_loss: 0.3749 - val_accuracy: 0.8976\n",
      "Epoch 61/70\n",
      "750/750 [==============================] - 8s 11ms/step - loss: 0.1707 - accuracy: 0.9359 - val_loss: 0.3508 - val_accuracy: 0.8978\n",
      "Epoch 62/70\n",
      "750/750 [==============================] - 8s 11ms/step - loss: 0.1695 - accuracy: 0.9365 - val_loss: 0.3744 - val_accuracy: 0.8970\n",
      "Epoch 63/70\n",
      "750/750 [==============================] - 8s 11ms/step - loss: 0.1653 - accuracy: 0.9379 - val_loss: 0.3566 - val_accuracy: 0.8988\n",
      "Epoch 64/70\n",
      "750/750 [==============================] - 8s 11ms/step - loss: 0.1686 - accuracy: 0.9370 - val_loss: 0.3434 - val_accuracy: 0.9010\n",
      "Epoch 65/70\n",
      "750/750 [==============================] - 9s 11ms/step - loss: 0.1659 - accuracy: 0.9373 - val_loss: 0.3511 - val_accuracy: 0.8985\n",
      "Epoch 66/70\n",
      "750/750 [==============================] - 8s 11ms/step - loss: 0.1612 - accuracy: 0.9390 - val_loss: 0.3584 - val_accuracy: 0.8990\n",
      "Epoch 67/70\n",
      "750/750 [==============================] - 8s 11ms/step - loss: 0.1654 - accuracy: 0.9368 - val_loss: 0.3578 - val_accuracy: 0.9023\n",
      "Epoch 68/70\n",
      "750/750 [==============================] - 8s 10ms/step - loss: 0.1595 - accuracy: 0.9395 - val_loss: 0.3558 - val_accuracy: 0.9038\n",
      "Epoch 69/70\n",
      "750/750 [==============================] - 8s 11ms/step - loss: 0.1596 - accuracy: 0.9399 - val_loss: 0.3583 - val_accuracy: 0.8994\n",
      "Epoch 70/70\n",
      "750/750 [==============================] - 8s 11ms/step - loss: 0.1577 - accuracy: 0.9419 - val_loss: 0.3664 - val_accuracy: 0.8992\n"
     ]
    }
   ],
   "source": [
    "# Training the model. \n",
    "training = model_4.fit(X_train, Y_train, batch_size=64, epochs=70, validation_split=0.2) \n"
   ]
  },
  {
   "cell_type": "code",
   "execution_count": null,
   "metadata": {
    "colab": {
     "base_uri": "https://localhost:8080/",
     "height": 51
    },
    "id": "wIywzScFzUZJ",
    "outputId": "806875eb-4a30-4a3f-92f8-36d7585eb81f"
   },
   "outputs": [
    {
     "name": "stdout",
     "output_type": "stream",
     "text": [
      "313/313 [==============================] - 1s 3ms/step - loss: 0.4142 - accuracy: 0.8961\n",
      "Test accuracy: 0.8960999846458435\n"
     ]
    }
   ],
   "source": [
    "#evaluate the model_4\n",
    "test_loss, test_acc = model_4.evaluate(X_test, Y_test)\n",
    "print('Test accuracy:', test_acc)"
   ]
  },
  {
   "cell_type": "code",
   "execution_count": null,
   "metadata": {
    "colab": {
     "base_uri": "https://localhost:8080/",
     "height": 590
    },
    "id": "L3tLcpsc3tKz",
    "outputId": "dcb49b8b-54f0-422c-a275-5e93cb0e0a20"
   },
   "outputs": [
    {
     "name": "stdout",
     "output_type": "stream",
     "text": [
      "dict_keys(['loss', 'accuracy', 'val_loss', 'val_accuracy'])\n"
     ]
    },
    {
     "data": {
      "image/png": "[encoded data removed]",
      "text/plain": [
       "<Figure size 432x288 with 1 Axes>"
      ]
     },
     "metadata": {
      "needs_background": "light",
      "tags": []
     },
     "output_type": "display_data"
    },
    {
     "data": {
      "image/png": "[encoded data removed]",
      "text/plain": [
       "<Figure size 432x288 with 1 Axes>"
      ]
     },
     "metadata": {
      "needs_background": "light",
      "tags": []
     },
     "output_type": "display_data"
    }
   ],
   "source": [
    "import matplotlib.pyplot as plt\n",
    "%matplotlib inline\n",
    "# list all data in training\n",
    "print(training.history.keys())\n",
    "# summarize training for accuracy\n",
    "plt.plot(training.history['accuracy'])\n",
    "plt.plot(training.history['val_accuracy'])\n",
    "plt.title('model accuracy')\n",
    "plt.ylabel('accuracy')\n",
    "plt.xlabel('epoch')\n",
    "plt.legend(['train', 'test'], loc='upper left')\n",
    "plt.show()\n",
    "# summarize traning for loss\n",
    "plt.plot(training.history['loss'])\n",
    "plt.plot(training.history['val_loss'])\n",
    "plt.title('model loss')\n",
    "plt.ylabel('loss')\n",
    "plt.xlabel('epoch')\n",
    "plt.legend(['train', 'test'], loc='upper left')\n",
    "plt.show()"
   ]
  },
  {
   "cell_type": "code",
   "execution_count": null,
   "metadata": {
    "colab": {
     "base_uri": "https://localhost:8080/",
     "height": 323
    },
    "id": "FmDi5zHOkQTK",
    "outputId": "10dd0a5f-0afb-47c3-c5ee-5e0b583d8b25"
   },
   "outputs": [
    {
     "name": "stdout",
     "output_type": "stream",
     "text": [
      "Model: \"sequential_10\"\n",
      "_________________________________________________________________\n",
      "Layer (type)                 Output Shape              Param #   \n",
      "=================================================================\n",
      "dense_layer (Dense)          (None, 512)               401920    \n",
      "_________________________________________________________________\n",
      "dropout_8 (Dropout)          (None, 512)               0         \n",
      "_________________________________________________________________\n",
      "dense_layer_2 (Dense)        (None, 512)               262656    \n",
      "_________________________________________________________________\n",
      "dropout_9 (Dropout)          (None, 512)               0         \n",
      "_________________________________________________________________\n",
      "dense_layer_3 (Dense)        (None, 10)                5130      \n",
      "=================================================================\n",
      "Total params: 669,706\n",
      "Trainable params: 669,706\n",
      "Non-trainable params: 0\n",
      "_________________________________________________________________\n"
     ]
    }
   ],
   "source": [
    "model_4.summary()"
   ]
  },
  {
   "cell_type": "code",
   "execution_count": null,
   "metadata": {
    "colab": {
     "base_uri": "https://localhost:8080/",
     "height": 1000
    },
    "id": "ogODS59VkQTO",
    "outputId": "da6f1149-784e-4313-c2fe-5ec85caaa0dc"
   },
   "outputs": [
    {
     "data": {
      "text/plain": [
       "[<tf.Variable 'dense_layer_14/kernel:0' shape=(784, 512) dtype=float32, numpy=\n",
       " array([[-0.00725385, -0.02951345, -0.01022476, ...,  0.01873028,\n",
       "         -0.00124576, -0.05969054],\n",
       "        [-0.04041503,  0.02794901, -0.01813392, ...,  0.04797897,\n",
       "         -0.05881925, -0.03724694],\n",
       "        [-0.0272625 , -0.06646182,  0.01914355, ..., -0.03670435,\n",
       "          0.0431502 ,  0.02895156],\n",
       "        ...,\n",
       "        [-0.04489559,  0.0036691 ,  0.04210217, ...,  0.04587034,\n",
       "         -0.06233099,  0.03648092],\n",
       "        [-0.06230009,  0.04979425, -0.0585332 , ...,  0.04988471,\n",
       "          0.03459144,  0.02808205],\n",
       "        [ 0.01668332,  0.05018409,  0.02200481, ...,  0.05354574,\n",
       "          0.02471522, -0.03529755]], dtype=float32)>,\n",
       " <tf.Variable 'dense_layer_14/bias:0' shape=(512,) dtype=float32, numpy=\n",
       " array([-4.91322987e-02, -3.47907729e-02,  4.97164354e-02, -4.24265079e-02,\n",
       "        -6.70888126e-02, -1.49358064e-02, -7.46583641e-02, -2.26146132e-02,\n",
       "         2.47198083e-02, -5.43470122e-02, -1.13672033e-01, -1.45252526e-01,\n",
       "        -3.26306000e-02, -1.21760666e-01, -5.92065305e-02, -5.02119884e-02,\n",
       "        -9.12411436e-02, -9.06861946e-02, -6.79436252e-02,  4.57214415e-02,\n",
       "        -1.93578023e-02, -6.16790131e-02, -5.15476279e-02, -1.20414242e-01,\n",
       "        -2.03245506e-03, -3.79460156e-02, -8.36612135e-02,  2.00305283e-02,\n",
       "        -3.72988507e-02,  4.57633473e-03, -8.62257332e-02,  6.76602349e-02,\n",
       "         3.52018438e-02,  1.93933360e-02, -1.54488916e-02, -7.58163184e-02,\n",
       "        -7.98931532e-03,  2.48427968e-02, -3.10169086e-02, -3.20485272e-02,\n",
       "        -1.04693033e-01, -2.90185120e-02, -5.65711744e-02,  1.36305531e-02,\n",
       "        -1.12695508e-01, -6.03545737e-03,  8.93139001e-03,  7.81548098e-02,\n",
       "        -6.75982013e-02, -1.21226251e-01, -5.14323711e-02,  8.15885607e-03,\n",
       "         1.13624409e-02, -9.05572847e-02, -2.06271615e-02, -6.39119223e-02,\n",
       "         8.04952579e-04, -1.33775592e-01, -1.95047501e-02,  1.07070021e-02,\n",
       "        -7.86071718e-02,  4.89044935e-03, -1.32540083e-02, -3.33501808e-02,\n",
       "         5.71406335e-02, -5.28527349e-02, -1.12009034e-01, -4.40492071e-02,\n",
       "        -4.25128527e-02, -8.34808871e-02,  3.87509316e-02, -9.42008570e-02,\n",
       "        -1.97254755e-02,  7.85134435e-02,  5.33292629e-02,  7.00876415e-02,\n",
       "        -7.11017549e-02, -4.43240628e-02,  1.60795392e-03,  4.78425100e-02,\n",
       "         2.81755701e-02, -2.45993976e-02, -2.35337038e-02, -1.03575870e-01,\n",
       "         5.89530952e-02, -8.77596959e-02, -5.98048568e-02, -1.14255123e-01,\n",
       "         9.04716700e-02, -5.07178232e-02, -7.82230273e-02,  6.00346625e-02,\n",
       "         2.30625682e-02, -1.20867908e-01, -6.61040470e-02,  1.91354274e-03,\n",
       "         4.92841229e-02,  1.60602108e-02, -7.58077502e-02, -4.94275019e-02,\n",
       "         8.23176652e-03, -1.09318659e-01, -1.65833727e-01,  5.81094343e-03,\n",
       "        -2.87283082e-02, -2.89774369e-02,  2.48017255e-02,  3.18207629e-02,\n",
       "        -2.02448368e-02, -6.51208833e-02,  7.70263299e-02, -2.75517665e-02,\n",
       "        -8.53389353e-02, -3.14819962e-02, -8.74272138e-02, -9.86498073e-02,\n",
       "        -4.32936661e-02,  1.55871017e-02,  2.01356169e-02, -1.51113356e-02,\n",
       "        -1.15649467e-02, -1.32846966e-01, -8.37702304e-02,  1.00740539e-02,\n",
       "        -3.09606586e-02, -7.27819325e-03,  1.98970437e-02, -1.71500035e-02,\n",
       "        -1.05147451e-01, -5.18173464e-02, -7.64982998e-02,  1.53249949e-01,\n",
       "        -3.77653949e-02, -6.27499074e-02,  9.87534523e-02, -8.36541429e-02,\n",
       "         4.14358601e-02,  1.22025851e-02, -6.23171730e-03, -6.46670312e-02,\n",
       "         2.21578055e-03,  5.42854629e-02, -8.29875395e-02,  4.63726334e-02,\n",
       "         4.90578823e-02,  5.05959652e-02, -4.39765900e-02,  3.19825783e-02,\n",
       "        -4.34613042e-02, -2.26122141e-02, -1.94109920e-02, -1.54068684e-02,\n",
       "        -1.00740850e-01, -3.94573584e-02, -2.23333791e-01, -2.97400523e-02,\n",
       "        -1.41117990e-01,  8.21218491e-02, -1.09948538e-01, -8.61581117e-02,\n",
       "        -3.71144600e-02, -1.15976945e-01, -9.76620149e-03, -2.27010604e-02,\n",
       "         5.53941214e-03, -1.15239583e-01, -2.46757772e-02,  1.02569886e-01,\n",
       "        -5.48562519e-02, -1.48567120e-02, -1.26411751e-01, -4.49232049e-02,\n",
       "        -3.65801319e-03, -3.67350094e-02, -1.05642349e-01, -6.71315100e-03,\n",
       "        -1.30320331e-02,  9.09307040e-03, -3.23060453e-02, -6.95461929e-02,\n",
       "         5.66678867e-02, -5.63579798e-02, -5.43133654e-02, -1.03085093e-01,\n",
       "        -7.85246640e-02, -5.03946990e-02, -2.51699481e-02, -9.25223753e-02,\n",
       "         1.10965513e-01,  1.18403975e-02, -3.67729403e-02,  1.04172677e-01,\n",
       "        -1.47017300e-01, -3.92450653e-02, -6.16339445e-02, -3.58076803e-02,\n",
       "         4.89128614e-03, -7.21839294e-02, -9.75437090e-03, -1.16910040e-02,\n",
       "        -3.98584362e-03, -1.37688825e-03, -2.47789621e-02, -1.97664965e-02,\n",
       "        -6.62307143e-02,  4.28886525e-02,  5.40906042e-02,  1.53504685e-01,\n",
       "        -1.06149465e-01,  3.92211042e-03,  1.15258154e-02, -2.41506677e-02,\n",
       "         8.59676078e-02, -2.03076694e-02, -1.02019832e-02, -6.93583190e-02,\n",
       "        -4.10718657e-02, -7.95283094e-02, -4.91657816e-02,  4.34088223e-02,\n",
       "        -2.46754996e-02,  6.78676441e-02,  7.66223622e-03, -4.57327515e-02,\n",
       "         2.82046143e-02, -4.74224128e-02, -1.18933365e-01, -1.92330871e-02,\n",
       "         6.87530786e-02, -9.06893909e-02, -1.47983711e-03,  2.80771144e-02,\n",
       "        -7.42053688e-02,  1.00238740e-01, -1.38306066e-01, -8.44288841e-02,\n",
       "         8.65707733e-03,  7.61070102e-03, -3.57452743e-02, -1.43243568e-02,\n",
       "        -8.31696242e-02, -1.82772931e-02, -2.76670177e-02, -6.23117685e-02,\n",
       "        -1.29424734e-02,  9.90033224e-02, -2.61037075e-03, -6.31007999e-02,\n",
       "        -6.29351959e-02, -4.52504084e-02, -4.24243771e-02, -9.15483944e-03,\n",
       "        -3.81132588e-02, -1.16576381e-01,  2.68511847e-03, -3.97727340e-02,\n",
       "        -1.01926595e-01, -1.22251213e-01,  5.31114563e-02, -3.73075008e-02,\n",
       "        -5.58531508e-02,  3.15744802e-02, -1.69966742e-02,  3.11970469e-02,\n",
       "        -1.36527400e-02,  1.16717583e-02, -9.94357988e-02, -8.10146779e-02,\n",
       "        -6.30239844e-02,  6.67375475e-02, -8.28441605e-03, -7.56985620e-02,\n",
       "        -1.29763141e-01,  6.98409602e-02, -7.91128278e-02, -1.35889882e-02,\n",
       "         9.04882420e-03, -4.29565571e-02,  1.51082790e-02, -6.23914227e-03,\n",
       "         5.52482642e-02, -7.33149126e-02, -3.85841914e-02, -8.60070661e-02,\n",
       "         2.64699571e-03,  1.90995485e-02, -3.09608392e-02, -2.40726516e-01,\n",
       "         4.22540270e-02, -1.17975786e-01, -1.08788766e-01, -5.63354231e-02,\n",
       "        -6.45227451e-03,  5.60096093e-03, -6.14131019e-02,  3.75228971e-02,\n",
       "        -1.60494179e-01, -1.30656242e-01, -8.87212250e-03,  8.44202489e-02,\n",
       "        -9.20462459e-02, -1.69380177e-02,  4.01743278e-02, -6.93979561e-02,\n",
       "        -3.45267579e-02, -3.98819819e-02, -4.68315482e-02, -8.57604370e-02,\n",
       "        -2.91864593e-02, -9.42513719e-02,  1.04670800e-01, -4.29921485e-02,\n",
       "         3.21328081e-02,  2.69641485e-02,  1.37916461e-01, -6.13398850e-02,\n",
       "         5.49247526e-02, -7.65648410e-02,  5.80083653e-02, -8.96765366e-02,\n",
       "        -2.35415678e-02, -3.52490619e-02, -4.73480523e-02, -1.26910478e-01,\n",
       "        -3.58489039e-03, -2.37466171e-02, -3.80742736e-02,  2.13641748e-02,\n",
       "        -3.08304038e-02, -5.56284264e-02,  4.21275198e-03,  5.07135168e-02,\n",
       "        -1.09850191e-01, -6.47220877e-04,  8.55665654e-02, -5.07469140e-02,\n",
       "        -2.98889559e-02, -1.18929513e-01, -8.08268264e-02,  5.50406463e-02,\n",
       "        -9.74701419e-02, -4.05599773e-02,  2.87008528e-02, -4.65103909e-02,\n",
       "         3.95443141e-02, -1.09356865e-01,  1.85322594e-02, -9.95672867e-03,\n",
       "        -3.18767428e-02,  3.30814086e-02,  7.01566562e-02, -2.95016402e-03,\n",
       "        -1.40822155e-03, -6.87819943e-02, -1.50665473e-02, -9.48308706e-02,\n",
       "        -6.93340674e-02, -1.67797819e-01, -7.73517638e-02, -2.18969081e-02,\n",
       "        -8.06237236e-02, -4.06240672e-02, -4.03959863e-02, -2.07873639e-02,\n",
       "         6.75210655e-02,  6.24231175e-02, -4.09420319e-02, -1.19474821e-01,\n",
       "        -6.43365607e-02, -1.50080144e-01,  2.50106901e-02, -1.76605210e-01,\n",
       "        -6.80899099e-02, -5.53847328e-02, -3.13247330e-02, -3.67170689e-03,\n",
       "        -1.25702806e-02,  2.01397352e-02, -3.13666202e-02, -4.47720885e-02,\n",
       "        -6.33771345e-02,  5.97557798e-03,  9.09153521e-02, -2.67382860e-02,\n",
       "        -8.06342661e-02, -2.37227627e-03,  1.31881395e-02, -8.17821473e-02,\n",
       "        -2.14763302e-02, -1.34572223e-01, -5.57932891e-02,  4.12973054e-02,\n",
       "         2.67053116e-02, -6.80862442e-02, -9.72951725e-02,  4.19376753e-02,\n",
       "        -2.42654607e-02, -4.24061120e-02,  5.41416928e-03, -6.12522513e-02,\n",
       "        -6.69626966e-02,  5.26158474e-02,  3.72980461e-02, -1.20586008e-01,\n",
       "        -1.15755098e-02, -1.16155982e-01, -6.10663593e-02, -6.21176884e-02,\n",
       "         9.02632624e-03,  3.41265053e-02, -7.38237193e-03, -1.59334853e-01,\n",
       "        -6.29521608e-02, -3.87828723e-02,  7.12089315e-02, -1.91163365e-02,\n",
       "         3.89117119e-03,  2.02457129e-04, -8.88646673e-03, -2.46879049e-02,\n",
       "        -9.31096822e-03, -6.08369932e-02, -9.56697091e-02, -1.39457989e-03,\n",
       "        -4.46015038e-03, -1.44414917e-01,  1.45239197e-03, -1.96947530e-01,\n",
       "        -9.49317440e-02, -7.51956329e-02, -4.98775207e-02,  1.89200742e-03,\n",
       "         2.32684929e-02,  2.39594486e-02, -6.43613264e-02, -1.06466293e-01,\n",
       "        -9.50489342e-02,  2.38688625e-02, -5.41071482e-02,  3.77142169e-02,\n",
       "        -1.39467604e-02, -4.88612726e-02, -7.47151002e-02,  1.47776790e-02,\n",
       "        -3.35644968e-02, -8.35747719e-02, -8.16661566e-02, -1.45596583e-04,\n",
       "        -8.69197249e-02, -5.93341291e-02, -5.42411283e-02,  4.68829274e-03,\n",
       "        -4.76774871e-02, -2.20040549e-02, -1.08665731e-02, -6.55770376e-02,\n",
       "         5.31721823e-02,  3.98294032e-02,  5.04664369e-02, -3.24298777e-02,\n",
       "        -9.94838551e-02, -6.61952188e-03, -5.31046232e-03, -1.18939810e-01,\n",
       "        -2.98889801e-02, -5.28814597e-03, -3.01252138e-02, -6.54510735e-03,\n",
       "        -2.77468637e-02, -1.09103592e-02, -1.37452437e-02,  8.37992355e-02,\n",
       "        -8.00722167e-02, -1.21519342e-01, -1.54086296e-03, -5.18867671e-02,\n",
       "         5.12331277e-02, -4.75868583e-02, -1.56825967e-02, -1.19686805e-01,\n",
       "        -1.52005702e-01,  2.53379121e-02, -8.53947774e-02,  9.15481432e-05,\n",
       "         5.09414487e-02,  3.07387635e-02,  1.74886696e-02, -2.74150390e-02,\n",
       "        -1.82151888e-02, -2.26295087e-02, -6.43091947e-02, -1.71807315e-02,\n",
       "        -1.41365886e-01, -9.89308953e-03, -3.89002077e-02, -9.74909514e-02,\n",
       "        -1.20676504e-02, -1.33859038e-01, -6.37789071e-02,  9.59583595e-02,\n",
       "        -4.38886471e-02, -2.30560750e-01, -3.96285243e-02,  5.33491410e-02,\n",
       "        -5.47557324e-02,  5.85437380e-03,  6.74688071e-02,  8.72761235e-02,\n",
       "        -5.83723262e-02,  9.52271149e-02, -3.74739170e-02, -2.69775223e-02],\n",
       "       dtype=float32)>,\n",
       " <tf.Variable 'dense_layer_2_10/kernel:0' shape=(512, 512) dtype=float32, numpy=\n",
       " array([[ 0.0681522 ,  0.02122125, -0.24976467, ..., -0.01787063,\n",
       "          0.07771329, -0.00251382],\n",
       "        [ 0.03016249,  0.11341631, -0.04721821, ...,  0.20483561,\n",
       "         -0.12314614,  0.02035169],\n",
       "        [-0.16018909, -0.23932889, -0.21206664, ...,  0.14491034,\n",
       "          0.07697181,  0.12571977],\n",
       "        ...,\n",
       "        [-0.07230929,  0.02588729, -0.33049357, ..., -0.02970716,\n",
       "          0.01742526,  0.15109235],\n",
       "        [-0.09650924, -0.14271694,  0.06686517, ..., -0.00367011,\n",
       "          0.15996614, -0.36245233],\n",
       "        [-0.06874353,  0.21847415, -0.06288397, ...,  0.13104852,\n",
       "          0.13813698,  0.18900691]], dtype=float32)>,\n",
       " <tf.Variable 'dense_layer_2_10/bias:0' shape=(512,) dtype=float32, numpy=\n",
       " array([ 0.05155274, -0.13855726,  0.10465521,  0.02670027,  0.11439581,\n",
       "        -0.02011274,  0.07838003,  0.0478818 ,  0.00912476,  0.12685765,\n",
       "        -0.07335339, -0.08283046, -0.043242  ,  0.0779888 , -0.09881222,\n",
       "         0.03099133,  0.02715242, -0.04936464, -0.15000767,  0.17398915,\n",
       "         0.11186056,  0.00288103, -0.00644577, -0.00680888,  0.14444791,\n",
       "        -0.04534135,  0.17417741,  0.17598261, -0.15388191, -0.04822326,\n",
       "        -0.2557756 , -0.1303634 , -0.04455226,  0.23444803, -0.03632825,\n",
       "        -0.0880115 , -0.15533437,  0.09316765, -0.04869794, -0.06365375,\n",
       "         0.03374417,  0.06972726, -0.2764685 ,  0.13489035, -0.06746821,\n",
       "         0.04610343, -0.08049477, -0.03531253,  0.064732  , -0.03285593,\n",
       "        -0.11104852, -0.02467192, -0.19111584,  0.15380242, -0.11635257,\n",
       "        -0.11147323,  0.0699153 , -0.10828853, -0.17320351,  0.19349258,\n",
       "        -0.08894549, -0.15772189, -0.05395303,  0.2129652 ,  0.05277872,\n",
       "         0.00437857,  0.07544348, -0.07768118, -0.09679359, -0.05745332,\n",
       "        -0.01790554, -0.18854706,  0.00748002, -0.0465327 , -0.04105015,\n",
       "         0.06527408,  0.19954301, -0.0379657 ,  0.07336275, -0.05286431,\n",
       "        -0.05702521, -0.05639237, -0.20981029,  0.11762223, -0.0625314 ,\n",
       "         0.09739494,  0.11669665, -0.0776808 ,  0.1668696 ,  0.18738846,\n",
       "         0.11189254,  0.07144447, -0.01628149,  0.11712516,  0.06664751,\n",
       "        -0.0252523 , -0.13792095,  0.01342851, -0.01197561,  0.13906239,\n",
       "        -0.03716569,  0.13814658,  0.04008215,  0.18557149,  0.10109859,\n",
       "        -0.16120096,  0.03877387, -0.1785542 , -0.00724898, -0.2513322 ,\n",
       "        -0.08366741,  0.06723878, -0.04768597, -0.04378555,  0.00638023,\n",
       "        -0.10990272, -0.12306292,  0.10197958, -0.08168124,  0.04785038,\n",
       "        -0.06178644, -0.1976638 , -0.05673595,  0.14015178, -0.02439243,\n",
       "        -0.13219899, -0.00074938, -0.01854006, -0.11782125,  0.02173167,\n",
       "         0.12835567,  0.07876552, -0.10167217, -0.10678365,  0.02967161,\n",
       "        -0.13959318,  0.13460284, -0.21429497,  0.15826556, -0.07794596,\n",
       "         0.25670847, -0.00310205, -0.13282566, -0.17233883, -0.04807435,\n",
       "         0.01557298, -0.0913068 ,  0.03430215, -0.07371122,  0.03409629,\n",
       "        -0.10963186, -0.18310027, -0.1687893 , -0.20791626,  0.03225296,\n",
       "        -0.03778145, -0.15639575,  0.01217096,  0.13752396, -0.18234232,\n",
       "        -0.02020841, -0.00847742, -0.17782366,  0.3296568 ,  0.16311046,\n",
       "         0.06077142, -0.13119736,  0.05230335, -0.12772548,  0.087185  ,\n",
       "        -0.08779043,  0.18787876,  0.16658273, -0.00095347, -0.0931232 ,\n",
       "        -0.04116512, -0.14662285, -0.01442777, -0.09368855,  0.29629174,\n",
       "        -0.22122331,  0.20795071, -0.06647933,  0.06652211, -0.09484833,\n",
       "         0.01584726,  0.02706938, -0.14589508,  0.24501754,  0.18673508,\n",
       "        -0.02205139, -0.05953412,  0.03818793, -0.02733135, -0.0607724 ,\n",
       "         0.1435802 , -0.04815255, -0.10383686,  0.09719133, -0.111361  ,\n",
       "        -0.07823637,  0.12324639, -0.09536429,  0.02393205, -0.04139873,\n",
       "         0.1493382 ,  0.09126203, -0.14975497, -0.02866185, -0.01619291,\n",
       "         0.13263884, -0.10963091,  0.02620621,  0.02047674,  0.05209037,\n",
       "         0.12555961, -0.08479834, -0.15713933,  0.13752387, -0.27556223,\n",
       "         0.20875067, -0.11986475, -0.11847684,  0.15420976, -0.14253126,\n",
       "        -0.24662532, -0.05627796,  0.14048979, -0.05948168,  0.19981907,\n",
       "        -0.06436484, -0.11095632, -0.13626397,  0.03774466, -0.18327732,\n",
       "         0.10809273,  0.20547542, -0.17580113, -0.11244983,  0.18806058,\n",
       "         0.15352432,  0.1866534 , -0.05753777, -0.07757606, -0.06220374,\n",
       "        -0.04798401, -0.15504627, -0.17945419,  0.2389375 , -0.14539522,\n",
       "         0.05645036,  0.06388366, -0.17686711, -0.10208079, -0.1522652 ,\n",
       "         0.10531788,  0.001941  , -0.10178257, -0.10486747,  0.06401667,\n",
       "        -0.05181401, -0.00282905, -0.0796454 ,  0.0907347 , -0.25599685,\n",
       "         0.15260886, -0.08287445, -0.11755733,  0.01276629, -0.13335572,\n",
       "        -0.11102052, -0.08573267,  0.16553165, -0.09769434,  0.13322817,\n",
       "        -0.16061895, -0.21138042, -0.1098834 , -0.09846383,  0.01461732,\n",
       "        -0.1563861 , -0.05266489,  0.1439247 , -0.17027073, -0.10104755,\n",
       "        -0.09877971, -0.05545812, -0.02119885, -0.11518043, -0.1232848 ,\n",
       "         0.23955029,  0.18187286,  0.09852066, -0.09577613,  0.13495219,\n",
       "        -0.18278518, -0.11250746, -0.21037064, -0.12833534, -0.10163251,\n",
       "        -0.05568529,  0.17815375,  0.01609826, -0.06416382,  0.19686987,\n",
       "         0.15743582, -0.05727124,  0.10514317,  0.00661162,  0.05375567,\n",
       "         0.06878015,  0.1127496 , -0.1624589 , -0.03095387,  0.18020308,\n",
       "        -0.10207631, -0.06985713, -0.08683572, -0.04424246, -0.16054715,\n",
       "         0.00383299,  0.09950943,  0.034295  ,  0.17088127, -0.08598948,\n",
       "         0.09112598, -0.12149205,  0.09700548,  0.01639948, -0.1300241 ,\n",
       "         0.09861155,  0.02100104,  0.12100247, -0.10028481, -0.08644087,\n",
       "        -0.05269666, -0.09863554,  0.09395526,  0.18918945, -0.1751102 ,\n",
       "         0.02555454,  0.04942343,  0.05589169,  0.0820414 ,  0.17109635,\n",
       "        -0.02839284, -0.07680371, -0.13885954, -0.168754  ,  0.01715015,\n",
       "        -0.19732133,  0.17358625, -0.02521418,  0.07971481,  0.02497055,\n",
       "         0.13393757,  0.18325977, -0.07040884,  0.09913582, -0.12542506,\n",
       "        -0.09432805, -0.03645575,  0.0077097 ,  0.05552198, -0.10599896,\n",
       "         0.12805294,  0.12740393,  0.14040579, -0.13948433,  0.11437527,\n",
       "        -0.02674244, -0.07521135, -0.05505145,  0.06584411,  0.03576607,\n",
       "         0.18600044, -0.0657336 , -0.13507071, -0.13060273, -0.03143065,\n",
       "        -0.15542221,  0.03039426, -0.08552802, -0.09716017,  0.12789387,\n",
       "        -0.16896161,  0.01287628, -0.12875259,  0.04780323,  0.01144571,\n",
       "         0.04250818,  0.13106406,  0.00361153,  0.03810191, -0.17143798,\n",
       "        -0.00507865, -0.1689539 ,  0.12067782,  0.04253923,  0.13903613,\n",
       "         0.08036759,  0.06439565,  0.20498103, -0.07394421,  0.06120225,\n",
       "        -0.12802991, -0.12385898, -0.24542241, -0.146275  , -0.13927697,\n",
       "        -0.07810508, -0.1305435 , -0.25581908, -0.10218205,  0.01542327,\n",
       "        -0.125963  , -0.15538214,  0.22595409,  0.07265086, -0.1031801 ,\n",
       "         0.04464089, -0.06675517, -0.07723887, -0.12748396, -0.18010321,\n",
       "         0.0485016 ,  0.15423046, -0.05712985,  0.04797713,  0.06967203,\n",
       "        -0.12258662, -0.1769427 ,  0.11967592, -0.10753564,  0.21027651,\n",
       "        -0.15368369, -0.10512691,  0.05336199,  0.10303625,  0.08355244,\n",
       "        -0.113711  , -0.0784786 ,  0.12290706, -0.24281594,  0.08754005,\n",
       "        -0.08693556, -0.05344407, -0.1765268 , -0.22425249, -0.10351332,\n",
       "         0.16614404, -0.09541263, -0.06516157,  0.05486932, -0.18227579,\n",
       "        -0.03481381, -0.07322717, -0.0265459 ,  0.0418017 , -0.17504089,\n",
       "        -0.23311867,  0.0054615 , -0.31834742, -0.09023581, -0.22425224,\n",
       "        -0.13847253,  0.06171113, -0.12649962, -0.09703694, -0.1332278 ,\n",
       "         0.29003707, -0.0586199 , -0.03373131, -0.08938327, -0.01720699,\n",
       "        -0.09009439, -0.01659427, -0.05199739, -0.12374873,  0.12845035,\n",
       "        -0.11626741,  0.0992388 , -0.11653355, -0.12478785,  0.18145059,\n",
       "        -0.17601186, -0.13055786,  0.03992286, -0.0188641 ,  0.22759992,\n",
       "         0.06175035, -0.14629705, -0.13826896, -0.02528442, -0.17172842,\n",
       "        -0.17535965, -0.07244882, -0.08102465,  0.1431139 , -0.29003456,\n",
       "         0.0225786 ,  0.24995258, -0.12526722, -0.07571547,  0.18777286,\n",
       "        -0.03466861,  0.0795971 ,  0.03322953, -0.08802775, -0.2647813 ,\n",
       "        -0.05598499,  0.0081279 ], dtype=float32)>,\n",
       " <tf.Variable 'dense_layer_3_10/kernel:0' shape=(512, 10) dtype=float32, numpy=\n",
       " array([[ 0.07343385, -0.20936683, -0.13564128, ..., -0.04645929,\n",
       "          0.06373471,  0.0542744 ],\n",
       "        [ 0.14876957, -0.10673559,  0.03296777, ...,  0.0580303 ,\n",
       "         -0.2007752 , -0.14936125],\n",
       "        [ 0.11876978, -0.0456386 ,  0.12712537, ..., -0.17168553,\n",
       "          0.1190458 ,  0.01770383],\n",
       "        ...,\n",
       "        [ 0.0621538 ,  0.0908372 ,  0.09651135, ...,  0.0671711 ,\n",
       "         -0.11632586, -0.17248602],\n",
       "        [ 0.12575887, -0.13972175, -0.01502579, ...,  0.0884417 ,\n",
       "          0.08259977, -0.0957098 ],\n",
       "        [-0.05974828, -0.11584469, -0.11759046, ...,  0.12847964,\n",
       "         -0.04542731,  0.14559543]], dtype=float32)>,\n",
       " <tf.Variable 'dense_layer_3_10/bias:0' shape=(10,) dtype=float32, numpy=\n",
       " array([ 0.05232091, -0.13797596, -0.10062569, -0.04454173, -0.03266415,\n",
       "        -0.08204305, -0.12131526, -0.13926977,  0.39521766,  0.0778896 ],\n",
       "       dtype=float32)>]"
      ]
     },
     "execution_count": 109,
     "metadata": {
      "tags": []
     },
     "output_type": "execute_result"
    }
   ],
   "source": [
    "model_4.weights"
   ]
  },
  {
   "cell_type": "code",
   "execution_count": null,
   "metadata": {
    "colab": {
     "base_uri": "https://localhost:8080/",
     "height": 1000
    },
    "id": "MnrRfeyJkQTS",
    "outputId": "baf974c0-7cfd-4f68-8417-bf84cfb662db"
   },
   "outputs": [
    {
     "data": {
      "text/plain": [
       "{'build_input_shape': TensorShape([None, 784]),\n",
       " 'layers': [{'class_name': 'Dense',\n",
       "   'config': {'activation': 'relu',\n",
       "    'activity_regularizer': None,\n",
       "    'batch_input_shape': (None, 784),\n",
       "    'bias_constraint': None,\n",
       "    'bias_initializer': {'class_name': 'Zeros', 'config': {}},\n",
       "    'bias_regularizer': None,\n",
       "    'dtype': 'float32',\n",
       "    'kernel_constraint': None,\n",
       "    'kernel_initializer': {'class_name': 'GlorotUniform',\n",
       "     'config': {'seed': None}},\n",
       "    'kernel_regularizer': None,\n",
       "    'name': 'dense_layer',\n",
       "    'trainable': True,\n",
       "    'units': 512,\n",
       "    'use_bias': True}},\n",
       "  {'class_name': 'Dropout',\n",
       "   'config': {'dtype': 'float32',\n",
       "    'name': 'dropout_18',\n",
       "    'noise_shape': None,\n",
       "    'rate': 0.3,\n",
       "    'seed': None,\n",
       "    'trainable': True}},\n",
       "  {'class_name': 'Dense',\n",
       "   'config': {'activation': 'relu',\n",
       "    'activity_regularizer': None,\n",
       "    'bias_constraint': None,\n",
       "    'bias_initializer': {'class_name': 'Zeros', 'config': {}},\n",
       "    'bias_regularizer': None,\n",
       "    'dtype': 'float32',\n",
       "    'kernel_constraint': None,\n",
       "    'kernel_initializer': {'class_name': 'GlorotUniform',\n",
       "     'config': {'seed': None}},\n",
       "    'kernel_regularizer': None,\n",
       "    'name': 'dense_layer_2',\n",
       "    'trainable': True,\n",
       "    'units': 512,\n",
       "    'use_bias': True}},\n",
       "  {'class_name': 'Dropout',\n",
       "   'config': {'dtype': 'float32',\n",
       "    'name': 'dropout_19',\n",
       "    'noise_shape': None,\n",
       "    'rate': 0.3,\n",
       "    'seed': None,\n",
       "    'trainable': True}},\n",
       "  {'class_name': 'Dense',\n",
       "   'config': {'activation': 'softmax',\n",
       "    'activity_regularizer': None,\n",
       "    'bias_constraint': None,\n",
       "    'bias_initializer': {'class_name': 'Zeros', 'config': {}},\n",
       "    'bias_regularizer': None,\n",
       "    'dtype': 'float32',\n",
       "    'kernel_constraint': None,\n",
       "    'kernel_initializer': {'class_name': 'GlorotUniform',\n",
       "     'config': {'seed': None}},\n",
       "    'kernel_regularizer': None,\n",
       "    'name': 'dense_layer_3',\n",
       "    'trainable': True,\n",
       "    'units': 10,\n",
       "    'use_bias': True}}],\n",
       " 'name': 'sequential_12'}"
      ]
     },
     "execution_count": 110,
     "metadata": {
      "tags": []
     },
     "output_type": "execute_result"
    }
   ],
   "source": [
    "model_4.get_config()"
   ]
  },
  {
   "cell_type": "markdown",
   "metadata": {
    "id": "AFbx6XHI0KyQ"
   },
   "source": [
    "###Improved Model 5: Manipulating the batch size"
   ]
  },
  {
   "cell_type": "code",
   "execution_count": null,
   "metadata": {
    "id": "WPaQm2XY0KyV"
   },
   "outputs": [],
   "source": [
    "#Most common type of model is a stack of layers\n",
    "model_5 = tf.keras.Sequential()\n",
    "N_hidden = 256\n",
    "# Adds a densely-connected layer with 64 units to the model:\n",
    "model_5.add(Dense(N_hidden, name='dense_layer', input_shape=(784,), activation = 'relu'))\n",
    "# Now the model will take as input arrays of shape (*, 784)# and output arrays of shape (*, 64)\n",
    "model_5.add(Dropout(0.3))\n",
    "# Adding another dense layer:\n",
    "model_5.add(Dense(N_hidden, name='dense_layer_2', activation='relu'))\n",
    "model_5.add(Dropout(0.3))\n",
    "# After the first layer, you don't need to specify\u000b",
    "# the size of the input anymore:\n",
    "# Add an output layer with 10 output units (10 different classes):\n",
    "model_5.add(Dense(10, name='dense_layer_3', activation = 'softmax'))\n"
   ]
  },
  {
   "cell_type": "code",
   "execution_count": null,
   "metadata": {
    "id": "UWFjgHFj0Kyg"
   },
   "outputs": [],
   "source": [
    "# Compiling the model.\n",
    "model_5.compile(optimizer='Adam', \n",
    "              loss='categorical_crossentropy',\n",
    "              metrics=['accuracy'])"
   ]
  },
  {
   "cell_type": "code",
   "execution_count": null,
   "metadata": {
    "colab": {
     "base_uri": "https://localhost:8080/",
     "height": 1000
    },
    "id": "opXV9TbQ0Kyl",
    "outputId": "64586771-3dc9-480b-b142-2204ebc13dc2"
   },
   "outputs": [
    {
     "name": "stdout",
     "output_type": "stream",
     "text": [
      "Epoch 1/70\n",
      "375/375 [==============================] - 3s 8ms/step - loss: 0.2836 - accuracy: 0.8939 - val_loss: 0.3236 - val_accuracy: 0.8849\n",
      "Epoch 2/70\n",
      "375/375 [==============================] - 3s 8ms/step - loss: 0.2572 - accuracy: 0.9029 - val_loss: 0.3160 - val_accuracy: 0.8852\n",
      "Epoch 3/70\n",
      "375/375 [==============================] - 3s 8ms/step - loss: 0.2365 - accuracy: 0.9098 - val_loss: 0.3149 - val_accuracy: 0.8942\n",
      "Epoch 4/70\n",
      "375/375 [==============================] - 3s 8ms/step - loss: 0.2296 - accuracy: 0.9121 - val_loss: 0.3112 - val_accuracy: 0.8926\n",
      "Epoch 5/70\n",
      "375/375 [==============================] - 3s 8ms/step - loss: 0.2248 - accuracy: 0.9156 - val_loss: 0.3083 - val_accuracy: 0.8961\n",
      "Epoch 6/70\n",
      "375/375 [==============================] - 3s 8ms/step - loss: 0.2198 - accuracy: 0.9160 - val_loss: 0.3131 - val_accuracy: 0.8905\n",
      "Epoch 7/70\n",
      "375/375 [==============================] - 3s 8ms/step - loss: 0.2156 - accuracy: 0.9176 - val_loss: 0.3078 - val_accuracy: 0.8939\n",
      "Epoch 8/70\n",
      "375/375 [==============================] - 3s 8ms/step - loss: 0.2097 - accuracy: 0.9190 - val_loss: 0.3175 - val_accuracy: 0.8937\n",
      "Epoch 9/70\n",
      "375/375 [==============================] - 3s 8ms/step - loss: 0.2066 - accuracy: 0.9213 - val_loss: 0.3203 - val_accuracy: 0.8948\n",
      "Epoch 10/70\n",
      "375/375 [==============================] - 3s 8ms/step - loss: 0.2041 - accuracy: 0.9215 - val_loss: 0.3200 - val_accuracy: 0.8947\n",
      "Epoch 11/70\n",
      "375/375 [==============================] - 3s 8ms/step - loss: 0.2025 - accuracy: 0.9233 - val_loss: 0.3075 - val_accuracy: 0.8974\n",
      "Epoch 12/70\n",
      "375/375 [==============================] - 3s 8ms/step - loss: 0.2008 - accuracy: 0.9241 - val_loss: 0.3133 - val_accuracy: 0.8948\n",
      "Epoch 13/70\n",
      "375/375 [==============================] - 3s 8ms/step - loss: 0.1983 - accuracy: 0.9247 - val_loss: 0.3151 - val_accuracy: 0.8978\n",
      "Epoch 14/70\n",
      "375/375 [==============================] - 3s 8ms/step - loss: 0.1952 - accuracy: 0.9262 - val_loss: 0.3141 - val_accuracy: 0.8956\n",
      "Epoch 15/70\n",
      "375/375 [==============================] - 3s 8ms/step - loss: 0.1960 - accuracy: 0.9268 - val_loss: 0.3194 - val_accuracy: 0.8947\n",
      "Epoch 16/70\n",
      "375/375 [==============================] - 3s 8ms/step - loss: 0.1918 - accuracy: 0.9263 - val_loss: 0.3062 - val_accuracy: 0.8989\n",
      "Epoch 17/70\n",
      "375/375 [==============================] - 3s 8ms/step - loss: 0.1922 - accuracy: 0.9273 - val_loss: 0.3213 - val_accuracy: 0.8973\n",
      "Epoch 18/70\n",
      "375/375 [==============================] - 3s 8ms/step - loss: 0.1888 - accuracy: 0.9276 - val_loss: 0.3286 - val_accuracy: 0.8943\n",
      "Epoch 19/70\n",
      "375/375 [==============================] - 3s 8ms/step - loss: 0.1884 - accuracy: 0.9272 - val_loss: 0.3238 - val_accuracy: 0.8963\n",
      "Epoch 20/70\n",
      "375/375 [==============================] - 3s 8ms/step - loss: 0.1873 - accuracy: 0.9268 - val_loss: 0.3216 - val_accuracy: 0.8962\n",
      "Epoch 21/70\n",
      "375/375 [==============================] - 3s 9ms/step - loss: 0.1838 - accuracy: 0.9296 - val_loss: 0.3216 - val_accuracy: 0.8983\n",
      "Epoch 22/70\n",
      "375/375 [==============================] - 3s 9ms/step - loss: 0.1830 - accuracy: 0.9298 - val_loss: 0.3253 - val_accuracy: 0.8974\n",
      "Epoch 23/70\n",
      "375/375 [==============================] - 3s 8ms/step - loss: 0.1834 - accuracy: 0.9304 - val_loss: 0.3189 - val_accuracy: 0.8993\n",
      "Epoch 24/70\n",
      "375/375 [==============================] - 3s 8ms/step - loss: 0.1792 - accuracy: 0.9321 - val_loss: 0.3220 - val_accuracy: 0.9003\n",
      "Epoch 25/70\n",
      "375/375 [==============================] - 3s 8ms/step - loss: 0.1812 - accuracy: 0.9302 - val_loss: 0.3212 - val_accuracy: 0.8999\n",
      "Epoch 26/70\n",
      "375/375 [==============================] - 3s 8ms/step - loss: 0.1791 - accuracy: 0.9327 - val_loss: 0.3206 - val_accuracy: 0.8981\n",
      "Epoch 27/70\n",
      "375/375 [==============================] - 3s 8ms/step - loss: 0.1774 - accuracy: 0.9327 - val_loss: 0.3335 - val_accuracy: 0.8984\n",
      "Epoch 28/70\n",
      "375/375 [==============================] - 3s 8ms/step - loss: 0.1729 - accuracy: 0.9350 - val_loss: 0.3287 - val_accuracy: 0.8980\n",
      "Epoch 29/70\n",
      "375/375 [==============================] - 3s 8ms/step - loss: 0.1735 - accuracy: 0.9331 - val_loss: 0.3308 - val_accuracy: 0.8944\n",
      "Epoch 30/70\n",
      "375/375 [==============================] - 3s 8ms/step - loss: 0.1709 - accuracy: 0.9357 - val_loss: 0.3307 - val_accuracy: 0.8997\n",
      "Epoch 31/70\n",
      "375/375 [==============================] - 3s 8ms/step - loss: 0.1707 - accuracy: 0.9350 - val_loss: 0.3263 - val_accuracy: 0.8956\n",
      "Epoch 32/70\n",
      "375/375 [==============================] - 3s 8ms/step - loss: 0.1710 - accuracy: 0.9360 - val_loss: 0.3333 - val_accuracy: 0.8959\n",
      "Epoch 33/70\n",
      "375/375 [==============================] - 3s 8ms/step - loss: 0.1729 - accuracy: 0.9350 - val_loss: 0.3445 - val_accuracy: 0.8936\n",
      "Epoch 34/70\n",
      "375/375 [==============================] - 3s 8ms/step - loss: 0.1713 - accuracy: 0.9359 - val_loss: 0.3252 - val_accuracy: 0.9005\n",
      "Epoch 35/70\n",
      "375/375 [==============================] - 3s 8ms/step - loss: 0.1661 - accuracy: 0.9364 - val_loss: 0.3271 - val_accuracy: 0.8974\n",
      "Epoch 36/70\n",
      "375/375 [==============================] - 3s 8ms/step - loss: 0.1645 - accuracy: 0.9368 - val_loss: 0.3406 - val_accuracy: 0.8918\n",
      "Epoch 37/70\n",
      "375/375 [==============================] - 3s 8ms/step - loss: 0.1666 - accuracy: 0.9360 - val_loss: 0.3381 - val_accuracy: 0.8988\n",
      "Epoch 38/70\n",
      "375/375 [==============================] - 3s 8ms/step - loss: 0.1622 - accuracy: 0.9381 - val_loss: 0.3298 - val_accuracy: 0.8997\n",
      "Epoch 39/70\n",
      "375/375 [==============================] - 3s 8ms/step - loss: 0.1660 - accuracy: 0.9375 - val_loss: 0.3400 - val_accuracy: 0.8972\n",
      "Epoch 40/70\n",
      "375/375 [==============================] - 3s 8ms/step - loss: 0.1594 - accuracy: 0.9395 - val_loss: 0.3523 - val_accuracy: 0.8936\n",
      "Epoch 41/70\n",
      "375/375 [==============================] - 3s 8ms/step - loss: 0.1608 - accuracy: 0.9389 - val_loss: 0.3336 - val_accuracy: 0.8992\n",
      "Epoch 42/70\n",
      "375/375 [==============================] - 3s 8ms/step - loss: 0.1586 - accuracy: 0.9398 - val_loss: 0.3425 - val_accuracy: 0.8992\n",
      "Epoch 43/70\n",
      "375/375 [==============================] - 3s 8ms/step - loss: 0.1576 - accuracy: 0.9407 - val_loss: 0.3401 - val_accuracy: 0.8967\n",
      "Epoch 44/70\n",
      "375/375 [==============================] - 3s 8ms/step - loss: 0.1604 - accuracy: 0.9399 - val_loss: 0.3411 - val_accuracy: 0.8977\n",
      "Epoch 45/70\n",
      "375/375 [==============================] - 3s 8ms/step - loss: 0.1517 - accuracy: 0.9415 - val_loss: 0.3443 - val_accuracy: 0.8978\n",
      "Epoch 46/70\n",
      "375/375 [==============================] - 3s 8ms/step - loss: 0.1589 - accuracy: 0.9390 - val_loss: 0.3445 - val_accuracy: 0.8967\n",
      "Epoch 47/70\n",
      "375/375 [==============================] - 3s 8ms/step - loss: 0.1516 - accuracy: 0.9426 - val_loss: 0.3406 - val_accuracy: 0.9007\n",
      "Epoch 48/70\n",
      "375/375 [==============================] - 3s 8ms/step - loss: 0.1547 - accuracy: 0.9419 - val_loss: 0.3367 - val_accuracy: 0.8987\n",
      "Epoch 49/70\n",
      "375/375 [==============================] - 3s 8ms/step - loss: 0.1567 - accuracy: 0.9406 - val_loss: 0.3448 - val_accuracy: 0.8978\n",
      "Epoch 50/70\n",
      "375/375 [==============================] - 3s 8ms/step - loss: 0.1508 - accuracy: 0.9429 - val_loss: 0.3393 - val_accuracy: 0.8988\n",
      "Epoch 51/70\n",
      "375/375 [==============================] - 3s 8ms/step - loss: 0.1442 - accuracy: 0.9454 - val_loss: 0.3455 - val_accuracy: 0.8982\n",
      "Epoch 52/70\n",
      "375/375 [==============================] - 3s 8ms/step - loss: 0.1490 - accuracy: 0.9424 - val_loss: 0.3557 - val_accuracy: 0.8975\n",
      "Epoch 53/70\n",
      "375/375 [==============================] - 3s 8ms/step - loss: 0.1469 - accuracy: 0.9436 - val_loss: 0.3499 - val_accuracy: 0.9001\n",
      "Epoch 54/70\n",
      "375/375 [==============================] - 3s 8ms/step - loss: 0.1481 - accuracy: 0.9435 - val_loss: 0.3451 - val_accuracy: 0.8964\n",
      "Epoch 55/70\n",
      "375/375 [==============================] - 3s 8ms/step - loss: 0.1439 - accuracy: 0.9451 - val_loss: 0.3495 - val_accuracy: 0.8991\n",
      "Epoch 56/70\n",
      "375/375 [==============================] - 3s 8ms/step - loss: 0.1451 - accuracy: 0.9448 - val_loss: 0.3444 - val_accuracy: 0.8988\n",
      "Epoch 57/70\n",
      "375/375 [==============================] - 3s 8ms/step - loss: 0.1398 - accuracy: 0.9473 - val_loss: 0.3497 - val_accuracy: 0.9015\n",
      "Epoch 58/70\n",
      "375/375 [==============================] - 3s 8ms/step - loss: 0.1381 - accuracy: 0.9483 - val_loss: 0.3576 - val_accuracy: 0.9015\n",
      "Epoch 59/70\n",
      "375/375 [==============================] - 3s 8ms/step - loss: 0.1465 - accuracy: 0.9447 - val_loss: 0.3480 - val_accuracy: 0.8979\n",
      "Epoch 60/70\n",
      "375/375 [==============================] - 3s 8ms/step - loss: 0.1392 - accuracy: 0.9479 - val_loss: 0.3545 - val_accuracy: 0.9011\n",
      "Epoch 61/70\n",
      "375/375 [==============================] - 3s 8ms/step - loss: 0.1398 - accuracy: 0.9473 - val_loss: 0.3524 - val_accuracy: 0.8992\n",
      "Epoch 62/70\n",
      "375/375 [==============================] - 3s 8ms/step - loss: 0.1386 - accuracy: 0.9468 - val_loss: 0.3497 - val_accuracy: 0.8989\n",
      "Epoch 63/70\n",
      "375/375 [==============================] - 3s 8ms/step - loss: 0.1362 - accuracy: 0.9483 - val_loss: 0.3668 - val_accuracy: 0.8980\n",
      "Epoch 64/70\n",
      "375/375 [==============================] - 3s 8ms/step - loss: 0.1395 - accuracy: 0.9476 - val_loss: 0.3619 - val_accuracy: 0.8979\n",
      "Epoch 65/70\n",
      "375/375 [==============================] - 3s 8ms/step - loss: 0.1401 - accuracy: 0.9466 - val_loss: 0.3420 - val_accuracy: 0.9025\n",
      "Epoch 66/70\n",
      "375/375 [==============================] - 3s 8ms/step - loss: 0.1371 - accuracy: 0.9485 - val_loss: 0.3538 - val_accuracy: 0.9000\n",
      "Epoch 67/70\n",
      "375/375 [==============================] - 3s 8ms/step - loss: 0.1343 - accuracy: 0.9480 - val_loss: 0.3782 - val_accuracy: 0.8981\n",
      "Epoch 68/70\n",
      "375/375 [==============================] - 3s 8ms/step - loss: 0.1338 - accuracy: 0.9493 - val_loss: 0.3580 - val_accuracy: 0.9018\n",
      "Epoch 69/70\n",
      "375/375 [==============================] - 3s 8ms/step - loss: 0.1305 - accuracy: 0.9501 - val_loss: 0.3555 - val_accuracy: 0.8992\n",
      "Epoch 70/70\n",
      "375/375 [==============================] - 3s 8ms/step - loss: 0.1342 - accuracy: 0.9492 - val_loss: 0.3672 - val_accuracy: 0.8998\n"
     ]
    }
   ],
   "source": [
    "# Training the model. \n",
    "training = model_5.fit(X_train, Y_train, batch_size=128, epochs=70, validation_split=0.2) \n"
   ]
  },
  {
   "cell_type": "code",
   "execution_count": null,
   "metadata": {
    "colab": {
     "base_uri": "https://localhost:8080/",
     "height": 590
    },
    "id": "UHMf1HAskp9n",
    "outputId": "1502baab-d1c1-4a38-8519-09872b466cf8"
   },
   "outputs": [
    {
     "name": "stdout",
     "output_type": "stream",
     "text": [
      "dict_keys(['loss', 'accuracy', 'val_loss', 'val_accuracy'])\n"
     ]
    },
    {
     "data": {
      "image/png": "[encoded data removed]",
      "text/plain": [
       "<Figure size 432x288 with 1 Axes>"
      ]
     },
     "metadata": {
      "needs_background": "light",
      "tags": []
     },
     "output_type": "display_data"
    },
    {
     "data": {
      "image/png": "[encoded data removed]",
      "text/plain": [
       "<Figure size 432x288 with 1 Axes>"
      ]
     },
     "metadata": {
      "needs_background": "light",
      "tags": []
     },
     "output_type": "display_data"
    }
   ],
   "source": [
    "import matplotlib.pyplot as plt\n",
    "%matplotlib inline\n",
    "# list all data in training\n",
    "print(training.history.keys())\n",
    "# summarize training for accuracy\n",
    "plt.plot(training.history['accuracy'])\n",
    "plt.plot(training.history['val_accuracy'])\n",
    "plt.title('model accuracy')\n",
    "plt.ylabel('accuracy')\n",
    "plt.xlabel('epoch')\n",
    "plt.legend(['train', 'test'], loc='upper left')\n",
    "plt.show()\n",
    "# summarize traning for loss\n",
    "plt.plot(training.history['loss'])\n",
    "plt.plot(training.history['val_loss'])\n",
    "plt.title('model loss')\n",
    "plt.ylabel('loss')\n",
    "plt.xlabel('epoch')\n",
    "plt.legend(['train', 'test'], loc='upper left')\n",
    "plt.show()"
   ]
  },
  {
   "cell_type": "code",
   "execution_count": null,
   "metadata": {
    "colab": {
     "base_uri": "https://localhost:8080/",
     "height": 51
    },
    "id": "e4kmSKEn0Kyv",
    "outputId": "f59bd81a-7171-42c5-e0a0-14b913d4b7ff"
   },
   "outputs": [
    {
     "name": "stdout",
     "output_type": "stream",
     "text": [
      "313/313 [==============================] - 1s 2ms/step - loss: 0.4094 - accuracy: 0.8947\n",
      "Test accuracy: 0.8946999907493591\n"
     ]
    }
   ],
   "source": [
    "#evaluate the model\n",
    "test_loss, test_acc = model_5.evaluate(X_test, Y_test)\n",
    "print('Test accuracy:', test_acc)"
   ]
  },
  {
   "cell_type": "code",
   "execution_count": null,
   "metadata": {
    "colab": {
     "base_uri": "https://localhost:8080/",
     "height": 34
    },
    "id": "LVr1ZMvnkp92",
    "outputId": "3772b6ff-f1e9-4af9-fdbc-6b6db48861ba"
   },
   "outputs": [
    {
     "data": {
      "text/plain": [
       "<bound method Network.summary of <tensorflow.python.keras.engine.sequential.Sequential object at 0x7ffa9bc2f320>>"
      ]
     },
     "execution_count": 51,
     "metadata": {
      "tags": []
     },
     "output_type": "execute_result"
    }
   ],
   "source": [
    "model_5.summary"
   ]
  },
  {
   "cell_type": "code",
   "execution_count": null,
   "metadata": {
    "colab": {
     "base_uri": "https://localhost:8080/",
     "height": 1000
    },
    "id": "j76rvRmxkp-C",
    "outputId": "6e615209-d1fe-4582-86e0-d7a68d866a01"
   },
   "outputs": [
    {
     "data": {
      "text/plain": [
       "[<tf.Variable 'dense_layer_7/kernel:0' shape=(784, 512) dtype=float32, numpy=\n",
       " array([[-0.0634052 ,  0.05583071, -0.02546262, ...,  0.00274961,\n",
       "          0.00298132, -0.06102526],\n",
       "        [ 0.02100741,  0.0560446 , -0.06592333, ...,  0.02014928,\n",
       "         -0.06059694, -0.00232304],\n",
       "        [-0.0110484 , -0.05735963, -0.04017337, ...,  0.04094408,\n",
       "         -0.05134601, -0.05450907],\n",
       "        ...,\n",
       "        [-0.05346987,  0.05107909, -0.04738276, ..., -0.01198199,\n",
       "          0.01172557,  0.00727127],\n",
       "        [ 0.04084275, -0.05939313, -0.03691344, ...,  0.04278713,\n",
       "          0.04301028, -0.03635497],\n",
       "        [-0.03174385,  0.02921092,  0.02147333, ...,  0.01470637,\n",
       "          0.03640424, -0.04842476]], dtype=float32)>,\n",
       " <tf.Variable 'dense_layer_7/bias:0' shape=(512,) dtype=float32, numpy=\n",
       " array([-4.83083785e-01,  1.08741231e-01, -2.22454026e-01, -4.15814281e-01,\n",
       "        -1.87059343e-01, -1.19175941e-01, -2.90526420e-01, -2.54414618e-01,\n",
       "        -1.71343103e-01,  2.85642684e-01, -7.67641887e-02, -1.02716617e-01,\n",
       "         6.88035600e-03, -2.02073976e-01, -3.69045615e-01, -2.48833716e-01,\n",
       "        -1.05139114e-01, -2.29244500e-01, -4.37476546e-01, -6.11795560e-02,\n",
       "        -2.44988471e-01, -2.58536816e-01, -2.84922510e-01, -4.30280328e-01,\n",
       "        -3.25668544e-01, -9.87468939e-03,  2.75561418e-02,  1.50783509e-01,\n",
       "        -4.33745444e-01, -4.67394553e-02, -3.46135408e-01,  6.78295419e-02,\n",
       "         7.60544697e-03, -2.13563114e-01, -5.48810661e-02, -6.12312555e-02,\n",
       "         1.05165113e-02, -3.25962275e-01,  6.58852533e-02, -2.10133016e-01,\n",
       "        -5.11553049e-01,  3.01801898e-02, -3.54850739e-02, -2.61461228e-01,\n",
       "        -1.69398457e-01,  3.39182988e-02, -1.47435978e-01, -1.73643723e-01,\n",
       "         1.84060037e-01, -1.53207794e-01, -1.11177288e-01, -1.69310957e-01,\n",
       "        -6.94785938e-02, -4.36441958e-01, -2.69596875e-02, -1.56217515e-01,\n",
       "         1.42125040e-01,  1.82338819e-01, -5.48501834e-02, -3.31208050e-01,\n",
       "        -5.32370269e-01, -2.29587406e-01, -1.65764526e-01, -4.13856000e-01,\n",
       "        -1.80167481e-01, -6.22050953e-04, -3.94806951e-01, -2.83275582e-02,\n",
       "        -4.85750705e-01, -3.11173946e-01, -2.84164816e-01, -1.32366493e-01,\n",
       "         2.43791595e-01,  6.17930852e-02, -5.42833388e-01, -6.73320293e-01,\n",
       "        -7.02828825e-01, -1.25610128e-01, -2.23357737e-01, -9.27048028e-02,\n",
       "        -2.22542435e-01, -6.04371190e-01,  6.00263625e-02,  1.00456037e-01,\n",
       "        -4.02862310e-01, -1.65781956e-02, -3.25249583e-01, -1.92723155e-01,\n",
       "         3.32407095e-02, -1.30280092e-01,  1.68044895e-01, -1.48749843e-01,\n",
       "        -3.34831119e-01, -1.05607599e-01, -4.09331024e-01, -4.13390964e-01,\n",
       "        -4.58270937e-01, -2.00851187e-01, -7.30147436e-02,  5.80824167e-02,\n",
       "        -2.83721626e-01,  1.91824902e-02,  8.85518640e-02, -2.45935260e-03,\n",
       "        -5.12741208e-02, -5.79737388e-02,  9.91182402e-02, -6.48879074e-03,\n",
       "        -2.89874554e-01, -2.62317955e-01, -1.04558676e-01, -4.53138381e-01,\n",
       "        -3.49777311e-01,  1.10910147e-01, -6.61643082e-03, -8.31265450e-02,\n",
       "        -4.62574780e-01, -2.19862580e-01, -2.12296844e-01, -2.36987025e-01,\n",
       "        -1.53196678e-01, -2.14748204e-01,  3.95009577e-01, -2.84830749e-01,\n",
       "        -3.95299852e-01,  1.13343168e-02, -2.20832318e-01,  2.01516673e-01,\n",
       "         3.20931524e-01, -1.57515541e-01,  4.44574982e-01, -6.11134350e-01,\n",
       "        -2.06987709e-01,  6.69633746e-02, -3.74755383e-01, -6.07687831e-01,\n",
       "        -2.15776965e-01, -4.53644007e-01, -7.45265782e-01, -5.41035891e-01,\n",
       "         2.44415343e-01,  7.53769577e-02, -2.48184741e-01, -2.36076191e-01,\n",
       "        -6.28737628e-01, -1.27128705e-01, -2.35986561e-01, -2.10452408e-01,\n",
       "        -5.92015088e-01, -2.23636508e-01, -8.19678828e-02, -2.42109716e-01,\n",
       "         5.14618643e-02,  1.72731414e-01,  9.99754965e-02, -2.86544651e-01,\n",
       "        -9.66233760e-02, -5.23915112e-01, -3.27712089e-01, -3.00025553e-01,\n",
       "         2.02042401e-01, -2.45137095e-01, -2.80441731e-01, -4.70178872e-01,\n",
       "        -3.47019851e-01, -9.96309817e-02, -2.31977418e-01, -1.23924814e-01,\n",
       "         3.50509077e-01,  8.80593061e-02, -4.41534184e-02, -5.76235652e-01,\n",
       "        -1.53065324e-01, -5.41150749e-01,  1.07748233e-01,  4.12410609e-02,\n",
       "        -4.96960014e-01, -7.81216919e-02, -4.36911643e-01, -1.05323792e-01,\n",
       "         2.15570498e-02, -4.36772197e-01, -1.40495196e-01, -1.81358129e-01,\n",
       "         1.22533642e-01,  2.38192379e-01, -1.86450109e-01,  1.54904842e-01,\n",
       "        -1.81236073e-01, -8.01832154e-02,  1.63424775e-01, -2.74857134e-01,\n",
       "        -6.08324446e-02, -3.10800523e-01, -3.66908282e-01,  1.35904580e-01,\n",
       "        -2.15052381e-01, -4.14256990e-01, -1.86103076e-01,  3.41053233e-02,\n",
       "        -4.71776664e-01, -1.58275262e-01, -4.88504879e-02, -1.36853084e-01,\n",
       "        -3.15693289e-01,  3.36798280e-02,  2.80614555e-01, -4.52679507e-02,\n",
       "         1.76760122e-01, -1.08376607e-01, -1.59214556e-01, -3.04384232e-01,\n",
       "        -5.58161922e-02, -6.24907911e-02, -1.71284363e-01, -3.11203450e-01,\n",
       "        -1.57258511e-01,  2.37902910e-01, -1.26031697e-01, -3.71960431e-01,\n",
       "        -5.55627458e-02, -3.97233576e-01, -1.08115174e-01, -2.40925029e-01,\n",
       "        -2.52245396e-01, -4.01739806e-01, -8.24751556e-02, -5.22386909e-01,\n",
       "        -1.82169259e-01, -6.69121146e-01, -2.01597378e-01, -4.41456884e-01,\n",
       "        -1.25201836e-01, -3.77411872e-01, -1.52617335e-01,  4.57549959e-01,\n",
       "        -3.55523407e-01, -1.47738501e-01, -3.67607713e-01, -3.09775829e-01,\n",
       "         5.61637059e-03, -2.18218416e-01, -3.39918554e-01, -1.99052125e-01,\n",
       "        -1.87575221e-01, -4.53610159e-03, -1.05634019e-01, -2.80405790e-01,\n",
       "        -1.11814618e-01, -1.38864636e-01, -1.11155003e-01, -4.50214684e-01,\n",
       "         8.91244039e-02,  7.08653927e-02, -3.30015451e-01,  7.32012615e-02,\n",
       "        -1.02834091e-01, -3.22230488e-01, -2.74978369e-01, -1.37204409e-01,\n",
       "        -1.58120289e-01, -9.68007073e-02, -3.06229085e-01, -6.78023472e-02,\n",
       "        -2.89585352e-01, -2.37170458e-02, -5.58500439e-02, -2.51083404e-01,\n",
       "        -1.57411590e-01, -4.85596627e-01,  6.47662953e-02, -2.12897539e-01,\n",
       "        -2.64007837e-01,  1.49410889e-01,  8.99417624e-02, -4.73942250e-01,\n",
       "         2.06311117e-03,  2.59092008e-03,  8.11675638e-02, -2.96992391e-01,\n",
       "         2.02463970e-01, -2.45001078e-01, -2.55516648e-01, -2.11531118e-01,\n",
       "        -2.48786174e-02, -2.24263877e-01, -2.62639284e-01, -8.90562236e-02,\n",
       "        -4.66608137e-01, -1.76512703e-01, -4.90585417e-01, -3.34309265e-02,\n",
       "        -4.85875905e-02, -2.69209474e-01,  1.43838152e-02,  1.49085850e-01,\n",
       "        -8.86320844e-02,  8.97917077e-02, -1.94009125e-01,  1.85353503e-01,\n",
       "        -2.04995900e-01, -1.69755742e-01, -5.04604280e-01,  2.33298495e-01,\n",
       "        -5.66743076e-01, -7.44068801e-01,  1.97315589e-01, -3.29336196e-01,\n",
       "         1.14091197e-02, -3.27782005e-01, -3.55993122e-01, -3.42002749e-01,\n",
       "        -7.34862452e-03, -6.69578433e-01, -1.85360061e-03, -8.26121271e-02,\n",
       "        -2.29415521e-01, -4.22381699e-01, -2.40533426e-01, -1.80698246e-01,\n",
       "        -2.45293081e-01, -7.99591467e-02, -5.50907612e-01, -4.16319817e-01,\n",
       "        -2.80896258e-02, -5.21519743e-02,  7.35479444e-02,  6.20069019e-02,\n",
       "        -1.19907461e-01, -4.56563644e-02,  4.71697450e-02,  1.79034863e-02,\n",
       "        -1.74281120e-01, -3.69987488e-01, -9.43800285e-02, -8.67823213e-02,\n",
       "        -1.29157826e-01, -1.75315201e-01,  3.20679247e-02,  5.18086962e-02,\n",
       "        -1.04225084e-01, -1.90929711e-01, -1.09612763e-01, -3.37114662e-01,\n",
       "        -3.45047712e-01, -1.50266722e-01, -3.22054714e-01, -5.21784499e-02,\n",
       "         7.18941493e-03, -2.12016761e-01,  2.71819770e-01, -7.80737028e-03,\n",
       "        -8.54766816e-02,  6.46874458e-02, -2.55967945e-01, -2.37664968e-01,\n",
       "        -8.67518336e-02, -1.86918199e-01, -2.87973940e-01, -1.21376455e-01,\n",
       "         6.35967776e-02, -3.50080520e-01, -7.72058964e-02, -2.00015575e-01,\n",
       "        -2.91673511e-01,  1.24827877e-01,  1.18145868e-02, -4.13771346e-02,\n",
       "        -5.40694818e-02,  3.15169752e-01, -3.73777151e-01, -2.10727051e-01,\n",
       "        -1.19648001e-04,  1.89111292e-01, -3.90434474e-01,  1.47822145e-02,\n",
       "        -7.90979415e-02,  5.72058670e-02, -4.17174995e-02,  2.87162978e-02,\n",
       "        -3.61980200e-01, -9.28452387e-02, -1.86450575e-02,  2.00256065e-01,\n",
       "         2.62835383e-01, -6.99986041e-01, -1.03351511e-01, -3.54764074e-01,\n",
       "        -2.95053199e-02,  2.46944457e-01, -9.54640210e-02,  1.74665421e-01,\n",
       "        -1.17475420e-01, -3.11416816e-02, -2.35764712e-01, -2.09522039e-01,\n",
       "         5.78924231e-02,  3.08448851e-01, -3.73591065e-01, -3.53193104e-01,\n",
       "        -7.46048689e-02,  4.53582499e-03,  2.16791406e-02, -1.99255854e-01,\n",
       "        -1.26092866e-01, -2.10155010e-01, -2.69268118e-02, -1.17643319e-01,\n",
       "        -4.18782562e-01, -1.46646872e-01, -4.66862798e-01, -3.96350771e-01,\n",
       "        -3.95540386e-01, -1.49131611e-01, -3.88203412e-01, -1.72835916e-01,\n",
       "        -6.00180626e-02,  7.21760541e-02, -3.63681972e-01,  1.90892175e-01,\n",
       "         3.19086105e-01, -1.69870015e-02, -2.15279177e-01, -5.39279699e-01,\n",
       "        -1.55050188e-01, -3.19499284e-01, -2.67777920e-01,  1.65889785e-01,\n",
       "        -1.85110644e-01, -2.39145577e-01, -1.56694382e-01,  4.69305106e-02,\n",
       "        -1.87349916e-02, -6.29340470e-01, -6.36980116e-01, -4.30944655e-03,\n",
       "         1.14860144e-02, -1.95131060e-02,  3.83723199e-01,  1.50772566e-02,\n",
       "        -3.01059633e-01, -1.96551196e-02, -1.24743253e-01, -1.04441896e-01,\n",
       "        -2.45038599e-01, -2.97326416e-01, -4.27177310e-01, -2.08253130e-01,\n",
       "         8.28548297e-02, -1.06196269e-01, -6.06902659e-01, -1.30796775e-01,\n",
       "         1.46823466e-01, -1.35162354e-01, -2.98897743e-01, -2.69672990e-01,\n",
       "        -3.64230067e-01, -2.22529948e-01, -4.83523160e-01, -1.89722031e-01,\n",
       "        -2.41851062e-01, -3.42870802e-01,  2.00236097e-01, -3.27888995e-01,\n",
       "        -4.80451792e-01, -6.50118589e-02, -7.78405666e-02,  3.21521312e-02,\n",
       "        -2.04698473e-01,  1.27014220e-01, -6.87643528e-01,  1.83349848e-01,\n",
       "        -3.44314426e-01, -1.98751226e-01, -1.82940869e-03, -1.53957352e-01,\n",
       "         1.32761477e-02,  4.42763455e-02,  1.01452224e-01,  3.13936658e-02,\n",
       "        -1.62637815e-01, -1.19279966e-01,  3.71696979e-01, -2.09429130e-01,\n",
       "         5.30039780e-02, -2.75735501e-02, -2.42185555e-02, -1.48084298e-01,\n",
       "        -2.02918068e-01, -3.00274819e-01, -3.47284712e-02, -1.55702651e-01,\n",
       "        -3.44202310e-01, -2.22400054e-01, -4.20193702e-01, -4.42775458e-01,\n",
       "        -4.36516076e-01,  1.40147105e-01, -1.88347593e-01,  1.94705233e-01,\n",
       "        -3.38797241e-01, -1.71663240e-01, -1.61047250e-01, -3.70424569e-01,\n",
       "        -1.46624446e-01, -3.91346544e-01, -2.57065266e-01, -1.85118377e-01,\n",
       "        -4.54720676e-01, -3.48417133e-01, -3.93607914e-01, -4.69944358e-01],\n",
       "       dtype=float32)>,\n",
       " <tf.Variable 'dense_layer_2_4/kernel:0' shape=(512, 512) dtype=float32, numpy=\n",
       " array([[ 0.02578   ,  0.08359049, -0.40839478, ..., -0.17724368,\n",
       "         -0.05818791, -0.42734197],\n",
       "        [-0.3948478 , -0.16254742,  0.48939693, ..., -0.44548878,\n",
       "          0.09655936, -0.34903157],\n",
       "        [ 0.09842577, -0.08043219, -0.01554997, ..., -0.16987295,\n",
       "         -0.00569859,  0.05149646],\n",
       "        ...,\n",
       "        [-0.68100315, -0.17175348, -0.11756092, ...,  0.41271982,\n",
       "          0.19663475,  0.11194671],\n",
       "        [-0.40637174, -0.55569893, -0.26640883, ..., -0.14585236,\n",
       "          0.22172715, -0.18641388],\n",
       "        [ 0.11996674,  0.06908616, -0.07769354, ..., -0.14561912,\n",
       "         -0.10870869, -0.22679117]], dtype=float32)>,\n",
       " <tf.Variable 'dense_layer_2_4/bias:0' shape=(512,) dtype=float32, numpy=\n",
       " array([-8.57976139e-01, -7.60705829e-01, -5.34114659e-01, -8.13397169e-01,\n",
       "        -9.34440672e-01, -3.42571884e-02, -1.57534719e-01, -9.96053219e-01,\n",
       "        -2.56873399e-01, -1.00753999e+00,  4.46893051e-02, -7.37551391e-01,\n",
       "        -9.97986972e-01, -2.58067012e-04, -7.11192071e-01, -9.98735309e-01,\n",
       "        -5.76532900e-01, -1.16395772e+00, -6.29704297e-01, -4.82508928e-01,\n",
       "        -2.92316556e-01, -2.06214279e-01, -2.64129877e-01, -3.62949550e-01,\n",
       "        -9.22950864e-01, -3.26784700e-01,  1.02029957e-01, -4.08730775e-01,\n",
       "        -4.28321064e-01, -2.93510020e-01, -3.58981282e-01, -1.60507262e+00,\n",
       "        -6.75100267e-01, -3.95144701e-01, -5.77072024e-01, -4.62641001e-01,\n",
       "        -6.98362947e-01, -3.18458617e-01, -3.50140452e-01, -2.93468058e-01,\n",
       "        -1.25361907e+00, -3.47059995e-01, -3.69057506e-01, -6.60351887e-02,\n",
       "        -1.13201523e+00, -5.69611430e-01, -4.31786716e-01, -7.73068309e-01,\n",
       "        -3.24171752e-01, -4.20531392e-01, -4.40524220e-01, -3.49577963e-01,\n",
       "        -3.50744762e-02, -1.48814392e+00, -5.54392099e-01, -5.09380341e-01,\n",
       "        -7.72905469e-01, -4.41873133e-01, -6.28739238e-01, -8.43377233e-01,\n",
       "        -1.60440933e-02, -7.64191747e-01, -6.41659796e-01,  2.34857183e-02,\n",
       "        -1.13672805e+00, -5.97641766e-01, -3.47190313e-02, -4.50197160e-01,\n",
       "        -6.64335251e-01, -3.10602695e-01, -1.19153774e+00, -8.30126107e-02,\n",
       "        -6.26248419e-01, -2.57166531e-02, -1.10600436e+00,  5.45888364e-01,\n",
       "        -7.38396645e-01, -6.20563984e-01, -4.75394636e-01, -3.52959365e-01,\n",
       "        -1.86853901e-01, -1.21056056e+00, -6.21229887e-01, -7.40708828e-01,\n",
       "        -4.76395339e-01, -5.47639787e-01, -1.14795983e+00, -8.69922280e-01,\n",
       "        -1.19501770e+00,  2.24735346e-02, -4.78594035e-01, -4.64280874e-01,\n",
       "        -9.89154994e-01, -1.06319892e+00, -1.37615517e-01, -8.45650911e-01,\n",
       "        -1.41438201e-01, -7.26237535e-01, -3.46928388e-01, -1.00439620e+00,\n",
       "        -1.29348576e+00, -1.00532675e+00, -1.21526551e+00, -9.71831799e-01,\n",
       "        -1.52439579e-01, -9.88974154e-01, -3.96495312e-01, -1.40025580e+00,\n",
       "        -1.96587041e-01, -6.81729734e-01, -6.46888614e-01,  1.90509204e-02,\n",
       "        -5.03196120e-01, -4.95156974e-01, -8.30125213e-01, -7.55357504e-01,\n",
       "        -4.03353125e-01, -8.09722364e-01, -1.04375007e-02, -7.67881930e-01,\n",
       "        -3.11222106e-01, -1.20699510e-01, -9.00429606e-01, -3.74417275e-01,\n",
       "        -9.62424040e-01, -1.18346763e+00, -5.60302019e-01, -2.69134939e-02,\n",
       "        -4.14745361e-01, -3.70680153e-01, -1.36785841e+00, -5.37698328e-01,\n",
       "        -7.95656443e-01, -4.81666833e-01, -7.29682028e-01, -5.36517575e-02,\n",
       "        -2.74791926e-01, -3.03727835e-01, -9.13931206e-02, -4.88392889e-01,\n",
       "        -8.43984544e-01, -4.18776900e-01,  2.09755898e-01, -9.73881930e-02,\n",
       "        -8.57692242e-01, -3.32329571e-01, -5.96789479e-01, -4.98142064e-01,\n",
       "        -7.77019680e-01, -9.23629105e-01, -1.37470424e+00, -6.04103327e-01,\n",
       "        -1.17476046e+00, -7.35343814e-01, -1.55824274e-01,  1.72114387e-01,\n",
       "        -2.25415528e-01, -5.29466942e-02, -6.78897381e-01, -9.21548307e-01,\n",
       "        -7.17589796e-01, -9.37238216e-01, -7.26160228e-01, -1.01658666e+00,\n",
       "        -3.96561950e-01, -1.66338515e+00,  5.10828793e-01,  1.06795184e-01,\n",
       "        -9.00991082e-01, -1.12099552e+00, -8.46547127e-01,  7.63183013e-02,\n",
       "        -6.12166822e-01, -1.46919981e-01, -1.30230248e+00, -5.45160234e-01,\n",
       "        -4.27658647e-01, -6.65182590e-01, -7.20847607e-01, -1.22854567e+00,\n",
       "        -1.57806098e+00, -1.57385898e+00, -1.04809499e+00, -6.78878486e-01,\n",
       "        -6.85089886e-01, -5.02626300e-01, -6.78729296e-01, -8.76413465e-01,\n",
       "        -1.14197515e-01, -6.43942416e-01, -8.66736293e-01, -3.56567889e-01,\n",
       "        -4.59576190e-01, -3.53675812e-01, -9.57536340e-01,  1.09121472e-01,\n",
       "        -1.20966375e+00, -7.28651106e-01, -9.34824169e-01, -5.04560292e-01,\n",
       "        -1.08779371e+00, -6.43622577e-02, -9.21348512e-01, -8.40526819e-01,\n",
       "        -1.19364619e+00, -2.57766068e-01, -5.24997652e-01, -2.78976023e-01,\n",
       "        -9.23707426e-01, -1.83000594e-01, -6.39228344e-01, -7.23113537e-01,\n",
       "        -9.67695892e-01, -9.09191430e-01, -9.48545635e-02, -8.17468464e-01,\n",
       "        -3.64279032e-01, -3.88323843e-01, -6.52475059e-01, -1.02510738e+00,\n",
       "        -3.98110986e-01, -4.09694552e-01, -1.17053890e+00, -1.19247663e+00,\n",
       "         2.50633769e-02,  5.57823837e-01, -5.67059398e-01, -8.99825618e-02,\n",
       "        -8.88400733e-01, -9.00778949e-01, -3.97582799e-01, -8.55253041e-01,\n",
       "         1.39999971e-01, -7.76082277e-01, -1.87392086e-01, -8.92088950e-01,\n",
       "        -9.12749112e-01, -5.30499481e-02, -9.55083191e-01, -2.14373350e-01,\n",
       "        -3.70075494e-01, -6.28391743e-01,  6.69991136e-01, -1.00801623e+00,\n",
       "        -1.45767426e+00, -6.98903382e-01, -1.22933447e+00, -1.30050808e-01,\n",
       "        -6.65355563e-01, -5.27487397e-01, -1.23668134e+00, -9.11211789e-01,\n",
       "         5.91497160e-02, -5.66019893e-01, -6.19113088e-01, -1.21705003e-01,\n",
       "        -8.58023822e-01, -9.74831164e-01, -1.55047154e+00, -1.07087088e+00,\n",
       "        -3.14039975e-01, -8.77554119e-01, -8.86075675e-01, -2.00524136e-01,\n",
       "        -6.88778758e-01, -7.05452383e-01, -1.23662889e+00, -6.25554144e-01,\n",
       "        -7.65183568e-01, -4.39241141e-01, -1.04394662e+00, -7.42931306e-01,\n",
       "        -1.22988379e+00, -6.50668740e-01, -2.47984082e-01, -1.04838920e+00,\n",
       "        -2.33571544e-01, -8.97952020e-01, -7.81394958e-01, -9.95347500e-01,\n",
       "         7.87454695e-02, -4.64264989e-01, -8.42995405e-01, -3.35584432e-01,\n",
       "        -4.01537806e-01, -1.07615896e-01, -1.13716328e+00, -1.33619025e-01,\n",
       "        -9.23972845e-01, -8.16337883e-01, -5.97061813e-01, -2.43397519e-01,\n",
       "        -8.53799522e-01, -1.33264303e+00,  6.87585399e-02, -3.95778596e-01,\n",
       "        -3.64106089e-01, -5.78514814e-01, -9.79946375e-01, -7.70657301e-01,\n",
       "        -9.21598017e-01, -7.46901333e-01,  8.22804403e-03, -4.59048331e-01,\n",
       "        -3.81850272e-01, -8.21832836e-01, -8.37929845e-01, -5.36166131e-01,\n",
       "        -2.63462573e-01,  2.37527922e-01, -8.71796310e-01, -3.70679140e-01,\n",
       "        -4.83544201e-01, -4.78760414e-02, -8.31655324e-01, -1.43067348e+00,\n",
       "        -3.73564839e-01,  1.66584149e-01, -5.94346702e-01, -7.69130290e-01,\n",
       "        -8.75861704e-01, -1.22385681e+00, -1.30520714e-02, -7.37678647e-01,\n",
       "        -7.20858946e-02, -8.22028100e-01, -6.69901729e-01, -6.62650689e-02,\n",
       "        -1.17179203e+00, -3.15461367e-01, -4.53236848e-01, -1.13187516e+00,\n",
       "        -8.50546062e-01, -1.41007388e+00, -6.73219979e-01,  3.56695235e-01,\n",
       "        -2.42381513e-01, -1.21213126e+00, -1.82569161e-01, -6.83421254e-01,\n",
       "        -1.06702960e+00, -8.21172774e-01, -1.83118033e+00, -9.69750822e-01,\n",
       "        -1.91013947e-01, -1.39219928e+00, -1.24863923e+00, -5.21255076e-01,\n",
       "        -9.62942660e-01, -8.68042231e-01, -8.80556285e-01, -9.92241263e-01,\n",
       "        -3.09190780e-01, -9.27135170e-01, -5.10124922e-01, -5.72540224e-01,\n",
       "        -9.51252580e-01, -7.04864979e-01, -1.13401198e+00, -7.80769825e-01,\n",
       "        -4.08159852e-01, -7.25179166e-02, -6.36537075e-01, -2.36443326e-01,\n",
       "        -8.60238791e-01, -4.71730679e-01, -2.74218619e-01, -1.08119428e+00,\n",
       "        -5.07347643e-01,  1.14653394e-01, -1.04622030e+00, -1.26248431e+00,\n",
       "        -8.68595064e-01, -2.74030417e-01, -5.31276882e-01, -5.59735894e-01,\n",
       "        -7.62392223e-01, -1.81354761e-01, -4.79900926e-01, -1.01106501e+00,\n",
       "        -7.39279091e-01, -7.70269513e-01, -1.15632796e+00, -8.53103936e-01,\n",
       "        -1.01675022e+00, -7.26225376e-01, -3.22599441e-01, -9.17895615e-01,\n",
       "        -8.76874626e-01, -5.39736748e-01, -1.02653265e+00, -9.48519111e-02,\n",
       "         3.49878073e-02, -2.79406160e-01, -5.28815866e-01, -2.35482246e-01,\n",
       "        -6.08958006e-01, -5.35087645e-01, -2.76143581e-01, -9.00417387e-01,\n",
       "        -1.46229672e+00, -1.10502017e+00, -8.93530130e-01, -5.41613519e-01,\n",
       "        -7.05889285e-01, -1.37579769e-01, -7.07762063e-01, -1.51976514e+00,\n",
       "        -8.45964551e-01, -1.72493446e+00, -9.09625351e-01, -8.29841018e-01,\n",
       "        -2.23340243e-01, -8.77360761e-01, -2.19709828e-01, -6.69477820e-01,\n",
       "        -1.39238846e+00,  1.67009830e-01, -7.92661726e-01, -7.45624661e-01,\n",
       "        -5.29123783e-01, -5.37553847e-01, -5.84329784e-01,  3.72304060e-02,\n",
       "        -6.96147799e-01, -8.13128471e-01, -9.29515958e-01, -1.31509018e+00,\n",
       "        -7.69696116e-01, -1.16886556e+00, -1.05423570e+00, -4.90970939e-01,\n",
       "        -4.62978244e-01, -6.96966410e-01, -4.72118646e-01, -6.25267744e-01,\n",
       "        -5.50646901e-01, -4.70498890e-01, -6.13482654e-01, -4.32966828e-01,\n",
       "        -1.22508931e+00, -6.57085419e-01, -5.66086233e-01, -7.85320938e-01,\n",
       "        -7.62648404e-01, -8.94665480e-01, -1.17999800e-01, -9.58767235e-01,\n",
       "         5.13957925e-02, -9.54611123e-01, -1.02843738e+00, -5.05268574e-01,\n",
       "         3.52483064e-01, -1.82790816e-01, -9.97808516e-01, -1.49311662e-01,\n",
       "        -6.01854861e-01, -6.16555393e-01, -5.33083260e-01, -7.04925776e-01,\n",
       "        -8.34363699e-01, -1.38072288e+00, -6.35704473e-02, -5.58937907e-01,\n",
       "         1.39422370e-02, -7.32383907e-01, -7.06868052e-01, -7.85485506e-01,\n",
       "        -7.80952632e-01, -1.24580890e-01, -3.98513347e-01, -1.83531195e-01,\n",
       "         6.76468089e-02, -1.61979832e-02, -2.05699831e-01, -4.97364759e-01,\n",
       "        -2.34277382e-01, -5.12573123e-01, -7.09344387e-01, -6.95212543e-01,\n",
       "        -8.75144541e-01, -1.09855080e+00, -4.25891101e-01, -8.91719639e-01,\n",
       "        -5.97302914e-01, -5.01270354e-01, -2.36348435e-01, -1.81526348e-01,\n",
       "        -3.43816668e-01, -9.17025208e-01, -6.81681838e-03, -1.11501527e+00,\n",
       "        -1.60902455e-01, -4.86144394e-01, -8.40451717e-01, -4.64944929e-01,\n",
       "        -4.85336371e-02, -7.15761542e-01, -3.79554838e-01, -1.35200739e+00,\n",
       "        -7.54832149e-01, -8.84371579e-01, -5.66412568e-01, -1.02557540e+00,\n",
       "        -4.39451367e-01, -1.34773898e+00, -1.02503848e+00, -3.06224190e-02,\n",
       "        -1.53560564e-01,  1.50352836e-01,  1.62738413e-01, -1.56545773e-01],\n",
       "       dtype=float32)>,\n",
       " <tf.Variable 'dense_layer_3_4/kernel:0' shape=(512, 10) dtype=float32, numpy=\n",
       " array([[-0.13985112,  0.00122922, -0.07616872, ..., -0.23376004,\n",
       "         -0.37671244, -0.29816502],\n",
       "        [-0.42951357,  0.01537316,  0.08571235, ..., -0.30867392,\n",
       "         -0.24497183, -0.16225688],\n",
       "        [-0.18906866, -0.32791376, -0.37464648, ..., -0.37872595,\n",
       "          0.02715754, -0.01804762],\n",
       "        ...,\n",
       "        [-0.09279831, -0.2874732 , -0.05666128, ...,  0.04255608,\n",
       "         -0.07206198,  0.02343285],\n",
       "        [-0.04278925,  0.11563686, -0.06336118, ..., -0.58264583,\n",
       "         -0.04261717, -0.33295602],\n",
       "        [ 0.00335853, -0.24290101,  0.19995666, ..., -0.25518647,\n",
       "          0.0923695 , -0.25105885]], dtype=float32)>,\n",
       " <tf.Variable 'dense_layer_3_4/bias:0' shape=(10,) dtype=float32, numpy=\n",
       " array([-0.43120274, -0.29987964, -0.75113565, -0.2130044 , -0.47229403,\n",
       "        -0.41827515, -0.6724727 , -0.2916847 ,  1.8096834 ,  0.76228595],\n",
       "       dtype=float32)>]"
      ]
     },
     "execution_count": 52,
     "metadata": {
      "tags": []
     },
     "output_type": "execute_result"
    }
   ],
   "source": [
    "model_5.weights"
   ]
  },
  {
   "cell_type": "code",
   "execution_count": null,
   "metadata": {
    "colab": {
     "base_uri": "https://localhost:8080/",
     "height": 1000
    },
    "id": "0cV3gfkLkp-M",
    "outputId": "647365d3-7365-46a2-9031-346b20397c33"
   },
   "outputs": [
    {
     "data": {
      "text/plain": [
       "{'build_input_shape': TensorShape([None, 784]),\n",
       " 'layers': [{'class_name': 'Dense',\n",
       "   'config': {'activation': 'relu',\n",
       "    'activity_regularizer': None,\n",
       "    'batch_input_shape': (None, 784),\n",
       "    'bias_constraint': None,\n",
       "    'bias_initializer': {'class_name': 'Zeros', 'config': {}},\n",
       "    'bias_regularizer': None,\n",
       "    'dtype': 'float32',\n",
       "    'kernel_constraint': None,\n",
       "    'kernel_initializer': {'class_name': 'GlorotUniform',\n",
       "     'config': {'seed': None}},\n",
       "    'kernel_regularizer': None,\n",
       "    'name': 'dense_layer',\n",
       "    'trainable': True,\n",
       "    'units': 512,\n",
       "    'use_bias': True}},\n",
       "  {'class_name': 'Dropout',\n",
       "   'config': {'dtype': 'float32',\n",
       "    'name': 'dropout_6',\n",
       "    'noise_shape': None,\n",
       "    'rate': 0.3,\n",
       "    'seed': None,\n",
       "    'trainable': True}},\n",
       "  {'class_name': 'Dense',\n",
       "   'config': {'activation': 'relu',\n",
       "    'activity_regularizer': None,\n",
       "    'bias_constraint': None,\n",
       "    'bias_initializer': {'class_name': 'Zeros', 'config': {}},\n",
       "    'bias_regularizer': None,\n",
       "    'dtype': 'float32',\n",
       "    'kernel_constraint': None,\n",
       "    'kernel_initializer': {'class_name': 'GlorotUniform',\n",
       "     'config': {'seed': None}},\n",
       "    'kernel_regularizer': None,\n",
       "    'name': 'dense_layer_2',\n",
       "    'trainable': True,\n",
       "    'units': 512,\n",
       "    'use_bias': True}},\n",
       "  {'class_name': 'Dropout',\n",
       "   'config': {'dtype': 'float32',\n",
       "    'name': 'dropout_7',\n",
       "    'noise_shape': None,\n",
       "    'rate': 0.3,\n",
       "    'seed': None,\n",
       "    'trainable': True}},\n",
       "  {'class_name': 'Dense',\n",
       "   'config': {'activation': 'softmax',\n",
       "    'activity_regularizer': None,\n",
       "    'bias_constraint': None,\n",
       "    'bias_initializer': {'class_name': 'Zeros', 'config': {}},\n",
       "    'bias_regularizer': None,\n",
       "    'dtype': 'float32',\n",
       "    'kernel_constraint': None,\n",
       "    'kernel_initializer': {'class_name': 'GlorotUniform',\n",
       "     'config': {'seed': None}},\n",
       "    'kernel_regularizer': None,\n",
       "    'name': 'dense_layer_3',\n",
       "    'trainable': True,\n",
       "    'units': 10,\n",
       "    'use_bias': True}}],\n",
       " 'name': 'sequential_5'}"
      ]
     },
     "execution_count": 53,
     "metadata": {
      "tags": []
     },
     "output_type": "execute_result"
    }
   ],
   "source": [
    "model_5.get_config()"
   ]
  },
  {
   "cell_type": "markdown",
   "metadata": {
    "id": "jX8DXi1jiFYS"
   },
   "source": [
    "###Improved Model 6: Adding Another Hidden Layer to the Model"
   ]
  },
  {
   "cell_type": "code",
   "execution_count": null,
   "metadata": {
    "id": "5Ad_vKSRiNq0"
   },
   "outputs": [],
   "source": [
    "import tensorflow as tf\n",
    "\n",
    "#In Keras, layers are assembled to build models \n",
    "from tensorflow.keras.layers import Dense\n",
    "from tensorflow.keras.layers import Dropout\n",
    "\n",
    "#Most common type of model is a stack of layers\n",
    "model_6 = tf.keras.Sequential()\n",
    "N_hidden = 512\n",
    "\n",
    "# Adds a densely-connected layer with 64 units to the model:\n",
    "model_6.add(Dense(N_hidden, name='dense_layer', input_shape=(784,), activation = 'relu'))\n",
    "# Now the model will take as input arrays of shape (*, 784)# and output arrays of shape (*, 64)\n",
    "model_6.add(Dropout(0.3))\n",
    "\n",
    "# Adding another dense layer:\n",
    "model_6.add(Dense(N_hidden, name='dense_layer_2', activation='relu'))\n",
    "model_6.add(Dropout(0.3))\n",
    "\n",
    "# Adding another dense layer:\n",
    "model_6.add(Dense(N_hidden, name='dense_layer_3', activation='relu'))\n",
    "model_6.add(Dropout(0.3))\n",
    "\n",
    "# Add an output layer with 10 output units (10 different classes):\n",
    "model_6.add(Dense(10, name='dense_layer_4', activation = 'softmax'))\n"
   ]
  },
  {
   "cell_type": "code",
   "execution_count": null,
   "metadata": {
    "id": "OgTz-7_Ai03r"
   },
   "outputs": [],
   "source": [
    "# Compiling the model.\n",
    "model_6.compile(optimizer='Adam', \n",
    "              loss='categorical_crossentropy',\n",
    "              metrics=['accuracy'])"
   ]
  },
  {
   "cell_type": "code",
   "execution_count": null,
   "metadata": {
    "colab": {
     "base_uri": "https://localhost:8080/",
     "height": 1000
    },
    "id": "8wlsmatji03-",
    "outputId": "f5c11217-9837-4f6d-bd2b-b0f8a52dd914"
   },
   "outputs": [
    {
     "name": "stdout",
     "output_type": "stream",
     "text": [
      "Epoch 1/100\n",
      "750/750 [==============================] - 12s 16ms/step - loss: 0.5824 - accuracy: 0.7898 - val_loss: 0.4665 - val_accuracy: 0.8259\n",
      "Epoch 2/100\n",
      "750/750 [==============================] - 12s 16ms/step - loss: 0.4345 - accuracy: 0.8421 - val_loss: 0.3847 - val_accuracy: 0.8580\n",
      "Epoch 3/100\n",
      "750/750 [==============================] - 12s 16ms/step - loss: 0.4047 - accuracy: 0.8546 - val_loss: 0.3588 - val_accuracy: 0.8709\n",
      "Epoch 4/100\n",
      "750/750 [==============================] - 12s 16ms/step - loss: 0.3814 - accuracy: 0.8609 - val_loss: 0.3477 - val_accuracy: 0.8743\n",
      "Epoch 5/100\n",
      "750/750 [==============================] - 12s 16ms/step - loss: 0.3639 - accuracy: 0.8668 - val_loss: 0.3484 - val_accuracy: 0.8767\n",
      "Epoch 6/100\n",
      "750/750 [==============================] - 12s 16ms/step - loss: 0.3519 - accuracy: 0.8709 - val_loss: 0.3355 - val_accuracy: 0.8766\n",
      "Epoch 7/100\n",
      "750/750 [==============================] - 12s 17ms/step - loss: 0.3435 - accuracy: 0.8757 - val_loss: 0.3402 - val_accuracy: 0.8729\n",
      "Epoch 8/100\n",
      "750/750 [==============================] - 12s 16ms/step - loss: 0.3343 - accuracy: 0.8760 - val_loss: 0.3294 - val_accuracy: 0.8814\n",
      "Epoch 9/100\n",
      "750/750 [==============================] - 12s 16ms/step - loss: 0.3240 - accuracy: 0.8801 - val_loss: 0.3407 - val_accuracy: 0.8787\n",
      "Epoch 10/100\n",
      "750/750 [==============================] - 12s 15ms/step - loss: 0.3191 - accuracy: 0.8812 - val_loss: 0.3512 - val_accuracy: 0.8754\n",
      "Epoch 11/100\n",
      "750/750 [==============================] - 12s 16ms/step - loss: 0.3132 - accuracy: 0.8845 - val_loss: 0.3075 - val_accuracy: 0.8849\n",
      "Epoch 12/100\n",
      "750/750 [==============================] - 12s 15ms/step - loss: 0.3090 - accuracy: 0.8875 - val_loss: 0.3263 - val_accuracy: 0.8844\n",
      "Epoch 13/100\n",
      "750/750 [==============================] - 11s 15ms/step - loss: 0.3028 - accuracy: 0.8890 - val_loss: 0.3087 - val_accuracy: 0.8885\n",
      "Epoch 14/100\n",
      "750/750 [==============================] - 12s 16ms/step - loss: 0.2984 - accuracy: 0.8892 - val_loss: 0.3145 - val_accuracy: 0.8878\n",
      "Epoch 15/100\n",
      "750/750 [==============================] - 12s 16ms/step - loss: 0.2935 - accuracy: 0.8936 - val_loss: 0.3297 - val_accuracy: 0.8835\n",
      "Epoch 16/100\n",
      "750/750 [==============================] - 12s 16ms/step - loss: 0.2907 - accuracy: 0.8927 - val_loss: 0.3085 - val_accuracy: 0.8882\n",
      "Epoch 17/100\n",
      "750/750 [==============================] - 12s 16ms/step - loss: 0.2835 - accuracy: 0.8944 - val_loss: 0.3131 - val_accuracy: 0.8906\n",
      "Epoch 18/100\n",
      "750/750 [==============================] - 12s 16ms/step - loss: 0.2829 - accuracy: 0.8961 - val_loss: 0.3113 - val_accuracy: 0.8854\n",
      "Epoch 19/100\n",
      "750/750 [==============================] - 12s 16ms/step - loss: 0.2774 - accuracy: 0.8963 - val_loss: 0.3212 - val_accuracy: 0.8898\n",
      "Epoch 20/100\n",
      "750/750 [==============================] - 12s 15ms/step - loss: 0.2792 - accuracy: 0.8966 - val_loss: 0.2974 - val_accuracy: 0.8920\n",
      "Epoch 21/100\n",
      "750/750 [==============================] - 12s 16ms/step - loss: 0.2748 - accuracy: 0.8980 - val_loss: 0.3085 - val_accuracy: 0.8934\n",
      "Epoch 22/100\n",
      "750/750 [==============================] - 12s 16ms/step - loss: 0.2720 - accuracy: 0.8999 - val_loss: 0.3026 - val_accuracy: 0.8893\n",
      "Epoch 23/100\n",
      "750/750 [==============================] - 14s 19ms/step - loss: 0.2719 - accuracy: 0.8997 - val_loss: 0.3210 - val_accuracy: 0.8887\n",
      "Epoch 24/100\n",
      "750/750 [==============================] - 15s 20ms/step - loss: 0.2648 - accuracy: 0.9014 - val_loss: 0.3132 - val_accuracy: 0.8913\n",
      "Epoch 25/100\n",
      "750/750 [==============================] - 13s 17ms/step - loss: 0.2623 - accuracy: 0.9030 - val_loss: 0.3120 - val_accuracy: 0.8882\n",
      "Epoch 26/100\n",
      "750/750 [==============================] - 13s 18ms/step - loss: 0.2609 - accuracy: 0.9022 - val_loss: 0.2991 - val_accuracy: 0.8940\n",
      "Epoch 27/100\n",
      "750/750 [==============================] - 13s 17ms/step - loss: 0.2559 - accuracy: 0.9053 - val_loss: 0.2990 - val_accuracy: 0.8938\n",
      "Epoch 28/100\n",
      "750/750 [==============================] - 12s 16ms/step - loss: 0.2554 - accuracy: 0.9059 - val_loss: 0.2966 - val_accuracy: 0.8975\n",
      "Epoch 29/100\n",
      "750/750 [==============================] - 12s 16ms/step - loss: 0.2515 - accuracy: 0.9063 - val_loss: 0.3196 - val_accuracy: 0.8921\n",
      "Epoch 30/100\n",
      "750/750 [==============================] - 12s 16ms/step - loss: 0.2493 - accuracy: 0.9072 - val_loss: 0.3025 - val_accuracy: 0.8929\n",
      "Epoch 31/100\n",
      "750/750 [==============================] - 13s 17ms/step - loss: 0.2523 - accuracy: 0.9064 - val_loss: 0.3109 - val_accuracy: 0.8946\n",
      "Epoch 32/100\n",
      "750/750 [==============================] - 13s 17ms/step - loss: 0.2490 - accuracy: 0.9071 - val_loss: 0.3132 - val_accuracy: 0.8942\n",
      "Epoch 33/100\n",
      "750/750 [==============================] - 13s 17ms/step - loss: 0.2456 - accuracy: 0.9084 - val_loss: 0.3337 - val_accuracy: 0.8935\n",
      "Epoch 34/100\n",
      "750/750 [==============================] - 12s 16ms/step - loss: 0.2422 - accuracy: 0.9115 - val_loss: 0.3244 - val_accuracy: 0.8931\n",
      "Epoch 35/100\n",
      "750/750 [==============================] - 12s 17ms/step - loss: 0.2439 - accuracy: 0.9096 - val_loss: 0.3130 - val_accuracy: 0.8952\n",
      "Epoch 36/100\n",
      "750/750 [==============================] - 12s 16ms/step - loss: 0.2413 - accuracy: 0.9103 - val_loss: 0.3147 - val_accuracy: 0.8961\n",
      "Epoch 37/100\n",
      "750/750 [==============================] - 13s 17ms/step - loss: 0.2394 - accuracy: 0.9106 - val_loss: 0.3199 - val_accuracy: 0.8948\n",
      "Epoch 38/100\n",
      "750/750 [==============================] - 12s 16ms/step - loss: 0.2374 - accuracy: 0.9117 - val_loss: 0.3112 - val_accuracy: 0.8943\n",
      "Epoch 39/100\n",
      "750/750 [==============================] - 12s 16ms/step - loss: 0.2328 - accuracy: 0.9146 - val_loss: 0.3118 - val_accuracy: 0.8984\n",
      "Epoch 40/100\n",
      "750/750 [==============================] - 13s 17ms/step - loss: 0.2349 - accuracy: 0.9123 - val_loss: 0.3182 - val_accuracy: 0.8936\n",
      "Epoch 41/100\n",
      "750/750 [==============================] - 12s 16ms/step - loss: 0.2360 - accuracy: 0.9135 - val_loss: 0.3145 - val_accuracy: 0.8921\n",
      "Epoch 42/100\n",
      "750/750 [==============================] - 12s 16ms/step - loss: 0.2361 - accuracy: 0.9134 - val_loss: 0.3117 - val_accuracy: 0.8949\n",
      "Epoch 43/100\n",
      "750/750 [==============================] - 12s 16ms/step - loss: 0.2278 - accuracy: 0.9161 - val_loss: 0.3256 - val_accuracy: 0.8956\n",
      "Epoch 44/100\n",
      "750/750 [==============================] - 12s 16ms/step - loss: 0.2228 - accuracy: 0.9172 - val_loss: 0.3183 - val_accuracy: 0.8938\n",
      "Epoch 45/100\n",
      "750/750 [==============================] - 12s 16ms/step - loss: 0.2250 - accuracy: 0.9161 - val_loss: 0.3285 - val_accuracy: 0.8942\n",
      "Epoch 46/100\n",
      "750/750 [==============================] - 13s 17ms/step - loss: 0.2223 - accuracy: 0.9179 - val_loss: 0.3255 - val_accuracy: 0.8935\n",
      "Epoch 47/100\n",
      "750/750 [==============================] - 12s 16ms/step - loss: 0.2247 - accuracy: 0.9176 - val_loss: 0.3231 - val_accuracy: 0.8938\n",
      "Epoch 48/100\n",
      "750/750 [==============================] - 12s 16ms/step - loss: 0.2242 - accuracy: 0.9169 - val_loss: 0.3299 - val_accuracy: 0.8963\n",
      "Epoch 49/100\n",
      "750/750 [==============================] - 12s 16ms/step - loss: 0.2292 - accuracy: 0.9162 - val_loss: 0.3128 - val_accuracy: 0.8971\n",
      "Epoch 50/100\n",
      "750/750 [==============================] - 12s 16ms/step - loss: 0.2205 - accuracy: 0.9176 - val_loss: 0.3302 - val_accuracy: 0.8956\n",
      "Epoch 51/100\n",
      "750/750 [==============================] - 13s 17ms/step - loss: 0.2220 - accuracy: 0.9192 - val_loss: 0.3126 - val_accuracy: 0.8987\n",
      "Epoch 52/100\n",
      "750/750 [==============================] - 12s 17ms/step - loss: 0.2165 - accuracy: 0.9187 - val_loss: 0.3261 - val_accuracy: 0.8982\n",
      "Epoch 53/100\n",
      "750/750 [==============================] - 12s 16ms/step - loss: 0.2176 - accuracy: 0.9215 - val_loss: 0.3264 - val_accuracy: 0.8990\n",
      "Epoch 54/100\n",
      "750/750 [==============================] - 12s 16ms/step - loss: 0.2195 - accuracy: 0.9184 - val_loss: 0.3227 - val_accuracy: 0.8986\n",
      "Epoch 55/100\n",
      "750/750 [==============================] - 13s 17ms/step - loss: 0.2157 - accuracy: 0.9215 - val_loss: 0.3317 - val_accuracy: 0.8977\n",
      "Epoch 56/100\n",
      "750/750 [==============================] - 12s 16ms/step - loss: 0.2158 - accuracy: 0.9204 - val_loss: 0.3236 - val_accuracy: 0.8998\n",
      "Epoch 57/100\n",
      "750/750 [==============================] - 12s 17ms/step - loss: 0.2151 - accuracy: 0.9211 - val_loss: 0.3577 - val_accuracy: 0.8964\n",
      "Epoch 58/100\n",
      "750/750 [==============================] - 13s 18ms/step - loss: 0.2150 - accuracy: 0.9216 - val_loss: 0.3220 - val_accuracy: 0.8986\n",
      "Epoch 59/100\n",
      "750/750 [==============================] - 13s 17ms/step - loss: 0.2112 - accuracy: 0.9223 - val_loss: 0.3377 - val_accuracy: 0.8972\n",
      "Epoch 60/100\n",
      "750/750 [==============================] - 12s 16ms/step - loss: 0.2064 - accuracy: 0.9235 - val_loss: 0.3193 - val_accuracy: 0.8987\n",
      "Epoch 61/100\n",
      "750/750 [==============================] - 12s 16ms/step - loss: 0.2100 - accuracy: 0.9222 - val_loss: 0.3317 - val_accuracy: 0.8955\n",
      "Epoch 62/100\n",
      "750/750 [==============================] - 12s 16ms/step - loss: 0.2116 - accuracy: 0.9211 - val_loss: 0.3467 - val_accuracy: 0.8931\n",
      "Epoch 63/100\n",
      "750/750 [==============================] - 13s 17ms/step - loss: 0.2033 - accuracy: 0.9247 - val_loss: 0.3374 - val_accuracy: 0.8974\n",
      "Epoch 64/100\n",
      "750/750 [==============================] - 12s 16ms/step - loss: 0.2078 - accuracy: 0.9237 - val_loss: 0.3503 - val_accuracy: 0.8952\n",
      "Epoch 65/100\n",
      "750/750 [==============================] - 12s 16ms/step - loss: 0.2084 - accuracy: 0.9220 - val_loss: 0.3381 - val_accuracy: 0.8973\n",
      "Epoch 66/100\n",
      "750/750 [==============================] - 12s 16ms/step - loss: 0.2087 - accuracy: 0.9224 - val_loss: 0.3280 - val_accuracy: 0.8955\n",
      "Epoch 67/100\n",
      "750/750 [==============================] - 12s 16ms/step - loss: 0.2048 - accuracy: 0.9234 - val_loss: 0.3395 - val_accuracy: 0.8958\n",
      "Epoch 68/100\n",
      "750/750 [==============================] - 12s 16ms/step - loss: 0.2015 - accuracy: 0.9264 - val_loss: 0.3330 - val_accuracy: 0.8990\n",
      "Epoch 69/100\n",
      "750/750 [==============================] - 12s 16ms/step - loss: 0.2003 - accuracy: 0.9261 - val_loss: 0.3353 - val_accuracy: 0.9010\n",
      "Epoch 70/100\n",
      "750/750 [==============================] - 13s 17ms/step - loss: 0.2023 - accuracy: 0.9254 - val_loss: 0.3486 - val_accuracy: 0.8946\n",
      "Epoch 71/100\n",
      "750/750 [==============================] - 12s 16ms/step - loss: 0.1971 - accuracy: 0.9265 - val_loss: 0.3434 - val_accuracy: 0.8969\n",
      "Epoch 72/100\n",
      "750/750 [==============================] - 12s 17ms/step - loss: 0.1979 - accuracy: 0.9271 - val_loss: 0.3926 - val_accuracy: 0.8913\n",
      "Epoch 73/100\n",
      "750/750 [==============================] - 13s 17ms/step - loss: 0.2030 - accuracy: 0.9260 - val_loss: 0.3307 - val_accuracy: 0.8978\n",
      "Epoch 74/100\n",
      "750/750 [==============================] - 12s 17ms/step - loss: 0.1937 - accuracy: 0.9274 - val_loss: 0.3406 - val_accuracy: 0.8983\n",
      "Epoch 75/100\n",
      "750/750 [==============================] - 13s 17ms/step - loss: 0.1980 - accuracy: 0.9276 - val_loss: 0.3466 - val_accuracy: 0.8966\n",
      "Epoch 76/100\n",
      "750/750 [==============================] - 12s 17ms/step - loss: 0.2001 - accuracy: 0.9267 - val_loss: 0.3571 - val_accuracy: 0.8949\n",
      "Epoch 77/100\n",
      "750/750 [==============================] - 12s 16ms/step - loss: 0.1897 - accuracy: 0.9296 - val_loss: 0.3533 - val_accuracy: 0.8978\n",
      "Epoch 78/100\n",
      "750/750 [==============================] - 12s 16ms/step - loss: 0.1967 - accuracy: 0.9281 - val_loss: 0.3423 - val_accuracy: 0.8977\n",
      "Epoch 79/100\n",
      "750/750 [==============================] - 12s 15ms/step - loss: 0.1984 - accuracy: 0.9274 - val_loss: 0.3659 - val_accuracy: 0.9001\n",
      "Epoch 80/100\n",
      "750/750 [==============================] - 12s 15ms/step - loss: 0.1929 - accuracy: 0.9280 - val_loss: 0.3501 - val_accuracy: 0.8976\n",
      "Epoch 81/100\n",
      "750/750 [==============================] - 12s 15ms/step - loss: 0.1877 - accuracy: 0.9319 - val_loss: 0.3744 - val_accuracy: 0.8974\n",
      "Epoch 82/100\n",
      "750/750 [==============================] - 12s 15ms/step - loss: 0.1891 - accuracy: 0.9313 - val_loss: 0.3570 - val_accuracy: 0.8989\n",
      "Epoch 83/100\n",
      "750/750 [==============================] - 12s 15ms/step - loss: 0.1943 - accuracy: 0.9301 - val_loss: 0.3776 - val_accuracy: 0.8992\n",
      "Epoch 84/100\n",
      "750/750 [==============================] - 12s 16ms/step - loss: 0.1918 - accuracy: 0.9301 - val_loss: 0.3616 - val_accuracy: 0.8959\n",
      "Epoch 85/100\n",
      "750/750 [==============================] - 12s 16ms/step - loss: 0.1872 - accuracy: 0.9327 - val_loss: 0.3433 - val_accuracy: 0.8992\n",
      "Epoch 86/100\n",
      "750/750 [==============================] - 12s 16ms/step - loss: 0.1917 - accuracy: 0.9301 - val_loss: 0.3756 - val_accuracy: 0.8993\n",
      "Epoch 87/100\n",
      "750/750 [==============================] - 12s 16ms/step - loss: 0.1878 - accuracy: 0.9316 - val_loss: 0.3667 - val_accuracy: 0.8999\n",
      "Epoch 88/100\n",
      "750/750 [==============================] - 12s 16ms/step - loss: 0.1896 - accuracy: 0.9307 - val_loss: 0.3902 - val_accuracy: 0.8979\n",
      "Epoch 89/100\n",
      "750/750 [==============================] - 12s 16ms/step - loss: 0.1936 - accuracy: 0.9307 - val_loss: 0.3807 - val_accuracy: 0.8984\n",
      "Epoch 90/100\n",
      "750/750 [==============================] - 12s 15ms/step - loss: 0.1872 - accuracy: 0.9318 - val_loss: 0.3471 - val_accuracy: 0.9004\n",
      "Epoch 91/100\n",
      "750/750 [==============================] - 12s 15ms/step - loss: 0.1825 - accuracy: 0.9330 - val_loss: 0.3654 - val_accuracy: 0.8997\n",
      "Epoch 92/100\n",
      "750/750 [==============================] - 12s 16ms/step - loss: 0.1812 - accuracy: 0.9338 - val_loss: 0.3696 - val_accuracy: 0.9015\n",
      "Epoch 93/100\n",
      "750/750 [==============================] - 12s 16ms/step - loss: 0.1831 - accuracy: 0.9335 - val_loss: 0.3748 - val_accuracy: 0.8989\n",
      "Epoch 94/100\n",
      "750/750 [==============================] - 12s 16ms/step - loss: 0.1769 - accuracy: 0.9347 - val_loss: 0.3827 - val_accuracy: 0.8999\n",
      "Epoch 95/100\n",
      "750/750 [==============================] - 12s 16ms/step - loss: 0.1882 - accuracy: 0.9319 - val_loss: 0.3721 - val_accuracy: 0.8999\n",
      "Epoch 96/100\n",
      "750/750 [==============================] - 12s 16ms/step - loss: 0.1841 - accuracy: 0.9335 - val_loss: 0.3630 - val_accuracy: 0.8993\n",
      "Epoch 97/100\n",
      "750/750 [==============================] - 12s 16ms/step - loss: 0.1801 - accuracy: 0.9341 - val_loss: 0.3623 - val_accuracy: 0.8983\n",
      "Epoch 98/100\n",
      "750/750 [==============================] - 12s 16ms/step - loss: 0.1877 - accuracy: 0.9344 - val_loss: 0.3832 - val_accuracy: 0.8955\n",
      "Epoch 99/100\n",
      "750/750 [==============================] - 12s 16ms/step - loss: 0.1912 - accuracy: 0.9312 - val_loss: 0.4006 - val_accuracy: 0.8980\n",
      "Epoch 100/100\n",
      "750/750 [==============================] - 12s 16ms/step - loss: 0.1761 - accuracy: 0.9357 - val_loss: 0.3881 - val_accuracy: 0.8970\n"
     ]
    }
   ],
   "source": [
    "# Training the model. \n",
    "training = model_6.fit(X_train, Y_train, batch_size=64, epochs=100, validation_split=0.2) "
   ]
  },
  {
   "cell_type": "code",
   "execution_count": null,
   "metadata": {
    "colab": {
     "base_uri": "https://localhost:8080/",
     "height": 590
    },
    "id": "we2ZBwRui04X",
    "outputId": "53f953f5-f0ba-44fa-e0e6-a1b9c7dc1709"
   },
   "outputs": [
    {
     "name": "stdout",
     "output_type": "stream",
     "text": [
      "dict_keys(['loss', 'accuracy', 'val_loss', 'val_accuracy'])\n"
     ]
    },
    {
     "data": {
      "image/png": "[encoded data removed]",
      "text/plain": [
       "<Figure size 432x288 with 1 Axes>"
      ]
     },
     "metadata": {
      "needs_background": "light",
      "tags": []
     },
     "output_type": "display_data"
    },
    {
     "data": {
      "image/png": "[encoded data removed]",
      "text/plain": [
       "<Figure size 432x288 with 1 Axes>"
      ]
     },
     "metadata": {
      "needs_background": "light",
      "tags": []
     },
     "output_type": "display_data"
    }
   ],
   "source": [
    "import matplotlib.pyplot as plt\n",
    "%matplotlib inline\n",
    "# list all data in training\n",
    "print(training.history.keys())\n",
    "# summarize training for accuracy\n",
    "plt.plot(training.history['accuracy'])\n",
    "plt.plot(training.history['val_accuracy'])\n",
    "plt.title('model accuracy')\n",
    "plt.ylabel('accuracy')\n",
    "plt.xlabel('epoch')\n",
    "plt.legend(['train', 'test'], loc='upper left')\n",
    "plt.show()\n",
    "# summarize traning for loss\n",
    "plt.plot(training.history['loss'])\n",
    "plt.plot(training.history['val_loss'])\n",
    "plt.title('model loss')\n",
    "plt.ylabel('loss')\n",
    "plt.xlabel('epoch')\n",
    "plt.legend(['train', 'test'], loc='upper left')\n",
    "plt.show()"
   ]
  },
  {
   "cell_type": "code",
   "execution_count": null,
   "metadata": {
    "colab": {
     "base_uri": "https://localhost:8080/",
     "height": 51
    },
    "id": "rW_yiiBci04l",
    "outputId": "61705196-cc03-498e-81ee-fcb1b0110bb6"
   },
   "outputs": [
    {
     "name": "stdout",
     "output_type": "stream",
     "text": [
      "313/313 [==============================] - 1s 4ms/step - loss: 0.4325 - accuracy: 0.8951\n",
      "Test accuracy: 0.8950999975204468\n"
     ]
    }
   ],
   "source": [
    "#evaluate the model\n",
    "test_loss, test_acc = model_6.evaluate(X_test, Y_test)\n",
    "print('Test accuracy:', test_acc)"
   ]
  },
  {
   "cell_type": "code",
   "execution_count": null,
   "metadata": {
    "colab": {
     "base_uri": "https://localhost:8080/",
     "height": 34
    },
    "id": "-st6PFxmi04q",
    "outputId": "a25ac2f8-6526-454e-b17a-2a967778ba37"
   },
   "outputs": [
    {
     "data": {
      "text/plain": [
       "<bound method Network.summary of <tensorflow.python.keras.engine.sequential.Sequential object at 0x7ffa9a1c0b00>>"
      ]
     },
     "execution_count": 59,
     "metadata": {
      "tags": []
     },
     "output_type": "execute_result"
    }
   ],
   "source": [
    "model_6.summary"
   ]
  },
  {
   "cell_type": "code",
   "execution_count": null,
   "metadata": {
    "colab": {
     "base_uri": "https://localhost:8080/",
     "height": 1000
    },
    "id": "VVS-TuqDi04v",
    "outputId": "494cb512-ba9b-4e95-eead-c3af6affe6d7"
   },
   "outputs": [
    {
     "data": {
      "text/plain": [
       "[<tf.Variable 'dense_layer_8/kernel:0' shape=(784, 512) dtype=float32, numpy=\n",
       " array([[-0.02043436, -0.03052251, -0.04867187, ..., -0.00341104,\n",
       "          0.0646666 ,  0.06193061],\n",
       "        [ 0.00580537, -0.03989251,  0.02505963, ...,  0.00726219,\n",
       "         -0.03476311, -0.04609244],\n",
       "        [ 0.02528511, -0.0624702 ,  0.02157883, ...,  0.02244397,\n",
       "         -0.00719848,  0.04892342],\n",
       "        ...,\n",
       "        [ 0.03892381,  0.06000207,  0.02830688, ..., -0.03362466,\n",
       "         -0.06500859, -0.02711738],\n",
       "        [-0.062404  ,  0.04495282,  0.00313219, ...,  0.05914421,\n",
       "         -0.0092866 , -0.01132109],\n",
       "        [-0.04838803, -0.00661732,  0.05316094, ...,  0.05458824,\n",
       "         -0.0405038 ,  0.02893919]], dtype=float32)>,\n",
       " <tf.Variable 'dense_layer_8/bias:0' shape=(512,) dtype=float32, numpy=\n",
       " array([-0.2696233 , -0.21055523, -0.33684137, -0.42744735,  0.18318221,\n",
       "        -0.27374473, -0.4295545 , -0.4989392 , -0.40381438, -0.0173907 ,\n",
       "        -0.02753447, -0.14542247, -0.69777596, -0.59039474, -0.27526793,\n",
       "        -0.4565259 , -0.19103886, -0.03038125, -0.14431506, -0.44546953,\n",
       "        -0.4384869 , -0.22670168, -0.12920149, -0.3529104 ,  0.01874708,\n",
       "         0.03865247, -0.09942317, -0.37635398,  0.05034769, -0.5097547 ,\n",
       "         0.08612788, -0.19895247, -0.09185734,  0.18310507, -0.32752576,\n",
       "        -0.02264479,  0.01025114, -0.15946889, -0.38689563, -0.34469634,\n",
       "        -0.36817837,  0.12921374, -0.11992764, -0.01881557, -0.3884351 ,\n",
       "        -0.00718244, -0.31887013, -0.52107877,  0.12082034, -0.19646251,\n",
       "        -0.22191986, -0.1437224 , -0.29777363, -0.53086865, -0.12631057,\n",
       "         0.13094419, -0.13917129,  0.00583606, -0.16718774,  0.03018015,\n",
       "        -0.58638734, -0.02188976, -0.4473377 , -0.04404052, -0.16019145,\n",
       "        -0.14673918,  0.01173183,  0.09187844, -0.01668436,  0.12805556,\n",
       "        -0.16952692, -0.607649  , -0.40257218, -0.03683537, -0.7947761 ,\n",
       "        -0.28343934, -0.57222146, -0.2707892 , -0.18641129, -0.07556085,\n",
       "        -0.08062723, -0.3644887 , -0.54991335, -0.2002851 , -0.5600216 ,\n",
       "        -0.40424347, -0.21844392, -0.16454019,  0.02891395,  0.12312049,\n",
       "        -0.30026382, -0.3627983 , -0.17188379,  0.01734723, -0.29349625,\n",
       "        -0.26071537, -0.38225314, -0.03323523, -0.17537077, -0.441885  ,\n",
       "        -0.09777397, -0.18430358,  0.09732835, -0.03439459,  0.15488645,\n",
       "        -0.28570494,  0.00417195, -0.54466563, -0.47075158, -0.69965667,\n",
       "        -0.22724637, -0.47913924, -0.01870635, -0.22890826, -0.06281532,\n",
       "        -0.71873   , -0.13300101, -0.13784057, -0.48036802, -0.24672139,\n",
       "         0.05949189, -0.13928486, -0.3953031 , -0.31828818, -0.0839654 ,\n",
       "        -0.23584065, -0.21653795, -0.20123477, -0.3937147 , -0.16197862,\n",
       "        -0.92149967, -0.03392668, -0.22747813, -0.4104444 , -0.29569617,\n",
       "        -0.35044834, -0.34732348, -0.14372009, -0.29292223, -0.21738692,\n",
       "        -0.52905613, -0.3450462 ,  0.16480425, -0.03414582, -0.10628978,\n",
       "        -0.27911526, -0.2083701 , -0.06697109, -0.17012432, -0.50735015,\n",
       "        -0.06452555, -0.49289736, -0.42184952,  0.00881977, -0.26190704,\n",
       "        -0.1537478 , -0.37149155, -0.13380708, -0.45335138, -0.30430567,\n",
       "        -0.26924622, -0.36665708, -0.6085542 , -0.10758677, -0.03512141,\n",
       "         0.01186022,  0.00505938, -0.10092407, -0.09170897,  0.05898591,\n",
       "         0.067136  ,  0.00938657, -0.00600094, -0.18202594, -0.25668278,\n",
       "         0.2309898 , -0.26955432, -0.17514804, -0.38176596, -0.3553004 ,\n",
       "        -0.23361991, -0.2979614 , -0.25536564, -0.33286262, -0.15431745,\n",
       "        -0.24253343, -0.09628185, -0.29247952, -0.01097796, -0.31394276,\n",
       "        -0.6662563 ,  0.16397506,  0.32289138, -0.27665627, -0.3913615 ,\n",
       "         0.25286132, -0.1246611 , -0.03693834, -0.31339404, -0.32478696,\n",
       "        -0.17795783, -0.6421901 , -0.25299466, -0.02144221, -0.16489227,\n",
       "         0.13300562, -0.15642543, -0.1099498 , -0.03995977, -0.5069289 ,\n",
       "        -0.18727073, -0.23603149, -0.28105575, -0.27661386, -0.337104  ,\n",
       "        -0.07837322, -0.17777477, -0.32150966,  0.03210541, -0.40579638,\n",
       "        -0.4404787 , -0.19481236, -0.21178351, -0.5810828 , -0.43712327,\n",
       "        -0.73686093, -0.47085842, -0.28466633,  0.03144144, -0.56787217,\n",
       "        -0.14624263, -0.20184365, -0.23991668, -0.18999131, -0.36354816,\n",
       "        -0.2857371 ,  0.07118796, -0.16984595, -0.25582024, -0.19779249,\n",
       "        -0.19449149, -0.17772178, -0.0158757 , -0.61694527, -0.44698957,\n",
       "         0.05527673, -0.05759416, -0.11423653, -0.51053125, -0.37863708,\n",
       "        -0.17570409,  0.08945898,  0.02739712, -0.36063945, -0.4308034 ,\n",
       "        -0.17203261, -0.16994484, -0.20994629, -0.18219425, -0.19212613,\n",
       "        -0.03048081,  0.02987648, -0.53590727,  0.02363749, -0.25157776,\n",
       "        -0.291716  , -0.11998188, -0.08307215, -0.26601776, -0.47802582,\n",
       "        -0.23956335, -0.05240866, -0.45372567, -0.1917211 , -0.04963914,\n",
       "        -0.25976416, -0.4559752 , -0.422362  , -0.30344194, -0.25408193,\n",
       "        -0.37525412, -0.4620375 ,  0.02101701, -0.40512285, -0.36818326,\n",
       "        -0.09237959, -0.1341872 , -0.5137707 , -0.6031753 , -0.12332745,\n",
       "         0.08364153, -0.06272127, -0.49000153, -0.28939503, -0.3084176 ,\n",
       "        -0.69817895, -0.02564907, -0.42432424, -0.26996675,  0.05392009,\n",
       "         0.14806002,  0.04884285, -0.23323989, -0.14799803, -0.05732735,\n",
       "        -0.19667597,  0.20462413, -0.03246721, -0.12511227, -0.07271943,\n",
       "        -0.39755863, -0.06195214, -0.26317418, -0.19539754, -0.49757048,\n",
       "        -0.01245722, -0.3604564 , -0.09649093, -0.20428418, -0.33626205,\n",
       "         0.23393664, -0.1268835 ,  0.08728244,  0.12389429, -0.23385076,\n",
       "        -0.22964492, -0.02930309, -0.17697999, -0.11112972, -0.2553529 ,\n",
       "        -0.34331092,  0.02823567,  0.17985946, -0.26964682,  0.11702529,\n",
       "        -0.4939382 , -0.13730083,  0.06791068,  0.27215633, -0.34416676,\n",
       "         0.00473885, -0.04341743,  0.10614222, -0.06123485, -0.0990551 ,\n",
       "         0.19862166,  0.09108048, -0.20261574, -0.06709547, -0.18506475,\n",
       "        -0.03284829, -0.4014016 , -0.19971503,  0.08533444, -0.45590803,\n",
       "        -0.18259707, -0.22731334, -0.3533481 , -0.15132391, -0.04689423,\n",
       "        -0.41710454, -0.2276736 ,  0.01853679, -0.16237736, -0.5176968 ,\n",
       "        -0.3898137 , -0.5058089 ,  0.03047854, -0.1807336 , -0.05003184,\n",
       "         0.0065933 , -0.25060648, -0.2503102 ,  0.12828723, -0.60870755,\n",
       "        -0.25974667, -0.29079655, -0.32036665, -0.6914658 , -0.6382996 ,\n",
       "         0.10248274,  0.15497299, -0.22279367, -0.44842225, -0.20044848,\n",
       "        -0.26829386, -0.46701038, -0.02301912, -0.22469227, -0.4052091 ,\n",
       "        -0.45218182, -0.32259455, -0.19550417, -0.21909153, -0.27853864,\n",
       "        -0.4405603 , -0.09006552, -0.17720135,  0.02760173, -0.21334021,\n",
       "         0.11099483, -0.04707084, -0.5503532 ,  0.23122033, -0.17021382,\n",
       "         0.15474261, -0.02252994,  0.12281571, -0.11179549, -0.05886948,\n",
       "        -0.14441329, -0.01090423, -0.42050385, -0.02933597, -0.09983373,\n",
       "        -0.3681018 , -0.20683399, -0.5355109 , -0.0464318 , -0.19561288,\n",
       "         0.08495087, -0.11086687, -0.07394721,  0.02250678, -0.20211917,\n",
       "        -0.31972215, -0.15853697, -0.21581222,  0.16825831, -0.21617159,\n",
       "        -0.48592985, -0.23364028, -0.13722137, -0.04469431, -0.1355897 ,\n",
       "        -0.10819568, -0.2219548 , -0.10088089, -0.13666353,  0.1145459 ,\n",
       "        -0.2602746 , -0.24390417, -0.14585629, -0.16982166, -0.03354973,\n",
       "        -0.1882672 , -0.47209433, -0.23154792, -0.2852839 ,  0.00447701,\n",
       "        -0.2466137 ,  0.01513781, -0.35772336, -0.47153482, -0.16192749,\n",
       "        -0.18880709,  0.02534606, -0.21622372, -0.16643879,  0.13549176,\n",
       "        -0.36174542,  0.00318471, -0.00846594, -0.34606802, -0.17864048,\n",
       "        -0.50079393,  0.15257677, -0.13326643, -0.03427297, -0.13887885,\n",
       "        -0.10833173, -0.42906177,  0.07073282, -0.8272588 , -0.34088227,\n",
       "        -0.19610593, -0.12080865,  0.04765316, -0.10128038, -0.34742182,\n",
       "        -0.14102283, -0.19830221, -0.5170853 , -0.26167715,  0.08200791,\n",
       "        -0.0350775 , -0.8242871 , -0.1458042 , -0.57211834, -0.3030035 ,\n",
       "        -0.07657946, -0.01900173,  0.02733069, -0.17630917, -0.5489323 ,\n",
       "        -0.4436115 , -0.24990772, -0.4653536 , -0.12367339, -0.02347991,\n",
       "        -0.5163176 , -0.31180143, -0.02765441, -0.20840229, -0.02387062,\n",
       "        -0.39871982, -0.04175514, -0.4467921 , -0.10026515, -0.59768313,\n",
       "        -0.46691343, -0.28173923], dtype=float32)>,\n",
       " <tf.Variable 'dense_layer_2_5/kernel:0' shape=(512, 512) dtype=float32, numpy=\n",
       " array([[-0.44035417, -0.08319122, -0.07522572, ...,  0.07430229,\n",
       "         -0.02726143,  0.12732434],\n",
       "        [-0.01406842,  0.12247626, -0.43497545, ...,  0.00618181,\n",
       "          0.06629271,  0.47217116],\n",
       "        [ 0.4767634 ,  0.44265702,  0.11117949, ..., -0.20954657,\n",
       "          0.1171995 ,  0.00962094],\n",
       "        ...,\n",
       "        [ 0.19733089,  0.07500589,  0.21224241, ..., -0.38945597,\n",
       "          0.04087703,  0.03677493],\n",
       "        [-0.19920942,  0.29997236, -0.4244362 , ...,  0.35777205,\n",
       "          0.03635927, -0.00325797],\n",
       "        [-0.00409521,  0.20231165, -0.22174703, ..., -0.5272831 ,\n",
       "         -0.13503195, -0.3593861 ]], dtype=float32)>,\n",
       " <tf.Variable 'dense_layer_2_5/bias:0' shape=(512,) dtype=float32, numpy=\n",
       " array([-5.13993859e-01, -6.00391090e-01, -1.02565205e+00,  1.96603984e-02,\n",
       "        -9.64286447e-01, -3.02042425e-01, -2.79223353e-01, -7.91683316e-01,\n",
       "        -1.25697148e+00, -6.34749413e-01, -6.42875314e-01, -8.38303924e-01,\n",
       "         3.75048369e-01,  1.22826135e+00,  4.10792455e-02, -3.48823369e-01,\n",
       "        -8.37945402e-01, -5.57077825e-01, -1.92337680e+00, -6.88903630e-01,\n",
       "        -1.42878699e+00, -1.74578571e+00, -6.96560562e-01, -6.23477757e-01,\n",
       "        -9.93947685e-01, -1.40119100e+00,  7.48132765e-02,  5.23510695e-01,\n",
       "        -1.05909204e+00, -1.05678938e-01, -8.51926327e-01, -1.13171136e+00,\n",
       "        -8.36204886e-01,  3.30297112e-01, -1.12232172e+00, -4.22348201e-01,\n",
       "         3.22610825e-01, -8.03642333e-01, -1.11286557e+00,  1.96023822e-01,\n",
       "        -4.54311579e-01, -2.12987915e-01, -3.06256473e-01, -8.04532349e-01,\n",
       "        -5.48995323e-02, -1.13650477e+00, -1.86033383e-01, -9.95462835e-01,\n",
       "        -4.03522074e-01, -1.08907378e+00, -8.13603401e-01, -9.99267757e-01,\n",
       "         5.36068916e-01, -6.78450227e-01, -7.46327698e-01, -1.99973002e-01,\n",
       "         7.15477407e-01, -1.36275184e+00, -8.76522958e-01, -1.02583504e+00,\n",
       "        -9.96108770e-01, -4.05463755e-01, -8.10392559e-01,  1.37380624e+00,\n",
       "        -2.95545578e-01, -9.79546234e-02, -6.87758207e-01,  1.37252361e-01,\n",
       "        -1.00489795e+00, -7.31188238e-01, -1.23231530e+00, -7.89228559e-01,\n",
       "        -7.27989614e-01, -1.33074176e+00,  1.49906680e-01, -1.05883646e+00,\n",
       "        -5.39433658e-01, -1.45379090e+00, -1.29124737e+00, -4.15208399e-01,\n",
       "        -8.63828897e-01, -9.65946019e-02, -8.06198716e-01,  7.72223234e-01,\n",
       "        -5.28183877e-01, -8.11358690e-01, -1.29313731e+00, -2.81887174e-01,\n",
       "        -2.34232470e-01,  2.72289991e-01, -4.95405912e-01, -1.16225076e+00,\n",
       "        -5.89152217e-01, -1.40832210e+00, -6.53198481e-01, -1.64954972e+00,\n",
       "        -1.73463035e+00, -6.83469832e-01, -1.08742547e+00, -4.15921718e-01,\n",
       "        -5.64897597e-01, -5.75317085e-01, -3.57972383e-01, -7.70333111e-02,\n",
       "         5.02940774e-01, -3.48621428e-01, -1.67420805e+00,  4.32348907e-01,\n",
       "        -1.09945118e+00, -1.02830088e+00,  1.01219761e+00, -1.87412828e-01,\n",
       "        -7.77675569e-01, -5.06599367e-01, -4.45302278e-02, -1.74747241e+00,\n",
       "        -7.70861804e-01, -1.05901241e+00, -6.58254802e-01, -4.50766087e-01,\n",
       "        -2.78983831e-01, -7.41755545e-01, -1.05651760e+00, -1.38073552e+00,\n",
       "        -1.38550818e+00, -1.53669310e+00, -1.61619540e-02,  8.02636564e-01,\n",
       "         6.76285267e-01, -7.58338749e-01, -1.20348024e+00, -1.11127841e+00,\n",
       "        -1.28241324e+00, -5.53993940e-01,  4.75458503e-01, -5.81060231e-01,\n",
       "         1.11498185e-01,  2.34780073e-01, -1.54807985e-01, -1.31210756e+00,\n",
       "        -1.01029563e+00, -7.78311253e-01, -1.35789561e+00, -9.19717014e-01,\n",
       "        -1.25609207e+00, -1.13194034e-01,  4.00508881e-01, -7.22618163e-01,\n",
       "        -1.05772948e+00,  8.85079741e-01,  2.38701358e-01, -1.20700800e+00,\n",
       "        -9.45724249e-01, -2.56541193e-01, -1.04020667e+00, -4.46437269e-01,\n",
       "        -1.27823102e+00,  4.19540219e-02, -1.09785640e+00, -6.76395416e-01,\n",
       "        -1.42547119e+00, -7.81508744e-01,  2.02204455e-02, -4.60170597e-01,\n",
       "        -1.12832502e-01, -3.05958148e-02, -8.34242404e-01, -6.01991117e-01,\n",
       "        -1.35451603e+00,  5.91995418e-01, -1.92008555e-01, -1.08873390e-01,\n",
       "        -1.77869666e+00, -6.13185048e-01, -7.10151672e-01, -1.09448314e+00,\n",
       "        -6.54223919e-01, -6.84696555e-01,  4.48063940e-01,  4.58558649e-01,\n",
       "        -5.46245396e-01, -1.15159893e+00, -1.02293718e+00, -1.77409399e+00,\n",
       "         7.78888345e-01,  7.69424319e-01,  9.80672419e-01, -8.34414840e-01,\n",
       "        -1.65368617e+00,  1.82723805e-01, -3.48805815e-01,  1.24507211e-01,\n",
       "         2.37278119e-01, -5.60807735e-02, -5.00301957e-01, -2.18070909e-01,\n",
       "        -1.61055732e+00, -2.26019114e-01,  7.75548041e-01, -6.70987248e-01,\n",
       "         1.98382604e+00, -1.04046023e+00, -5.54885507e-01, -2.90101588e-01,\n",
       "        -1.12315583e+00, -1.18832004e+00, -1.22823548e+00, -1.74251258e-01,\n",
       "        -9.14054513e-01, -2.63018757e-01, -7.74992168e-01, -1.27801156e+00,\n",
       "        -9.33559060e-01,  2.05987796e-01, -1.59480453e-01, -1.09042811e+00,\n",
       "        -1.09509528e+00, -6.64956212e-01,  1.22047389e+00, -2.79797286e-01,\n",
       "        -3.29573601e-01, -1.16599846e+00, -3.21700424e-01, -1.57216862e-01,\n",
       "         5.63583374e-01, -1.25729418e+00,  1.17708288e-01, -5.57234645e-01,\n",
       "        -4.79370236e-01, -5.70572734e-01, -4.61992890e-01, -1.08069491e+00,\n",
       "        -6.53409421e-01, -7.16538906e-01, -2.41746426e-01, -5.07942021e-01,\n",
       "        -4.68171716e-01, -2.47752979e-01, -9.04691517e-01, -6.67369962e-01,\n",
       "        -1.34503663e+00,  1.85226537e-02, -3.79310936e-01, -1.39572001e+00,\n",
       "         4.64081764e-01, -9.38338637e-01, -1.11537993e+00, -1.31472063e+00,\n",
       "        -7.87087977e-01, -1.05997586e+00,  9.56119969e-03, -9.43344533e-01,\n",
       "        -9.82930541e-01, -8.45232189e-01, -1.16556644e+00, -2.73454964e-01,\n",
       "        -9.34464395e-01, -1.48634553e+00, -6.12162650e-01, -4.49973404e-01,\n",
       "        -1.10974312e+00, -4.35393810e-01,  2.73395449e-01, -1.15229201e+00,\n",
       "        -1.38232112e-01, -1.01961672e+00, -5.12036324e-01, -1.65319180e+00,\n",
       "         1.95128575e-01, -7.52609253e-01, -9.01265621e-01, -4.79678452e-01,\n",
       "        -3.37921605e-02, -4.91553545e-01, -5.19144177e-01,  1.30168962e+00,\n",
       "         1.46624491e-01, -3.12240571e-01, -1.01353788e+00,  7.93070719e-02,\n",
       "        -8.85418057e-01, -1.12976515e+00,  4.87937182e-02, -1.06495357e+00,\n",
       "        -1.15780950e+00, -3.01599354e-01, -1.44103014e+00, -1.28499758e+00,\n",
       "        -3.30908209e-01, -1.28941488e+00, -1.18278933e+00, -5.54402173e-01,\n",
       "        -2.85615593e-01, -4.49711978e-02, -9.42202330e-01, -2.66867995e-01,\n",
       "        -7.69118011e-01,  7.64079571e-01, -1.17536232e-01, -8.64830196e-01,\n",
       "        -1.19897142e-01,  7.06472516e-01, -1.38264489e+00, -1.40981483e+00,\n",
       "        -1.15140748e+00, -6.27923369e-01, -1.20787334e+00, -1.40465343e+00,\n",
       "         3.05553563e-02, -5.49145460e-01, -4.04190302e-01,  1.19988441e-01,\n",
       "         1.10349052e-01, -3.18197012e-01, -1.16373801e+00, -8.13742816e-01,\n",
       "        -3.84455979e-01,  1.29048789e+00,  1.63350940e-01,  4.87377234e-02,\n",
       "         1.03423977e+00, -1.28455147e-01, -7.60217071e-01, -8.02872598e-01,\n",
       "        -2.04705209e-01, -1.05168617e+00, -2.26982296e-01, -1.33699095e+00,\n",
       "        -6.94345534e-01, -9.97800231e-01,  9.47174788e-01,  1.55735433e+00,\n",
       "        -1.68504179e+00, -6.99089170e-01,  3.24006855e-01,  4.19574261e-01,\n",
       "        -2.51091629e-01, -8.90560508e-01,  1.01554610e-01, -1.73334777e+00,\n",
       "         5.45299172e-01, -7.27448225e-01, -6.43097103e-01, -6.85685575e-01,\n",
       "        -1.06288576e+00, -1.18928814e+00, -1.22173868e-01, -4.76252109e-01,\n",
       "         1.59050155e+00, -8.25810254e-01,  1.83092833e-01, -4.69368696e-01,\n",
       "        -7.31222332e-01,  2.34381258e-01, -6.28112793e-01, -8.21995676e-01,\n",
       "         1.31180930e+00,  1.58326164e-01, -6.27635598e-01, -5.77869058e-01,\n",
       "         5.17966270e-01, -6.39632881e-01, -1.97725087e-01, -6.88482940e-01,\n",
       "        -4.93213832e-01,  2.35682219e-01, -2.33186573e-01,  1.16268411e-01,\n",
       "        -4.31978464e-01, -1.03097367e+00,  3.57852578e-01, -9.90536809e-01,\n",
       "        -3.81958514e-01, -3.36107910e-01, -3.96031022e-01,  2.74617344e-01,\n",
       "        -5.73949933e-01, -3.98032337e-01,  4.74945784e-01,  7.25420415e-01,\n",
       "        -7.19808042e-01, -1.19499588e+00, -7.47749865e-01,  9.54723656e-01,\n",
       "        -7.12248385e-02,  1.89240709e-01, -6.12605393e-01, -6.64402962e-01,\n",
       "        -4.51597214e-01, -3.88169229e-01, -1.39560950e+00, -1.21942353e+00,\n",
       "        -5.59358299e-01, -1.46660352e+00, -6.25434041e-01, -4.28992689e-01,\n",
       "         3.48823607e-01, -1.67483222e+00, -5.01311004e-01, -6.81041479e-01,\n",
       "        -5.03798246e-01, -4.97232139e-01, -6.03999376e-01, -7.78506219e-01,\n",
       "        -7.03479171e-01, -3.80188107e-01, -1.02675462e+00, -9.96801496e-01,\n",
       "        -5.53062141e-01, -1.52935497e-02, -4.29160714e-01, -9.34096158e-01,\n",
       "        -6.02862332e-04, -4.71756995e-01,  2.69963086e-01, -1.41654205e+00,\n",
       "        -2.24975586e-01, -1.02273989e+00,  1.20645128e-02, -1.55409193e+00,\n",
       "        -1.76030123e+00, -1.11711633e+00, -6.51259780e-01, -2.23467618e-01,\n",
       "        -8.10638845e-01, -9.60752904e-01, -1.36539257e+00, -9.10105228e-01,\n",
       "        -1.48305082e+00, -1.68019056e-01, -5.60022712e-01, -4.33587888e-03,\n",
       "        -4.15617436e-01, -2.00661325e+00, -1.53646934e+00, -1.05210733e+00,\n",
       "        -6.56461716e-01, -1.27272201e+00, -7.24964976e-01, -1.15101790e+00,\n",
       "        -1.66066498e-01, -4.08188343e-01, -3.60998690e-01, -1.04052734e+00,\n",
       "        -5.98054051e-01,  3.84903282e-01, -7.63664663e-01, -8.65060031e-01,\n",
       "        -7.69958317e-01, -7.77396977e-01, -6.18239880e-01, -1.17311716e+00,\n",
       "        -9.23062682e-01, -8.87576699e-01, -2.41828725e-01,  3.45028818e-01,\n",
       "         5.76221168e-01, -6.81725323e-01, -9.19991791e-01, -1.09187603e+00,\n",
       "        -4.42823976e-01, -7.30655491e-02, -2.20693082e-01, -5.12944698e-01,\n",
       "        -9.33151543e-01, -2.99604893e-01, -9.13692236e-01, -1.00229609e+00,\n",
       "        -5.91773510e-01, -2.98719168e-01, -6.92933798e-01, -9.50371444e-01,\n",
       "        -5.73854625e-01,  6.10569596e-01, -6.84277594e-01,  1.38407037e-01,\n",
       "        -1.00095713e+00, -2.75662571e-01,  6.52880430e-01, -9.36283290e-01,\n",
       "        -1.66488600e+00, -8.92647684e-01, -9.92556512e-02,  1.11648214e+00,\n",
       "        -1.01740646e+00, -1.19313347e+00, -1.92739964e-01, -5.85202992e-01,\n",
       "        -4.96495217e-01, -1.08517420e+00, -9.39378321e-01, -8.05199504e-01,\n",
       "        -9.13305223e-01, -1.77148864e-01,  4.10916299e-01, -7.05146611e-01,\n",
       "         1.77325368e+00,  7.84417272e-01, -1.85980582e+00, -1.42040646e+00,\n",
       "         7.58153796e-01, -9.91205871e-01, -1.08365393e+00,  5.04517376e-01,\n",
       "        -8.74965370e-01,  3.77183259e-01, -5.83088815e-01, -1.23768067e+00,\n",
       "         6.33844495e-01, -4.58534807e-01, -9.40453053e-01, -1.36342514e+00],\n",
       "       dtype=float32)>,\n",
       " <tf.Variable 'dense_layer_3_5/kernel:0' shape=(512, 512) dtype=float32, numpy=\n",
       " array([[ 0.18611118, -0.19383721, -0.50466704, ...,  0.15832447,\n",
       "         -0.22649865, -0.18223947],\n",
       "        [-0.3003918 ,  0.06276278, -0.01877323, ..., -0.03724123,\n",
       "         -0.22941291, -0.24485902],\n",
       "        [-0.12177542,  0.09897343,  0.04078612, ..., -0.17337352,\n",
       "         -0.1430232 , -0.06145266],\n",
       "        ...,\n",
       "        [-0.14638147, -0.16636848, -0.23927179, ..., -0.0186762 ,\n",
       "         -0.1765334 ,  0.14642686],\n",
       "        [ 0.05269847,  0.20927593,  0.05150254, ...,  0.11848488,\n",
       "          0.07681153, -0.0859415 ],\n",
       "        [-0.20123975,  0.14314917, -0.32045376, ..., -0.02859597,\n",
       "          0.20120038, -0.17695075]], dtype=float32)>,\n",
       " <tf.Variable 'dense_layer_3_5/bias:0' shape=(512,) dtype=float32, numpy=\n",
       " array([-1.0062634 , -0.6798678 , -0.72317207, -0.7866308 , -0.87084115,\n",
       "        -0.8408435 , -1.0654339 , -0.948204  , -0.84516823, -0.5893209 ,\n",
       "        -0.6942598 , -0.6271085 , -0.97328496, -0.9154043 , -0.7976199 ,\n",
       "        -0.77897245, -0.6938282 , -1.1434863 , -0.8073318 , -0.48979288,\n",
       "        -0.92079127, -0.8113516 , -0.45187646, -0.8155408 , -0.5984913 ,\n",
       "        -0.7168748 , -0.905786  , -0.66941166, -0.4613903 , -0.72540545,\n",
       "        -0.6220611 , -0.8541153 , -0.7365284 , -0.6223517 , -0.5412959 ,\n",
       "        -0.7411032 , -0.7689171 , -0.7968402 , -0.75489575, -0.71123785,\n",
       "        -0.71877116, -0.31203088, -1.0126634 , -0.6827104 , -1.1628327 ,\n",
       "        -0.47750184, -1.0873864 , -0.7576321 , -0.9778263 , -0.7593377 ,\n",
       "        -0.9057787 , -0.84406066, -0.96321076, -0.8104089 , -1.0336996 ,\n",
       "        -0.2296144 , -0.6729928 , -0.5156294 , -0.57416487, -0.73320013,\n",
       "        -0.82658553, -1.0187305 , -0.7649182 , -0.7520017 , -1.0833211 ,\n",
       "        -0.20817956, -0.9731998 , -0.79823947, -0.85748786,  0.048072  ,\n",
       "        -0.15858278, -0.4367053 , -0.85373944, -1.0870684 , -0.31460348,\n",
       "        -1.0415232 , -0.48766443, -0.69375753, -0.22836734, -0.68779635,\n",
       "        -0.58665144, -0.7297727 , -0.79413277, -0.7861993 , -0.95585364,\n",
       "        -0.60391015, -0.9465874 , -0.60670006, -0.4399705 , -0.5377412 ,\n",
       "        -1.0288782 , -0.5810415 , -0.79219985, -0.58170253, -0.54736334,\n",
       "        -0.8764467 , -0.9655326 , -0.70532495, -0.588143  , -0.85187316,\n",
       "        -0.66847026, -0.6121687 , -0.8665182 , -0.36163744, -0.7178133 ,\n",
       "        -0.49264994, -1.1255641 , -0.22981928, -0.95019794, -0.91873693,\n",
       "        -0.6240258 , -0.86049986, -0.86565924, -0.8531966 , -0.18484254,\n",
       "        -0.7021266 , -0.51949173, -0.70348865, -1.1067518 , -1.2936584 ,\n",
       "         0.07854186, -0.839392  , -0.7121911 , -0.7004871 , -0.15000954,\n",
       "        -0.18104567, -0.95428777, -0.8971758 , -0.9562184 , -0.591648  ,\n",
       "        -0.48650676, -0.65950805, -1.0524215 , -0.45353857, -0.938585  ,\n",
       "        -0.66908365, -1.1357177 , -0.9644425 , -1.4211128 , -0.91758627,\n",
       "        -1.0313491 , -0.5328197 , -0.6369358 , -0.8100263 , -0.30138087,\n",
       "        -0.5472418 , -0.925562  , -0.8282746 , -0.8195398 , -0.62726194,\n",
       "        -0.77606946, -0.9458622 , -0.86645406, -0.52859056, -0.49687022,\n",
       "        -0.90320927, -0.8220788 , -0.45998296, -1.0910898 , -0.7667234 ,\n",
       "        -0.84906846, -0.66477805, -0.95537347, -0.81817025, -0.7082717 ,\n",
       "        -0.44126666, -0.81905085, -0.7545922 , -0.78417075, -0.7020788 ,\n",
       "        -0.29222977, -0.7248468 , -1.0615196 , -0.68877745, -0.9429862 ,\n",
       "        -0.5749579 , -1.0654929 , -0.94413215, -1.1149988 , -0.87359685,\n",
       "        -0.74774444, -0.47917303, -0.855298  , -0.82175446, -0.5085722 ,\n",
       "        -0.8708938 , -0.7080334 , -0.73585886, -0.30546102, -0.79563016,\n",
       "        -0.8143318 , -0.60298115, -1.1688929 , -0.7592518 , -0.50551015,\n",
       "        -0.42435753, -1.0388726 , -0.6389326 , -0.4947527 , -0.32281926,\n",
       "        -0.86019254, -0.715451  , -0.44836795, -0.6745256 , -0.7148247 ,\n",
       "        -0.6941388 , -0.744022  , -0.48187968, -0.6823203 , -0.94184893,\n",
       "        -1.0720016 , -0.92321044, -0.9217684 , -0.53263664, -0.36520267,\n",
       "        -0.5919072 , -0.9577809 , -0.5292064 , -0.44178987, -0.48624378,\n",
       "        -0.8401942 , -0.5163445 , -0.79818714, -0.8297769 , -0.36861557,\n",
       "        -0.8345171 , -0.8345908 , -0.72925353, -1.0079309 , -0.23860143,\n",
       "        -0.8110469 , -0.3815502 , -0.8033986 , -0.54512817, -0.9296068 ,\n",
       "        -1.0765791 , -0.09666684, -0.6186371 , -0.75645304, -0.39989933,\n",
       "        -0.83807206, -0.6991779 , -0.2268238 , -0.7646076 , -0.7329471 ,\n",
       "        -0.70573264, -0.8874484 , -0.55998003, -0.9133968 , -0.7130984 ,\n",
       "        -0.9231696 , -0.47170684, -0.85673875, -1.0349579 , -0.59033006,\n",
       "        -0.97842306, -0.7463513 , -0.7308897 , -0.48771033, -0.55484617,\n",
       "        -0.7866825 , -0.6789063 , -0.9229129 , -1.3049116 , -0.6015771 ,\n",
       "        -0.91685796, -0.8770778 , -0.7441809 , -0.8318752 , -0.4461999 ,\n",
       "        -0.74138   , -0.86065316, -0.5208054 , -0.76829857, -0.6948509 ,\n",
       "        -0.75791335, -0.24610348, -0.22480203, -0.7857186 , -0.99154186,\n",
       "        -0.7536548 , -0.34038514, -0.7950539 , -0.75063014, -1.0280491 ,\n",
       "        -0.6290381 , -0.690685  , -0.36635765, -0.67253375, -0.5390768 ,\n",
       "        -0.7766789 , -0.8458305 , -0.8049631 , -0.9315908 , -0.83485866,\n",
       "        -0.71423656, -1.0550649 , -0.5744383 , -0.5776482 , -0.6141404 ,\n",
       "        -0.9158669 , -0.8695732 , -0.94498515, -0.89030606, -0.7495628 ,\n",
       "        -0.58031857, -0.7151839 , -1.2892148 , -0.786654  , -0.21456191,\n",
       "        -0.5209136 , -0.69797486, -0.87532836, -0.34074223, -0.81454617,\n",
       "        -0.75576705, -0.7863748 , -0.8350926 , -0.32317674, -0.6853701 ,\n",
       "        -0.9892173 , -0.78728145, -0.79978216, -0.8396424 , -0.5519047 ,\n",
       "        -1.1569804 , -0.73068994, -0.86060166, -0.36525682, -0.9772056 ,\n",
       "        -0.29671603, -0.7970688 , -0.6030568 , -0.59733254, -0.55914944,\n",
       "        -0.83550835, -0.74234605, -0.7458986 , -0.5922046 , -0.8535487 ,\n",
       "        -1.0255033 , -1.0354588 ,  0.35653135, -0.9787557 , -0.99942833,\n",
       "        -0.77299756, -0.53189605, -0.59203565, -0.33414146, -0.9568651 ,\n",
       "        -0.5646779 , -0.75187844, -1.0480083 , -0.6918022 , -0.6971248 ,\n",
       "        -0.77046806, -1.0703388 , -0.9754308 , -0.42257497, -0.9897199 ,\n",
       "        -0.7560951 , -0.75867444, -0.28247172, -0.93997425, -0.5843143 ,\n",
       "        -0.6626432 , -0.74912983, -0.86097735, -0.6715876 , -0.6770028 ,\n",
       "        -0.89218265, -0.79881173, -0.41192973, -0.59154534, -0.26065254,\n",
       "        -0.8931376 , -0.61567426, -0.87069535, -0.9916513 , -0.71123135,\n",
       "        -0.4921528 , -0.70993316, -0.8117828 , -0.33142328, -0.39336818,\n",
       "        -0.8508605 , -0.48204544, -0.7497612 , -0.46079987, -0.51960146,\n",
       "        -0.92929244, -0.74291617, -0.82730293, -0.7379736 , -0.7438417 ,\n",
       "        -0.6304524 , -0.72744995, -0.85007536, -0.3512579 , -1.0211724 ,\n",
       "        -0.43688208, -0.6308645 , -0.6062578 , -0.6528515 , -0.6378453 ,\n",
       "        -0.9443096 , -0.9971505 , -0.796638  , -0.6713223 , -0.5184089 ,\n",
       "        -0.94528973, -0.35082376, -0.96980876, -0.5575063 , -0.6737092 ,\n",
       "        -0.91184974, -0.6038707 , -0.9159912 , -0.65361965, -0.8729367 ,\n",
       "        -1.0598643 , -0.85768664, -1.0366546 , -0.73627865, -0.3719077 ,\n",
       "        -0.34646297, -0.43880236, -0.908039  , -0.653311  , -0.25472358,\n",
       "        -0.89909196, -0.5886765 , -0.91153   , -0.6176268 , -0.7882113 ,\n",
       "        -0.81999606, -0.84992784, -1.001833  , -0.01858433, -0.5863945 ,\n",
       "        -0.27841642, -0.5945769 , -0.8551585 , -0.65736043, -0.7051062 ,\n",
       "        -0.93297654, -0.8371272 , -0.91195405, -1.000361  , -0.728948  ,\n",
       "        -0.53774315, -0.595103  , -1.1484402 , -1.0177116 , -0.37030175,\n",
       "        -0.63050276, -0.7695749 , -0.7157384 , -0.8673552 , -0.6994162 ,\n",
       "        -0.8843584 , -0.65736026, -0.90061456, -1.0373873 , -0.696217  ,\n",
       "        -0.9208063 , -0.7743207 , -0.4780876 , -0.8416628 , -0.92621976,\n",
       "        -0.5823429 , -0.76579005, -0.29873392, -0.7330647 , -0.74131984,\n",
       "        -0.78695595, -0.8346436 , -0.9612899 , -1.1711692 , -1.0320503 ,\n",
       "        -0.6593316 , -0.5513593 , -0.68055296, -0.58192664, -0.6796016 ,\n",
       "        -0.6706442 , -0.70287544, -0.8010943 , -1.0854157 , -0.49702495,\n",
       "        -0.6721347 , -0.4487459 , -0.8838427 , -0.9843363 , -0.804993  ,\n",
       "        -0.92997855, -0.6845463 , -0.9893227 , -1.1956239 , -0.8130097 ,\n",
       "        -0.4849313 , -0.4347491 , -0.57402503, -0.4652761 , -1.0957    ,\n",
       "        -1.0322578 , -0.5291855 , -0.35328877, -0.63943446, -0.37503016,\n",
       "        -0.9531655 , -0.58760864], dtype=float32)>,\n",
       " <tf.Variable 'dense_layer_4_1/kernel:0' shape=(512, 10) dtype=float32, numpy=\n",
       " array([[-0.66375923, -0.20214018, -0.15328205, ..., -0.11945322,\n",
       "         -0.21704675, -0.5998185 ],\n",
       "        [-0.87697846, -0.03075726, -0.08376382, ..., -0.04918905,\n",
       "         -0.4294732 , -0.2142615 ],\n",
       "        [-0.60211354, -0.16142409, -0.3027122 , ..., -0.28254467,\n",
       "         -0.39632118, -0.2879008 ],\n",
       "        ...,\n",
       "        [-0.37189138, -0.23510095, -0.1307017 , ..., -0.3008866 ,\n",
       "         -0.15480375, -0.3829885 ],\n",
       "        [-0.32665512, -0.2520203 , -0.371443  , ..., -0.20058699,\n",
       "         -0.4451676 , -0.32839733],\n",
       "        [-0.16473784, -0.31014487, -0.4785778 , ..., -0.10363201,\n",
       "         -0.11509958, -0.04660525]], dtype=float32)>,\n",
       " <tf.Variable 'dense_layer_4_1/bias:0' shape=(10,) dtype=float32, numpy=\n",
       " array([ 1.189597  , -0.7949364 , -0.92511517, -0.4785647 , -0.33940768,\n",
       "        -0.8825297 , -0.33439437, -0.95009017,  1.6654049 ,  0.93292344],\n",
       "       dtype=float32)>]"
      ]
     },
     "execution_count": 60,
     "metadata": {
      "tags": []
     },
     "output_type": "execute_result"
    }
   ],
   "source": [
    "model_6.weights"
   ]
  },
  {
   "cell_type": "code",
   "execution_count": null,
   "metadata": {
    "colab": {
     "base_uri": "https://localhost:8080/",
     "height": 1000
    },
    "id": "V5lg_PNsi041",
    "outputId": "02c75016-802a-4897-f8e8-02a6ba4d234e"
   },
   "outputs": [
    {
     "data": {
      "text/plain": [
       "{'build_input_shape': TensorShape([None, 784]),\n",
       " 'layers': [{'class_name': 'Dense',\n",
       "   'config': {'activation': 'relu',\n",
       "    'activity_regularizer': None,\n",
       "    'batch_input_shape': (None, 784),\n",
       "    'bias_constraint': None,\n",
       "    'bias_initializer': {'class_name': 'Zeros', 'config': {}},\n",
       "    'bias_regularizer': None,\n",
       "    'dtype': 'float32',\n",
       "    'kernel_constraint': None,\n",
       "    'kernel_initializer': {'class_name': 'GlorotUniform',\n",
       "     'config': {'seed': None}},\n",
       "    'kernel_regularizer': None,\n",
       "    'name': 'dense_layer',\n",
       "    'trainable': True,\n",
       "    'units': 512,\n",
       "    'use_bias': True}},\n",
       "  {'class_name': 'Dropout',\n",
       "   'config': {'dtype': 'float32',\n",
       "    'name': 'dropout_8',\n",
       "    'noise_shape': None,\n",
       "    'rate': 0.3,\n",
       "    'seed': None,\n",
       "    'trainable': True}},\n",
       "  {'class_name': 'Dense',\n",
       "   'config': {'activation': 'relu',\n",
       "    'activity_regularizer': None,\n",
       "    'bias_constraint': None,\n",
       "    'bias_initializer': {'class_name': 'Zeros', 'config': {}},\n",
       "    'bias_regularizer': None,\n",
       "    'dtype': 'float32',\n",
       "    'kernel_constraint': None,\n",
       "    'kernel_initializer': {'class_name': 'GlorotUniform',\n",
       "     'config': {'seed': None}},\n",
       "    'kernel_regularizer': None,\n",
       "    'name': 'dense_layer_2',\n",
       "    'trainable': True,\n",
       "    'units': 512,\n",
       "    'use_bias': True}},\n",
       "  {'class_name': 'Dropout',\n",
       "   'config': {'dtype': 'float32',\n",
       "    'name': 'dropout_9',\n",
       "    'noise_shape': None,\n",
       "    'rate': 0.3,\n",
       "    'seed': None,\n",
       "    'trainable': True}},\n",
       "  {'class_name': 'Dense',\n",
       "   'config': {'activation': 'relu',\n",
       "    'activity_regularizer': None,\n",
       "    'bias_constraint': None,\n",
       "    'bias_initializer': {'class_name': 'Zeros', 'config': {}},\n",
       "    'bias_regularizer': None,\n",
       "    'dtype': 'float32',\n",
       "    'kernel_constraint': None,\n",
       "    'kernel_initializer': {'class_name': 'GlorotUniform',\n",
       "     'config': {'seed': None}},\n",
       "    'kernel_regularizer': None,\n",
       "    'name': 'dense_layer_3',\n",
       "    'trainable': True,\n",
       "    'units': 512,\n",
       "    'use_bias': True}},\n",
       "  {'class_name': 'Dropout',\n",
       "   'config': {'dtype': 'float32',\n",
       "    'name': 'dropout_10',\n",
       "    'noise_shape': None,\n",
       "    'rate': 0.3,\n",
       "    'seed': None,\n",
       "    'trainable': True}},\n",
       "  {'class_name': 'Dense',\n",
       "   'config': {'activation': 'softmax',\n",
       "    'activity_regularizer': None,\n",
       "    'bias_constraint': None,\n",
       "    'bias_initializer': {'class_name': 'Zeros', 'config': {}},\n",
       "    'bias_regularizer': None,\n",
       "    'dtype': 'float32',\n",
       "    'kernel_constraint': None,\n",
       "    'kernel_initializer': {'class_name': 'GlorotUniform',\n",
       "     'config': {'seed': None}},\n",
       "    'kernel_regularizer': None,\n",
       "    'name': 'dense_layer_4',\n",
       "    'trainable': True,\n",
       "    'units': 10,\n",
       "    'use_bias': True}}],\n",
       " 'name': 'sequential_6'}"
      ]
     },
     "execution_count": 61,
     "metadata": {
      "tags": []
     },
     "output_type": "execute_result"
    }
   ],
   "source": [
    "model_6.get_config()"
   ]
  },
  {
   "cell_type": "code",
   "execution_count": null,
   "metadata": {
    "id": "MYuwC1ctTgv3"
   },
   "outputs": [],
   "source": []
  },
  {
   "cell_type": "code",
   "execution_count": null,
   "metadata": {
    "id": "CSXCZuFETx2I"
   },
   "outputs": [],
   "source": [
    "import tensorflow as tf\n",
    "\n",
    "#In Keras, layers are assembled to build models \n",
    "from tensorflow.keras.layers import Dense\n",
    "from tensorflow.keras.layers import Dropout\n",
    "\n",
    "#Most common type of model is a stack of layers\n",
    "model_6 = tf.keras.Sequential()\n",
    "N_hidden = 512\n",
    "\n",
    "# Adds a densely-connected layer with 64 units to the model:\n",
    "model_6.add(Dense(N_hidden, name='dense_layer', input_shape=(784,), activation = 'relu'))\n",
    "# Now the model will take as input arrays of shape (*, 784)# and output arrays of shape (*, 64)\n",
    "model_6.add(Dropout(0.3))\n",
    "\n",
    "# Adding another dense layer:\n",
    "model_6.add(Dense(N_hidden, name='dense_layer_2', activation='relu'))\n",
    "model_6.add(Dropout(0.3))\n",
    "\n",
    "# Adding another dense layer:\n",
    "model_6.add(Dense(N_hidden, name='dense_layer_3', activation='relu'))\n",
    "model_6.add(Dropout(0.3))\n",
    "\n",
    "# Add an output layer with 10 output units (10 different classes):\n",
    "model_6.add(Dense(10, name='dense_layer_4', activation = 'softmax'))\n"
   ]
  },
  {
   "cell_type": "code",
   "execution_count": null,
   "metadata": {
    "id": "SYAF9lQKTx2N"
   },
   "outputs": [],
   "source": [
    "# Compiling the model.\n",
    "model_6.compile(optimizer='Adam', \n",
    "              loss='categorical_crossentropy',\n",
    "              metrics=['accuracy'])"
   ]
  },
  {
   "cell_type": "code",
   "execution_count": null,
   "metadata": {
    "colab": {
     "base_uri": "https://localhost:8080/",
     "height": 1000
    },
    "id": "mjb5cWXWTx2R",
    "outputId": "f5c11217-9837-4f6d-bd2b-b0f8a52dd914"
   },
   "outputs": [
    {
     "name": "stdout",
     "output_type": "stream",
     "text": [
      "Epoch 1/100\n",
      "750/750 [==============================] - 12s 16ms/step - loss: 0.5824 - accuracy: 0.7898 - val_loss: 0.4665 - val_accuracy: 0.8259\n",
      "Epoch 2/100\n",
      "750/750 [==============================] - 12s 16ms/step - loss: 0.4345 - accuracy: 0.8421 - val_loss: 0.3847 - val_accuracy: 0.8580\n",
      "Epoch 3/100\n",
      "750/750 [==============================] - 12s 16ms/step - loss: 0.4047 - accuracy: 0.8546 - val_loss: 0.3588 - val_accuracy: 0.8709\n",
      "Epoch 4/100\n",
      "750/750 [==============================] - 12s 16ms/step - loss: 0.3814 - accuracy: 0.8609 - val_loss: 0.3477 - val_accuracy: 0.8743\n",
      "Epoch 5/100\n",
      "750/750 [==============================] - 12s 16ms/step - loss: 0.3639 - accuracy: 0.8668 - val_loss: 0.3484 - val_accuracy: 0.8767\n",
      "Epoch 6/100\n",
      "750/750 [==============================] - 12s 16ms/step - loss: 0.3519 - accuracy: 0.8709 - val_loss: 0.3355 - val_accuracy: 0.8766\n",
      "Epoch 7/100\n",
      "750/750 [==============================] - 12s 17ms/step - loss: 0.3435 - accuracy: 0.8757 - val_loss: 0.3402 - val_accuracy: 0.8729\n",
      "Epoch 8/100\n",
      "750/750 [==============================] - 12s 16ms/step - loss: 0.3343 - accuracy: 0.8760 - val_loss: 0.3294 - val_accuracy: 0.8814\n",
      "Epoch 9/100\n",
      "750/750 [==============================] - 12s 16ms/step - loss: 0.3240 - accuracy: 0.8801 - val_loss: 0.3407 - val_accuracy: 0.8787\n",
      "Epoch 10/100\n",
      "750/750 [==============================] - 12s 15ms/step - loss: 0.3191 - accuracy: 0.8812 - val_loss: 0.3512 - val_accuracy: 0.8754\n",
      "Epoch 11/100\n",
      "750/750 [==============================] - 12s 16ms/step - loss: 0.3132 - accuracy: 0.8845 - val_loss: 0.3075 - val_accuracy: 0.8849\n",
      "Epoch 12/100\n",
      "750/750 [==============================] - 12s 15ms/step - loss: 0.3090 - accuracy: 0.8875 - val_loss: 0.3263 - val_accuracy: 0.8844\n",
      "Epoch 13/100\n",
      "750/750 [==============================] - 11s 15ms/step - loss: 0.3028 - accuracy: 0.8890 - val_loss: 0.3087 - val_accuracy: 0.8885\n",
      "Epoch 14/100\n",
      "750/750 [==============================] - 12s 16ms/step - loss: 0.2984 - accuracy: 0.8892 - val_loss: 0.3145 - val_accuracy: 0.8878\n",
      "Epoch 15/100\n",
      "750/750 [==============================] - 12s 16ms/step - loss: 0.2935 - accuracy: 0.8936 - val_loss: 0.3297 - val_accuracy: 0.8835\n",
      "Epoch 16/100\n",
      "750/750 [==============================] - 12s 16ms/step - loss: 0.2907 - accuracy: 0.8927 - val_loss: 0.3085 - val_accuracy: 0.8882\n",
      "Epoch 17/100\n",
      "750/750 [==============================] - 12s 16ms/step - loss: 0.2835 - accuracy: 0.8944 - val_loss: 0.3131 - val_accuracy: 0.8906\n",
      "Epoch 18/100\n",
      "750/750 [==============================] - 12s 16ms/step - loss: 0.2829 - accuracy: 0.8961 - val_loss: 0.3113 - val_accuracy: 0.8854\n",
      "Epoch 19/100\n",
      "750/750 [==============================] - 12s 16ms/step - loss: 0.2774 - accuracy: 0.8963 - val_loss: 0.3212 - val_accuracy: 0.8898\n",
      "Epoch 20/100\n",
      "750/750 [==============================] - 12s 15ms/step - loss: 0.2792 - accuracy: 0.8966 - val_loss: 0.2974 - val_accuracy: 0.8920\n",
      "Epoch 21/100\n",
      "750/750 [==============================] - 12s 16ms/step - loss: 0.2748 - accuracy: 0.8980 - val_loss: 0.3085 - val_accuracy: 0.8934\n",
      "Epoch 22/100\n",
      "750/750 [==============================] - 12s 16ms/step - loss: 0.2720 - accuracy: 0.8999 - val_loss: 0.3026 - val_accuracy: 0.8893\n",
      "Epoch 23/100\n",
      "750/750 [==============================] - 14s 19ms/step - loss: 0.2719 - accuracy: 0.8997 - val_loss: 0.3210 - val_accuracy: 0.8887\n",
      "Epoch 24/100\n",
      "750/750 [==============================] - 15s 20ms/step - loss: 0.2648 - accuracy: 0.9014 - val_loss: 0.3132 - val_accuracy: 0.8913\n",
      "Epoch 25/100\n",
      "750/750 [==============================] - 13s 17ms/step - loss: 0.2623 - accuracy: 0.9030 - val_loss: 0.3120 - val_accuracy: 0.8882\n",
      "Epoch 26/100\n",
      "750/750 [==============================] - 13s 18ms/step - loss: 0.2609 - accuracy: 0.9022 - val_loss: 0.2991 - val_accuracy: 0.8940\n",
      "Epoch 27/100\n",
      "750/750 [==============================] - 13s 17ms/step - loss: 0.2559 - accuracy: 0.9053 - val_loss: 0.2990 - val_accuracy: 0.8938\n",
      "Epoch 28/100\n",
      "750/750 [==============================] - 12s 16ms/step - loss: 0.2554 - accuracy: 0.9059 - val_loss: 0.2966 - val_accuracy: 0.8975\n",
      "Epoch 29/100\n",
      "750/750 [==============================] - 12s 16ms/step - loss: 0.2515 - accuracy: 0.9063 - val_loss: 0.3196 - val_accuracy: 0.8921\n",
      "Epoch 30/100\n",
      "750/750 [==============================] - 12s 16ms/step - loss: 0.2493 - accuracy: 0.9072 - val_loss: 0.3025 - val_accuracy: 0.8929\n",
      "Epoch 31/100\n",
      "750/750 [==============================] - 13s 17ms/step - loss: 0.2523 - accuracy: 0.9064 - val_loss: 0.3109 - val_accuracy: 0.8946\n",
      "Epoch 32/100\n",
      "750/750 [==============================] - 13s 17ms/step - loss: 0.2490 - accuracy: 0.9071 - val_loss: 0.3132 - val_accuracy: 0.8942\n",
      "Epoch 33/100\n",
      "750/750 [==============================] - 13s 17ms/step - loss: 0.2456 - accuracy: 0.9084 - val_loss: 0.3337 - val_accuracy: 0.8935\n",
      "Epoch 34/100\n",
      "750/750 [==============================] - 12s 16ms/step - loss: 0.2422 - accuracy: 0.9115 - val_loss: 0.3244 - val_accuracy: 0.8931\n",
      "Epoch 35/100\n",
      "750/750 [==============================] - 12s 17ms/step - loss: 0.2439 - accuracy: 0.9096 - val_loss: 0.3130 - val_accuracy: 0.8952\n",
      "Epoch 36/100\n",
      "750/750 [==============================] - 12s 16ms/step - loss: 0.2413 - accuracy: 0.9103 - val_loss: 0.3147 - val_accuracy: 0.8961\n",
      "Epoch 37/100\n",
      "750/750 [==============================] - 13s 17ms/step - loss: 0.2394 - accuracy: 0.9106 - val_loss: 0.3199 - val_accuracy: 0.8948\n",
      "Epoch 38/100\n",
      "750/750 [==============================] - 12s 16ms/step - loss: 0.2374 - accuracy: 0.9117 - val_loss: 0.3112 - val_accuracy: 0.8943\n",
      "Epoch 39/100\n",
      "750/750 [==============================] - 12s 16ms/step - loss: 0.2328 - accuracy: 0.9146 - val_loss: 0.3118 - val_accuracy: 0.8984\n",
      "Epoch 40/100\n",
      "750/750 [==============================] - 13s 17ms/step - loss: 0.2349 - accuracy: 0.9123 - val_loss: 0.3182 - val_accuracy: 0.8936\n",
      "Epoch 41/100\n",
      "750/750 [==============================] - 12s 16ms/step - loss: 0.2360 - accuracy: 0.9135 - val_loss: 0.3145 - val_accuracy: 0.8921\n",
      "Epoch 42/100\n",
      "750/750 [==============================] - 12s 16ms/step - loss: 0.2361 - accuracy: 0.9134 - val_loss: 0.3117 - val_accuracy: 0.8949\n",
      "Epoch 43/100\n",
      "750/750 [==============================] - 12s 16ms/step - loss: 0.2278 - accuracy: 0.9161 - val_loss: 0.3256 - val_accuracy: 0.8956\n",
      "Epoch 44/100\n",
      "750/750 [==============================] - 12s 16ms/step - loss: 0.2228 - accuracy: 0.9172 - val_loss: 0.3183 - val_accuracy: 0.8938\n",
      "Epoch 45/100\n",
      "750/750 [==============================] - 12s 16ms/step - loss: 0.2250 - accuracy: 0.9161 - val_loss: 0.3285 - val_accuracy: 0.8942\n",
      "Epoch 46/100\n",
      "750/750 [==============================] - 13s 17ms/step - loss: 0.2223 - accuracy: 0.9179 - val_loss: 0.3255 - val_accuracy: 0.8935\n",
      "Epoch 47/100\n",
      "750/750 [==============================] - 12s 16ms/step - loss: 0.2247 - accuracy: 0.9176 - val_loss: 0.3231 - val_accuracy: 0.8938\n",
      "Epoch 48/100\n",
      "750/750 [==============================] - 12s 16ms/step - loss: 0.2242 - accuracy: 0.9169 - val_loss: 0.3299 - val_accuracy: 0.8963\n",
      "Epoch 49/100\n",
      "750/750 [==============================] - 12s 16ms/step - loss: 0.2292 - accuracy: 0.9162 - val_loss: 0.3128 - val_accuracy: 0.8971\n",
      "Epoch 50/100\n",
      "750/750 [==============================] - 12s 16ms/step - loss: 0.2205 - accuracy: 0.9176 - val_loss: 0.3302 - val_accuracy: 0.8956\n",
      "Epoch 51/100\n",
      "750/750 [==============================] - 13s 17ms/step - loss: 0.2220 - accuracy: 0.9192 - val_loss: 0.3126 - val_accuracy: 0.8987\n",
      "Epoch 52/100\n",
      "750/750 [==============================] - 12s 17ms/step - loss: 0.2165 - accuracy: 0.9187 - val_loss: 0.3261 - val_accuracy: 0.8982\n",
      "Epoch 53/100\n",
      "750/750 [==============================] - 12s 16ms/step - loss: 0.2176 - accuracy: 0.9215 - val_loss: 0.3264 - val_accuracy: 0.8990\n",
      "Epoch 54/100\n",
      "750/750 [==============================] - 12s 16ms/step - loss: 0.2195 - accuracy: 0.9184 - val_loss: 0.3227 - val_accuracy: 0.8986\n",
      "Epoch 55/100\n",
      "750/750 [==============================] - 13s 17ms/step - loss: 0.2157 - accuracy: 0.9215 - val_loss: 0.3317 - val_accuracy: 0.8977\n",
      "Epoch 56/100\n",
      "750/750 [==============================] - 12s 16ms/step - loss: 0.2158 - accuracy: 0.9204 - val_loss: 0.3236 - val_accuracy: 0.8998\n",
      "Epoch 57/100\n",
      "750/750 [==============================] - 12s 17ms/step - loss: 0.2151 - accuracy: 0.9211 - val_loss: 0.3577 - val_accuracy: 0.8964\n",
      "Epoch 58/100\n",
      "750/750 [==============================] - 13s 18ms/step - loss: 0.2150 - accuracy: 0.9216 - val_loss: 0.3220 - val_accuracy: 0.8986\n",
      "Epoch 59/100\n",
      "750/750 [==============================] - 13s 17ms/step - loss: 0.2112 - accuracy: 0.9223 - val_loss: 0.3377 - val_accuracy: 0.8972\n",
      "Epoch 60/100\n",
      "750/750 [==============================] - 12s 16ms/step - loss: 0.2064 - accuracy: 0.9235 - val_loss: 0.3193 - val_accuracy: 0.8987\n",
      "Epoch 61/100\n",
      "750/750 [==============================] - 12s 16ms/step - loss: 0.2100 - accuracy: 0.9222 - val_loss: 0.3317 - val_accuracy: 0.8955\n",
      "Epoch 62/100\n",
      "750/750 [==============================] - 12s 16ms/step - loss: 0.2116 - accuracy: 0.9211 - val_loss: 0.3467 - val_accuracy: 0.8931\n",
      "Epoch 63/100\n",
      "750/750 [==============================] - 13s 17ms/step - loss: 0.2033 - accuracy: 0.9247 - val_loss: 0.3374 - val_accuracy: 0.8974\n",
      "Epoch 64/100\n",
      "750/750 [==============================] - 12s 16ms/step - loss: 0.2078 - accuracy: 0.9237 - val_loss: 0.3503 - val_accuracy: 0.8952\n",
      "Epoch 65/100\n",
      "750/750 [==============================] - 12s 16ms/step - loss: 0.2084 - accuracy: 0.9220 - val_loss: 0.3381 - val_accuracy: 0.8973\n",
      "Epoch 66/100\n",
      "750/750 [==============================] - 12s 16ms/step - loss: 0.2087 - accuracy: 0.9224 - val_loss: 0.3280 - val_accuracy: 0.8955\n",
      "Epoch 67/100\n",
      "750/750 [==============================] - 12s 16ms/step - loss: 0.2048 - accuracy: 0.9234 - val_loss: 0.3395 - val_accuracy: 0.8958\n",
      "Epoch 68/100\n",
      "750/750 [==============================] - 12s 16ms/step - loss: 0.2015 - accuracy: 0.9264 - val_loss: 0.3330 - val_accuracy: 0.8990\n",
      "Epoch 69/100\n",
      "750/750 [==============================] - 12s 16ms/step - loss: 0.2003 - accuracy: 0.9261 - val_loss: 0.3353 - val_accuracy: 0.9010\n",
      "Epoch 70/100\n",
      "750/750 [==============================] - 13s 17ms/step - loss: 0.2023 - accuracy: 0.9254 - val_loss: 0.3486 - val_accuracy: 0.8946\n",
      "Epoch 71/100\n",
      "750/750 [==============================] - 12s 16ms/step - loss: 0.1971 - accuracy: 0.9265 - val_loss: 0.3434 - val_accuracy: 0.8969\n",
      "Epoch 72/100\n",
      "750/750 [==============================] - 12s 17ms/step - loss: 0.1979 - accuracy: 0.9271 - val_loss: 0.3926 - val_accuracy: 0.8913\n",
      "Epoch 73/100\n",
      "750/750 [==============================] - 13s 17ms/step - loss: 0.2030 - accuracy: 0.9260 - val_loss: 0.3307 - val_accuracy: 0.8978\n",
      "Epoch 74/100\n",
      "750/750 [==============================] - 12s 17ms/step - loss: 0.1937 - accuracy: 0.9274 - val_loss: 0.3406 - val_accuracy: 0.8983\n",
      "Epoch 75/100\n",
      "750/750 [==============================] - 13s 17ms/step - loss: 0.1980 - accuracy: 0.9276 - val_loss: 0.3466 - val_accuracy: 0.8966\n",
      "Epoch 76/100\n",
      "750/750 [==============================] - 12s 17ms/step - loss: 0.2001 - accuracy: 0.9267 - val_loss: 0.3571 - val_accuracy: 0.8949\n",
      "Epoch 77/100\n",
      "750/750 [==============================] - 12s 16ms/step - loss: 0.1897 - accuracy: 0.9296 - val_loss: 0.3533 - val_accuracy: 0.8978\n",
      "Epoch 78/100\n",
      "750/750 [==============================] - 12s 16ms/step - loss: 0.1967 - accuracy: 0.9281 - val_loss: 0.3423 - val_accuracy: 0.8977\n",
      "Epoch 79/100\n",
      "750/750 [==============================] - 12s 15ms/step - loss: 0.1984 - accuracy: 0.9274 - val_loss: 0.3659 - val_accuracy: 0.9001\n",
      "Epoch 80/100\n",
      "750/750 [==============================] - 12s 15ms/step - loss: 0.1929 - accuracy: 0.9280 - val_loss: 0.3501 - val_accuracy: 0.8976\n",
      "Epoch 81/100\n",
      "750/750 [==============================] - 12s 15ms/step - loss: 0.1877 - accuracy: 0.9319 - val_loss: 0.3744 - val_accuracy: 0.8974\n",
      "Epoch 82/100\n",
      "750/750 [==============================] - 12s 15ms/step - loss: 0.1891 - accuracy: 0.9313 - val_loss: 0.3570 - val_accuracy: 0.8989\n",
      "Epoch 83/100\n",
      "750/750 [==============================] - 12s 15ms/step - loss: 0.1943 - accuracy: 0.9301 - val_loss: 0.3776 - val_accuracy: 0.8992\n",
      "Epoch 84/100\n",
      "750/750 [==============================] - 12s 16ms/step - loss: 0.1918 - accuracy: 0.9301 - val_loss: 0.3616 - val_accuracy: 0.8959\n",
      "Epoch 85/100\n",
      "750/750 [==============================] - 12s 16ms/step - loss: 0.1872 - accuracy: 0.9327 - val_loss: 0.3433 - val_accuracy: 0.8992\n",
      "Epoch 86/100\n",
      "750/750 [==============================] - 12s 16ms/step - loss: 0.1917 - accuracy: 0.9301 - val_loss: 0.3756 - val_accuracy: 0.8993\n",
      "Epoch 87/100\n",
      "750/750 [==============================] - 12s 16ms/step - loss: 0.1878 - accuracy: 0.9316 - val_loss: 0.3667 - val_accuracy: 0.8999\n",
      "Epoch 88/100\n",
      "750/750 [==============================] - 12s 16ms/step - loss: 0.1896 - accuracy: 0.9307 - val_loss: 0.3902 - val_accuracy: 0.8979\n",
      "Epoch 89/100\n",
      "750/750 [==============================] - 12s 16ms/step - loss: 0.1936 - accuracy: 0.9307 - val_loss: 0.3807 - val_accuracy: 0.8984\n",
      "Epoch 90/100\n",
      "750/750 [==============================] - 12s 15ms/step - loss: 0.1872 - accuracy: 0.9318 - val_loss: 0.3471 - val_accuracy: 0.9004\n",
      "Epoch 91/100\n",
      "750/750 [==============================] - 12s 15ms/step - loss: 0.1825 - accuracy: 0.9330 - val_loss: 0.3654 - val_accuracy: 0.8997\n",
      "Epoch 92/100\n",
      "750/750 [==============================] - 12s 16ms/step - loss: 0.1812 - accuracy: 0.9338 - val_loss: 0.3696 - val_accuracy: 0.9015\n",
      "Epoch 93/100\n",
      "750/750 [==============================] - 12s 16ms/step - loss: 0.1831 - accuracy: 0.9335 - val_loss: 0.3748 - val_accuracy: 0.8989\n",
      "Epoch 94/100\n",
      "750/750 [==============================] - 12s 16ms/step - loss: 0.1769 - accuracy: 0.9347 - val_loss: 0.3827 - val_accuracy: 0.8999\n",
      "Epoch 95/100\n",
      "750/750 [==============================] - 12s 16ms/step - loss: 0.1882 - accuracy: 0.9319 - val_loss: 0.3721 - val_accuracy: 0.8999\n",
      "Epoch 96/100\n",
      "750/750 [==============================] - 12s 16ms/step - loss: 0.1841 - accuracy: 0.9335 - val_loss: 0.3630 - val_accuracy: 0.8993\n",
      "Epoch 97/100\n",
      "750/750 [==============================] - 12s 16ms/step - loss: 0.1801 - accuracy: 0.9341 - val_loss: 0.3623 - val_accuracy: 0.8983\n",
      "Epoch 98/100\n",
      "750/750 [==============================] - 12s 16ms/step - loss: 0.1877 - accuracy: 0.9344 - val_loss: 0.3832 - val_accuracy: 0.8955\n",
      "Epoch 99/100\n",
      "750/750 [==============================] - 12s 16ms/step - loss: 0.1912 - accuracy: 0.9312 - val_loss: 0.4006 - val_accuracy: 0.8980\n",
      "Epoch 100/100\n",
      "750/750 [==============================] - 12s 16ms/step - loss: 0.1761 - accuracy: 0.9357 - val_loss: 0.3881 - val_accuracy: 0.8970\n"
     ]
    }
   ],
   "source": [
    "# Training the model. \n",
    "training = model_6.fit(X_train, Y_train, batch_size=64, epochs=100, validation_split=0.2) "
   ]
  },
  {
   "cell_type": "code",
   "execution_count": null,
   "metadata": {
    "colab": {
     "base_uri": "https://localhost:8080/",
     "height": 590
    },
    "id": "uNyf90DYTx2X",
    "outputId": "53f953f5-f0ba-44fa-e0e6-a1b9c7dc1709"
   },
   "outputs": [
    {
     "name": "stdout",
     "output_type": "stream",
     "text": [
      "dict_keys(['loss', 'accuracy', 'val_loss', 'val_accuracy'])\n"
     ]
    },
    {
     "data": {
      "image/png": "[encoded data removed]",
      "text/plain": [
       "<Figure size 432x288 with 1 Axes>"
      ]
     },
     "metadata": {
      "needs_background": "light",
      "tags": []
     },
     "output_type": "display_data"
    },
    {
     "data": {
      "image/png": "[encoded data removed]",
      "text/plain": [
       "<Figure size 432x288 with 1 Axes>"
      ]
     },
     "metadata": {
      "needs_background": "light",
      "tags": []
     },
     "output_type": "display_data"
    }
   ],
   "source": [
    "import matplotlib.pyplot as plt\n",
    "%matplotlib inline\n",
    "# list all data in training\n",
    "print(training.history.keys())\n",
    "# summarize training for accuracy\n",
    "plt.plot(training.history['accuracy'])\n",
    "plt.plot(training.history['val_accuracy'])\n",
    "plt.title('model accuracy')\n",
    "plt.ylabel('accuracy')\n",
    "plt.xlabel('epoch')\n",
    "plt.legend(['train', 'test'], loc='upper left')\n",
    "plt.show()\n",
    "# summarize traning for loss\n",
    "plt.plot(training.history['loss'])\n",
    "plt.plot(training.history['val_loss'])\n",
    "plt.title('model loss')\n",
    "plt.ylabel('loss')\n",
    "plt.xlabel('epoch')\n",
    "plt.legend(['train', 'test'], loc='upper left')\n",
    "plt.show()"
   ]
  },
  {
   "cell_type": "code",
   "execution_count": null,
   "metadata": {
    "colab": {
     "base_uri": "https://localhost:8080/",
     "height": 51
    },
    "id": "LomOqXGZTx2c",
    "outputId": "61705196-cc03-498e-81ee-fcb1b0110bb6"
   },
   "outputs": [
    {
     "name": "stdout",
     "output_type": "stream",
     "text": [
      "313/313 [==============================] - 1s 4ms/step - loss: 0.4325 - accuracy: 0.8951\n",
      "Test accuracy: 0.8950999975204468\n"
     ]
    }
   ],
   "source": [
    "#evaluate the model\n",
    "test_loss, test_acc = model_6.evaluate(X_test, Y_test)\n",
    "print('Test accuracy:', test_acc)"
   ]
  },
  {
   "cell_type": "code",
   "execution_count": null,
   "metadata": {
    "colab": {
     "base_uri": "https://localhost:8080/",
     "height": 34
    },
    "id": "sjJz2I2BTx2g",
    "outputId": "a25ac2f8-6526-454e-b17a-2a967778ba37"
   },
   "outputs": [
    {
     "data": {
      "text/plain": [
       "<bound method Network.summary of <tensorflow.python.keras.engine.sequential.Sequential object at 0x7ffa9a1c0b00>>"
      ]
     },
     "execution_count": 59,
     "metadata": {
      "tags": []
     },
     "output_type": "execute_result"
    }
   ],
   "source": [
    "model_6.summary"
   ]
  },
  {
   "cell_type": "code",
   "execution_count": null,
   "metadata": {
    "colab": {
     "base_uri": "https://localhost:8080/",
     "height": 1000
    },
    "id": "XCZBkLK0Tx2l",
    "outputId": "494cb512-ba9b-4e95-eead-c3af6affe6d7"
   },
   "outputs": [
    {
     "data": {
      "text/plain": [
       "[<tf.Variable 'dense_layer_8/kernel:0' shape=(784, 512) dtype=float32, numpy=\n",
       " array([[-0.02043436, -0.03052251, -0.04867187, ..., -0.00341104,\n",
       "          0.0646666 ,  0.06193061],\n",
       "        [ 0.00580537, -0.03989251,  0.02505963, ...,  0.00726219,\n",
       "         -0.03476311, -0.04609244],\n",
       "        [ 0.02528511, -0.0624702 ,  0.02157883, ...,  0.02244397,\n",
       "         -0.00719848,  0.04892342],\n",
       "        ...,\n",
       "        [ 0.03892381,  0.06000207,  0.02830688, ..., -0.03362466,\n",
       "         -0.06500859, -0.02711738],\n",
       "        [-0.062404  ,  0.04495282,  0.00313219, ...,  0.05914421,\n",
       "         -0.0092866 , -0.01132109],\n",
       "        [-0.04838803, -0.00661732,  0.05316094, ...,  0.05458824,\n",
       "         -0.0405038 ,  0.02893919]], dtype=float32)>,\n",
       " <tf.Variable 'dense_layer_8/bias:0' shape=(512,) dtype=float32, numpy=\n",
       " array([-0.2696233 , -0.21055523, -0.33684137, -0.42744735,  0.18318221,\n",
       "        -0.27374473, -0.4295545 , -0.4989392 , -0.40381438, -0.0173907 ,\n",
       "        -0.02753447, -0.14542247, -0.69777596, -0.59039474, -0.27526793,\n",
       "        -0.4565259 , -0.19103886, -0.03038125, -0.14431506, -0.44546953,\n",
       "        -0.4384869 , -0.22670168, -0.12920149, -0.3529104 ,  0.01874708,\n",
       "         0.03865247, -0.09942317, -0.37635398,  0.05034769, -0.5097547 ,\n",
       "         0.08612788, -0.19895247, -0.09185734,  0.18310507, -0.32752576,\n",
       "        -0.02264479,  0.01025114, -0.15946889, -0.38689563, -0.34469634,\n",
       "        -0.36817837,  0.12921374, -0.11992764, -0.01881557, -0.3884351 ,\n",
       "        -0.00718244, -0.31887013, -0.52107877,  0.12082034, -0.19646251,\n",
       "        -0.22191986, -0.1437224 , -0.29777363, -0.53086865, -0.12631057,\n",
       "         0.13094419, -0.13917129,  0.00583606, -0.16718774,  0.03018015,\n",
       "        -0.58638734, -0.02188976, -0.4473377 , -0.04404052, -0.16019145,\n",
       "        -0.14673918,  0.01173183,  0.09187844, -0.01668436,  0.12805556,\n",
       "        -0.16952692, -0.607649  , -0.40257218, -0.03683537, -0.7947761 ,\n",
       "        -0.28343934, -0.57222146, -0.2707892 , -0.18641129, -0.07556085,\n",
       "        -0.08062723, -0.3644887 , -0.54991335, -0.2002851 , -0.5600216 ,\n",
       "        -0.40424347, -0.21844392, -0.16454019,  0.02891395,  0.12312049,\n",
       "        -0.30026382, -0.3627983 , -0.17188379,  0.01734723, -0.29349625,\n",
       "        -0.26071537, -0.38225314, -0.03323523, -0.17537077, -0.441885  ,\n",
       "        -0.09777397, -0.18430358,  0.09732835, -0.03439459,  0.15488645,\n",
       "        -0.28570494,  0.00417195, -0.54466563, -0.47075158, -0.69965667,\n",
       "        -0.22724637, -0.47913924, -0.01870635, -0.22890826, -0.06281532,\n",
       "        -0.71873   , -0.13300101, -0.13784057, -0.48036802, -0.24672139,\n",
       "         0.05949189, -0.13928486, -0.3953031 , -0.31828818, -0.0839654 ,\n",
       "        -0.23584065, -0.21653795, -0.20123477, -0.3937147 , -0.16197862,\n",
       "        -0.92149967, -0.03392668, -0.22747813, -0.4104444 , -0.29569617,\n",
       "        -0.35044834, -0.34732348, -0.14372009, -0.29292223, -0.21738692,\n",
       "        -0.52905613, -0.3450462 ,  0.16480425, -0.03414582, -0.10628978,\n",
       "        -0.27911526, -0.2083701 , -0.06697109, -0.17012432, -0.50735015,\n",
       "        -0.06452555, -0.49289736, -0.42184952,  0.00881977, -0.26190704,\n",
       "        -0.1537478 , -0.37149155, -0.13380708, -0.45335138, -0.30430567,\n",
       "        -0.26924622, -0.36665708, -0.6085542 , -0.10758677, -0.03512141,\n",
       "         0.01186022,  0.00505938, -0.10092407, -0.09170897,  0.05898591,\n",
       "         0.067136  ,  0.00938657, -0.00600094, -0.18202594, -0.25668278,\n",
       "         0.2309898 , -0.26955432, -0.17514804, -0.38176596, -0.3553004 ,\n",
       "        -0.23361991, -0.2979614 , -0.25536564, -0.33286262, -0.15431745,\n",
       "        -0.24253343, -0.09628185, -0.29247952, -0.01097796, -0.31394276,\n",
       "        -0.6662563 ,  0.16397506,  0.32289138, -0.27665627, -0.3913615 ,\n",
       "         0.25286132, -0.1246611 , -0.03693834, -0.31339404, -0.32478696,\n",
       "        -0.17795783, -0.6421901 , -0.25299466, -0.02144221, -0.16489227,\n",
       "         0.13300562, -0.15642543, -0.1099498 , -0.03995977, -0.5069289 ,\n",
       "        -0.18727073, -0.23603149, -0.28105575, -0.27661386, -0.337104  ,\n",
       "        -0.07837322, -0.17777477, -0.32150966,  0.03210541, -0.40579638,\n",
       "        -0.4404787 , -0.19481236, -0.21178351, -0.5810828 , -0.43712327,\n",
       "        -0.73686093, -0.47085842, -0.28466633,  0.03144144, -0.56787217,\n",
       "        -0.14624263, -0.20184365, -0.23991668, -0.18999131, -0.36354816,\n",
       "        -0.2857371 ,  0.07118796, -0.16984595, -0.25582024, -0.19779249,\n",
       "        -0.19449149, -0.17772178, -0.0158757 , -0.61694527, -0.44698957,\n",
       "         0.05527673, -0.05759416, -0.11423653, -0.51053125, -0.37863708,\n",
       "        -0.17570409,  0.08945898,  0.02739712, -0.36063945, -0.4308034 ,\n",
       "        -0.17203261, -0.16994484, -0.20994629, -0.18219425, -0.19212613,\n",
       "        -0.03048081,  0.02987648, -0.53590727,  0.02363749, -0.25157776,\n",
       "        -0.291716  , -0.11998188, -0.08307215, -0.26601776, -0.47802582,\n",
       "        -0.23956335, -0.05240866, -0.45372567, -0.1917211 , -0.04963914,\n",
       "        -0.25976416, -0.4559752 , -0.422362  , -0.30344194, -0.25408193,\n",
       "        -0.37525412, -0.4620375 ,  0.02101701, -0.40512285, -0.36818326,\n",
       "        -0.09237959, -0.1341872 , -0.5137707 , -0.6031753 , -0.12332745,\n",
       "         0.08364153, -0.06272127, -0.49000153, -0.28939503, -0.3084176 ,\n",
       "        -0.69817895, -0.02564907, -0.42432424, -0.26996675,  0.05392009,\n",
       "         0.14806002,  0.04884285, -0.23323989, -0.14799803, -0.05732735,\n",
       "        -0.19667597,  0.20462413, -0.03246721, -0.12511227, -0.07271943,\n",
       "        -0.39755863, -0.06195214, -0.26317418, -0.19539754, -0.49757048,\n",
       "        -0.01245722, -0.3604564 , -0.09649093, -0.20428418, -0.33626205,\n",
       "         0.23393664, -0.1268835 ,  0.08728244,  0.12389429, -0.23385076,\n",
       "        -0.22964492, -0.02930309, -0.17697999, -0.11112972, -0.2553529 ,\n",
       "        -0.34331092,  0.02823567,  0.17985946, -0.26964682,  0.11702529,\n",
       "        -0.4939382 , -0.13730083,  0.06791068,  0.27215633, -0.34416676,\n",
       "         0.00473885, -0.04341743,  0.10614222, -0.06123485, -0.0990551 ,\n",
       "         0.19862166,  0.09108048, -0.20261574, -0.06709547, -0.18506475,\n",
       "        -0.03284829, -0.4014016 , -0.19971503,  0.08533444, -0.45590803,\n",
       "        -0.18259707, -0.22731334, -0.3533481 , -0.15132391, -0.04689423,\n",
       "        -0.41710454, -0.2276736 ,  0.01853679, -0.16237736, -0.5176968 ,\n",
       "        -0.3898137 , -0.5058089 ,  0.03047854, -0.1807336 , -0.05003184,\n",
       "         0.0065933 , -0.25060648, -0.2503102 ,  0.12828723, -0.60870755,\n",
       "        -0.25974667, -0.29079655, -0.32036665, -0.6914658 , -0.6382996 ,\n",
       "         0.10248274,  0.15497299, -0.22279367, -0.44842225, -0.20044848,\n",
       "        -0.26829386, -0.46701038, -0.02301912, -0.22469227, -0.4052091 ,\n",
       "        -0.45218182, -0.32259455, -0.19550417, -0.21909153, -0.27853864,\n",
       "        -0.4405603 , -0.09006552, -0.17720135,  0.02760173, -0.21334021,\n",
       "         0.11099483, -0.04707084, -0.5503532 ,  0.23122033, -0.17021382,\n",
       "         0.15474261, -0.02252994,  0.12281571, -0.11179549, -0.05886948,\n",
       "        -0.14441329, -0.01090423, -0.42050385, -0.02933597, -0.09983373,\n",
       "        -0.3681018 , -0.20683399, -0.5355109 , -0.0464318 , -0.19561288,\n",
       "         0.08495087, -0.11086687, -0.07394721,  0.02250678, -0.20211917,\n",
       "        -0.31972215, -0.15853697, -0.21581222,  0.16825831, -0.21617159,\n",
       "        -0.48592985, -0.23364028, -0.13722137, -0.04469431, -0.1355897 ,\n",
       "        -0.10819568, -0.2219548 , -0.10088089, -0.13666353,  0.1145459 ,\n",
       "        -0.2602746 , -0.24390417, -0.14585629, -0.16982166, -0.03354973,\n",
       "        -0.1882672 , -0.47209433, -0.23154792, -0.2852839 ,  0.00447701,\n",
       "        -0.2466137 ,  0.01513781, -0.35772336, -0.47153482, -0.16192749,\n",
       "        -0.18880709,  0.02534606, -0.21622372, -0.16643879,  0.13549176,\n",
       "        -0.36174542,  0.00318471, -0.00846594, -0.34606802, -0.17864048,\n",
       "        -0.50079393,  0.15257677, -0.13326643, -0.03427297, -0.13887885,\n",
       "        -0.10833173, -0.42906177,  0.07073282, -0.8272588 , -0.34088227,\n",
       "        -0.19610593, -0.12080865,  0.04765316, -0.10128038, -0.34742182,\n",
       "        -0.14102283, -0.19830221, -0.5170853 , -0.26167715,  0.08200791,\n",
       "        -0.0350775 , -0.8242871 , -0.1458042 , -0.57211834, -0.3030035 ,\n",
       "        -0.07657946, -0.01900173,  0.02733069, -0.17630917, -0.5489323 ,\n",
       "        -0.4436115 , -0.24990772, -0.4653536 , -0.12367339, -0.02347991,\n",
       "        -0.5163176 , -0.31180143, -0.02765441, -0.20840229, -0.02387062,\n",
       "        -0.39871982, -0.04175514, -0.4467921 , -0.10026515, -0.59768313,\n",
       "        -0.46691343, -0.28173923], dtype=float32)>,\n",
       " <tf.Variable 'dense_layer_2_5/kernel:0' shape=(512, 512) dtype=float32, numpy=\n",
       " array([[-0.44035417, -0.08319122, -0.07522572, ...,  0.07430229,\n",
       "         -0.02726143,  0.12732434],\n",
       "        [-0.01406842,  0.12247626, -0.43497545, ...,  0.00618181,\n",
       "          0.06629271,  0.47217116],\n",
       "        [ 0.4767634 ,  0.44265702,  0.11117949, ..., -0.20954657,\n",
       "          0.1171995 ,  0.00962094],\n",
       "        ...,\n",
       "        [ 0.19733089,  0.07500589,  0.21224241, ..., -0.38945597,\n",
       "          0.04087703,  0.03677493],\n",
       "        [-0.19920942,  0.29997236, -0.4244362 , ...,  0.35777205,\n",
       "          0.03635927, -0.00325797],\n",
       "        [-0.00409521,  0.20231165, -0.22174703, ..., -0.5272831 ,\n",
       "         -0.13503195, -0.3593861 ]], dtype=float32)>,\n",
       " <tf.Variable 'dense_layer_2_5/bias:0' shape=(512,) dtype=float32, numpy=\n",
       " array([-5.13993859e-01, -6.00391090e-01, -1.02565205e+00,  1.96603984e-02,\n",
       "        -9.64286447e-01, -3.02042425e-01, -2.79223353e-01, -7.91683316e-01,\n",
       "        -1.25697148e+00, -6.34749413e-01, -6.42875314e-01, -8.38303924e-01,\n",
       "         3.75048369e-01,  1.22826135e+00,  4.10792455e-02, -3.48823369e-01,\n",
       "        -8.37945402e-01, -5.57077825e-01, -1.92337680e+00, -6.88903630e-01,\n",
       "        -1.42878699e+00, -1.74578571e+00, -6.96560562e-01, -6.23477757e-01,\n",
       "        -9.93947685e-01, -1.40119100e+00,  7.48132765e-02,  5.23510695e-01,\n",
       "        -1.05909204e+00, -1.05678938e-01, -8.51926327e-01, -1.13171136e+00,\n",
       "        -8.36204886e-01,  3.30297112e-01, -1.12232172e+00, -4.22348201e-01,\n",
       "         3.22610825e-01, -8.03642333e-01, -1.11286557e+00,  1.96023822e-01,\n",
       "        -4.54311579e-01, -2.12987915e-01, -3.06256473e-01, -8.04532349e-01,\n",
       "        -5.48995323e-02, -1.13650477e+00, -1.86033383e-01, -9.95462835e-01,\n",
       "        -4.03522074e-01, -1.08907378e+00, -8.13603401e-01, -9.99267757e-01,\n",
       "         5.36068916e-01, -6.78450227e-01, -7.46327698e-01, -1.99973002e-01,\n",
       "         7.15477407e-01, -1.36275184e+00, -8.76522958e-01, -1.02583504e+00,\n",
       "        -9.96108770e-01, -4.05463755e-01, -8.10392559e-01,  1.37380624e+00,\n",
       "        -2.95545578e-01, -9.79546234e-02, -6.87758207e-01,  1.37252361e-01,\n",
       "        -1.00489795e+00, -7.31188238e-01, -1.23231530e+00, -7.89228559e-01,\n",
       "        -7.27989614e-01, -1.33074176e+00,  1.49906680e-01, -1.05883646e+00,\n",
       "        -5.39433658e-01, -1.45379090e+00, -1.29124737e+00, -4.15208399e-01,\n",
       "        -8.63828897e-01, -9.65946019e-02, -8.06198716e-01,  7.72223234e-01,\n",
       "        -5.28183877e-01, -8.11358690e-01, -1.29313731e+00, -2.81887174e-01,\n",
       "        -2.34232470e-01,  2.72289991e-01, -4.95405912e-01, -1.16225076e+00,\n",
       "        -5.89152217e-01, -1.40832210e+00, -6.53198481e-01, -1.64954972e+00,\n",
       "        -1.73463035e+00, -6.83469832e-01, -1.08742547e+00, -4.15921718e-01,\n",
       "        -5.64897597e-01, -5.75317085e-01, -3.57972383e-01, -7.70333111e-02,\n",
       "         5.02940774e-01, -3.48621428e-01, -1.67420805e+00,  4.32348907e-01,\n",
       "        -1.09945118e+00, -1.02830088e+00,  1.01219761e+00, -1.87412828e-01,\n",
       "        -7.77675569e-01, -5.06599367e-01, -4.45302278e-02, -1.74747241e+00,\n",
       "        -7.70861804e-01, -1.05901241e+00, -6.58254802e-01, -4.50766087e-01,\n",
       "        -2.78983831e-01, -7.41755545e-01, -1.05651760e+00, -1.38073552e+00,\n",
       "        -1.38550818e+00, -1.53669310e+00, -1.61619540e-02,  8.02636564e-01,\n",
       "         6.76285267e-01, -7.58338749e-01, -1.20348024e+00, -1.11127841e+00,\n",
       "        -1.28241324e+00, -5.53993940e-01,  4.75458503e-01, -5.81060231e-01,\n",
       "         1.11498185e-01,  2.34780073e-01, -1.54807985e-01, -1.31210756e+00,\n",
       "        -1.01029563e+00, -7.78311253e-01, -1.35789561e+00, -9.19717014e-01,\n",
       "        -1.25609207e+00, -1.13194034e-01,  4.00508881e-01, -7.22618163e-01,\n",
       "        -1.05772948e+00,  8.85079741e-01,  2.38701358e-01, -1.20700800e+00,\n",
       "        -9.45724249e-01, -2.56541193e-01, -1.04020667e+00, -4.46437269e-01,\n",
       "        -1.27823102e+00,  4.19540219e-02, -1.09785640e+00, -6.76395416e-01,\n",
       "        -1.42547119e+00, -7.81508744e-01,  2.02204455e-02, -4.60170597e-01,\n",
       "        -1.12832502e-01, -3.05958148e-02, -8.34242404e-01, -6.01991117e-01,\n",
       "        -1.35451603e+00,  5.91995418e-01, -1.92008555e-01, -1.08873390e-01,\n",
       "        -1.77869666e+00, -6.13185048e-01, -7.10151672e-01, -1.09448314e+00,\n",
       "        -6.54223919e-01, -6.84696555e-01,  4.48063940e-01,  4.58558649e-01,\n",
       "        -5.46245396e-01, -1.15159893e+00, -1.02293718e+00, -1.77409399e+00,\n",
       "         7.78888345e-01,  7.69424319e-01,  9.80672419e-01, -8.34414840e-01,\n",
       "        -1.65368617e+00,  1.82723805e-01, -3.48805815e-01,  1.24507211e-01,\n",
       "         2.37278119e-01, -5.60807735e-02, -5.00301957e-01, -2.18070909e-01,\n",
       "        -1.61055732e+00, -2.26019114e-01,  7.75548041e-01, -6.70987248e-01,\n",
       "         1.98382604e+00, -1.04046023e+00, -5.54885507e-01, -2.90101588e-01,\n",
       "        -1.12315583e+00, -1.18832004e+00, -1.22823548e+00, -1.74251258e-01,\n",
       "        -9.14054513e-01, -2.63018757e-01, -7.74992168e-01, -1.27801156e+00,\n",
       "        -9.33559060e-01,  2.05987796e-01, -1.59480453e-01, -1.09042811e+00,\n",
       "        -1.09509528e+00, -6.64956212e-01,  1.22047389e+00, -2.79797286e-01,\n",
       "        -3.29573601e-01, -1.16599846e+00, -3.21700424e-01, -1.57216862e-01,\n",
       "         5.63583374e-01, -1.25729418e+00,  1.17708288e-01, -5.57234645e-01,\n",
       "        -4.79370236e-01, -5.70572734e-01, -4.61992890e-01, -1.08069491e+00,\n",
       "        -6.53409421e-01, -7.16538906e-01, -2.41746426e-01, -5.07942021e-01,\n",
       "        -4.68171716e-01, -2.47752979e-01, -9.04691517e-01, -6.67369962e-01,\n",
       "        -1.34503663e+00,  1.85226537e-02, -3.79310936e-01, -1.39572001e+00,\n",
       "         4.64081764e-01, -9.38338637e-01, -1.11537993e+00, -1.31472063e+00,\n",
       "        -7.87087977e-01, -1.05997586e+00,  9.56119969e-03, -9.43344533e-01,\n",
       "        -9.82930541e-01, -8.45232189e-01, -1.16556644e+00, -2.73454964e-01,\n",
       "        -9.34464395e-01, -1.48634553e+00, -6.12162650e-01, -4.49973404e-01,\n",
       "        -1.10974312e+00, -4.35393810e-01,  2.73395449e-01, -1.15229201e+00,\n",
       "        -1.38232112e-01, -1.01961672e+00, -5.12036324e-01, -1.65319180e+00,\n",
       "         1.95128575e-01, -7.52609253e-01, -9.01265621e-01, -4.79678452e-01,\n",
       "        -3.37921605e-02, -4.91553545e-01, -5.19144177e-01,  1.30168962e+00,\n",
       "         1.46624491e-01, -3.12240571e-01, -1.01353788e+00,  7.93070719e-02,\n",
       "        -8.85418057e-01, -1.12976515e+00,  4.87937182e-02, -1.06495357e+00,\n",
       "        -1.15780950e+00, -3.01599354e-01, -1.44103014e+00, -1.28499758e+00,\n",
       "        -3.30908209e-01, -1.28941488e+00, -1.18278933e+00, -5.54402173e-01,\n",
       "        -2.85615593e-01, -4.49711978e-02, -9.42202330e-01, -2.66867995e-01,\n",
       "        -7.69118011e-01,  7.64079571e-01, -1.17536232e-01, -8.64830196e-01,\n",
       "        -1.19897142e-01,  7.06472516e-01, -1.38264489e+00, -1.40981483e+00,\n",
       "        -1.15140748e+00, -6.27923369e-01, -1.20787334e+00, -1.40465343e+00,\n",
       "         3.05553563e-02, -5.49145460e-01, -4.04190302e-01,  1.19988441e-01,\n",
       "         1.10349052e-01, -3.18197012e-01, -1.16373801e+00, -8.13742816e-01,\n",
       "        -3.84455979e-01,  1.29048789e+00,  1.63350940e-01,  4.87377234e-02,\n",
       "         1.03423977e+00, -1.28455147e-01, -7.60217071e-01, -8.02872598e-01,\n",
       "        -2.04705209e-01, -1.05168617e+00, -2.26982296e-01, -1.33699095e+00,\n",
       "        -6.94345534e-01, -9.97800231e-01,  9.47174788e-01,  1.55735433e+00,\n",
       "        -1.68504179e+00, -6.99089170e-01,  3.24006855e-01,  4.19574261e-01,\n",
       "        -2.51091629e-01, -8.90560508e-01,  1.01554610e-01, -1.73334777e+00,\n",
       "         5.45299172e-01, -7.27448225e-01, -6.43097103e-01, -6.85685575e-01,\n",
       "        -1.06288576e+00, -1.18928814e+00, -1.22173868e-01, -4.76252109e-01,\n",
       "         1.59050155e+00, -8.25810254e-01,  1.83092833e-01, -4.69368696e-01,\n",
       "        -7.31222332e-01,  2.34381258e-01, -6.28112793e-01, -8.21995676e-01,\n",
       "         1.31180930e+00,  1.58326164e-01, -6.27635598e-01, -5.77869058e-01,\n",
       "         5.17966270e-01, -6.39632881e-01, -1.97725087e-01, -6.88482940e-01,\n",
       "        -4.93213832e-01,  2.35682219e-01, -2.33186573e-01,  1.16268411e-01,\n",
       "        -4.31978464e-01, -1.03097367e+00,  3.57852578e-01, -9.90536809e-01,\n",
       "        -3.81958514e-01, -3.36107910e-01, -3.96031022e-01,  2.74617344e-01,\n",
       "        -5.73949933e-01, -3.98032337e-01,  4.74945784e-01,  7.25420415e-01,\n",
       "        -7.19808042e-01, -1.19499588e+00, -7.47749865e-01,  9.54723656e-01,\n",
       "        -7.12248385e-02,  1.89240709e-01, -6.12605393e-01, -6.64402962e-01,\n",
       "        -4.51597214e-01, -3.88169229e-01, -1.39560950e+00, -1.21942353e+00,\n",
       "        -5.59358299e-01, -1.46660352e+00, -6.25434041e-01, -4.28992689e-01,\n",
       "         3.48823607e-01, -1.67483222e+00, -5.01311004e-01, -6.81041479e-01,\n",
       "        -5.03798246e-01, -4.97232139e-01, -6.03999376e-01, -7.78506219e-01,\n",
       "        -7.03479171e-01, -3.80188107e-01, -1.02675462e+00, -9.96801496e-01,\n",
       "        -5.53062141e-01, -1.52935497e-02, -4.29160714e-01, -9.34096158e-01,\n",
       "        -6.02862332e-04, -4.71756995e-01,  2.69963086e-01, -1.41654205e+00,\n",
       "        -2.24975586e-01, -1.02273989e+00,  1.20645128e-02, -1.55409193e+00,\n",
       "        -1.76030123e+00, -1.11711633e+00, -6.51259780e-01, -2.23467618e-01,\n",
       "        -8.10638845e-01, -9.60752904e-01, -1.36539257e+00, -9.10105228e-01,\n",
       "        -1.48305082e+00, -1.68019056e-01, -5.60022712e-01, -4.33587888e-03,\n",
       "        -4.15617436e-01, -2.00661325e+00, -1.53646934e+00, -1.05210733e+00,\n",
       "        -6.56461716e-01, -1.27272201e+00, -7.24964976e-01, -1.15101790e+00,\n",
       "        -1.66066498e-01, -4.08188343e-01, -3.60998690e-01, -1.04052734e+00,\n",
       "        -5.98054051e-01,  3.84903282e-01, -7.63664663e-01, -8.65060031e-01,\n",
       "        -7.69958317e-01, -7.77396977e-01, -6.18239880e-01, -1.17311716e+00,\n",
       "        -9.23062682e-01, -8.87576699e-01, -2.41828725e-01,  3.45028818e-01,\n",
       "         5.76221168e-01, -6.81725323e-01, -9.19991791e-01, -1.09187603e+00,\n",
       "        -4.42823976e-01, -7.30655491e-02, -2.20693082e-01, -5.12944698e-01,\n",
       "        -9.33151543e-01, -2.99604893e-01, -9.13692236e-01, -1.00229609e+00,\n",
       "        -5.91773510e-01, -2.98719168e-01, -6.92933798e-01, -9.50371444e-01,\n",
       "        -5.73854625e-01,  6.10569596e-01, -6.84277594e-01,  1.38407037e-01,\n",
       "        -1.00095713e+00, -2.75662571e-01,  6.52880430e-01, -9.36283290e-01,\n",
       "        -1.66488600e+00, -8.92647684e-01, -9.92556512e-02,  1.11648214e+00,\n",
       "        -1.01740646e+00, -1.19313347e+00, -1.92739964e-01, -5.85202992e-01,\n",
       "        -4.96495217e-01, -1.08517420e+00, -9.39378321e-01, -8.05199504e-01,\n",
       "        -9.13305223e-01, -1.77148864e-01,  4.10916299e-01, -7.05146611e-01,\n",
       "         1.77325368e+00,  7.84417272e-01, -1.85980582e+00, -1.42040646e+00,\n",
       "         7.58153796e-01, -9.91205871e-01, -1.08365393e+00,  5.04517376e-01,\n",
       "        -8.74965370e-01,  3.77183259e-01, -5.83088815e-01, -1.23768067e+00,\n",
       "         6.33844495e-01, -4.58534807e-01, -9.40453053e-01, -1.36342514e+00],\n",
       "       dtype=float32)>,\n",
       " <tf.Variable 'dense_layer_3_5/kernel:0' shape=(512, 512) dtype=float32, numpy=\n",
       " array([[ 0.18611118, -0.19383721, -0.50466704, ...,  0.15832447,\n",
       "         -0.22649865, -0.18223947],\n",
       "        [-0.3003918 ,  0.06276278, -0.01877323, ..., -0.03724123,\n",
       "         -0.22941291, -0.24485902],\n",
       "        [-0.12177542,  0.09897343,  0.04078612, ..., -0.17337352,\n",
       "         -0.1430232 , -0.06145266],\n",
       "        ...,\n",
       "        [-0.14638147, -0.16636848, -0.23927179, ..., -0.0186762 ,\n",
       "         -0.1765334 ,  0.14642686],\n",
       "        [ 0.05269847,  0.20927593,  0.05150254, ...,  0.11848488,\n",
       "          0.07681153, -0.0859415 ],\n",
       "        [-0.20123975,  0.14314917, -0.32045376, ..., -0.02859597,\n",
       "          0.20120038, -0.17695075]], dtype=float32)>,\n",
       " <tf.Variable 'dense_layer_3_5/bias:0' shape=(512,) dtype=float32, numpy=\n",
       " array([-1.0062634 , -0.6798678 , -0.72317207, -0.7866308 , -0.87084115,\n",
       "        -0.8408435 , -1.0654339 , -0.948204  , -0.84516823, -0.5893209 ,\n",
       "        -0.6942598 , -0.6271085 , -0.97328496, -0.9154043 , -0.7976199 ,\n",
       "        -0.77897245, -0.6938282 , -1.1434863 , -0.8073318 , -0.48979288,\n",
       "        -0.92079127, -0.8113516 , -0.45187646, -0.8155408 , -0.5984913 ,\n",
       "        -0.7168748 , -0.905786  , -0.66941166, -0.4613903 , -0.72540545,\n",
       "        -0.6220611 , -0.8541153 , -0.7365284 , -0.6223517 , -0.5412959 ,\n",
       "        -0.7411032 , -0.7689171 , -0.7968402 , -0.75489575, -0.71123785,\n",
       "        -0.71877116, -0.31203088, -1.0126634 , -0.6827104 , -1.1628327 ,\n",
       "        -0.47750184, -1.0873864 , -0.7576321 , -0.9778263 , -0.7593377 ,\n",
       "        -0.9057787 , -0.84406066, -0.96321076, -0.8104089 , -1.0336996 ,\n",
       "        -0.2296144 , -0.6729928 , -0.5156294 , -0.57416487, -0.73320013,\n",
       "        -0.82658553, -1.0187305 , -0.7649182 , -0.7520017 , -1.0833211 ,\n",
       "        -0.20817956, -0.9731998 , -0.79823947, -0.85748786,  0.048072  ,\n",
       "        -0.15858278, -0.4367053 , -0.85373944, -1.0870684 , -0.31460348,\n",
       "        -1.0415232 , -0.48766443, -0.69375753, -0.22836734, -0.68779635,\n",
       "        -0.58665144, -0.7297727 , -0.79413277, -0.7861993 , -0.95585364,\n",
       "        -0.60391015, -0.9465874 , -0.60670006, -0.4399705 , -0.5377412 ,\n",
       "        -1.0288782 , -0.5810415 , -0.79219985, -0.58170253, -0.54736334,\n",
       "        -0.8764467 , -0.9655326 , -0.70532495, -0.588143  , -0.85187316,\n",
       "        -0.66847026, -0.6121687 , -0.8665182 , -0.36163744, -0.7178133 ,\n",
       "        -0.49264994, -1.1255641 , -0.22981928, -0.95019794, -0.91873693,\n",
       "        -0.6240258 , -0.86049986, -0.86565924, -0.8531966 , -0.18484254,\n",
       "        -0.7021266 , -0.51949173, -0.70348865, -1.1067518 , -1.2936584 ,\n",
       "         0.07854186, -0.839392  , -0.7121911 , -0.7004871 , -0.15000954,\n",
       "        -0.18104567, -0.95428777, -0.8971758 , -0.9562184 , -0.591648  ,\n",
       "        -0.48650676, -0.65950805, -1.0524215 , -0.45353857, -0.938585  ,\n",
       "        -0.66908365, -1.1357177 , -0.9644425 , -1.4211128 , -0.91758627,\n",
       "        -1.0313491 , -0.5328197 , -0.6369358 , -0.8100263 , -0.30138087,\n",
       "        -0.5472418 , -0.925562  , -0.8282746 , -0.8195398 , -0.62726194,\n",
       "        -0.77606946, -0.9458622 , -0.86645406, -0.52859056, -0.49687022,\n",
       "        -0.90320927, -0.8220788 , -0.45998296, -1.0910898 , -0.7667234 ,\n",
       "        -0.84906846, -0.66477805, -0.95537347, -0.81817025, -0.7082717 ,\n",
       "        -0.44126666, -0.81905085, -0.7545922 , -0.78417075, -0.7020788 ,\n",
       "        -0.29222977, -0.7248468 , -1.0615196 , -0.68877745, -0.9429862 ,\n",
       "        -0.5749579 , -1.0654929 , -0.94413215, -1.1149988 , -0.87359685,\n",
       "        -0.74774444, -0.47917303, -0.855298  , -0.82175446, -0.5085722 ,\n",
       "        -0.8708938 , -0.7080334 , -0.73585886, -0.30546102, -0.79563016,\n",
       "        -0.8143318 , -0.60298115, -1.1688929 , -0.7592518 , -0.50551015,\n",
       "        -0.42435753, -1.0388726 , -0.6389326 , -0.4947527 , -0.32281926,\n",
       "        -0.86019254, -0.715451  , -0.44836795, -0.6745256 , -0.7148247 ,\n",
       "        -0.6941388 , -0.744022  , -0.48187968, -0.6823203 , -0.94184893,\n",
       "        -1.0720016 , -0.92321044, -0.9217684 , -0.53263664, -0.36520267,\n",
       "        -0.5919072 , -0.9577809 , -0.5292064 , -0.44178987, -0.48624378,\n",
       "        -0.8401942 , -0.5163445 , -0.79818714, -0.8297769 , -0.36861557,\n",
       "        -0.8345171 , -0.8345908 , -0.72925353, -1.0079309 , -0.23860143,\n",
       "        -0.8110469 , -0.3815502 , -0.8033986 , -0.54512817, -0.9296068 ,\n",
       "        -1.0765791 , -0.09666684, -0.6186371 , -0.75645304, -0.39989933,\n",
       "        -0.83807206, -0.6991779 , -0.2268238 , -0.7646076 , -0.7329471 ,\n",
       "        -0.70573264, -0.8874484 , -0.55998003, -0.9133968 , -0.7130984 ,\n",
       "        -0.9231696 , -0.47170684, -0.85673875, -1.0349579 , -0.59033006,\n",
       "        -0.97842306, -0.7463513 , -0.7308897 , -0.48771033, -0.55484617,\n",
       "        -0.7866825 , -0.6789063 , -0.9229129 , -1.3049116 , -0.6015771 ,\n",
       "        -0.91685796, -0.8770778 , -0.7441809 , -0.8318752 , -0.4461999 ,\n",
       "        -0.74138   , -0.86065316, -0.5208054 , -0.76829857, -0.6948509 ,\n",
       "        -0.75791335, -0.24610348, -0.22480203, -0.7857186 , -0.99154186,\n",
       "        -0.7536548 , -0.34038514, -0.7950539 , -0.75063014, -1.0280491 ,\n",
       "        -0.6290381 , -0.690685  , -0.36635765, -0.67253375, -0.5390768 ,\n",
       "        -0.7766789 , -0.8458305 , -0.8049631 , -0.9315908 , -0.83485866,\n",
       "        -0.71423656, -1.0550649 , -0.5744383 , -0.5776482 , -0.6141404 ,\n",
       "        -0.9158669 , -0.8695732 , -0.94498515, -0.89030606, -0.7495628 ,\n",
       "        -0.58031857, -0.7151839 , -1.2892148 , -0.786654  , -0.21456191,\n",
       "        -0.5209136 , -0.69797486, -0.87532836, -0.34074223, -0.81454617,\n",
       "        -0.75576705, -0.7863748 , -0.8350926 , -0.32317674, -0.6853701 ,\n",
       "        -0.9892173 , -0.78728145, -0.79978216, -0.8396424 , -0.5519047 ,\n",
       "        -1.1569804 , -0.73068994, -0.86060166, -0.36525682, -0.9772056 ,\n",
       "        -0.29671603, -0.7970688 , -0.6030568 , -0.59733254, -0.55914944,\n",
       "        -0.83550835, -0.74234605, -0.7458986 , -0.5922046 , -0.8535487 ,\n",
       "        -1.0255033 , -1.0354588 ,  0.35653135, -0.9787557 , -0.99942833,\n",
       "        -0.77299756, -0.53189605, -0.59203565, -0.33414146, -0.9568651 ,\n",
       "        -0.5646779 , -0.75187844, -1.0480083 , -0.6918022 , -0.6971248 ,\n",
       "        -0.77046806, -1.0703388 , -0.9754308 , -0.42257497, -0.9897199 ,\n",
       "        -0.7560951 , -0.75867444, -0.28247172, -0.93997425, -0.5843143 ,\n",
       "        -0.6626432 , -0.74912983, -0.86097735, -0.6715876 , -0.6770028 ,\n",
       "        -0.89218265, -0.79881173, -0.41192973, -0.59154534, -0.26065254,\n",
       "        -0.8931376 , -0.61567426, -0.87069535, -0.9916513 , -0.71123135,\n",
       "        -0.4921528 , -0.70993316, -0.8117828 , -0.33142328, -0.39336818,\n",
       "        -0.8508605 , -0.48204544, -0.7497612 , -0.46079987, -0.51960146,\n",
       "        -0.92929244, -0.74291617, -0.82730293, -0.7379736 , -0.7438417 ,\n",
       "        -0.6304524 , -0.72744995, -0.85007536, -0.3512579 , -1.0211724 ,\n",
       "        -0.43688208, -0.6308645 , -0.6062578 , -0.6528515 , -0.6378453 ,\n",
       "        -0.9443096 , -0.9971505 , -0.796638  , -0.6713223 , -0.5184089 ,\n",
       "        -0.94528973, -0.35082376, -0.96980876, -0.5575063 , -0.6737092 ,\n",
       "        -0.91184974, -0.6038707 , -0.9159912 , -0.65361965, -0.8729367 ,\n",
       "        -1.0598643 , -0.85768664, -1.0366546 , -0.73627865, -0.3719077 ,\n",
       "        -0.34646297, -0.43880236, -0.908039  , -0.653311  , -0.25472358,\n",
       "        -0.89909196, -0.5886765 , -0.91153   , -0.6176268 , -0.7882113 ,\n",
       "        -0.81999606, -0.84992784, -1.001833  , -0.01858433, -0.5863945 ,\n",
       "        -0.27841642, -0.5945769 , -0.8551585 , -0.65736043, -0.7051062 ,\n",
       "        -0.93297654, -0.8371272 , -0.91195405, -1.000361  , -0.728948  ,\n",
       "        -0.53774315, -0.595103  , -1.1484402 , -1.0177116 , -0.37030175,\n",
       "        -0.63050276, -0.7695749 , -0.7157384 , -0.8673552 , -0.6994162 ,\n",
       "        -0.8843584 , -0.65736026, -0.90061456, -1.0373873 , -0.696217  ,\n",
       "        -0.9208063 , -0.7743207 , -0.4780876 , -0.8416628 , -0.92621976,\n",
       "        -0.5823429 , -0.76579005, -0.29873392, -0.7330647 , -0.74131984,\n",
       "        -0.78695595, -0.8346436 , -0.9612899 , -1.1711692 , -1.0320503 ,\n",
       "        -0.6593316 , -0.5513593 , -0.68055296, -0.58192664, -0.6796016 ,\n",
       "        -0.6706442 , -0.70287544, -0.8010943 , -1.0854157 , -0.49702495,\n",
       "        -0.6721347 , -0.4487459 , -0.8838427 , -0.9843363 , -0.804993  ,\n",
       "        -0.92997855, -0.6845463 , -0.9893227 , -1.1956239 , -0.8130097 ,\n",
       "        -0.4849313 , -0.4347491 , -0.57402503, -0.4652761 , -1.0957    ,\n",
       "        -1.0322578 , -0.5291855 , -0.35328877, -0.63943446, -0.37503016,\n",
       "        -0.9531655 , -0.58760864], dtype=float32)>,\n",
       " <tf.Variable 'dense_layer_4_1/kernel:0' shape=(512, 10) dtype=float32, numpy=\n",
       " array([[-0.66375923, -0.20214018, -0.15328205, ..., -0.11945322,\n",
       "         -0.21704675, -0.5998185 ],\n",
       "        [-0.87697846, -0.03075726, -0.08376382, ..., -0.04918905,\n",
       "         -0.4294732 , -0.2142615 ],\n",
       "        [-0.60211354, -0.16142409, -0.3027122 , ..., -0.28254467,\n",
       "         -0.39632118, -0.2879008 ],\n",
       "        ...,\n",
       "        [-0.37189138, -0.23510095, -0.1307017 , ..., -0.3008866 ,\n",
       "         -0.15480375, -0.3829885 ],\n",
       "        [-0.32665512, -0.2520203 , -0.371443  , ..., -0.20058699,\n",
       "         -0.4451676 , -0.32839733],\n",
       "        [-0.16473784, -0.31014487, -0.4785778 , ..., -0.10363201,\n",
       "         -0.11509958, -0.04660525]], dtype=float32)>,\n",
       " <tf.Variable 'dense_layer_4_1/bias:0' shape=(10,) dtype=float32, numpy=\n",
       " array([ 1.189597  , -0.7949364 , -0.92511517, -0.4785647 , -0.33940768,\n",
       "        -0.8825297 , -0.33439437, -0.95009017,  1.6654049 ,  0.93292344],\n",
       "       dtype=float32)>]"
      ]
     },
     "execution_count": 60,
     "metadata": {
      "tags": []
     },
     "output_type": "execute_result"
    }
   ],
   "source": [
    "model_6.weights"
   ]
  },
  {
   "cell_type": "code",
   "execution_count": null,
   "metadata": {
    "colab": {
     "base_uri": "https://localhost:8080/",
     "height": 1000
    },
    "id": "8EC2wkPOTx2p",
    "outputId": "02c75016-802a-4897-f8e8-02a6ba4d234e"
   },
   "outputs": [
    {
     "data": {
      "text/plain": [
       "{'build_input_shape': TensorShape([None, 784]),\n",
       " 'layers': [{'class_name': 'Dense',\n",
       "   'config': {'activation': 'relu',\n",
       "    'activity_regularizer': None,\n",
       "    'batch_input_shape': (None, 784),\n",
       "    'bias_constraint': None,\n",
       "    'bias_initializer': {'class_name': 'Zeros', 'config': {}},\n",
       "    'bias_regularizer': None,\n",
       "    'dtype': 'float32',\n",
       "    'kernel_constraint': None,\n",
       "    'kernel_initializer': {'class_name': 'GlorotUniform',\n",
       "     'config': {'seed': None}},\n",
       "    'kernel_regularizer': None,\n",
       "    'name': 'dense_layer',\n",
       "    'trainable': True,\n",
       "    'units': 512,\n",
       "    'use_bias': True}},\n",
       "  {'class_name': 'Dropout',\n",
       "   'config': {'dtype': 'float32',\n",
       "    'name': 'dropout_8',\n",
       "    'noise_shape': None,\n",
       "    'rate': 0.3,\n",
       "    'seed': None,\n",
       "    'trainable': True}},\n",
       "  {'class_name': 'Dense',\n",
       "   'config': {'activation': 'relu',\n",
       "    'activity_regularizer': None,\n",
       "    'bias_constraint': None,\n",
       "    'bias_initializer': {'class_name': 'Zeros', 'config': {}},\n",
       "    'bias_regularizer': None,\n",
       "    'dtype': 'float32',\n",
       "    'kernel_constraint': None,\n",
       "    'kernel_initializer': {'class_name': 'GlorotUniform',\n",
       "     'config': {'seed': None}},\n",
       "    'kernel_regularizer': None,\n",
       "    'name': 'dense_layer_2',\n",
       "    'trainable': True,\n",
       "    'units': 512,\n",
       "    'use_bias': True}},\n",
       "  {'class_name': 'Dropout',\n",
       "   'config': {'dtype': 'float32',\n",
       "    'name': 'dropout_9',\n",
       "    'noise_shape': None,\n",
       "    'rate': 0.3,\n",
       "    'seed': None,\n",
       "    'trainable': True}},\n",
       "  {'class_name': 'Dense',\n",
       "   'config': {'activation': 'relu',\n",
       "    'activity_regularizer': None,\n",
       "    'bias_constraint': None,\n",
       "    'bias_initializer': {'class_name': 'Zeros', 'config': {}},\n",
       "    'bias_regularizer': None,\n",
       "    'dtype': 'float32',\n",
       "    'kernel_constraint': None,\n",
       "    'kernel_initializer': {'class_name': 'GlorotUniform',\n",
       "     'config': {'seed': None}},\n",
       "    'kernel_regularizer': None,\n",
       "    'name': 'dense_layer_3',\n",
       "    'trainable': True,\n",
       "    'units': 512,\n",
       "    'use_bias': True}},\n",
       "  {'class_name': 'Dropout',\n",
       "   'config': {'dtype': 'float32',\n",
       "    'name': 'dropout_10',\n",
       "    'noise_shape': None,\n",
       "    'rate': 0.3,\n",
       "    'seed': None,\n",
       "    'trainable': True}},\n",
       "  {'class_name': 'Dense',\n",
       "   'config': {'activation': 'softmax',\n",
       "    'activity_regularizer': None,\n",
       "    'bias_constraint': None,\n",
       "    'bias_initializer': {'class_name': 'Zeros', 'config': {}},\n",
       "    'bias_regularizer': None,\n",
       "    'dtype': 'float32',\n",
       "    'kernel_constraint': None,\n",
       "    'kernel_initializer': {'class_name': 'GlorotUniform',\n",
       "     'config': {'seed': None}},\n",
       "    'kernel_regularizer': None,\n",
       "    'name': 'dense_layer_4',\n",
       "    'trainable': True,\n",
       "    'units': 10,\n",
       "    'use_bias': True}}],\n",
       " 'name': 'sequential_6'}"
      ]
     },
     "execution_count": 61,
     "metadata": {
      "tags": []
     },
     "output_type": "execute_result"
    }
   ],
   "source": [
    "model_6.get_config()"
   ]
  },
  {
   "cell_type": "code",
   "execution_count": null,
   "metadata": {
    "id": "66nACv31Tx2u"
   },
   "outputs": [],
   "source": []
  },
  {
   "cell_type": "code",
   "execution_count": null,
   "metadata": {
    "id": "S2Aj45oYVbQ2"
   },
   "outputs": [],
   "source": [
    "import tensorflow \n",
    "from tensorflow.keras.preprocessing.image import ImageDataGenerator \n",
    "from tensorflow.keras.models import Sequential\n",
    "from tensorflow.keras.layers import Dense, Conv2D, Flatten, Dropout, MaxPooling2D, Activation\n",
    "from tensorflow.keras.preprocessing import image\n",
    "import matplotlib.pyplot as plt\n",
    "import matplotlib.image as mpimg"
   ]
  },
  {
   "cell_type": "markdown",
   "metadata": {
    "id": "X1hULMUBXQG2"
   },
   "source": [
    "Initialization"
   ]
  },
  {
   "cell_type": "code",
   "execution_count": null,
   "metadata": {
    "colab": {
     "base_uri": "https://localhost:8080/",
     "height": 34
    },
    "id": "CJD2afoTVwo7",
    "outputId": "b4c567d9-a9e7-4532-de0e-2227d6996ad6"
   },
   "outputs": [
    {
     "name": "stdout",
     "output_type": "stream",
     "text": [
      "(28, 28, 3)\n"
     ]
    }
   ],
   "source": [
    "img_width, img_height = 28,28  #width and height of the images\n",
    "nb_train_sample =200\n",
    "nb_validation_samples =200\n",
    "epochs =10\n",
    "batch_size= 21\n",
    "import tensorflow.keras.backend as k\n",
    "if k.image_data_format()=='channels_first': \n",
    "    input_shape=(3, img_width, img_height)\n",
    "else:\n",
    "    input_shape=(img_width,img_height,3)\n",
    "print(input_shape)"
   ]
  },
  {
   "cell_type": "code",
   "execution_count": null,
   "metadata": {
    "colab": {
     "base_uri": "https://localhost:8080/",
     "height": 425
    },
    "id": "OQtOHoLpVRfb",
    "outputId": "54568e15-c71d-427b-eb8e-b1d6b58b8d1a"
   },
   "outputs": [
    {
     "name": "stdout",
     "output_type": "stream",
     "text": [
      "Model: \"sequential_1\"\n",
      "_________________________________________________________________\n",
      "Layer (type)                 Output Shape              Param #   \n",
      "=================================================================\n",
      "conv2d_1 (Conv2D)            (None, 26, 26, 64)        1792      \n",
      "_________________________________________________________________\n",
      "activation_3 (Activation)    (None, 26, 26, 64)        0         \n",
      "_________________________________________________________________\n",
      "max_pooling2d_1 (MaxPooling2 (None, 13, 13, 64)        0         \n",
      "_________________________________________________________________\n",
      "flatten_1 (Flatten)          (None, 10816)             0         \n",
      "_________________________________________________________________\n",
      "dense_2 (Dense)              (None, 64)                692288    \n",
      "_________________________________________________________________\n",
      "activation_4 (Activation)    (None, 64)                0         \n",
      "_________________________________________________________________\n",
      "dense_3 (Dense)              (None, 1)                 65        \n",
      "_________________________________________________________________\n",
      "activation_5 (Activation)    (None, 1)                 0         \n",
      "=================================================================\n",
      "Total params: 694,145\n",
      "Trainable params: 694,145\n",
      "Non-trainable params: 0\n",
      "_________________________________________________________________\n"
     ]
    }
   ],
   "source": [
    "model = Sequential()\n",
    "model.add(Conv2D(64,(3,3),input_shape=input_shape)) #64 neurons with 3*3 filter\n",
    "#This class allows to create convolutional neural network to extract feature from the images\n",
    "\n",
    "model.add(Activation('relu'))\n",
    "model.add(MaxPooling2D(pool_size=(2,2)))#MaxPooling2D helps to reduce the size of the data\n",
    "\n",
    "model.add(Flatten())#Converts multi dimensional array to 1D channel\n",
    "model.add(Dense(64)) #64 neurons with 3*3 filter\n",
    "#Numbers of output nodes in the hidden layer\n",
    "model.add(Activation('relu'))\n",
    "model.add(Dense(1)) #output layer\n",
    "model.add(Activation('sigmoid')) #sigmoid activation function\n",
    "model.summary()"
   ]
  },
  {
   "cell_type": "code",
   "execution_count": null,
   "metadata": {
    "colab": {
     "base_uri": "https://localhost:8080/",
     "height": 425
    },
    "id": "HF5qCgzvVRff",
    "outputId": "8991393f-3525-4721-8d3e-699a306a504c"
   },
   "outputs": [
    {
     "name": "stdout",
     "output_type": "stream",
     "text": [
      "Model: \"sequential_1\"\n",
      "_________________________________________________________________\n",
      "Layer (type)                 Output Shape              Param #   \n",
      "=================================================================\n",
      "conv2d_1 (Conv2D)            (None, 26, 26, 64)        1792      \n",
      "_________________________________________________________________\n",
      "activation_3 (Activation)    (None, 26, 26, 64)        0         \n",
      "_________________________________________________________________\n",
      "max_pooling2d_1 (MaxPooling2 (None, 13, 13, 64)        0         \n",
      "_________________________________________________________________\n",
      "flatten_1 (Flatten)          (None, 10816)             0         \n",
      "_________________________________________________________________\n",
      "dense_2 (Dense)              (None, 64)                692288    \n",
      "_________________________________________________________________\n",
      "activation_4 (Activation)    (None, 64)                0         \n",
      "_________________________________________________________________\n",
      "dense_3 (Dense)              (None, 1)                 65        \n",
      "_________________________________________________________________\n",
      "activation_5 (Activation)    (None, 1)                 0         \n",
      "=================================================================\n",
      "Total params: 694,145\n",
      "Trainable params: 694,145\n",
      "Non-trainable params: 0\n",
      "_________________________________________________________________\n"
     ]
    }
   ],
   "source": [
    "model.compile(optimizer='rmsprop',\n",
    "              loss='categorical_crossentropy',\n",
    "              metrics=['accuracy'])\n",
    "model.summary()"
   ]
  },
  {
   "cell_type": "code",
   "execution_count": null,
   "metadata": {
    "colab": {
     "base_uri": "https://localhost:8080/",
     "height": 34
    },
    "id": "dF9fLELmYZ8d",
    "outputId": "8eb64ce5-5aaf-4380-8768-593d930aebf6"
   },
   "outputs": [
    {
     "name": "stdout",
     "output_type": "stream",
     "text": [
      "(60000, 784)\n"
     ]
    }
   ],
   "source": [
    "print(X_train.shape)"
   ]
  },
  {
   "cell_type": "code",
   "execution_count": null,
   "metadata": {
    "colab": {
     "base_uri": "https://localhost:8080/",
     "height": 646
    },
    "id": "gMWLmkETVRfk",
    "outputId": "5809042e-22c1-4c42-dfe8-75ce01ebe362"
   },
   "outputs": [
    {
     "name": "stdout",
     "output_type": "stream",
     "text": [
      "Epoch 1/10\n"
     ]
    },
    {
     "ename": "ValueError",
     "evalue": "ignored",
     "output_type": "error",
     "traceback": [
      "\u001b[0;31m---------------------------------------------------------------------------\u001b[0m",
      "\u001b[0;31mValueError\u001b[0m                                Traceback (most recent call last)",
      "\u001b[0;32m<ipython-input-21-6b51c0d3e977>\u001b[0m in \u001b[0;36m<module>\u001b[0;34m()\u001b[0m\n\u001b[1;32m      2\u001b[0m                    \u001b[0msteps_per_epoch\u001b[0m\u001b[0;34m=\u001b[0m\u001b[0mnb_train_sample\u001b[0m\u001b[0;34m,\u001b[0m\u001b[0mepochs\u001b[0m\u001b[0;34m=\u001b[0m\u001b[0mepochs\u001b[0m\u001b[0;34m,\u001b[0m\u001b[0;34m\u001b[0m\u001b[0;34m\u001b[0m\u001b[0m\n\u001b[1;32m      3\u001b[0m                    \u001b[0mvalidation_data\u001b[0m\u001b[0;34m=\u001b[0m\u001b[0mX_test\u001b[0m\u001b[0;34m,\u001b[0m\u001b[0;34m\u001b[0m\u001b[0;34m\u001b[0m\u001b[0m\n\u001b[0;32m----> 4\u001b[0;31m                        validation_steps=nb_validation_samples)\n\u001b[0m",
      "\u001b[0;32m/usr/local/lib/python3.6/dist-packages/tensorflow/python/util/deprecation.py\u001b[0m in \u001b[0;36mnew_func\u001b[0;34m(*args, **kwargs)\u001b[0m\n\u001b[1;32m    322\u001b[0m               \u001b[0;34m'in a future version'\u001b[0m \u001b[0;32mif\u001b[0m \u001b[0mdate\u001b[0m \u001b[0;32mis\u001b[0m \u001b[0;32mNone\u001b[0m \u001b[0;32melse\u001b[0m \u001b[0;34m(\u001b[0m\u001b[0;34m'after %s'\u001b[0m \u001b[0;34m%\u001b[0m \u001b[0mdate\u001b[0m\u001b[0;34m)\u001b[0m\u001b[0;34m,\u001b[0m\u001b[0;34m\u001b[0m\u001b[0;34m\u001b[0m\u001b[0m\n\u001b[1;32m    323\u001b[0m               instructions)\n\u001b[0;32m--> 324\u001b[0;31m       \u001b[0;32mreturn\u001b[0m \u001b[0mfunc\u001b[0m\u001b[0;34m(\u001b[0m\u001b[0;34m*\u001b[0m\u001b[0margs\u001b[0m\u001b[0;34m,\u001b[0m \u001b[0;34m**\u001b[0m\u001b[0mkwargs\u001b[0m\u001b[0;34m)\u001b[0m\u001b[0;34m\u001b[0m\u001b[0;34m\u001b[0m\u001b[0m\n\u001b[0m\u001b[1;32m    325\u001b[0m     return tf_decorator.make_decorator(\n\u001b[1;32m    326\u001b[0m         \u001b[0mfunc\u001b[0m\u001b[0;34m,\u001b[0m \u001b[0mnew_func\u001b[0m\u001b[0;34m,\u001b[0m \u001b[0;34m'deprecated'\u001b[0m\u001b[0;34m,\u001b[0m\u001b[0;34m\u001b[0m\u001b[0;34m\u001b[0m\u001b[0m\n",
      "\u001b[0;32m/usr/local/lib/python3.6/dist-packages/tensorflow/python/keras/engine/training.py\u001b[0m in \u001b[0;36mfit_generator\u001b[0;34m(self, generator, steps_per_epoch, epochs, verbose, callbacks, validation_data, validation_steps, validation_freq, class_weight, max_queue_size, workers, use_multiprocessing, shuffle, initial_epoch)\u001b[0m\n\u001b[1;32m   1477\u001b[0m         \u001b[0muse_multiprocessing\u001b[0m\u001b[0;34m=\u001b[0m\u001b[0muse_multiprocessing\u001b[0m\u001b[0;34m,\u001b[0m\u001b[0;34m\u001b[0m\u001b[0;34m\u001b[0m\u001b[0m\n\u001b[1;32m   1478\u001b[0m         \u001b[0mshuffle\u001b[0m\u001b[0;34m=\u001b[0m\u001b[0mshuffle\u001b[0m\u001b[0;34m,\u001b[0m\u001b[0;34m\u001b[0m\u001b[0;34m\u001b[0m\u001b[0m\n\u001b[0;32m-> 1479\u001b[0;31m         initial_epoch=initial_epoch)\n\u001b[0m\u001b[1;32m   1480\u001b[0m \u001b[0;34m\u001b[0m\u001b[0m\n\u001b[1;32m   1481\u001b[0m   @deprecation.deprecated(\n",
      "\u001b[0;32m/usr/local/lib/python3.6/dist-packages/tensorflow/python/keras/engine/training.py\u001b[0m in \u001b[0;36m_method_wrapper\u001b[0;34m(self, *args, **kwargs)\u001b[0m\n\u001b[1;32m     64\u001b[0m   \u001b[0;32mdef\u001b[0m \u001b[0m_method_wrapper\u001b[0m\u001b[0;34m(\u001b[0m\u001b[0mself\u001b[0m\u001b[0;34m,\u001b[0m \u001b[0;34m*\u001b[0m\u001b[0margs\u001b[0m\u001b[0;34m,\u001b[0m \u001b[0;34m**\u001b[0m\u001b[0mkwargs\u001b[0m\u001b[0;34m)\u001b[0m\u001b[0;34m:\u001b[0m\u001b[0;34m\u001b[0m\u001b[0;34m\u001b[0m\u001b[0m\n\u001b[1;32m     65\u001b[0m     \u001b[0;32mif\u001b[0m \u001b[0;32mnot\u001b[0m \u001b[0mself\u001b[0m\u001b[0;34m.\u001b[0m\u001b[0m_in_multi_worker_mode\u001b[0m\u001b[0;34m(\u001b[0m\u001b[0;34m)\u001b[0m\u001b[0;34m:\u001b[0m  \u001b[0;31m# pylint: disable=protected-access\u001b[0m\u001b[0;34m\u001b[0m\u001b[0;34m\u001b[0m\u001b[0m\n\u001b[0;32m---> 66\u001b[0;31m       \u001b[0;32mreturn\u001b[0m \u001b[0mmethod\u001b[0m\u001b[0;34m(\u001b[0m\u001b[0mself\u001b[0m\u001b[0;34m,\u001b[0m \u001b[0;34m*\u001b[0m\u001b[0margs\u001b[0m\u001b[0;34m,\u001b[0m \u001b[0;34m**\u001b[0m\u001b[0mkwargs\u001b[0m\u001b[0;34m)\u001b[0m\u001b[0;34m\u001b[0m\u001b[0;34m\u001b[0m\u001b[0m\n\u001b[0m\u001b[1;32m     67\u001b[0m \u001b[0;34m\u001b[0m\u001b[0m\n\u001b[1;32m     68\u001b[0m     \u001b[0;31m# Running inside `run_distribute_coordinator` already.\u001b[0m\u001b[0;34m\u001b[0m\u001b[0;34m\u001b[0m\u001b[0;34m\u001b[0m\u001b[0m\n",
      "\u001b[0;32m/usr/local/lib/python3.6/dist-packages/tensorflow/python/keras/engine/training.py\u001b[0m in \u001b[0;36mfit\u001b[0;34m(self, x, y, batch_size, epochs, verbose, callbacks, validation_split, validation_data, shuffle, class_weight, sample_weight, initial_epoch, steps_per_epoch, validation_steps, validation_batch_size, validation_freq, max_queue_size, workers, use_multiprocessing)\u001b[0m\n\u001b[1;32m    846\u001b[0m                 batch_size=batch_size):\n\u001b[1;32m    847\u001b[0m               \u001b[0mcallbacks\u001b[0m\u001b[0;34m.\u001b[0m\u001b[0mon_train_batch_begin\u001b[0m\u001b[0;34m(\u001b[0m\u001b[0mstep\u001b[0m\u001b[0;34m)\u001b[0m\u001b[0;34m\u001b[0m\u001b[0;34m\u001b[0m\u001b[0m\n\u001b[0;32m--> 848\u001b[0;31m               \u001b[0mtmp_logs\u001b[0m \u001b[0;34m=\u001b[0m \u001b[0mtrain_function\u001b[0m\u001b[0;34m(\u001b[0m\u001b[0miterator\u001b[0m\u001b[0;34m)\u001b[0m\u001b[0;34m\u001b[0m\u001b[0;34m\u001b[0m\u001b[0m\n\u001b[0m\u001b[1;32m    849\u001b[0m               \u001b[0;31m# Catch OutOfRangeError for Datasets of unknown size.\u001b[0m\u001b[0;34m\u001b[0m\u001b[0;34m\u001b[0m\u001b[0;34m\u001b[0m\u001b[0m\n\u001b[1;32m    850\u001b[0m               \u001b[0;31m# This blocks until the batch has finished executing.\u001b[0m\u001b[0;34m\u001b[0m\u001b[0;34m\u001b[0m\u001b[0;34m\u001b[0m\u001b[0m\n",
      "\u001b[0;32m/usr/local/lib/python3.6/dist-packages/tensorflow/python/eager/def_function.py\u001b[0m in \u001b[0;36m__call__\u001b[0;34m(self, *args, **kwds)\u001b[0m\n\u001b[1;32m    578\u001b[0m         \u001b[0mxla_context\u001b[0m\u001b[0;34m.\u001b[0m\u001b[0mExit\u001b[0m\u001b[0;34m(\u001b[0m\u001b[0;34m)\u001b[0m\u001b[0;34m\u001b[0m\u001b[0;34m\u001b[0m\u001b[0m\n\u001b[1;32m    579\u001b[0m     \u001b[0;32melse\u001b[0m\u001b[0;34m:\u001b[0m\u001b[0;34m\u001b[0m\u001b[0;34m\u001b[0m\u001b[0m\n\u001b[0;32m--> 580\u001b[0;31m       \u001b[0mresult\u001b[0m \u001b[0;34m=\u001b[0m \u001b[0mself\u001b[0m\u001b[0;34m.\u001b[0m\u001b[0m_call\u001b[0m\u001b[0;34m(\u001b[0m\u001b[0;34m*\u001b[0m\u001b[0margs\u001b[0m\u001b[0;34m,\u001b[0m \u001b[0;34m**\u001b[0m\u001b[0mkwds\u001b[0m\u001b[0;34m)\u001b[0m\u001b[0;34m\u001b[0m\u001b[0;34m\u001b[0m\u001b[0m\n\u001b[0m\u001b[1;32m    581\u001b[0m \u001b[0;34m\u001b[0m\u001b[0m\n\u001b[1;32m    582\u001b[0m     \u001b[0;32mif\u001b[0m \u001b[0mtracing_count\u001b[0m \u001b[0;34m==\u001b[0m \u001b[0mself\u001b[0m\u001b[0;34m.\u001b[0m\u001b[0m_get_tracing_count\u001b[0m\u001b[0;34m(\u001b[0m\u001b[0;34m)\u001b[0m\u001b[0;34m:\u001b[0m\u001b[0;34m\u001b[0m\u001b[0;34m\u001b[0m\u001b[0m\n",
      "\u001b[0;32m/usr/local/lib/python3.6/dist-packages/tensorflow/python/eager/def_function.py\u001b[0m in \u001b[0;36m_call\u001b[0;34m(self, *args, **kwds)\u001b[0m\n\u001b[1;32m    625\u001b[0m       \u001b[0;31m# This is the first call of __call__, so we have to initialize.\u001b[0m\u001b[0;34m\u001b[0m\u001b[0;34m\u001b[0m\u001b[0;34m\u001b[0m\u001b[0m\n\u001b[1;32m    626\u001b[0m       \u001b[0minitializers\u001b[0m \u001b[0;34m=\u001b[0m \u001b[0;34m[\u001b[0m\u001b[0;34m]\u001b[0m\u001b[0;34m\u001b[0m\u001b[0;34m\u001b[0m\u001b[0m\n\u001b[0;32m--> 627\u001b[0;31m       \u001b[0mself\u001b[0m\u001b[0;34m.\u001b[0m\u001b[0m_initialize\u001b[0m\u001b[0;34m(\u001b[0m\u001b[0margs\u001b[0m\u001b[0;34m,\u001b[0m \u001b[0mkwds\u001b[0m\u001b[0;34m,\u001b[0m \u001b[0madd_initializers_to\u001b[0m\u001b[0;34m=\u001b[0m\u001b[0minitializers\u001b[0m\u001b[0;34m)\u001b[0m\u001b[0;34m\u001b[0m\u001b[0;34m\u001b[0m\u001b[0m\n\u001b[0m\u001b[1;32m    628\u001b[0m     \u001b[0;32mfinally\u001b[0m\u001b[0;34m:\u001b[0m\u001b[0;34m\u001b[0m\u001b[0;34m\u001b[0m\u001b[0m\n\u001b[1;32m    629\u001b[0m       \u001b[0;31m# At this point we know that the initialization is complete (or less\u001b[0m\u001b[0;34m\u001b[0m\u001b[0;34m\u001b[0m\u001b[0;34m\u001b[0m\u001b[0m\n",
      "\u001b[0;32m/usr/local/lib/python3.6/dist-packages/tensorflow/python/eager/def_function.py\u001b[0m in \u001b[0;36m_initialize\u001b[0;34m(self, args, kwds, add_initializers_to)\u001b[0m\n\u001b[1;32m    504\u001b[0m     self._concrete_stateful_fn = (\n\u001b[1;32m    505\u001b[0m         self._stateful_fn._get_concrete_function_internal_garbage_collected(  # pylint: disable=protected-access\n\u001b[0;32m--> 506\u001b[0;31m             *args, **kwds))\n\u001b[0m\u001b[1;32m    507\u001b[0m \u001b[0;34m\u001b[0m\u001b[0m\n\u001b[1;32m    508\u001b[0m     \u001b[0;32mdef\u001b[0m \u001b[0minvalid_creator_scope\u001b[0m\u001b[0;34m(\u001b[0m\u001b[0;34m*\u001b[0m\u001b[0munused_args\u001b[0m\u001b[0;34m,\u001b[0m \u001b[0;34m**\u001b[0m\u001b[0munused_kwds\u001b[0m\u001b[0;34m)\u001b[0m\u001b[0;34m:\u001b[0m\u001b[0;34m\u001b[0m\u001b[0;34m\u001b[0m\u001b[0m\n",
      "\u001b[0;32m/usr/local/lib/python3.6/dist-packages/tensorflow/python/eager/function.py\u001b[0m in \u001b[0;36m_get_concrete_function_internal_garbage_collected\u001b[0;34m(self, *args, **kwargs)\u001b[0m\n\u001b[1;32m   2444\u001b[0m       \u001b[0margs\u001b[0m\u001b[0;34m,\u001b[0m \u001b[0mkwargs\u001b[0m \u001b[0;34m=\u001b[0m \u001b[0;32mNone\u001b[0m\u001b[0;34m,\u001b[0m \u001b[0;32mNone\u001b[0m\u001b[0;34m\u001b[0m\u001b[0;34m\u001b[0m\u001b[0m\n\u001b[1;32m   2445\u001b[0m     \u001b[0;32mwith\u001b[0m \u001b[0mself\u001b[0m\u001b[0;34m.\u001b[0m\u001b[0m_lock\u001b[0m\u001b[0;34m:\u001b[0m\u001b[0;34m\u001b[0m\u001b[0;34m\u001b[0m\u001b[0m\n\u001b[0;32m-> 2446\u001b[0;31m       \u001b[0mgraph_function\u001b[0m\u001b[0;34m,\u001b[0m \u001b[0m_\u001b[0m\u001b[0;34m,\u001b[0m \u001b[0m_\u001b[0m \u001b[0;34m=\u001b[0m \u001b[0mself\u001b[0m\u001b[0;34m.\u001b[0m\u001b[0m_maybe_define_function\u001b[0m\u001b[0;34m(\u001b[0m\u001b[0margs\u001b[0m\u001b[0;34m,\u001b[0m \u001b[0mkwargs\u001b[0m\u001b[0;34m)\u001b[0m\u001b[0;34m\u001b[0m\u001b[0;34m\u001b[0m\u001b[0m\n\u001b[0m\u001b[1;32m   2447\u001b[0m     \u001b[0;32mreturn\u001b[0m \u001b[0mgraph_function\u001b[0m\u001b[0;34m\u001b[0m\u001b[0;34m\u001b[0m\u001b[0m\n\u001b[1;32m   2448\u001b[0m \u001b[0;34m\u001b[0m\u001b[0m\n",
      "\u001b[0;32m/usr/local/lib/python3.6/dist-packages/tensorflow/python/eager/function.py\u001b[0m in \u001b[0;36m_maybe_define_function\u001b[0;34m(self, args, kwargs)\u001b[0m\n\u001b[1;32m   2775\u001b[0m \u001b[0;34m\u001b[0m\u001b[0m\n\u001b[1;32m   2776\u001b[0m       \u001b[0mself\u001b[0m\u001b[0;34m.\u001b[0m\u001b[0m_function_cache\u001b[0m\u001b[0;34m.\u001b[0m\u001b[0mmissed\u001b[0m\u001b[0;34m.\u001b[0m\u001b[0madd\u001b[0m\u001b[0;34m(\u001b[0m\u001b[0mcall_context_key\u001b[0m\u001b[0;34m)\u001b[0m\u001b[0;34m\u001b[0m\u001b[0;34m\u001b[0m\u001b[0m\n\u001b[0;32m-> 2777\u001b[0;31m       \u001b[0mgraph_function\u001b[0m \u001b[0;34m=\u001b[0m \u001b[0mself\u001b[0m\u001b[0;34m.\u001b[0m\u001b[0m_create_graph_function\u001b[0m\u001b[0;34m(\u001b[0m\u001b[0margs\u001b[0m\u001b[0;34m,\u001b[0m \u001b[0mkwargs\u001b[0m\u001b[0;34m)\u001b[0m\u001b[0;34m\u001b[0m\u001b[0;34m\u001b[0m\u001b[0m\n\u001b[0m\u001b[1;32m   2778\u001b[0m       \u001b[0mself\u001b[0m\u001b[0;34m.\u001b[0m\u001b[0m_function_cache\u001b[0m\u001b[0;34m.\u001b[0m\u001b[0mprimary\u001b[0m\u001b[0;34m[\u001b[0m\u001b[0mcache_key\u001b[0m\u001b[0;34m]\u001b[0m \u001b[0;34m=\u001b[0m \u001b[0mgraph_function\u001b[0m\u001b[0;34m\u001b[0m\u001b[0;34m\u001b[0m\u001b[0m\n\u001b[1;32m   2779\u001b[0m       \u001b[0;32mreturn\u001b[0m \u001b[0mgraph_function\u001b[0m\u001b[0;34m,\u001b[0m \u001b[0margs\u001b[0m\u001b[0;34m,\u001b[0m \u001b[0mkwargs\u001b[0m\u001b[0;34m\u001b[0m\u001b[0;34m\u001b[0m\u001b[0m\n",
      "\u001b[0;32m/usr/local/lib/python3.6/dist-packages/tensorflow/python/eager/function.py\u001b[0m in \u001b[0;36m_create_graph_function\u001b[0;34m(self, args, kwargs, override_flat_arg_shapes)\u001b[0m\n\u001b[1;32m   2665\u001b[0m             \u001b[0marg_names\u001b[0m\u001b[0;34m=\u001b[0m\u001b[0marg_names\u001b[0m\u001b[0;34m,\u001b[0m\u001b[0;34m\u001b[0m\u001b[0;34m\u001b[0m\u001b[0m\n\u001b[1;32m   2666\u001b[0m             \u001b[0moverride_flat_arg_shapes\u001b[0m\u001b[0;34m=\u001b[0m\u001b[0moverride_flat_arg_shapes\u001b[0m\u001b[0;34m,\u001b[0m\u001b[0;34m\u001b[0m\u001b[0;34m\u001b[0m\u001b[0m\n\u001b[0;32m-> 2667\u001b[0;31m             capture_by_value=self._capture_by_value),\n\u001b[0m\u001b[1;32m   2668\u001b[0m         \u001b[0mself\u001b[0m\u001b[0;34m.\u001b[0m\u001b[0m_function_attributes\u001b[0m\u001b[0;34m,\u001b[0m\u001b[0;34m\u001b[0m\u001b[0;34m\u001b[0m\u001b[0m\n\u001b[1;32m   2669\u001b[0m         \u001b[0;31m# Tell the ConcreteFunction to clean up its graph once it goes out of\u001b[0m\u001b[0;34m\u001b[0m\u001b[0;34m\u001b[0m\u001b[0;34m\u001b[0m\u001b[0m\n",
      "\u001b[0;32m/usr/local/lib/python3.6/dist-packages/tensorflow/python/framework/func_graph.py\u001b[0m in \u001b[0;36mfunc_graph_from_py_func\u001b[0;34m(name, python_func, args, kwargs, signature, func_graph, autograph, autograph_options, add_control_dependencies, arg_names, op_return_value, collections, capture_by_value, override_flat_arg_shapes)\u001b[0m\n\u001b[1;32m    979\u001b[0m         \u001b[0m_\u001b[0m\u001b[0;34m,\u001b[0m \u001b[0moriginal_func\u001b[0m \u001b[0;34m=\u001b[0m \u001b[0mtf_decorator\u001b[0m\u001b[0;34m.\u001b[0m\u001b[0munwrap\u001b[0m\u001b[0;34m(\u001b[0m\u001b[0mpython_func\u001b[0m\u001b[0;34m)\u001b[0m\u001b[0;34m\u001b[0m\u001b[0;34m\u001b[0m\u001b[0m\n\u001b[1;32m    980\u001b[0m \u001b[0;34m\u001b[0m\u001b[0m\n\u001b[0;32m--> 981\u001b[0;31m       \u001b[0mfunc_outputs\u001b[0m \u001b[0;34m=\u001b[0m \u001b[0mpython_func\u001b[0m\u001b[0;34m(\u001b[0m\u001b[0;34m*\u001b[0m\u001b[0mfunc_args\u001b[0m\u001b[0;34m,\u001b[0m \u001b[0;34m**\u001b[0m\u001b[0mfunc_kwargs\u001b[0m\u001b[0;34m)\u001b[0m\u001b[0;34m\u001b[0m\u001b[0;34m\u001b[0m\u001b[0m\n\u001b[0m\u001b[1;32m    982\u001b[0m \u001b[0;34m\u001b[0m\u001b[0m\n\u001b[1;32m    983\u001b[0m       \u001b[0;31m# invariant: `func_outputs` contains only Tensors, CompositeTensors,\u001b[0m\u001b[0;34m\u001b[0m\u001b[0;34m\u001b[0m\u001b[0;34m\u001b[0m\u001b[0m\n",
      "\u001b[0;32m/usr/local/lib/python3.6/dist-packages/tensorflow/python/eager/def_function.py\u001b[0m in \u001b[0;36mwrapped_fn\u001b[0;34m(*args, **kwds)\u001b[0m\n\u001b[1;32m    439\u001b[0m         \u001b[0;31m# __wrapped__ allows AutoGraph to swap in a converted function. We give\u001b[0m\u001b[0;34m\u001b[0m\u001b[0;34m\u001b[0m\u001b[0;34m\u001b[0m\u001b[0m\n\u001b[1;32m    440\u001b[0m         \u001b[0;31m# the function a weak reference to itself to avoid a reference cycle.\u001b[0m\u001b[0;34m\u001b[0m\u001b[0;34m\u001b[0m\u001b[0;34m\u001b[0m\u001b[0m\n\u001b[0;32m--> 441\u001b[0;31m         \u001b[0;32mreturn\u001b[0m \u001b[0mweak_wrapped_fn\u001b[0m\u001b[0;34m(\u001b[0m\u001b[0;34m)\u001b[0m\u001b[0;34m.\u001b[0m\u001b[0m__wrapped__\u001b[0m\u001b[0;34m(\u001b[0m\u001b[0;34m*\u001b[0m\u001b[0margs\u001b[0m\u001b[0;34m,\u001b[0m \u001b[0;34m**\u001b[0m\u001b[0mkwds\u001b[0m\u001b[0;34m)\u001b[0m\u001b[0;34m\u001b[0m\u001b[0;34m\u001b[0m\u001b[0m\n\u001b[0m\u001b[1;32m    442\u001b[0m     \u001b[0mweak_wrapped_fn\u001b[0m \u001b[0;34m=\u001b[0m \u001b[0mweakref\u001b[0m\u001b[0;34m.\u001b[0m\u001b[0mref\u001b[0m\u001b[0;34m(\u001b[0m\u001b[0mwrapped_fn\u001b[0m\u001b[0;34m)\u001b[0m\u001b[0;34m\u001b[0m\u001b[0;34m\u001b[0m\u001b[0m\n\u001b[1;32m    443\u001b[0m \u001b[0;34m\u001b[0m\u001b[0m\n",
      "\u001b[0;32m/usr/local/lib/python3.6/dist-packages/tensorflow/python/framework/func_graph.py\u001b[0m in \u001b[0;36mwrapper\u001b[0;34m(*args, **kwargs)\u001b[0m\n\u001b[1;32m    966\u001b[0m           \u001b[0;32mexcept\u001b[0m \u001b[0mException\u001b[0m \u001b[0;32mas\u001b[0m \u001b[0me\u001b[0m\u001b[0;34m:\u001b[0m  \u001b[0;31m# pylint:disable=broad-except\u001b[0m\u001b[0;34m\u001b[0m\u001b[0;34m\u001b[0m\u001b[0m\n\u001b[1;32m    967\u001b[0m             \u001b[0;32mif\u001b[0m \u001b[0mhasattr\u001b[0m\u001b[0;34m(\u001b[0m\u001b[0me\u001b[0m\u001b[0;34m,\u001b[0m \u001b[0;34m\"ag_error_metadata\"\u001b[0m\u001b[0;34m)\u001b[0m\u001b[0;34m:\u001b[0m\u001b[0;34m\u001b[0m\u001b[0;34m\u001b[0m\u001b[0m\n\u001b[0;32m--> 968\u001b[0;31m               \u001b[0;32mraise\u001b[0m \u001b[0me\u001b[0m\u001b[0;34m.\u001b[0m\u001b[0mag_error_metadata\u001b[0m\u001b[0;34m.\u001b[0m\u001b[0mto_exception\u001b[0m\u001b[0;34m(\u001b[0m\u001b[0me\u001b[0m\u001b[0;34m)\u001b[0m\u001b[0;34m\u001b[0m\u001b[0;34m\u001b[0m\u001b[0m\n\u001b[0m\u001b[1;32m    969\u001b[0m             \u001b[0;32melse\u001b[0m\u001b[0;34m:\u001b[0m\u001b[0;34m\u001b[0m\u001b[0;34m\u001b[0m\u001b[0m\n\u001b[1;32m    970\u001b[0m               \u001b[0;32mraise\u001b[0m\u001b[0;34m\u001b[0m\u001b[0;34m\u001b[0m\u001b[0m\n",
      "\u001b[0;31mValueError\u001b[0m: in user code:\n\n    /usr/local/lib/python3.6/dist-packages/tensorflow/python/keras/engine/training.py:571 train_function  *\n        outputs = self.distribute_strategy.run(\n    /usr/local/lib/python3.6/dist-packages/tensorflow/python/distribute/distribute_lib.py:951 run  **\n        return self._extended.call_for_each_replica(fn, args=args, kwargs=kwargs)\n    /usr/local/lib/python3.6/dist-packages/tensorflow/python/distribute/distribute_lib.py:2290 call_for_each_replica\n        return self._call_for_each_replica(fn, args, kwargs)\n    /usr/local/lib/python3.6/dist-packages/tensorflow/python/distribute/distribute_lib.py:2649 _call_for_each_replica\n        return fn(*args, **kwargs)\n    /usr/local/lib/python3.6/dist-packages/tensorflow/python/keras/engine/training.py:531 train_step  **\n        y_pred = self(x, training=True)\n    /usr/local/lib/python3.6/dist-packages/tensorflow/python/keras/engine/base_layer.py:886 __call__\n        self.name)\n    /usr/local/lib/python3.6/dist-packages/tensorflow/python/keras/engine/input_spec.py:180 assert_input_compatibility\n        str(x.shape.as_list()))\n\n    ValueError: Input 0 of layer sequential_1 is incompatible with the layer: expected ndim=4, found ndim=2. Full shape received: [300, 784]\n"
     ]
    }
   ],
   "source": [
    "training = model.fit_generator(X_train,\n",
    "                   steps_per_epoch=nb_train_sample,epochs=epochs,\n",
    "                   validation_data=X_test,\n",
    "                       validation_steps=nb_validation_samples)"
   ]
  },
  {
   "cell_type": "code",
   "execution_count": null,
   "metadata": {
    "colab": {
     "base_uri": "https://localhost:8080/",
     "height": 590
    },
    "id": "HaahF2TKVRfn",
    "outputId": "53f953f5-f0ba-44fa-e0e6-a1b9c7dc1709"
   },
   "outputs": [
    {
     "name": "stdout",
     "output_type": "stream",
     "text": [
      "dict_keys(['loss', 'accuracy', 'val_loss', 'val_accuracy'])\n"
     ]
    },
    {
     "data": {
      "image/png": "[encoded data removed]",
      "text/plain": [
       "<Figure size 432x288 with 1 Axes>"
      ]
     },
     "metadata": {
      "needs_background": "light",
      "tags": []
     },
     "output_type": "display_data"
    },
    {
     "data": {
      "image/png": "[encoded data removed]",
      "text/plain": [
       "<Figure size 432x288 with 1 Axes>"
      ]
     },
     "metadata": {
      "needs_background": "light",
      "tags": []
     },
     "output_type": "display_data"
    }
   ],
   "source": [
    "import matplotlib.pyplot as plt\n",
    "%matplotlib inline\n",
    "# list all data in training\n",
    "print(training.history.keys())\n",
    "# summarize training for accuracy\n",
    "plt.plot(training.history['accuracy'])\n",
    "plt.plot(training.history['val_accuracy'])\n",
    "plt.title('model accuracy')\n",
    "plt.ylabel('accuracy')\n",
    "plt.xlabel('epoch')\n",
    "plt.legend(['train', 'test'], loc='upper left')\n",
    "plt.show()\n",
    "# summarize traning for loss\n",
    "plt.plot(training.history['loss'])\n",
    "plt.plot(training.history['val_loss'])\n",
    "plt.title('model loss')\n",
    "plt.ylabel('loss')\n",
    "plt.xlabel('epoch')\n",
    "plt.legend(['train', 'test'], loc='upper left')\n",
    "plt.show()"
   ]
  },
  {
   "cell_type": "code",
   "execution_count": null,
   "metadata": {
    "colab": {
     "base_uri": "https://localhost:8080/",
     "height": 51
    },
    "id": "GD0eO2ujVRfr",
    "outputId": "61705196-cc03-498e-81ee-fcb1b0110bb6"
   },
   "outputs": [
    {
     "name": "stdout",
     "output_type": "stream",
     "text": [
      "313/313 [==============================] - 1s 4ms/step - loss: 0.4325 - accuracy: 0.8951\n",
      "Test accuracy: 0.8950999975204468\n"
     ]
    }
   ],
   "source": [
    "#evaluate the model\n",
    "test_loss, test_acc = model_6.evaluate(X_test, Y_test)\n",
    "print('Test accuracy:', test_acc)"
   ]
  },
  {
   "cell_type": "code",
   "execution_count": null,
   "metadata": {
    "colab": {
     "base_uri": "https://localhost:8080/",
     "height": 34
    },
    "id": "oLm_VQsOVRfv",
    "outputId": "a25ac2f8-6526-454e-b17a-2a967778ba37"
   },
   "outputs": [
    {
     "data": {
      "text/plain": [
       "<bound method Network.summary of <tensorflow.python.keras.engine.sequential.Sequential object at 0x7ffa9a1c0b00>>"
      ]
     },
     "execution_count": 59,
     "metadata": {
      "tags": []
     },
     "output_type": "execute_result"
    }
   ],
   "source": [
    "model_6.summary"
   ]
  },
  {
   "cell_type": "code",
   "execution_count": null,
   "metadata": {
    "colab": {
     "base_uri": "https://localhost:8080/",
     "height": 1000
    },
    "id": "dQ94nKKsVRfz",
    "outputId": "494cb512-ba9b-4e95-eead-c3af6affe6d7"
   },
   "outputs": [
    {
     "data": {
      "text/plain": [
       "[<tf.Variable 'dense_layer_8/kernel:0' shape=(784, 512) dtype=float32, numpy=\n",
       " array([[-0.02043436, -0.03052251, -0.04867187, ..., -0.00341104,\n",
       "          0.0646666 ,  0.06193061],\n",
       "        [ 0.00580537, -0.03989251,  0.02505963, ...,  0.00726219,\n",
       "         -0.03476311, -0.04609244],\n",
       "        [ 0.02528511, -0.0624702 ,  0.02157883, ...,  0.02244397,\n",
       "         -0.00719848,  0.04892342],\n",
       "        ...,\n",
       "        [ 0.03892381,  0.06000207,  0.02830688, ..., -0.03362466,\n",
       "         -0.06500859, -0.02711738],\n",
       "        [-0.062404  ,  0.04495282,  0.00313219, ...,  0.05914421,\n",
       "         -0.0092866 , -0.01132109],\n",
       "        [-0.04838803, -0.00661732,  0.05316094, ...,  0.05458824,\n",
       "         -0.0405038 ,  0.02893919]], dtype=float32)>,\n",
       " <tf.Variable 'dense_layer_8/bias:0' shape=(512,) dtype=float32, numpy=\n",
       " array([-0.2696233 , -0.21055523, -0.33684137, -0.42744735,  0.18318221,\n",
       "        -0.27374473, -0.4295545 , -0.4989392 , -0.40381438, -0.0173907 ,\n",
       "        -0.02753447, -0.14542247, -0.69777596, -0.59039474, -0.27526793,\n",
       "        -0.4565259 , -0.19103886, -0.03038125, -0.14431506, -0.44546953,\n",
       "        -0.4384869 , -0.22670168, -0.12920149, -0.3529104 ,  0.01874708,\n",
       "         0.03865247, -0.09942317, -0.37635398,  0.05034769, -0.5097547 ,\n",
       "         0.08612788, -0.19895247, -0.09185734,  0.18310507, -0.32752576,\n",
       "        -0.02264479,  0.01025114, -0.15946889, -0.38689563, -0.34469634,\n",
       "        -0.36817837,  0.12921374, -0.11992764, -0.01881557, -0.3884351 ,\n",
       "        -0.00718244, -0.31887013, -0.52107877,  0.12082034, -0.19646251,\n",
       "        -0.22191986, -0.1437224 , -0.29777363, -0.53086865, -0.12631057,\n",
       "         0.13094419, -0.13917129,  0.00583606, -0.16718774,  0.03018015,\n",
       "        -0.58638734, -0.02188976, -0.4473377 , -0.04404052, -0.16019145,\n",
       "        -0.14673918,  0.01173183,  0.09187844, -0.01668436,  0.12805556,\n",
       "        -0.16952692, -0.607649  , -0.40257218, -0.03683537, -0.7947761 ,\n",
       "        -0.28343934, -0.57222146, -0.2707892 , -0.18641129, -0.07556085,\n",
       "        -0.08062723, -0.3644887 , -0.54991335, -0.2002851 , -0.5600216 ,\n",
       "        -0.40424347, -0.21844392, -0.16454019,  0.02891395,  0.12312049,\n",
       "        -0.30026382, -0.3627983 , -0.17188379,  0.01734723, -0.29349625,\n",
       "        -0.26071537, -0.38225314, -0.03323523, -0.17537077, -0.441885  ,\n",
       "        -0.09777397, -0.18430358,  0.09732835, -0.03439459,  0.15488645,\n",
       "        -0.28570494,  0.00417195, -0.54466563, -0.47075158, -0.69965667,\n",
       "        -0.22724637, -0.47913924, -0.01870635, -0.22890826, -0.06281532,\n",
       "        -0.71873   , -0.13300101, -0.13784057, -0.48036802, -0.24672139,\n",
       "         0.05949189, -0.13928486, -0.3953031 , -0.31828818, -0.0839654 ,\n",
       "        -0.23584065, -0.21653795, -0.20123477, -0.3937147 , -0.16197862,\n",
       "        -0.92149967, -0.03392668, -0.22747813, -0.4104444 , -0.29569617,\n",
       "        -0.35044834, -0.34732348, -0.14372009, -0.29292223, -0.21738692,\n",
       "        -0.52905613, -0.3450462 ,  0.16480425, -0.03414582, -0.10628978,\n",
       "        -0.27911526, -0.2083701 , -0.06697109, -0.17012432, -0.50735015,\n",
       "        -0.06452555, -0.49289736, -0.42184952,  0.00881977, -0.26190704,\n",
       "        -0.1537478 , -0.37149155, -0.13380708, -0.45335138, -0.30430567,\n",
       "        -0.26924622, -0.36665708, -0.6085542 , -0.10758677, -0.03512141,\n",
       "         0.01186022,  0.00505938, -0.10092407, -0.09170897,  0.05898591,\n",
       "         0.067136  ,  0.00938657, -0.00600094, -0.18202594, -0.25668278,\n",
       "         0.2309898 , -0.26955432, -0.17514804, -0.38176596, -0.3553004 ,\n",
       "        -0.23361991, -0.2979614 , -0.25536564, -0.33286262, -0.15431745,\n",
       "        -0.24253343, -0.09628185, -0.29247952, -0.01097796, -0.31394276,\n",
       "        -0.6662563 ,  0.16397506,  0.32289138, -0.27665627, -0.3913615 ,\n",
       "         0.25286132, -0.1246611 , -0.03693834, -0.31339404, -0.32478696,\n",
       "        -0.17795783, -0.6421901 , -0.25299466, -0.02144221, -0.16489227,\n",
       "         0.13300562, -0.15642543, -0.1099498 , -0.03995977, -0.5069289 ,\n",
       "        -0.18727073, -0.23603149, -0.28105575, -0.27661386, -0.337104  ,\n",
       "        -0.07837322, -0.17777477, -0.32150966,  0.03210541, -0.40579638,\n",
       "        -0.4404787 , -0.19481236, -0.21178351, -0.5810828 , -0.43712327,\n",
       "        -0.73686093, -0.47085842, -0.28466633,  0.03144144, -0.56787217,\n",
       "        -0.14624263, -0.20184365, -0.23991668, -0.18999131, -0.36354816,\n",
       "        -0.2857371 ,  0.07118796, -0.16984595, -0.25582024, -0.19779249,\n",
       "        -0.19449149, -0.17772178, -0.0158757 , -0.61694527, -0.44698957,\n",
       "         0.05527673, -0.05759416, -0.11423653, -0.51053125, -0.37863708,\n",
       "        -0.17570409,  0.08945898,  0.02739712, -0.36063945, -0.4308034 ,\n",
       "        -0.17203261, -0.16994484, -0.20994629, -0.18219425, -0.19212613,\n",
       "        -0.03048081,  0.02987648, -0.53590727,  0.02363749, -0.25157776,\n",
       "        -0.291716  , -0.11998188, -0.08307215, -0.26601776, -0.47802582,\n",
       "        -0.23956335, -0.05240866, -0.45372567, -0.1917211 , -0.04963914,\n",
       "        -0.25976416, -0.4559752 , -0.422362  , -0.30344194, -0.25408193,\n",
       "        -0.37525412, -0.4620375 ,  0.02101701, -0.40512285, -0.36818326,\n",
       "        -0.09237959, -0.1341872 , -0.5137707 , -0.6031753 , -0.12332745,\n",
       "         0.08364153, -0.06272127, -0.49000153, -0.28939503, -0.3084176 ,\n",
       "        -0.69817895, -0.02564907, -0.42432424, -0.26996675,  0.05392009,\n",
       "         0.14806002,  0.04884285, -0.23323989, -0.14799803, -0.05732735,\n",
       "        -0.19667597,  0.20462413, -0.03246721, -0.12511227, -0.07271943,\n",
       "        -0.39755863, -0.06195214, -0.26317418, -0.19539754, -0.49757048,\n",
       "        -0.01245722, -0.3604564 , -0.09649093, -0.20428418, -0.33626205,\n",
       "         0.23393664, -0.1268835 ,  0.08728244,  0.12389429, -0.23385076,\n",
       "        -0.22964492, -0.02930309, -0.17697999, -0.11112972, -0.2553529 ,\n",
       "        -0.34331092,  0.02823567,  0.17985946, -0.26964682,  0.11702529,\n",
       "        -0.4939382 , -0.13730083,  0.06791068,  0.27215633, -0.34416676,\n",
       "         0.00473885, -0.04341743,  0.10614222, -0.06123485, -0.0990551 ,\n",
       "         0.19862166,  0.09108048, -0.20261574, -0.06709547, -0.18506475,\n",
       "        -0.03284829, -0.4014016 , -0.19971503,  0.08533444, -0.45590803,\n",
       "        -0.18259707, -0.22731334, -0.3533481 , -0.15132391, -0.04689423,\n",
       "        -0.41710454, -0.2276736 ,  0.01853679, -0.16237736, -0.5176968 ,\n",
       "        -0.3898137 , -0.5058089 ,  0.03047854, -0.1807336 , -0.05003184,\n",
       "         0.0065933 , -0.25060648, -0.2503102 ,  0.12828723, -0.60870755,\n",
       "        -0.25974667, -0.29079655, -0.32036665, -0.6914658 , -0.6382996 ,\n",
       "         0.10248274,  0.15497299, -0.22279367, -0.44842225, -0.20044848,\n",
       "        -0.26829386, -0.46701038, -0.02301912, -0.22469227, -0.4052091 ,\n",
       "        -0.45218182, -0.32259455, -0.19550417, -0.21909153, -0.27853864,\n",
       "        -0.4405603 , -0.09006552, -0.17720135,  0.02760173, -0.21334021,\n",
       "         0.11099483, -0.04707084, -0.5503532 ,  0.23122033, -0.17021382,\n",
       "         0.15474261, -0.02252994,  0.12281571, -0.11179549, -0.05886948,\n",
       "        -0.14441329, -0.01090423, -0.42050385, -0.02933597, -0.09983373,\n",
       "        -0.3681018 , -0.20683399, -0.5355109 , -0.0464318 , -0.19561288,\n",
       "         0.08495087, -0.11086687, -0.07394721,  0.02250678, -0.20211917,\n",
       "        -0.31972215, -0.15853697, -0.21581222,  0.16825831, -0.21617159,\n",
       "        -0.48592985, -0.23364028, -0.13722137, -0.04469431, -0.1355897 ,\n",
       "        -0.10819568, -0.2219548 , -0.10088089, -0.13666353,  0.1145459 ,\n",
       "        -0.2602746 , -0.24390417, -0.14585629, -0.16982166, -0.03354973,\n",
       "        -0.1882672 , -0.47209433, -0.23154792, -0.2852839 ,  0.00447701,\n",
       "        -0.2466137 ,  0.01513781, -0.35772336, -0.47153482, -0.16192749,\n",
       "        -0.18880709,  0.02534606, -0.21622372, -0.16643879,  0.13549176,\n",
       "        -0.36174542,  0.00318471, -0.00846594, -0.34606802, -0.17864048,\n",
       "        -0.50079393,  0.15257677, -0.13326643, -0.03427297, -0.13887885,\n",
       "        -0.10833173, -0.42906177,  0.07073282, -0.8272588 , -0.34088227,\n",
       "        -0.19610593, -0.12080865,  0.04765316, -0.10128038, -0.34742182,\n",
       "        -0.14102283, -0.19830221, -0.5170853 , -0.26167715,  0.08200791,\n",
       "        -0.0350775 , -0.8242871 , -0.1458042 , -0.57211834, -0.3030035 ,\n",
       "        -0.07657946, -0.01900173,  0.02733069, -0.17630917, -0.5489323 ,\n",
       "        -0.4436115 , -0.24990772, -0.4653536 , -0.12367339, -0.02347991,\n",
       "        -0.5163176 , -0.31180143, -0.02765441, -0.20840229, -0.02387062,\n",
       "        -0.39871982, -0.04175514, -0.4467921 , -0.10026515, -0.59768313,\n",
       "        -0.46691343, -0.28173923], dtype=float32)>,\n",
       " <tf.Variable 'dense_layer_2_5/kernel:0' shape=(512, 512) dtype=float32, numpy=\n",
       " array([[-0.44035417, -0.08319122, -0.07522572, ...,  0.07430229,\n",
       "         -0.02726143,  0.12732434],\n",
       "        [-0.01406842,  0.12247626, -0.43497545, ...,  0.00618181,\n",
       "          0.06629271,  0.47217116],\n",
       "        [ 0.4767634 ,  0.44265702,  0.11117949, ..., -0.20954657,\n",
       "          0.1171995 ,  0.00962094],\n",
       "        ...,\n",
       "        [ 0.19733089,  0.07500589,  0.21224241, ..., -0.38945597,\n",
       "          0.04087703,  0.03677493],\n",
       "        [-0.19920942,  0.29997236, -0.4244362 , ...,  0.35777205,\n",
       "          0.03635927, -0.00325797],\n",
       "        [-0.00409521,  0.20231165, -0.22174703, ..., -0.5272831 ,\n",
       "         -0.13503195, -0.3593861 ]], dtype=float32)>,\n",
       " <tf.Variable 'dense_layer_2_5/bias:0' shape=(512,) dtype=float32, numpy=\n",
       " array([-5.13993859e-01, -6.00391090e-01, -1.02565205e+00,  1.96603984e-02,\n",
       "        -9.64286447e-01, -3.02042425e-01, -2.79223353e-01, -7.91683316e-01,\n",
       "        -1.25697148e+00, -6.34749413e-01, -6.42875314e-01, -8.38303924e-01,\n",
       "         3.75048369e-01,  1.22826135e+00,  4.10792455e-02, -3.48823369e-01,\n",
       "        -8.37945402e-01, -5.57077825e-01, -1.92337680e+00, -6.88903630e-01,\n",
       "        -1.42878699e+00, -1.74578571e+00, -6.96560562e-01, -6.23477757e-01,\n",
       "        -9.93947685e-01, -1.40119100e+00,  7.48132765e-02,  5.23510695e-01,\n",
       "        -1.05909204e+00, -1.05678938e-01, -8.51926327e-01, -1.13171136e+00,\n",
       "        -8.36204886e-01,  3.30297112e-01, -1.12232172e+00, -4.22348201e-01,\n",
       "         3.22610825e-01, -8.03642333e-01, -1.11286557e+00,  1.96023822e-01,\n",
       "        -4.54311579e-01, -2.12987915e-01, -3.06256473e-01, -8.04532349e-01,\n",
       "        -5.48995323e-02, -1.13650477e+00, -1.86033383e-01, -9.95462835e-01,\n",
       "        -4.03522074e-01, -1.08907378e+00, -8.13603401e-01, -9.99267757e-01,\n",
       "         5.36068916e-01, -6.78450227e-01, -7.46327698e-01, -1.99973002e-01,\n",
       "         7.15477407e-01, -1.36275184e+00, -8.76522958e-01, -1.02583504e+00,\n",
       "        -9.96108770e-01, -4.05463755e-01, -8.10392559e-01,  1.37380624e+00,\n",
       "        -2.95545578e-01, -9.79546234e-02, -6.87758207e-01,  1.37252361e-01,\n",
       "        -1.00489795e+00, -7.31188238e-01, -1.23231530e+00, -7.89228559e-01,\n",
       "        -7.27989614e-01, -1.33074176e+00,  1.49906680e-01, -1.05883646e+00,\n",
       "        -5.39433658e-01, -1.45379090e+00, -1.29124737e+00, -4.15208399e-01,\n",
       "        -8.63828897e-01, -9.65946019e-02, -8.06198716e-01,  7.72223234e-01,\n",
       "        -5.28183877e-01, -8.11358690e-01, -1.29313731e+00, -2.81887174e-01,\n",
       "        -2.34232470e-01,  2.72289991e-01, -4.95405912e-01, -1.16225076e+00,\n",
       "        -5.89152217e-01, -1.40832210e+00, -6.53198481e-01, -1.64954972e+00,\n",
       "        -1.73463035e+00, -6.83469832e-01, -1.08742547e+00, -4.15921718e-01,\n",
       "        -5.64897597e-01, -5.75317085e-01, -3.57972383e-01, -7.70333111e-02,\n",
       "         5.02940774e-01, -3.48621428e-01, -1.67420805e+00,  4.32348907e-01,\n",
       "        -1.09945118e+00, -1.02830088e+00,  1.01219761e+00, -1.87412828e-01,\n",
       "        -7.77675569e-01, -5.06599367e-01, -4.45302278e-02, -1.74747241e+00,\n",
       "        -7.70861804e-01, -1.05901241e+00, -6.58254802e-01, -4.50766087e-01,\n",
       "        -2.78983831e-01, -7.41755545e-01, -1.05651760e+00, -1.38073552e+00,\n",
       "        -1.38550818e+00, -1.53669310e+00, -1.61619540e-02,  8.02636564e-01,\n",
       "         6.76285267e-01, -7.58338749e-01, -1.20348024e+00, -1.11127841e+00,\n",
       "        -1.28241324e+00, -5.53993940e-01,  4.75458503e-01, -5.81060231e-01,\n",
       "         1.11498185e-01,  2.34780073e-01, -1.54807985e-01, -1.31210756e+00,\n",
       "        -1.01029563e+00, -7.78311253e-01, -1.35789561e+00, -9.19717014e-01,\n",
       "        -1.25609207e+00, -1.13194034e-01,  4.00508881e-01, -7.22618163e-01,\n",
       "        -1.05772948e+00,  8.85079741e-01,  2.38701358e-01, -1.20700800e+00,\n",
       "        -9.45724249e-01, -2.56541193e-01, -1.04020667e+00, -4.46437269e-01,\n",
       "        -1.27823102e+00,  4.19540219e-02, -1.09785640e+00, -6.76395416e-01,\n",
       "        -1.42547119e+00, -7.81508744e-01,  2.02204455e-02, -4.60170597e-01,\n",
       "        -1.12832502e-01, -3.05958148e-02, -8.34242404e-01, -6.01991117e-01,\n",
       "        -1.35451603e+00,  5.91995418e-01, -1.92008555e-01, -1.08873390e-01,\n",
       "        -1.77869666e+00, -6.13185048e-01, -7.10151672e-01, -1.09448314e+00,\n",
       "        -6.54223919e-01, -6.84696555e-01,  4.48063940e-01,  4.58558649e-01,\n",
       "        -5.46245396e-01, -1.15159893e+00, -1.02293718e+00, -1.77409399e+00,\n",
       "         7.78888345e-01,  7.69424319e-01,  9.80672419e-01, -8.34414840e-01,\n",
       "        -1.65368617e+00,  1.82723805e-01, -3.48805815e-01,  1.24507211e-01,\n",
       "         2.37278119e-01, -5.60807735e-02, -5.00301957e-01, -2.18070909e-01,\n",
       "        -1.61055732e+00, -2.26019114e-01,  7.75548041e-01, -6.70987248e-01,\n",
       "         1.98382604e+00, -1.04046023e+00, -5.54885507e-01, -2.90101588e-01,\n",
       "        -1.12315583e+00, -1.18832004e+00, -1.22823548e+00, -1.74251258e-01,\n",
       "        -9.14054513e-01, -2.63018757e-01, -7.74992168e-01, -1.27801156e+00,\n",
       "        -9.33559060e-01,  2.05987796e-01, -1.59480453e-01, -1.09042811e+00,\n",
       "        -1.09509528e+00, -6.64956212e-01,  1.22047389e+00, -2.79797286e-01,\n",
       "        -3.29573601e-01, -1.16599846e+00, -3.21700424e-01, -1.57216862e-01,\n",
       "         5.63583374e-01, -1.25729418e+00,  1.17708288e-01, -5.57234645e-01,\n",
       "        -4.79370236e-01, -5.70572734e-01, -4.61992890e-01, -1.08069491e+00,\n",
       "        -6.53409421e-01, -7.16538906e-01, -2.41746426e-01, -5.07942021e-01,\n",
       "        -4.68171716e-01, -2.47752979e-01, -9.04691517e-01, -6.67369962e-01,\n",
       "        -1.34503663e+00,  1.85226537e-02, -3.79310936e-01, -1.39572001e+00,\n",
       "         4.64081764e-01, -9.38338637e-01, -1.11537993e+00, -1.31472063e+00,\n",
       "        -7.87087977e-01, -1.05997586e+00,  9.56119969e-03, -9.43344533e-01,\n",
       "        -9.82930541e-01, -8.45232189e-01, -1.16556644e+00, -2.73454964e-01,\n",
       "        -9.34464395e-01, -1.48634553e+00, -6.12162650e-01, -4.49973404e-01,\n",
       "        -1.10974312e+00, -4.35393810e-01,  2.73395449e-01, -1.15229201e+00,\n",
       "        -1.38232112e-01, -1.01961672e+00, -5.12036324e-01, -1.65319180e+00,\n",
       "         1.95128575e-01, -7.52609253e-01, -9.01265621e-01, -4.79678452e-01,\n",
       "        -3.37921605e-02, -4.91553545e-01, -5.19144177e-01,  1.30168962e+00,\n",
       "         1.46624491e-01, -3.12240571e-01, -1.01353788e+00,  7.93070719e-02,\n",
       "        -8.85418057e-01, -1.12976515e+00,  4.87937182e-02, -1.06495357e+00,\n",
       "        -1.15780950e+00, -3.01599354e-01, -1.44103014e+00, -1.28499758e+00,\n",
       "        -3.30908209e-01, -1.28941488e+00, -1.18278933e+00, -5.54402173e-01,\n",
       "        -2.85615593e-01, -4.49711978e-02, -9.42202330e-01, -2.66867995e-01,\n",
       "        -7.69118011e-01,  7.64079571e-01, -1.17536232e-01, -8.64830196e-01,\n",
       "        -1.19897142e-01,  7.06472516e-01, -1.38264489e+00, -1.40981483e+00,\n",
       "        -1.15140748e+00, -6.27923369e-01, -1.20787334e+00, -1.40465343e+00,\n",
       "         3.05553563e-02, -5.49145460e-01, -4.04190302e-01,  1.19988441e-01,\n",
       "         1.10349052e-01, -3.18197012e-01, -1.16373801e+00, -8.13742816e-01,\n",
       "        -3.84455979e-01,  1.29048789e+00,  1.63350940e-01,  4.87377234e-02,\n",
       "         1.03423977e+00, -1.28455147e-01, -7.60217071e-01, -8.02872598e-01,\n",
       "        -2.04705209e-01, -1.05168617e+00, -2.26982296e-01, -1.33699095e+00,\n",
       "        -6.94345534e-01, -9.97800231e-01,  9.47174788e-01,  1.55735433e+00,\n",
       "        -1.68504179e+00, -6.99089170e-01,  3.24006855e-01,  4.19574261e-01,\n",
       "        -2.51091629e-01, -8.90560508e-01,  1.01554610e-01, -1.73334777e+00,\n",
       "         5.45299172e-01, -7.27448225e-01, -6.43097103e-01, -6.85685575e-01,\n",
       "        -1.06288576e+00, -1.18928814e+00, -1.22173868e-01, -4.76252109e-01,\n",
       "         1.59050155e+00, -8.25810254e-01,  1.83092833e-01, -4.69368696e-01,\n",
       "        -7.31222332e-01,  2.34381258e-01, -6.28112793e-01, -8.21995676e-01,\n",
       "         1.31180930e+00,  1.58326164e-01, -6.27635598e-01, -5.77869058e-01,\n",
       "         5.17966270e-01, -6.39632881e-01, -1.97725087e-01, -6.88482940e-01,\n",
       "        -4.93213832e-01,  2.35682219e-01, -2.33186573e-01,  1.16268411e-01,\n",
       "        -4.31978464e-01, -1.03097367e+00,  3.57852578e-01, -9.90536809e-01,\n",
       "        -3.81958514e-01, -3.36107910e-01, -3.96031022e-01,  2.74617344e-01,\n",
       "        -5.73949933e-01, -3.98032337e-01,  4.74945784e-01,  7.25420415e-01,\n",
       "        -7.19808042e-01, -1.19499588e+00, -7.47749865e-01,  9.54723656e-01,\n",
       "        -7.12248385e-02,  1.89240709e-01, -6.12605393e-01, -6.64402962e-01,\n",
       "        -4.51597214e-01, -3.88169229e-01, -1.39560950e+00, -1.21942353e+00,\n",
       "        -5.59358299e-01, -1.46660352e+00, -6.25434041e-01, -4.28992689e-01,\n",
       "         3.48823607e-01, -1.67483222e+00, -5.01311004e-01, -6.81041479e-01,\n",
       "        -5.03798246e-01, -4.97232139e-01, -6.03999376e-01, -7.78506219e-01,\n",
       "        -7.03479171e-01, -3.80188107e-01, -1.02675462e+00, -9.96801496e-01,\n",
       "        -5.53062141e-01, -1.52935497e-02, -4.29160714e-01, -9.34096158e-01,\n",
       "        -6.02862332e-04, -4.71756995e-01,  2.69963086e-01, -1.41654205e+00,\n",
       "        -2.24975586e-01, -1.02273989e+00,  1.20645128e-02, -1.55409193e+00,\n",
       "        -1.76030123e+00, -1.11711633e+00, -6.51259780e-01, -2.23467618e-01,\n",
       "        -8.10638845e-01, -9.60752904e-01, -1.36539257e+00, -9.10105228e-01,\n",
       "        -1.48305082e+00, -1.68019056e-01, -5.60022712e-01, -4.33587888e-03,\n",
       "        -4.15617436e-01, -2.00661325e+00, -1.53646934e+00, -1.05210733e+00,\n",
       "        -6.56461716e-01, -1.27272201e+00, -7.24964976e-01, -1.15101790e+00,\n",
       "        -1.66066498e-01, -4.08188343e-01, -3.60998690e-01, -1.04052734e+00,\n",
       "        -5.98054051e-01,  3.84903282e-01, -7.63664663e-01, -8.65060031e-01,\n",
       "        -7.69958317e-01, -7.77396977e-01, -6.18239880e-01, -1.17311716e+00,\n",
       "        -9.23062682e-01, -8.87576699e-01, -2.41828725e-01,  3.45028818e-01,\n",
       "         5.76221168e-01, -6.81725323e-01, -9.19991791e-01, -1.09187603e+00,\n",
       "        -4.42823976e-01, -7.30655491e-02, -2.20693082e-01, -5.12944698e-01,\n",
       "        -9.33151543e-01, -2.99604893e-01, -9.13692236e-01, -1.00229609e+00,\n",
       "        -5.91773510e-01, -2.98719168e-01, -6.92933798e-01, -9.50371444e-01,\n",
       "        -5.73854625e-01,  6.10569596e-01, -6.84277594e-01,  1.38407037e-01,\n",
       "        -1.00095713e+00, -2.75662571e-01,  6.52880430e-01, -9.36283290e-01,\n",
       "        -1.66488600e+00, -8.92647684e-01, -9.92556512e-02,  1.11648214e+00,\n",
       "        -1.01740646e+00, -1.19313347e+00, -1.92739964e-01, -5.85202992e-01,\n",
       "        -4.96495217e-01, -1.08517420e+00, -9.39378321e-01, -8.05199504e-01,\n",
       "        -9.13305223e-01, -1.77148864e-01,  4.10916299e-01, -7.05146611e-01,\n",
       "         1.77325368e+00,  7.84417272e-01, -1.85980582e+00, -1.42040646e+00,\n",
       "         7.58153796e-01, -9.91205871e-01, -1.08365393e+00,  5.04517376e-01,\n",
       "        -8.74965370e-01,  3.77183259e-01, -5.83088815e-01, -1.23768067e+00,\n",
       "         6.33844495e-01, -4.58534807e-01, -9.40453053e-01, -1.36342514e+00],\n",
       "       dtype=float32)>,\n",
       " <tf.Variable 'dense_layer_3_5/kernel:0' shape=(512, 512) dtype=float32, numpy=\n",
       " array([[ 0.18611118, -0.19383721, -0.50466704, ...,  0.15832447,\n",
       "         -0.22649865, -0.18223947],\n",
       "        [-0.3003918 ,  0.06276278, -0.01877323, ..., -0.03724123,\n",
       "         -0.22941291, -0.24485902],\n",
       "        [-0.12177542,  0.09897343,  0.04078612, ..., -0.17337352,\n",
       "         -0.1430232 , -0.06145266],\n",
       "        ...,\n",
       "        [-0.14638147, -0.16636848, -0.23927179, ..., -0.0186762 ,\n",
       "         -0.1765334 ,  0.14642686],\n",
       "        [ 0.05269847,  0.20927593,  0.05150254, ...,  0.11848488,\n",
       "          0.07681153, -0.0859415 ],\n",
       "        [-0.20123975,  0.14314917, -0.32045376, ..., -0.02859597,\n",
       "          0.20120038, -0.17695075]], dtype=float32)>,\n",
       " <tf.Variable 'dense_layer_3_5/bias:0' shape=(512,) dtype=float32, numpy=\n",
       " array([-1.0062634 , -0.6798678 , -0.72317207, -0.7866308 , -0.87084115,\n",
       "        -0.8408435 , -1.0654339 , -0.948204  , -0.84516823, -0.5893209 ,\n",
       "        -0.6942598 , -0.6271085 , -0.97328496, -0.9154043 , -0.7976199 ,\n",
       "        -0.77897245, -0.6938282 , -1.1434863 , -0.8073318 , -0.48979288,\n",
       "        -0.92079127, -0.8113516 , -0.45187646, -0.8155408 , -0.5984913 ,\n",
       "        -0.7168748 , -0.905786  , -0.66941166, -0.4613903 , -0.72540545,\n",
       "        -0.6220611 , -0.8541153 , -0.7365284 , -0.6223517 , -0.5412959 ,\n",
       "        -0.7411032 , -0.7689171 , -0.7968402 , -0.75489575, -0.71123785,\n",
       "        -0.71877116, -0.31203088, -1.0126634 , -0.6827104 , -1.1628327 ,\n",
       "        -0.47750184, -1.0873864 , -0.7576321 , -0.9778263 , -0.7593377 ,\n",
       "        -0.9057787 , -0.84406066, -0.96321076, -0.8104089 , -1.0336996 ,\n",
       "        -0.2296144 , -0.6729928 , -0.5156294 , -0.57416487, -0.73320013,\n",
       "        -0.82658553, -1.0187305 , -0.7649182 , -0.7520017 , -1.0833211 ,\n",
       "        -0.20817956, -0.9731998 , -0.79823947, -0.85748786,  0.048072  ,\n",
       "        -0.15858278, -0.4367053 , -0.85373944, -1.0870684 , -0.31460348,\n",
       "        -1.0415232 , -0.48766443, -0.69375753, -0.22836734, -0.68779635,\n",
       "        -0.58665144, -0.7297727 , -0.79413277, -0.7861993 , -0.95585364,\n",
       "        -0.60391015, -0.9465874 , -0.60670006, -0.4399705 , -0.5377412 ,\n",
       "        -1.0288782 , -0.5810415 , -0.79219985, -0.58170253, -0.54736334,\n",
       "        -0.8764467 , -0.9655326 , -0.70532495, -0.588143  , -0.85187316,\n",
       "        -0.66847026, -0.6121687 , -0.8665182 , -0.36163744, -0.7178133 ,\n",
       "        -0.49264994, -1.1255641 , -0.22981928, -0.95019794, -0.91873693,\n",
       "        -0.6240258 , -0.86049986, -0.86565924, -0.8531966 , -0.18484254,\n",
       "        -0.7021266 , -0.51949173, -0.70348865, -1.1067518 , -1.2936584 ,\n",
       "         0.07854186, -0.839392  , -0.7121911 , -0.7004871 , -0.15000954,\n",
       "        -0.18104567, -0.95428777, -0.8971758 , -0.9562184 , -0.591648  ,\n",
       "        -0.48650676, -0.65950805, -1.0524215 , -0.45353857, -0.938585  ,\n",
       "        -0.66908365, -1.1357177 , -0.9644425 , -1.4211128 , -0.91758627,\n",
       "        -1.0313491 , -0.5328197 , -0.6369358 , -0.8100263 , -0.30138087,\n",
       "        -0.5472418 , -0.925562  , -0.8282746 , -0.8195398 , -0.62726194,\n",
       "        -0.77606946, -0.9458622 , -0.86645406, -0.52859056, -0.49687022,\n",
       "        -0.90320927, -0.8220788 , -0.45998296, -1.0910898 , -0.7667234 ,\n",
       "        -0.84906846, -0.66477805, -0.95537347, -0.81817025, -0.7082717 ,\n",
       "        -0.44126666, -0.81905085, -0.7545922 , -0.78417075, -0.7020788 ,\n",
       "        -0.29222977, -0.7248468 , -1.0615196 , -0.68877745, -0.9429862 ,\n",
       "        -0.5749579 , -1.0654929 , -0.94413215, -1.1149988 , -0.87359685,\n",
       "        -0.74774444, -0.47917303, -0.855298  , -0.82175446, -0.5085722 ,\n",
       "        -0.8708938 , -0.7080334 , -0.73585886, -0.30546102, -0.79563016,\n",
       "        -0.8143318 , -0.60298115, -1.1688929 , -0.7592518 , -0.50551015,\n",
       "        -0.42435753, -1.0388726 , -0.6389326 , -0.4947527 , -0.32281926,\n",
       "        -0.86019254, -0.715451  , -0.44836795, -0.6745256 , -0.7148247 ,\n",
       "        -0.6941388 , -0.744022  , -0.48187968, -0.6823203 , -0.94184893,\n",
       "        -1.0720016 , -0.92321044, -0.9217684 , -0.53263664, -0.36520267,\n",
       "        -0.5919072 , -0.9577809 , -0.5292064 , -0.44178987, -0.48624378,\n",
       "        -0.8401942 , -0.5163445 , -0.79818714, -0.8297769 , -0.36861557,\n",
       "        -0.8345171 , -0.8345908 , -0.72925353, -1.0079309 , -0.23860143,\n",
       "        -0.8110469 , -0.3815502 , -0.8033986 , -0.54512817, -0.9296068 ,\n",
       "        -1.0765791 , -0.09666684, -0.6186371 , -0.75645304, -0.39989933,\n",
       "        -0.83807206, -0.6991779 , -0.2268238 , -0.7646076 , -0.7329471 ,\n",
       "        -0.70573264, -0.8874484 , -0.55998003, -0.9133968 , -0.7130984 ,\n",
       "        -0.9231696 , -0.47170684, -0.85673875, -1.0349579 , -0.59033006,\n",
       "        -0.97842306, -0.7463513 , -0.7308897 , -0.48771033, -0.55484617,\n",
       "        -0.7866825 , -0.6789063 , -0.9229129 , -1.3049116 , -0.6015771 ,\n",
       "        -0.91685796, -0.8770778 , -0.7441809 , -0.8318752 , -0.4461999 ,\n",
       "        -0.74138   , -0.86065316, -0.5208054 , -0.76829857, -0.6948509 ,\n",
       "        -0.75791335, -0.24610348, -0.22480203, -0.7857186 , -0.99154186,\n",
       "        -0.7536548 , -0.34038514, -0.7950539 , -0.75063014, -1.0280491 ,\n",
       "        -0.6290381 , -0.690685  , -0.36635765, -0.67253375, -0.5390768 ,\n",
       "        -0.7766789 , -0.8458305 , -0.8049631 , -0.9315908 , -0.83485866,\n",
       "        -0.71423656, -1.0550649 , -0.5744383 , -0.5776482 , -0.6141404 ,\n",
       "        -0.9158669 , -0.8695732 , -0.94498515, -0.89030606, -0.7495628 ,\n",
       "        -0.58031857, -0.7151839 , -1.2892148 , -0.786654  , -0.21456191,\n",
       "        -0.5209136 , -0.69797486, -0.87532836, -0.34074223, -0.81454617,\n",
       "        -0.75576705, -0.7863748 , -0.8350926 , -0.32317674, -0.6853701 ,\n",
       "        -0.9892173 , -0.78728145, -0.79978216, -0.8396424 , -0.5519047 ,\n",
       "        -1.1569804 , -0.73068994, -0.86060166, -0.36525682, -0.9772056 ,\n",
       "        -0.29671603, -0.7970688 , -0.6030568 , -0.59733254, -0.55914944,\n",
       "        -0.83550835, -0.74234605, -0.7458986 , -0.5922046 , -0.8535487 ,\n",
       "        -1.0255033 , -1.0354588 ,  0.35653135, -0.9787557 , -0.99942833,\n",
       "        -0.77299756, -0.53189605, -0.59203565, -0.33414146, -0.9568651 ,\n",
       "        -0.5646779 , -0.75187844, -1.0480083 , -0.6918022 , -0.6971248 ,\n",
       "        -0.77046806, -1.0703388 , -0.9754308 , -0.42257497, -0.9897199 ,\n",
       "        -0.7560951 , -0.75867444, -0.28247172, -0.93997425, -0.5843143 ,\n",
       "        -0.6626432 , -0.74912983, -0.86097735, -0.6715876 , -0.6770028 ,\n",
       "        -0.89218265, -0.79881173, -0.41192973, -0.59154534, -0.26065254,\n",
       "        -0.8931376 , -0.61567426, -0.87069535, -0.9916513 , -0.71123135,\n",
       "        -0.4921528 , -0.70993316, -0.8117828 , -0.33142328, -0.39336818,\n",
       "        -0.8508605 , -0.48204544, -0.7497612 , -0.46079987, -0.51960146,\n",
       "        -0.92929244, -0.74291617, -0.82730293, -0.7379736 , -0.7438417 ,\n",
       "        -0.6304524 , -0.72744995, -0.85007536, -0.3512579 , -1.0211724 ,\n",
       "        -0.43688208, -0.6308645 , -0.6062578 , -0.6528515 , -0.6378453 ,\n",
       "        -0.9443096 , -0.9971505 , -0.796638  , -0.6713223 , -0.5184089 ,\n",
       "        -0.94528973, -0.35082376, -0.96980876, -0.5575063 , -0.6737092 ,\n",
       "        -0.91184974, -0.6038707 , -0.9159912 , -0.65361965, -0.8729367 ,\n",
       "        -1.0598643 , -0.85768664, -1.0366546 , -0.73627865, -0.3719077 ,\n",
       "        -0.34646297, -0.43880236, -0.908039  , -0.653311  , -0.25472358,\n",
       "        -0.89909196, -0.5886765 , -0.91153   , -0.6176268 , -0.7882113 ,\n",
       "        -0.81999606, -0.84992784, -1.001833  , -0.01858433, -0.5863945 ,\n",
       "        -0.27841642, -0.5945769 , -0.8551585 , -0.65736043, -0.7051062 ,\n",
       "        -0.93297654, -0.8371272 , -0.91195405, -1.000361  , -0.728948  ,\n",
       "        -0.53774315, -0.595103  , -1.1484402 , -1.0177116 , -0.37030175,\n",
       "        -0.63050276, -0.7695749 , -0.7157384 , -0.8673552 , -0.6994162 ,\n",
       "        -0.8843584 , -0.65736026, -0.90061456, -1.0373873 , -0.696217  ,\n",
       "        -0.9208063 , -0.7743207 , -0.4780876 , -0.8416628 , -0.92621976,\n",
       "        -0.5823429 , -0.76579005, -0.29873392, -0.7330647 , -0.74131984,\n",
       "        -0.78695595, -0.8346436 , -0.9612899 , -1.1711692 , -1.0320503 ,\n",
       "        -0.6593316 , -0.5513593 , -0.68055296, -0.58192664, -0.6796016 ,\n",
       "        -0.6706442 , -0.70287544, -0.8010943 , -1.0854157 , -0.49702495,\n",
       "        -0.6721347 , -0.4487459 , -0.8838427 , -0.9843363 , -0.804993  ,\n",
       "        -0.92997855, -0.6845463 , -0.9893227 , -1.1956239 , -0.8130097 ,\n",
       "        -0.4849313 , -0.4347491 , -0.57402503, -0.4652761 , -1.0957    ,\n",
       "        -1.0322578 , -0.5291855 , -0.35328877, -0.63943446, -0.37503016,\n",
       "        -0.9531655 , -0.58760864], dtype=float32)>,\n",
       " <tf.Variable 'dense_layer_4_1/kernel:0' shape=(512, 10) dtype=float32, numpy=\n",
       " array([[-0.66375923, -0.20214018, -0.15328205, ..., -0.11945322,\n",
       "         -0.21704675, -0.5998185 ],\n",
       "        [-0.87697846, -0.03075726, -0.08376382, ..., -0.04918905,\n",
       "         -0.4294732 , -0.2142615 ],\n",
       "        [-0.60211354, -0.16142409, -0.3027122 , ..., -0.28254467,\n",
       "         -0.39632118, -0.2879008 ],\n",
       "        ...,\n",
       "        [-0.37189138, -0.23510095, -0.1307017 , ..., -0.3008866 ,\n",
       "         -0.15480375, -0.3829885 ],\n",
       "        [-0.32665512, -0.2520203 , -0.371443  , ..., -0.20058699,\n",
       "         -0.4451676 , -0.32839733],\n",
       "        [-0.16473784, -0.31014487, -0.4785778 , ..., -0.10363201,\n",
       "         -0.11509958, -0.04660525]], dtype=float32)>,\n",
       " <tf.Variable 'dense_layer_4_1/bias:0' shape=(10,) dtype=float32, numpy=\n",
       " array([ 1.189597  , -0.7949364 , -0.92511517, -0.4785647 , -0.33940768,\n",
       "        -0.8825297 , -0.33439437, -0.95009017,  1.6654049 ,  0.93292344],\n",
       "       dtype=float32)>]"
      ]
     },
     "execution_count": 60,
     "metadata": {
      "tags": []
     },
     "output_type": "execute_result"
    }
   ],
   "source": [
    "model_6.weights"
   ]
  },
  {
   "cell_type": "code",
   "execution_count": null,
   "metadata": {
    "colab": {
     "base_uri": "https://localhost:8080/",
     "height": 1000
    },
    "id": "oE-MHfk4VRf4",
    "outputId": "02c75016-802a-4897-f8e8-02a6ba4d234e"
   },
   "outputs": [
    {
     "data": {
      "text/plain": [
       "{'build_input_shape': TensorShape([None, 784]),\n",
       " 'layers': [{'class_name': 'Dense',\n",
       "   'config': {'activation': 'relu',\n",
       "    'activity_regularizer': None,\n",
       "    'batch_input_shape': (None, 784),\n",
       "    'bias_constraint': None,\n",
       "    'bias_initializer': {'class_name': 'Zeros', 'config': {}},\n",
       "    'bias_regularizer': None,\n",
       "    'dtype': 'float32',\n",
       "    'kernel_constraint': None,\n",
       "    'kernel_initializer': {'class_name': 'GlorotUniform',\n",
       "     'config': {'seed': None}},\n",
       "    'kernel_regularizer': None,\n",
       "    'name': 'dense_layer',\n",
       "    'trainable': True,\n",
       "    'units': 512,\n",
       "    'use_bias': True}},\n",
       "  {'class_name': 'Dropout',\n",
       "   'config': {'dtype': 'float32',\n",
       "    'name': 'dropout_8',\n",
       "    'noise_shape': None,\n",
       "    'rate': 0.3,\n",
       "    'seed': None,\n",
       "    'trainable': True}},\n",
       "  {'class_name': 'Dense',\n",
       "   'config': {'activation': 'relu',\n",
       "    'activity_regularizer': None,\n",
       "    'bias_constraint': None,\n",
       "    'bias_initializer': {'class_name': 'Zeros', 'config': {}},\n",
       "    'bias_regularizer': None,\n",
       "    'dtype': 'float32',\n",
       "    'kernel_constraint': None,\n",
       "    'kernel_initializer': {'class_name': 'GlorotUniform',\n",
       "     'config': {'seed': None}},\n",
       "    'kernel_regularizer': None,\n",
       "    'name': 'dense_layer_2',\n",
       "    'trainable': True,\n",
       "    'units': 512,\n",
       "    'use_bias': True}},\n",
       "  {'class_name': 'Dropout',\n",
       "   'config': {'dtype': 'float32',\n",
       "    'name': 'dropout_9',\n",
       "    'noise_shape': None,\n",
       "    'rate': 0.3,\n",
       "    'seed': None,\n",
       "    'trainable': True}},\n",
       "  {'class_name': 'Dense',\n",
       "   'config': {'activation': 'relu',\n",
       "    'activity_regularizer': None,\n",
       "    'bias_constraint': None,\n",
       "    'bias_initializer': {'class_name': 'Zeros', 'config': {}},\n",
       "    'bias_regularizer': None,\n",
       "    'dtype': 'float32',\n",
       "    'kernel_constraint': None,\n",
       "    'kernel_initializer': {'class_name': 'GlorotUniform',\n",
       "     'config': {'seed': None}},\n",
       "    'kernel_regularizer': None,\n",
       "    'name': 'dense_layer_3',\n",
       "    'trainable': True,\n",
       "    'units': 512,\n",
       "    'use_bias': True}},\n",
       "  {'class_name': 'Dropout',\n",
       "   'config': {'dtype': 'float32',\n",
       "    'name': 'dropout_10',\n",
       "    'noise_shape': None,\n",
       "    'rate': 0.3,\n",
       "    'seed': None,\n",
       "    'trainable': True}},\n",
       "  {'class_name': 'Dense',\n",
       "   'config': {'activation': 'softmax',\n",
       "    'activity_regularizer': None,\n",
       "    'bias_constraint': None,\n",
       "    'bias_initializer': {'class_name': 'Zeros', 'config': {}},\n",
       "    'bias_regularizer': None,\n",
       "    'dtype': 'float32',\n",
       "    'kernel_constraint': None,\n",
       "    'kernel_initializer': {'class_name': 'GlorotUniform',\n",
       "     'config': {'seed': None}},\n",
       "    'kernel_regularizer': None,\n",
       "    'name': 'dense_layer_4',\n",
       "    'trainable': True,\n",
       "    'units': 10,\n",
       "    'use_bias': True}}],\n",
       " 'name': 'sequential_6'}"
      ]
     },
     "execution_count": 61,
     "metadata": {
      "tags": []
     },
     "output_type": "execute_result"
    }
   ],
   "source": [
    "model_6.get_config()"
   ]
  },
  {
   "cell_type": "code",
   "execution_count": null,
   "metadata": {
    "id": "c9I32_i4VRf7"
   },
   "outputs": [],
   "source": []
  },
  {
   "cell_type": "code",
   "execution_count": null,
   "metadata": {
    "id": "kSMvOUERVRf_"
   },
   "outputs": [],
   "source": [
    "import tensorflow as tf\n",
    "\n",
    "#In Keras, layers are assembled to build models \n",
    "from tensorflow.keras.layers import Dense\n",
    "from tensorflow.keras.layers import Dropout\n",
    "\n",
    "#Most common type of model is a stack of layers\n",
    "model_6 = tf.keras.Sequential()\n",
    "N_hidden = 512\n",
    "\n",
    "# Adds a densely-connected layer with 64 units to the model:\n",
    "model_6.add(Dense(N_hidden, name='dense_layer', input_shape=(784,), activation = 'relu'))\n",
    "# Now the model will take as input arrays of shape (*, 784)# and output arrays of shape (*, 64)\n",
    "model_6.add(Dropout(0.3))\n",
    "\n",
    "# Adding another dense layer:\n",
    "model_6.add(Dense(N_hidden, name='dense_layer_2', activation='relu'))\n",
    "model_6.add(Dropout(0.3))\n",
    "\n",
    "# Adding another dense layer:\n",
    "model_6.add(Dense(N_hidden, name='dense_layer_3', activation='relu'))\n",
    "model_6.add(Dropout(0.3))\n",
    "\n",
    "# Add an output layer with 10 output units (10 different classes):\n",
    "model_6.add(Dense(10, name='dense_layer_4', activation = 'softmax'))\n"
   ]
  },
  {
   "cell_type": "code",
   "execution_count": null,
   "metadata": {
    "id": "PDL27fZuVRgC"
   },
   "outputs": [],
   "source": [
    "# Compiling the model.\n",
    "model_6.compile(optimizer='Adam', \n",
    "              loss='categorical_crossentropy',\n",
    "              metrics=['accuracy'])"
   ]
  },
  {
   "cell_type": "code",
   "execution_count": null,
   "metadata": {
    "colab": {
     "base_uri": "https://localhost:8080/",
     "height": 1000
    },
    "id": "HXHSLcO9VRgG",
    "outputId": "f5c11217-9837-4f6d-bd2b-b0f8a52dd914"
   },
   "outputs": [
    {
     "name": "stdout",
     "output_type": "stream",
     "text": [
      "Epoch 1/100\n",
      "750/750 [==============================] - 12s 16ms/step - loss: 0.5824 - accuracy: 0.7898 - val_loss: 0.4665 - val_accuracy: 0.8259\n",
      "Epoch 2/100\n",
      "750/750 [==============================] - 12s 16ms/step - loss: 0.4345 - accuracy: 0.8421 - val_loss: 0.3847 - val_accuracy: 0.8580\n",
      "Epoch 3/100\n",
      "750/750 [==============================] - 12s 16ms/step - loss: 0.4047 - accuracy: 0.8546 - val_loss: 0.3588 - val_accuracy: 0.8709\n",
      "Epoch 4/100\n",
      "750/750 [==============================] - 12s 16ms/step - loss: 0.3814 - accuracy: 0.8609 - val_loss: 0.3477 - val_accuracy: 0.8743\n",
      "Epoch 5/100\n",
      "750/750 [==============================] - 12s 16ms/step - loss: 0.3639 - accuracy: 0.8668 - val_loss: 0.3484 - val_accuracy: 0.8767\n",
      "Epoch 6/100\n",
      "750/750 [==============================] - 12s 16ms/step - loss: 0.3519 - accuracy: 0.8709 - val_loss: 0.3355 - val_accuracy: 0.8766\n",
      "Epoch 7/100\n",
      "750/750 [==============================] - 12s 17ms/step - loss: 0.3435 - accuracy: 0.8757 - val_loss: 0.3402 - val_accuracy: 0.8729\n",
      "Epoch 8/100\n",
      "750/750 [==============================] - 12s 16ms/step - loss: 0.3343 - accuracy: 0.8760 - val_loss: 0.3294 - val_accuracy: 0.8814\n",
      "Epoch 9/100\n",
      "750/750 [==============================] - 12s 16ms/step - loss: 0.3240 - accuracy: 0.8801 - val_loss: 0.3407 - val_accuracy: 0.8787\n",
      "Epoch 10/100\n",
      "750/750 [==============================] - 12s 15ms/step - loss: 0.3191 - accuracy: 0.8812 - val_loss: 0.3512 - val_accuracy: 0.8754\n",
      "Epoch 11/100\n",
      "750/750 [==============================] - 12s 16ms/step - loss: 0.3132 - accuracy: 0.8845 - val_loss: 0.3075 - val_accuracy: 0.8849\n",
      "Epoch 12/100\n",
      "750/750 [==============================] - 12s 15ms/step - loss: 0.3090 - accuracy: 0.8875 - val_loss: 0.3263 - val_accuracy: 0.8844\n",
      "Epoch 13/100\n",
      "750/750 [==============================] - 11s 15ms/step - loss: 0.3028 - accuracy: 0.8890 - val_loss: 0.3087 - val_accuracy: 0.8885\n",
      "Epoch 14/100\n",
      "750/750 [==============================] - 12s 16ms/step - loss: 0.2984 - accuracy: 0.8892 - val_loss: 0.3145 - val_accuracy: 0.8878\n",
      "Epoch 15/100\n",
      "750/750 [==============================] - 12s 16ms/step - loss: 0.2935 - accuracy: 0.8936 - val_loss: 0.3297 - val_accuracy: 0.8835\n",
      "Epoch 16/100\n",
      "750/750 [==============================] - 12s 16ms/step - loss: 0.2907 - accuracy: 0.8927 - val_loss: 0.3085 - val_accuracy: 0.8882\n",
      "Epoch 17/100\n",
      "750/750 [==============================] - 12s 16ms/step - loss: 0.2835 - accuracy: 0.8944 - val_loss: 0.3131 - val_accuracy: 0.8906\n",
      "Epoch 18/100\n",
      "750/750 [==============================] - 12s 16ms/step - loss: 0.2829 - accuracy: 0.8961 - val_loss: 0.3113 - val_accuracy: 0.8854\n",
      "Epoch 19/100\n",
      "750/750 [==============================] - 12s 16ms/step - loss: 0.2774 - accuracy: 0.8963 - val_loss: 0.3212 - val_accuracy: 0.8898\n",
      "Epoch 20/100\n",
      "750/750 [==============================] - 12s 15ms/step - loss: 0.2792 - accuracy: 0.8966 - val_loss: 0.2974 - val_accuracy: 0.8920\n",
      "Epoch 21/100\n",
      "750/750 [==============================] - 12s 16ms/step - loss: 0.2748 - accuracy: 0.8980 - val_loss: 0.3085 - val_accuracy: 0.8934\n",
      "Epoch 22/100\n",
      "750/750 [==============================] - 12s 16ms/step - loss: 0.2720 - accuracy: 0.8999 - val_loss: 0.3026 - val_accuracy: 0.8893\n",
      "Epoch 23/100\n",
      "750/750 [==============================] - 14s 19ms/step - loss: 0.2719 - accuracy: 0.8997 - val_loss: 0.3210 - val_accuracy: 0.8887\n",
      "Epoch 24/100\n",
      "750/750 [==============================] - 15s 20ms/step - loss: 0.2648 - accuracy: 0.9014 - val_loss: 0.3132 - val_accuracy: 0.8913\n",
      "Epoch 25/100\n",
      "750/750 [==============================] - 13s 17ms/step - loss: 0.2623 - accuracy: 0.9030 - val_loss: 0.3120 - val_accuracy: 0.8882\n",
      "Epoch 26/100\n",
      "750/750 [==============================] - 13s 18ms/step - loss: 0.2609 - accuracy: 0.9022 - val_loss: 0.2991 - val_accuracy: 0.8940\n",
      "Epoch 27/100\n",
      "750/750 [==============================] - 13s 17ms/step - loss: 0.2559 - accuracy: 0.9053 - val_loss: 0.2990 - val_accuracy: 0.8938\n",
      "Epoch 28/100\n",
      "750/750 [==============================] - 12s 16ms/step - loss: 0.2554 - accuracy: 0.9059 - val_loss: 0.2966 - val_accuracy: 0.8975\n",
      "Epoch 29/100\n",
      "750/750 [==============================] - 12s 16ms/step - loss: 0.2515 - accuracy: 0.9063 - val_loss: 0.3196 - val_accuracy: 0.8921\n",
      "Epoch 30/100\n",
      "750/750 [==============================] - 12s 16ms/step - loss: 0.2493 - accuracy: 0.9072 - val_loss: 0.3025 - val_accuracy: 0.8929\n",
      "Epoch 31/100\n",
      "750/750 [==============================] - 13s 17ms/step - loss: 0.2523 - accuracy: 0.9064 - val_loss: 0.3109 - val_accuracy: 0.8946\n",
      "Epoch 32/100\n",
      "750/750 [==============================] - 13s 17ms/step - loss: 0.2490 - accuracy: 0.9071 - val_loss: 0.3132 - val_accuracy: 0.8942\n",
      "Epoch 33/100\n",
      "750/750 [==============================] - 13s 17ms/step - loss: 0.2456 - accuracy: 0.9084 - val_loss: 0.3337 - val_accuracy: 0.8935\n",
      "Epoch 34/100\n",
      "750/750 [==============================] - 12s 16ms/step - loss: 0.2422 - accuracy: 0.9115 - val_loss: 0.3244 - val_accuracy: 0.8931\n",
      "Epoch 35/100\n",
      "750/750 [==============================] - 12s 17ms/step - loss: 0.2439 - accuracy: 0.9096 - val_loss: 0.3130 - val_accuracy: 0.8952\n",
      "Epoch 36/100\n",
      "750/750 [==============================] - 12s 16ms/step - loss: 0.2413 - accuracy: 0.9103 - val_loss: 0.3147 - val_accuracy: 0.8961\n",
      "Epoch 37/100\n",
      "750/750 [==============================] - 13s 17ms/step - loss: 0.2394 - accuracy: 0.9106 - val_loss: 0.3199 - val_accuracy: 0.8948\n",
      "Epoch 38/100\n",
      "750/750 [==============================] - 12s 16ms/step - loss: 0.2374 - accuracy: 0.9117 - val_loss: 0.3112 - val_accuracy: 0.8943\n",
      "Epoch 39/100\n",
      "750/750 [==============================] - 12s 16ms/step - loss: 0.2328 - accuracy: 0.9146 - val_loss: 0.3118 - val_accuracy: 0.8984\n",
      "Epoch 40/100\n",
      "750/750 [==============================] - 13s 17ms/step - loss: 0.2349 - accuracy: 0.9123 - val_loss: 0.3182 - val_accuracy: 0.8936\n",
      "Epoch 41/100\n",
      "750/750 [==============================] - 12s 16ms/step - loss: 0.2360 - accuracy: 0.9135 - val_loss: 0.3145 - val_accuracy: 0.8921\n",
      "Epoch 42/100\n",
      "750/750 [==============================] - 12s 16ms/step - loss: 0.2361 - accuracy: 0.9134 - val_loss: 0.3117 - val_accuracy: 0.8949\n",
      "Epoch 43/100\n",
      "750/750 [==============================] - 12s 16ms/step - loss: 0.2278 - accuracy: 0.9161 - val_loss: 0.3256 - val_accuracy: 0.8956\n",
      "Epoch 44/100\n",
      "750/750 [==============================] - 12s 16ms/step - loss: 0.2228 - accuracy: 0.9172 - val_loss: 0.3183 - val_accuracy: 0.8938\n",
      "Epoch 45/100\n",
      "750/750 [==============================] - 12s 16ms/step - loss: 0.2250 - accuracy: 0.9161 - val_loss: 0.3285 - val_accuracy: 0.8942\n",
      "Epoch 46/100\n",
      "750/750 [==============================] - 13s 17ms/step - loss: 0.2223 - accuracy: 0.9179 - val_loss: 0.3255 - val_accuracy: 0.8935\n",
      "Epoch 47/100\n",
      "750/750 [==============================] - 12s 16ms/step - loss: 0.2247 - accuracy: 0.9176 - val_loss: 0.3231 - val_accuracy: 0.8938\n",
      "Epoch 48/100\n",
      "750/750 [==============================] - 12s 16ms/step - loss: 0.2242 - accuracy: 0.9169 - val_loss: 0.3299 - val_accuracy: 0.8963\n",
      "Epoch 49/100\n",
      "750/750 [==============================] - 12s 16ms/step - loss: 0.2292 - accuracy: 0.9162 - val_loss: 0.3128 - val_accuracy: 0.8971\n",
      "Epoch 50/100\n",
      "750/750 [==============================] - 12s 16ms/step - loss: 0.2205 - accuracy: 0.9176 - val_loss: 0.3302 - val_accuracy: 0.8956\n",
      "Epoch 51/100\n",
      "750/750 [==============================] - 13s 17ms/step - loss: 0.2220 - accuracy: 0.9192 - val_loss: 0.3126 - val_accuracy: 0.8987\n",
      "Epoch 52/100\n",
      "750/750 [==============================] - 12s 17ms/step - loss: 0.2165 - accuracy: 0.9187 - val_loss: 0.3261 - val_accuracy: 0.8982\n",
      "Epoch 53/100\n",
      "750/750 [==============================] - 12s 16ms/step - loss: 0.2176 - accuracy: 0.9215 - val_loss: 0.3264 - val_accuracy: 0.8990\n",
      "Epoch 54/100\n",
      "750/750 [==============================] - 12s 16ms/step - loss: 0.2195 - accuracy: 0.9184 - val_loss: 0.3227 - val_accuracy: 0.8986\n",
      "Epoch 55/100\n",
      "750/750 [==============================] - 13s 17ms/step - loss: 0.2157 - accuracy: 0.9215 - val_loss: 0.3317 - val_accuracy: 0.8977\n",
      "Epoch 56/100\n",
      "750/750 [==============================] - 12s 16ms/step - loss: 0.2158 - accuracy: 0.9204 - val_loss: 0.3236 - val_accuracy: 0.8998\n",
      "Epoch 57/100\n",
      "750/750 [==============================] - 12s 17ms/step - loss: 0.2151 - accuracy: 0.9211 - val_loss: 0.3577 - val_accuracy: 0.8964\n",
      "Epoch 58/100\n",
      "750/750 [==============================] - 13s 18ms/step - loss: 0.2150 - accuracy: 0.9216 - val_loss: 0.3220 - val_accuracy: 0.8986\n",
      "Epoch 59/100\n",
      "750/750 [==============================] - 13s 17ms/step - loss: 0.2112 - accuracy: 0.9223 - val_loss: 0.3377 - val_accuracy: 0.8972\n",
      "Epoch 60/100\n",
      "750/750 [==============================] - 12s 16ms/step - loss: 0.2064 - accuracy: 0.9235 - val_loss: 0.3193 - val_accuracy: 0.8987\n",
      "Epoch 61/100\n",
      "750/750 [==============================] - 12s 16ms/step - loss: 0.2100 - accuracy: 0.9222 - val_loss: 0.3317 - val_accuracy: 0.8955\n",
      "Epoch 62/100\n",
      "750/750 [==============================] - 12s 16ms/step - loss: 0.2116 - accuracy: 0.9211 - val_loss: 0.3467 - val_accuracy: 0.8931\n",
      "Epoch 63/100\n",
      "750/750 [==============================] - 13s 17ms/step - loss: 0.2033 - accuracy: 0.9247 - val_loss: 0.3374 - val_accuracy: 0.8974\n",
      "Epoch 64/100\n",
      "750/750 [==============================] - 12s 16ms/step - loss: 0.2078 - accuracy: 0.9237 - val_loss: 0.3503 - val_accuracy: 0.8952\n",
      "Epoch 65/100\n",
      "750/750 [==============================] - 12s 16ms/step - loss: 0.2084 - accuracy: 0.9220 - val_loss: 0.3381 - val_accuracy: 0.8973\n",
      "Epoch 66/100\n",
      "750/750 [==============================] - 12s 16ms/step - loss: 0.2087 - accuracy: 0.9224 - val_loss: 0.3280 - val_accuracy: 0.8955\n",
      "Epoch 67/100\n",
      "750/750 [==============================] - 12s 16ms/step - loss: 0.2048 - accuracy: 0.9234 - val_loss: 0.3395 - val_accuracy: 0.8958\n",
      "Epoch 68/100\n",
      "750/750 [==============================] - 12s 16ms/step - loss: 0.2015 - accuracy: 0.9264 - val_loss: 0.3330 - val_accuracy: 0.8990\n",
      "Epoch 69/100\n",
      "750/750 [==============================] - 12s 16ms/step - loss: 0.2003 - accuracy: 0.9261 - val_loss: 0.3353 - val_accuracy: 0.9010\n",
      "Epoch 70/100\n",
      "750/750 [==============================] - 13s 17ms/step - loss: 0.2023 - accuracy: 0.9254 - val_loss: 0.3486 - val_accuracy: 0.8946\n",
      "Epoch 71/100\n",
      "750/750 [==============================] - 12s 16ms/step - loss: 0.1971 - accuracy: 0.9265 - val_loss: 0.3434 - val_accuracy: 0.8969\n",
      "Epoch 72/100\n",
      "750/750 [==============================] - 12s 17ms/step - loss: 0.1979 - accuracy: 0.9271 - val_loss: 0.3926 - val_accuracy: 0.8913\n",
      "Epoch 73/100\n",
      "750/750 [==============================] - 13s 17ms/step - loss: 0.2030 - accuracy: 0.9260 - val_loss: 0.3307 - val_accuracy: 0.8978\n",
      "Epoch 74/100\n",
      "750/750 [==============================] - 12s 17ms/step - loss: 0.1937 - accuracy: 0.9274 - val_loss: 0.3406 - val_accuracy: 0.8983\n",
      "Epoch 75/100\n",
      "750/750 [==============================] - 13s 17ms/step - loss: 0.1980 - accuracy: 0.9276 - val_loss: 0.3466 - val_accuracy: 0.8966\n",
      "Epoch 76/100\n",
      "750/750 [==============================] - 12s 17ms/step - loss: 0.2001 - accuracy: 0.9267 - val_loss: 0.3571 - val_accuracy: 0.8949\n",
      "Epoch 77/100\n",
      "750/750 [==============================] - 12s 16ms/step - loss: 0.1897 - accuracy: 0.9296 - val_loss: 0.3533 - val_accuracy: 0.8978\n",
      "Epoch 78/100\n",
      "750/750 [==============================] - 12s 16ms/step - loss: 0.1967 - accuracy: 0.9281 - val_loss: 0.3423 - val_accuracy: 0.8977\n",
      "Epoch 79/100\n",
      "750/750 [==============================] - 12s 15ms/step - loss: 0.1984 - accuracy: 0.9274 - val_loss: 0.3659 - val_accuracy: 0.9001\n",
      "Epoch 80/100\n",
      "750/750 [==============================] - 12s 15ms/step - loss: 0.1929 - accuracy: 0.9280 - val_loss: 0.3501 - val_accuracy: 0.8976\n",
      "Epoch 81/100\n",
      "750/750 [==============================] - 12s 15ms/step - loss: 0.1877 - accuracy: 0.9319 - val_loss: 0.3744 - val_accuracy: 0.8974\n",
      "Epoch 82/100\n",
      "750/750 [==============================] - 12s 15ms/step - loss: 0.1891 - accuracy: 0.9313 - val_loss: 0.3570 - val_accuracy: 0.8989\n",
      "Epoch 83/100\n",
      "750/750 [==============================] - 12s 15ms/step - loss: 0.1943 - accuracy: 0.9301 - val_loss: 0.3776 - val_accuracy: 0.8992\n",
      "Epoch 84/100\n",
      "750/750 [==============================] - 12s 16ms/step - loss: 0.1918 - accuracy: 0.9301 - val_loss: 0.3616 - val_accuracy: 0.8959\n",
      "Epoch 85/100\n",
      "750/750 [==============================] - 12s 16ms/step - loss: 0.1872 - accuracy: 0.9327 - val_loss: 0.3433 - val_accuracy: 0.8992\n",
      "Epoch 86/100\n",
      "750/750 [==============================] - 12s 16ms/step - loss: 0.1917 - accuracy: 0.9301 - val_loss: 0.3756 - val_accuracy: 0.8993\n",
      "Epoch 87/100\n",
      "750/750 [==============================] - 12s 16ms/step - loss: 0.1878 - accuracy: 0.9316 - val_loss: 0.3667 - val_accuracy: 0.8999\n",
      "Epoch 88/100\n",
      "750/750 [==============================] - 12s 16ms/step - loss: 0.1896 - accuracy: 0.9307 - val_loss: 0.3902 - val_accuracy: 0.8979\n",
      "Epoch 89/100\n",
      "750/750 [==============================] - 12s 16ms/step - loss: 0.1936 - accuracy: 0.9307 - val_loss: 0.3807 - val_accuracy: 0.8984\n",
      "Epoch 90/100\n",
      "750/750 [==============================] - 12s 15ms/step - loss: 0.1872 - accuracy: 0.9318 - val_loss: 0.3471 - val_accuracy: 0.9004\n",
      "Epoch 91/100\n",
      "750/750 [==============================] - 12s 15ms/step - loss: 0.1825 - accuracy: 0.9330 - val_loss: 0.3654 - val_accuracy: 0.8997\n",
      "Epoch 92/100\n",
      "750/750 [==============================] - 12s 16ms/step - loss: 0.1812 - accuracy: 0.9338 - val_loss: 0.3696 - val_accuracy: 0.9015\n",
      "Epoch 93/100\n",
      "750/750 [==============================] - 12s 16ms/step - loss: 0.1831 - accuracy: 0.9335 - val_loss: 0.3748 - val_accuracy: 0.8989\n",
      "Epoch 94/100\n",
      "750/750 [==============================] - 12s 16ms/step - loss: 0.1769 - accuracy: 0.9347 - val_loss: 0.3827 - val_accuracy: 0.8999\n",
      "Epoch 95/100\n",
      "750/750 [==============================] - 12s 16ms/step - loss: 0.1882 - accuracy: 0.9319 - val_loss: 0.3721 - val_accuracy: 0.8999\n",
      "Epoch 96/100\n",
      "750/750 [==============================] - 12s 16ms/step - loss: 0.1841 - accuracy: 0.9335 - val_loss: 0.3630 - val_accuracy: 0.8993\n",
      "Epoch 97/100\n",
      "750/750 [==============================] - 12s 16ms/step - loss: 0.1801 - accuracy: 0.9341 - val_loss: 0.3623 - val_accuracy: 0.8983\n",
      "Epoch 98/100\n",
      "750/750 [==============================] - 12s 16ms/step - loss: 0.1877 - accuracy: 0.9344 - val_loss: 0.3832 - val_accuracy: 0.8955\n",
      "Epoch 99/100\n",
      "750/750 [==============================] - 12s 16ms/step - loss: 0.1912 - accuracy: 0.9312 - val_loss: 0.4006 - val_accuracy: 0.8980\n",
      "Epoch 100/100\n",
      "750/750 [==============================] - 12s 16ms/step - loss: 0.1761 - accuracy: 0.9357 - val_loss: 0.3881 - val_accuracy: 0.8970\n"
     ]
    }
   ],
   "source": [
    "# Training the model. \n",
    "training = model_6.fit(X_train, Y_train, batch_size=64, epochs=100, validation_split=0.2) "
   ]
  },
  {
   "cell_type": "code",
   "execution_count": null,
   "metadata": {
    "colab": {
     "base_uri": "https://localhost:8080/",
     "height": 590
    },
    "id": "T0zuU-4AVRgJ",
    "outputId": "53f953f5-f0ba-44fa-e0e6-a1b9c7dc1709"
   },
   "outputs": [
    {
     "name": "stdout",
     "output_type": "stream",
     "text": [
      "dict_keys(['loss', 'accuracy', 'val_loss', 'val_accuracy'])\n"
     ]
    },
    {
     "data": {
      "image/png": "[encoded data removed]",
      "text/plain": [
       "<Figure size 432x288 with 1 Axes>"
      ]
     },
     "metadata": {
      "needs_background": "light",
      "tags": []
     },
     "output_type": "display_data"
    },
    {
     "data": {
      "image/png": "[encoded data removed]",
      "text/plain": [
       "<Figure size 432x288 with 1 Axes>"
      ]
     },
     "metadata": {
      "needs_background": "light",
      "tags": []
     },
     "output_type": "display_data"
    }
   ],
   "source": [
    "import matplotlib.pyplot as plt\n",
    "%matplotlib inline\n",
    "# list all data in training\n",
    "print(training.history.keys())\n",
    "# summarize training for accuracy\n",
    "plt.plot(training.history['accuracy'])\n",
    "plt.plot(training.history['val_accuracy'])\n",
    "plt.title('model accuracy')\n",
    "plt.ylabel('accuracy')\n",
    "plt.xlabel('epoch')\n",
    "plt.legend(['train', 'test'], loc='upper left')\n",
    "plt.show()\n",
    "# summarize traning for loss\n",
    "plt.plot(training.history['loss'])\n",
    "plt.plot(training.history['val_loss'])\n",
    "plt.title('model loss')\n",
    "plt.ylabel('loss')\n",
    "plt.xlabel('epoch')\n",
    "plt.legend(['train', 'test'], loc='upper left')\n",
    "plt.show()"
   ]
  },
  {
   "cell_type": "code",
   "execution_count": null,
   "metadata": {
    "colab": {
     "base_uri": "https://localhost:8080/",
     "height": 51
    },
    "id": "X8sLtNUbVRgP",
    "outputId": "61705196-cc03-498e-81ee-fcb1b0110bb6"
   },
   "outputs": [
    {
     "name": "stdout",
     "output_type": "stream",
     "text": [
      "313/313 [==============================] - 1s 4ms/step - loss: 0.4325 - accuracy: 0.8951\n",
      "Test accuracy: 0.8950999975204468\n"
     ]
    }
   ],
   "source": [
    "#evaluate the model\n",
    "test_loss, test_acc = model_6.evaluate(X_test, Y_test)\n",
    "print('Test accuracy:', test_acc)"
   ]
  },
  {
   "cell_type": "code",
   "execution_count": null,
   "metadata": {
    "colab": {
     "base_uri": "https://localhost:8080/",
     "height": 34
    },
    "id": "VdYMR1WtVRgS",
    "outputId": "a25ac2f8-6526-454e-b17a-2a967778ba37"
   },
   "outputs": [
    {
     "data": {
      "text/plain": [
       "<bound method Network.summary of <tensorflow.python.keras.engine.sequential.Sequential object at 0x7ffa9a1c0b00>>"
      ]
     },
     "execution_count": 59,
     "metadata": {
      "tags": []
     },
     "output_type": "execute_result"
    }
   ],
   "source": [
    "model_6.summary"
   ]
  },
  {
   "cell_type": "code",
   "execution_count": null,
   "metadata": {
    "colab": {
     "base_uri": "https://localhost:8080/",
     "height": 1000
    },
    "id": "ZRxPjFGLVRgW",
    "outputId": "494cb512-ba9b-4e95-eead-c3af6affe6d7"
   },
   "outputs": [
    {
     "data": {
      "text/plain": [
       "[<tf.Variable 'dense_layer_8/kernel:0' shape=(784, 512) dtype=float32, numpy=\n",
       " array([[-0.02043436, -0.03052251, -0.04867187, ..., -0.00341104,\n",
       "          0.0646666 ,  0.06193061],\n",
       "        [ 0.00580537, -0.03989251,  0.02505963, ...,  0.00726219,\n",
       "         -0.03476311, -0.04609244],\n",
       "        [ 0.02528511, -0.0624702 ,  0.02157883, ...,  0.02244397,\n",
       "         -0.00719848,  0.04892342],\n",
       "        ...,\n",
       "        [ 0.03892381,  0.06000207,  0.02830688, ..., -0.03362466,\n",
       "         -0.06500859, -0.02711738],\n",
       "        [-0.062404  ,  0.04495282,  0.00313219, ...,  0.05914421,\n",
       "         -0.0092866 , -0.01132109],\n",
       "        [-0.04838803, -0.00661732,  0.05316094, ...,  0.05458824,\n",
       "         -0.0405038 ,  0.02893919]], dtype=float32)>,\n",
       " <tf.Variable 'dense_layer_8/bias:0' shape=(512,) dtype=float32, numpy=\n",
       " array([-0.2696233 , -0.21055523, -0.33684137, -0.42744735,  0.18318221,\n",
       "        -0.27374473, -0.4295545 , -0.4989392 , -0.40381438, -0.0173907 ,\n",
       "        -0.02753447, -0.14542247, -0.69777596, -0.59039474, -0.27526793,\n",
       "        -0.4565259 , -0.19103886, -0.03038125, -0.14431506, -0.44546953,\n",
       "        -0.4384869 , -0.22670168, -0.12920149, -0.3529104 ,  0.01874708,\n",
       "         0.03865247, -0.09942317, -0.37635398,  0.05034769, -0.5097547 ,\n",
       "         0.08612788, -0.19895247, -0.09185734,  0.18310507, -0.32752576,\n",
       "        -0.02264479,  0.01025114, -0.15946889, -0.38689563, -0.34469634,\n",
       "        -0.36817837,  0.12921374, -0.11992764, -0.01881557, -0.3884351 ,\n",
       "        -0.00718244, -0.31887013, -0.52107877,  0.12082034, -0.19646251,\n",
       "        -0.22191986, -0.1437224 , -0.29777363, -0.53086865, -0.12631057,\n",
       "         0.13094419, -0.13917129,  0.00583606, -0.16718774,  0.03018015,\n",
       "        -0.58638734, -0.02188976, -0.4473377 , -0.04404052, -0.16019145,\n",
       "        -0.14673918,  0.01173183,  0.09187844, -0.01668436,  0.12805556,\n",
       "        -0.16952692, -0.607649  , -0.40257218, -0.03683537, -0.7947761 ,\n",
       "        -0.28343934, -0.57222146, -0.2707892 , -0.18641129, -0.07556085,\n",
       "        -0.08062723, -0.3644887 , -0.54991335, -0.2002851 , -0.5600216 ,\n",
       "        -0.40424347, -0.21844392, -0.16454019,  0.02891395,  0.12312049,\n",
       "        -0.30026382, -0.3627983 , -0.17188379,  0.01734723, -0.29349625,\n",
       "        -0.26071537, -0.38225314, -0.03323523, -0.17537077, -0.441885  ,\n",
       "        -0.09777397, -0.18430358,  0.09732835, -0.03439459,  0.15488645,\n",
       "        -0.28570494,  0.00417195, -0.54466563, -0.47075158, -0.69965667,\n",
       "        -0.22724637, -0.47913924, -0.01870635, -0.22890826, -0.06281532,\n",
       "        -0.71873   , -0.13300101, -0.13784057, -0.48036802, -0.24672139,\n",
       "         0.05949189, -0.13928486, -0.3953031 , -0.31828818, -0.0839654 ,\n",
       "        -0.23584065, -0.21653795, -0.20123477, -0.3937147 , -0.16197862,\n",
       "        -0.92149967, -0.03392668, -0.22747813, -0.4104444 , -0.29569617,\n",
       "        -0.35044834, -0.34732348, -0.14372009, -0.29292223, -0.21738692,\n",
       "        -0.52905613, -0.3450462 ,  0.16480425, -0.03414582, -0.10628978,\n",
       "        -0.27911526, -0.2083701 , -0.06697109, -0.17012432, -0.50735015,\n",
       "        -0.06452555, -0.49289736, -0.42184952,  0.00881977, -0.26190704,\n",
       "        -0.1537478 , -0.37149155, -0.13380708, -0.45335138, -0.30430567,\n",
       "        -0.26924622, -0.36665708, -0.6085542 , -0.10758677, -0.03512141,\n",
       "         0.01186022,  0.00505938, -0.10092407, -0.09170897,  0.05898591,\n",
       "         0.067136  ,  0.00938657, -0.00600094, -0.18202594, -0.25668278,\n",
       "         0.2309898 , -0.26955432, -0.17514804, -0.38176596, -0.3553004 ,\n",
       "        -0.23361991, -0.2979614 , -0.25536564, -0.33286262, -0.15431745,\n",
       "        -0.24253343, -0.09628185, -0.29247952, -0.01097796, -0.31394276,\n",
       "        -0.6662563 ,  0.16397506,  0.32289138, -0.27665627, -0.3913615 ,\n",
       "         0.25286132, -0.1246611 , -0.03693834, -0.31339404, -0.32478696,\n",
       "        -0.17795783, -0.6421901 , -0.25299466, -0.02144221, -0.16489227,\n",
       "         0.13300562, -0.15642543, -0.1099498 , -0.03995977, -0.5069289 ,\n",
       "        -0.18727073, -0.23603149, -0.28105575, -0.27661386, -0.337104  ,\n",
       "        -0.07837322, -0.17777477, -0.32150966,  0.03210541, -0.40579638,\n",
       "        -0.4404787 , -0.19481236, -0.21178351, -0.5810828 , -0.43712327,\n",
       "        -0.73686093, -0.47085842, -0.28466633,  0.03144144, -0.56787217,\n",
       "        -0.14624263, -0.20184365, -0.23991668, -0.18999131, -0.36354816,\n",
       "        -0.2857371 ,  0.07118796, -0.16984595, -0.25582024, -0.19779249,\n",
       "        -0.19449149, -0.17772178, -0.0158757 , -0.61694527, -0.44698957,\n",
       "         0.05527673, -0.05759416, -0.11423653, -0.51053125, -0.37863708,\n",
       "        -0.17570409,  0.08945898,  0.02739712, -0.36063945, -0.4308034 ,\n",
       "        -0.17203261, -0.16994484, -0.20994629, -0.18219425, -0.19212613,\n",
       "        -0.03048081,  0.02987648, -0.53590727,  0.02363749, -0.25157776,\n",
       "        -0.291716  , -0.11998188, -0.08307215, -0.26601776, -0.47802582,\n",
       "        -0.23956335, -0.05240866, -0.45372567, -0.1917211 , -0.04963914,\n",
       "        -0.25976416, -0.4559752 , -0.422362  , -0.30344194, -0.25408193,\n",
       "        -0.37525412, -0.4620375 ,  0.02101701, -0.40512285, -0.36818326,\n",
       "        -0.09237959, -0.1341872 , -0.5137707 , -0.6031753 , -0.12332745,\n",
       "         0.08364153, -0.06272127, -0.49000153, -0.28939503, -0.3084176 ,\n",
       "        -0.69817895, -0.02564907, -0.42432424, -0.26996675,  0.05392009,\n",
       "         0.14806002,  0.04884285, -0.23323989, -0.14799803, -0.05732735,\n",
       "        -0.19667597,  0.20462413, -0.03246721, -0.12511227, -0.07271943,\n",
       "        -0.39755863, -0.06195214, -0.26317418, -0.19539754, -0.49757048,\n",
       "        -0.01245722, -0.3604564 , -0.09649093, -0.20428418, -0.33626205,\n",
       "         0.23393664, -0.1268835 ,  0.08728244,  0.12389429, -0.23385076,\n",
       "        -0.22964492, -0.02930309, -0.17697999, -0.11112972, -0.2553529 ,\n",
       "        -0.34331092,  0.02823567,  0.17985946, -0.26964682,  0.11702529,\n",
       "        -0.4939382 , -0.13730083,  0.06791068,  0.27215633, -0.34416676,\n",
       "         0.00473885, -0.04341743,  0.10614222, -0.06123485, -0.0990551 ,\n",
       "         0.19862166,  0.09108048, -0.20261574, -0.06709547, -0.18506475,\n",
       "        -0.03284829, -0.4014016 , -0.19971503,  0.08533444, -0.45590803,\n",
       "        -0.18259707, -0.22731334, -0.3533481 , -0.15132391, -0.04689423,\n",
       "        -0.41710454, -0.2276736 ,  0.01853679, -0.16237736, -0.5176968 ,\n",
       "        -0.3898137 , -0.5058089 ,  0.03047854, -0.1807336 , -0.05003184,\n",
       "         0.0065933 , -0.25060648, -0.2503102 ,  0.12828723, -0.60870755,\n",
       "        -0.25974667, -0.29079655, -0.32036665, -0.6914658 , -0.6382996 ,\n",
       "         0.10248274,  0.15497299, -0.22279367, -0.44842225, -0.20044848,\n",
       "        -0.26829386, -0.46701038, -0.02301912, -0.22469227, -0.4052091 ,\n",
       "        -0.45218182, -0.32259455, -0.19550417, -0.21909153, -0.27853864,\n",
       "        -0.4405603 , -0.09006552, -0.17720135,  0.02760173, -0.21334021,\n",
       "         0.11099483, -0.04707084, -0.5503532 ,  0.23122033, -0.17021382,\n",
       "         0.15474261, -0.02252994,  0.12281571, -0.11179549, -0.05886948,\n",
       "        -0.14441329, -0.01090423, -0.42050385, -0.02933597, -0.09983373,\n",
       "        -0.3681018 , -0.20683399, -0.5355109 , -0.0464318 , -0.19561288,\n",
       "         0.08495087, -0.11086687, -0.07394721,  0.02250678, -0.20211917,\n",
       "        -0.31972215, -0.15853697, -0.21581222,  0.16825831, -0.21617159,\n",
       "        -0.48592985, -0.23364028, -0.13722137, -0.04469431, -0.1355897 ,\n",
       "        -0.10819568, -0.2219548 , -0.10088089, -0.13666353,  0.1145459 ,\n",
       "        -0.2602746 , -0.24390417, -0.14585629, -0.16982166, -0.03354973,\n",
       "        -0.1882672 , -0.47209433, -0.23154792, -0.2852839 ,  0.00447701,\n",
       "        -0.2466137 ,  0.01513781, -0.35772336, -0.47153482, -0.16192749,\n",
       "        -0.18880709,  0.02534606, -0.21622372, -0.16643879,  0.13549176,\n",
       "        -0.36174542,  0.00318471, -0.00846594, -0.34606802, -0.17864048,\n",
       "        -0.50079393,  0.15257677, -0.13326643, -0.03427297, -0.13887885,\n",
       "        -0.10833173, -0.42906177,  0.07073282, -0.8272588 , -0.34088227,\n",
       "        -0.19610593, -0.12080865,  0.04765316, -0.10128038, -0.34742182,\n",
       "        -0.14102283, -0.19830221, -0.5170853 , -0.26167715,  0.08200791,\n",
       "        -0.0350775 , -0.8242871 , -0.1458042 , -0.57211834, -0.3030035 ,\n",
       "        -0.07657946, -0.01900173,  0.02733069, -0.17630917, -0.5489323 ,\n",
       "        -0.4436115 , -0.24990772, -0.4653536 , -0.12367339, -0.02347991,\n",
       "        -0.5163176 , -0.31180143, -0.02765441, -0.20840229, -0.02387062,\n",
       "        -0.39871982, -0.04175514, -0.4467921 , -0.10026515, -0.59768313,\n",
       "        -0.46691343, -0.28173923], dtype=float32)>,\n",
       " <tf.Variable 'dense_layer_2_5/kernel:0' shape=(512, 512) dtype=float32, numpy=\n",
       " array([[-0.44035417, -0.08319122, -0.07522572, ...,  0.07430229,\n",
       "         -0.02726143,  0.12732434],\n",
       "        [-0.01406842,  0.12247626, -0.43497545, ...,  0.00618181,\n",
       "          0.06629271,  0.47217116],\n",
       "        [ 0.4767634 ,  0.44265702,  0.11117949, ..., -0.20954657,\n",
       "          0.1171995 ,  0.00962094],\n",
       "        ...,\n",
       "        [ 0.19733089,  0.07500589,  0.21224241, ..., -0.38945597,\n",
       "          0.04087703,  0.03677493],\n",
       "        [-0.19920942,  0.29997236, -0.4244362 , ...,  0.35777205,\n",
       "          0.03635927, -0.00325797],\n",
       "        [-0.00409521,  0.20231165, -0.22174703, ..., -0.5272831 ,\n",
       "         -0.13503195, -0.3593861 ]], dtype=float32)>,\n",
       " <tf.Variable 'dense_layer_2_5/bias:0' shape=(512,) dtype=float32, numpy=\n",
       " array([-5.13993859e-01, -6.00391090e-01, -1.02565205e+00,  1.96603984e-02,\n",
       "        -9.64286447e-01, -3.02042425e-01, -2.79223353e-01, -7.91683316e-01,\n",
       "        -1.25697148e+00, -6.34749413e-01, -6.42875314e-01, -8.38303924e-01,\n",
       "         3.75048369e-01,  1.22826135e+00,  4.10792455e-02, -3.48823369e-01,\n",
       "        -8.37945402e-01, -5.57077825e-01, -1.92337680e+00, -6.88903630e-01,\n",
       "        -1.42878699e+00, -1.74578571e+00, -6.96560562e-01, -6.23477757e-01,\n",
       "        -9.93947685e-01, -1.40119100e+00,  7.48132765e-02,  5.23510695e-01,\n",
       "        -1.05909204e+00, -1.05678938e-01, -8.51926327e-01, -1.13171136e+00,\n",
       "        -8.36204886e-01,  3.30297112e-01, -1.12232172e+00, -4.22348201e-01,\n",
       "         3.22610825e-01, -8.03642333e-01, -1.11286557e+00,  1.96023822e-01,\n",
       "        -4.54311579e-01, -2.12987915e-01, -3.06256473e-01, -8.04532349e-01,\n",
       "        -5.48995323e-02, -1.13650477e+00, -1.86033383e-01, -9.95462835e-01,\n",
       "        -4.03522074e-01, -1.08907378e+00, -8.13603401e-01, -9.99267757e-01,\n",
       "         5.36068916e-01, -6.78450227e-01, -7.46327698e-01, -1.99973002e-01,\n",
       "         7.15477407e-01, -1.36275184e+00, -8.76522958e-01, -1.02583504e+00,\n",
       "        -9.96108770e-01, -4.05463755e-01, -8.10392559e-01,  1.37380624e+00,\n",
       "        -2.95545578e-01, -9.79546234e-02, -6.87758207e-01,  1.37252361e-01,\n",
       "        -1.00489795e+00, -7.31188238e-01, -1.23231530e+00, -7.89228559e-01,\n",
       "        -7.27989614e-01, -1.33074176e+00,  1.49906680e-01, -1.05883646e+00,\n",
       "        -5.39433658e-01, -1.45379090e+00, -1.29124737e+00, -4.15208399e-01,\n",
       "        -8.63828897e-01, -9.65946019e-02, -8.06198716e-01,  7.72223234e-01,\n",
       "        -5.28183877e-01, -8.11358690e-01, -1.29313731e+00, -2.81887174e-01,\n",
       "        -2.34232470e-01,  2.72289991e-01, -4.95405912e-01, -1.16225076e+00,\n",
       "        -5.89152217e-01, -1.40832210e+00, -6.53198481e-01, -1.64954972e+00,\n",
       "        -1.73463035e+00, -6.83469832e-01, -1.08742547e+00, -4.15921718e-01,\n",
       "        -5.64897597e-01, -5.75317085e-01, -3.57972383e-01, -7.70333111e-02,\n",
       "         5.02940774e-01, -3.48621428e-01, -1.67420805e+00,  4.32348907e-01,\n",
       "        -1.09945118e+00, -1.02830088e+00,  1.01219761e+00, -1.87412828e-01,\n",
       "        -7.77675569e-01, -5.06599367e-01, -4.45302278e-02, -1.74747241e+00,\n",
       "        -7.70861804e-01, -1.05901241e+00, -6.58254802e-01, -4.50766087e-01,\n",
       "        -2.78983831e-01, -7.41755545e-01, -1.05651760e+00, -1.38073552e+00,\n",
       "        -1.38550818e+00, -1.53669310e+00, -1.61619540e-02,  8.02636564e-01,\n",
       "         6.76285267e-01, -7.58338749e-01, -1.20348024e+00, -1.11127841e+00,\n",
       "        -1.28241324e+00, -5.53993940e-01,  4.75458503e-01, -5.81060231e-01,\n",
       "         1.11498185e-01,  2.34780073e-01, -1.54807985e-01, -1.31210756e+00,\n",
       "        -1.01029563e+00, -7.78311253e-01, -1.35789561e+00, -9.19717014e-01,\n",
       "        -1.25609207e+00, -1.13194034e-01,  4.00508881e-01, -7.22618163e-01,\n",
       "        -1.05772948e+00,  8.85079741e-01,  2.38701358e-01, -1.20700800e+00,\n",
       "        -9.45724249e-01, -2.56541193e-01, -1.04020667e+00, -4.46437269e-01,\n",
       "        -1.27823102e+00,  4.19540219e-02, -1.09785640e+00, -6.76395416e-01,\n",
       "        -1.42547119e+00, -7.81508744e-01,  2.02204455e-02, -4.60170597e-01,\n",
       "        -1.12832502e-01, -3.05958148e-02, -8.34242404e-01, -6.01991117e-01,\n",
       "        -1.35451603e+00,  5.91995418e-01, -1.92008555e-01, -1.08873390e-01,\n",
       "        -1.77869666e+00, -6.13185048e-01, -7.10151672e-01, -1.09448314e+00,\n",
       "        -6.54223919e-01, -6.84696555e-01,  4.48063940e-01,  4.58558649e-01,\n",
       "        -5.46245396e-01, -1.15159893e+00, -1.02293718e+00, -1.77409399e+00,\n",
       "         7.78888345e-01,  7.69424319e-01,  9.80672419e-01, -8.34414840e-01,\n",
       "        -1.65368617e+00,  1.82723805e-01, -3.48805815e-01,  1.24507211e-01,\n",
       "         2.37278119e-01, -5.60807735e-02, -5.00301957e-01, -2.18070909e-01,\n",
       "        -1.61055732e+00, -2.26019114e-01,  7.75548041e-01, -6.70987248e-01,\n",
       "         1.98382604e+00, -1.04046023e+00, -5.54885507e-01, -2.90101588e-01,\n",
       "        -1.12315583e+00, -1.18832004e+00, -1.22823548e+00, -1.74251258e-01,\n",
       "        -9.14054513e-01, -2.63018757e-01, -7.74992168e-01, -1.27801156e+00,\n",
       "        -9.33559060e-01,  2.05987796e-01, -1.59480453e-01, -1.09042811e+00,\n",
       "        -1.09509528e+00, -6.64956212e-01,  1.22047389e+00, -2.79797286e-01,\n",
       "        -3.29573601e-01, -1.16599846e+00, -3.21700424e-01, -1.57216862e-01,\n",
       "         5.63583374e-01, -1.25729418e+00,  1.17708288e-01, -5.57234645e-01,\n",
       "        -4.79370236e-01, -5.70572734e-01, -4.61992890e-01, -1.08069491e+00,\n",
       "        -6.53409421e-01, -7.16538906e-01, -2.41746426e-01, -5.07942021e-01,\n",
       "        -4.68171716e-01, -2.47752979e-01, -9.04691517e-01, -6.67369962e-01,\n",
       "        -1.34503663e+00,  1.85226537e-02, -3.79310936e-01, -1.39572001e+00,\n",
       "         4.64081764e-01, -9.38338637e-01, -1.11537993e+00, -1.31472063e+00,\n",
       "        -7.87087977e-01, -1.05997586e+00,  9.56119969e-03, -9.43344533e-01,\n",
       "        -9.82930541e-01, -8.45232189e-01, -1.16556644e+00, -2.73454964e-01,\n",
       "        -9.34464395e-01, -1.48634553e+00, -6.12162650e-01, -4.49973404e-01,\n",
       "        -1.10974312e+00, -4.35393810e-01,  2.73395449e-01, -1.15229201e+00,\n",
       "        -1.38232112e-01, -1.01961672e+00, -5.12036324e-01, -1.65319180e+00,\n",
       "         1.95128575e-01, -7.52609253e-01, -9.01265621e-01, -4.79678452e-01,\n",
       "        -3.37921605e-02, -4.91553545e-01, -5.19144177e-01,  1.30168962e+00,\n",
       "         1.46624491e-01, -3.12240571e-01, -1.01353788e+00,  7.93070719e-02,\n",
       "        -8.85418057e-01, -1.12976515e+00,  4.87937182e-02, -1.06495357e+00,\n",
       "        -1.15780950e+00, -3.01599354e-01, -1.44103014e+00, -1.28499758e+00,\n",
       "        -3.30908209e-01, -1.28941488e+00, -1.18278933e+00, -5.54402173e-01,\n",
       "        -2.85615593e-01, -4.49711978e-02, -9.42202330e-01, -2.66867995e-01,\n",
       "        -7.69118011e-01,  7.64079571e-01, -1.17536232e-01, -8.64830196e-01,\n",
       "        -1.19897142e-01,  7.06472516e-01, -1.38264489e+00, -1.40981483e+00,\n",
       "        -1.15140748e+00, -6.27923369e-01, -1.20787334e+00, -1.40465343e+00,\n",
       "         3.05553563e-02, -5.49145460e-01, -4.04190302e-01,  1.19988441e-01,\n",
       "         1.10349052e-01, -3.18197012e-01, -1.16373801e+00, -8.13742816e-01,\n",
       "        -3.84455979e-01,  1.29048789e+00,  1.63350940e-01,  4.87377234e-02,\n",
       "         1.03423977e+00, -1.28455147e-01, -7.60217071e-01, -8.02872598e-01,\n",
       "        -2.04705209e-01, -1.05168617e+00, -2.26982296e-01, -1.33699095e+00,\n",
       "        -6.94345534e-01, -9.97800231e-01,  9.47174788e-01,  1.55735433e+00,\n",
       "        -1.68504179e+00, -6.99089170e-01,  3.24006855e-01,  4.19574261e-01,\n",
       "        -2.51091629e-01, -8.90560508e-01,  1.01554610e-01, -1.73334777e+00,\n",
       "         5.45299172e-01, -7.27448225e-01, -6.43097103e-01, -6.85685575e-01,\n",
       "        -1.06288576e+00, -1.18928814e+00, -1.22173868e-01, -4.76252109e-01,\n",
       "         1.59050155e+00, -8.25810254e-01,  1.83092833e-01, -4.69368696e-01,\n",
       "        -7.31222332e-01,  2.34381258e-01, -6.28112793e-01, -8.21995676e-01,\n",
       "         1.31180930e+00,  1.58326164e-01, -6.27635598e-01, -5.77869058e-01,\n",
       "         5.17966270e-01, -6.39632881e-01, -1.97725087e-01, -6.88482940e-01,\n",
       "        -4.93213832e-01,  2.35682219e-01, -2.33186573e-01,  1.16268411e-01,\n",
       "        -4.31978464e-01, -1.03097367e+00,  3.57852578e-01, -9.90536809e-01,\n",
       "        -3.81958514e-01, -3.36107910e-01, -3.96031022e-01,  2.74617344e-01,\n",
       "        -5.73949933e-01, -3.98032337e-01,  4.74945784e-01,  7.25420415e-01,\n",
       "        -7.19808042e-01, -1.19499588e+00, -7.47749865e-01,  9.54723656e-01,\n",
       "        -7.12248385e-02,  1.89240709e-01, -6.12605393e-01, -6.64402962e-01,\n",
       "        -4.51597214e-01, -3.88169229e-01, -1.39560950e+00, -1.21942353e+00,\n",
       "        -5.59358299e-01, -1.46660352e+00, -6.25434041e-01, -4.28992689e-01,\n",
       "         3.48823607e-01, -1.67483222e+00, -5.01311004e-01, -6.81041479e-01,\n",
       "        -5.03798246e-01, -4.97232139e-01, -6.03999376e-01, -7.78506219e-01,\n",
       "        -7.03479171e-01, -3.80188107e-01, -1.02675462e+00, -9.96801496e-01,\n",
       "        -5.53062141e-01, -1.52935497e-02, -4.29160714e-01, -9.34096158e-01,\n",
       "        -6.02862332e-04, -4.71756995e-01,  2.69963086e-01, -1.41654205e+00,\n",
       "        -2.24975586e-01, -1.02273989e+00,  1.20645128e-02, -1.55409193e+00,\n",
       "        -1.76030123e+00, -1.11711633e+00, -6.51259780e-01, -2.23467618e-01,\n",
       "        -8.10638845e-01, -9.60752904e-01, -1.36539257e+00, -9.10105228e-01,\n",
       "        -1.48305082e+00, -1.68019056e-01, -5.60022712e-01, -4.33587888e-03,\n",
       "        -4.15617436e-01, -2.00661325e+00, -1.53646934e+00, -1.05210733e+00,\n",
       "        -6.56461716e-01, -1.27272201e+00, -7.24964976e-01, -1.15101790e+00,\n",
       "        -1.66066498e-01, -4.08188343e-01, -3.60998690e-01, -1.04052734e+00,\n",
       "        -5.98054051e-01,  3.84903282e-01, -7.63664663e-01, -8.65060031e-01,\n",
       "        -7.69958317e-01, -7.77396977e-01, -6.18239880e-01, -1.17311716e+00,\n",
       "        -9.23062682e-01, -8.87576699e-01, -2.41828725e-01,  3.45028818e-01,\n",
       "         5.76221168e-01, -6.81725323e-01, -9.19991791e-01, -1.09187603e+00,\n",
       "        -4.42823976e-01, -7.30655491e-02, -2.20693082e-01, -5.12944698e-01,\n",
       "        -9.33151543e-01, -2.99604893e-01, -9.13692236e-01, -1.00229609e+00,\n",
       "        -5.91773510e-01, -2.98719168e-01, -6.92933798e-01, -9.50371444e-01,\n",
       "        -5.73854625e-01,  6.10569596e-01, -6.84277594e-01,  1.38407037e-01,\n",
       "        -1.00095713e+00, -2.75662571e-01,  6.52880430e-01, -9.36283290e-01,\n",
       "        -1.66488600e+00, -8.92647684e-01, -9.92556512e-02,  1.11648214e+00,\n",
       "        -1.01740646e+00, -1.19313347e+00, -1.92739964e-01, -5.85202992e-01,\n",
       "        -4.96495217e-01, -1.08517420e+00, -9.39378321e-01, -8.05199504e-01,\n",
       "        -9.13305223e-01, -1.77148864e-01,  4.10916299e-01, -7.05146611e-01,\n",
       "         1.77325368e+00,  7.84417272e-01, -1.85980582e+00, -1.42040646e+00,\n",
       "         7.58153796e-01, -9.91205871e-01, -1.08365393e+00,  5.04517376e-01,\n",
       "        -8.74965370e-01,  3.77183259e-01, -5.83088815e-01, -1.23768067e+00,\n",
       "         6.33844495e-01, -4.58534807e-01, -9.40453053e-01, -1.36342514e+00],\n",
       "       dtype=float32)>,\n",
       " <tf.Variable 'dense_layer_3_5/kernel:0' shape=(512, 512) dtype=float32, numpy=\n",
       " array([[ 0.18611118, -0.19383721, -0.50466704, ...,  0.15832447,\n",
       "         -0.22649865, -0.18223947],\n",
       "        [-0.3003918 ,  0.06276278, -0.01877323, ..., -0.03724123,\n",
       "         -0.22941291, -0.24485902],\n",
       "        [-0.12177542,  0.09897343,  0.04078612, ..., -0.17337352,\n",
       "         -0.1430232 , -0.06145266],\n",
       "        ...,\n",
       "        [-0.14638147, -0.16636848, -0.23927179, ..., -0.0186762 ,\n",
       "         -0.1765334 ,  0.14642686],\n",
       "        [ 0.05269847,  0.20927593,  0.05150254, ...,  0.11848488,\n",
       "          0.07681153, -0.0859415 ],\n",
       "        [-0.20123975,  0.14314917, -0.32045376, ..., -0.02859597,\n",
       "          0.20120038, -0.17695075]], dtype=float32)>,\n",
       " <tf.Variable 'dense_layer_3_5/bias:0' shape=(512,) dtype=float32, numpy=\n",
       " array([-1.0062634 , -0.6798678 , -0.72317207, -0.7866308 , -0.87084115,\n",
       "        -0.8408435 , -1.0654339 , -0.948204  , -0.84516823, -0.5893209 ,\n",
       "        -0.6942598 , -0.6271085 , -0.97328496, -0.9154043 , -0.7976199 ,\n",
       "        -0.77897245, -0.6938282 , -1.1434863 , -0.8073318 , -0.48979288,\n",
       "        -0.92079127, -0.8113516 , -0.45187646, -0.8155408 , -0.5984913 ,\n",
       "        -0.7168748 , -0.905786  , -0.66941166, -0.4613903 , -0.72540545,\n",
       "        -0.6220611 , -0.8541153 , -0.7365284 , -0.6223517 , -0.5412959 ,\n",
       "        -0.7411032 , -0.7689171 , -0.7968402 , -0.75489575, -0.71123785,\n",
       "        -0.71877116, -0.31203088, -1.0126634 , -0.6827104 , -1.1628327 ,\n",
       "        -0.47750184, -1.0873864 , -0.7576321 , -0.9778263 , -0.7593377 ,\n",
       "        -0.9057787 , -0.84406066, -0.96321076, -0.8104089 , -1.0336996 ,\n",
       "        -0.2296144 , -0.6729928 , -0.5156294 , -0.57416487, -0.73320013,\n",
       "        -0.82658553, -1.0187305 , -0.7649182 , -0.7520017 , -1.0833211 ,\n",
       "        -0.20817956, -0.9731998 , -0.79823947, -0.85748786,  0.048072  ,\n",
       "        -0.15858278, -0.4367053 , -0.85373944, -1.0870684 , -0.31460348,\n",
       "        -1.0415232 , -0.48766443, -0.69375753, -0.22836734, -0.68779635,\n",
       "        -0.58665144, -0.7297727 , -0.79413277, -0.7861993 , -0.95585364,\n",
       "        -0.60391015, -0.9465874 , -0.60670006, -0.4399705 , -0.5377412 ,\n",
       "        -1.0288782 , -0.5810415 , -0.79219985, -0.58170253, -0.54736334,\n",
       "        -0.8764467 , -0.9655326 , -0.70532495, -0.588143  , -0.85187316,\n",
       "        -0.66847026, -0.6121687 , -0.8665182 , -0.36163744, -0.7178133 ,\n",
       "        -0.49264994, -1.1255641 , -0.22981928, -0.95019794, -0.91873693,\n",
       "        -0.6240258 , -0.86049986, -0.86565924, -0.8531966 , -0.18484254,\n",
       "        -0.7021266 , -0.51949173, -0.70348865, -1.1067518 , -1.2936584 ,\n",
       "         0.07854186, -0.839392  , -0.7121911 , -0.7004871 , -0.15000954,\n",
       "        -0.18104567, -0.95428777, -0.8971758 , -0.9562184 , -0.591648  ,\n",
       "        -0.48650676, -0.65950805, -1.0524215 , -0.45353857, -0.938585  ,\n",
       "        -0.66908365, -1.1357177 , -0.9644425 , -1.4211128 , -0.91758627,\n",
       "        -1.0313491 , -0.5328197 , -0.6369358 , -0.8100263 , -0.30138087,\n",
       "        -0.5472418 , -0.925562  , -0.8282746 , -0.8195398 , -0.62726194,\n",
       "        -0.77606946, -0.9458622 , -0.86645406, -0.52859056, -0.49687022,\n",
       "        -0.90320927, -0.8220788 , -0.45998296, -1.0910898 , -0.7667234 ,\n",
       "        -0.84906846, -0.66477805, -0.95537347, -0.81817025, -0.7082717 ,\n",
       "        -0.44126666, -0.81905085, -0.7545922 , -0.78417075, -0.7020788 ,\n",
       "        -0.29222977, -0.7248468 , -1.0615196 , -0.68877745, -0.9429862 ,\n",
       "        -0.5749579 , -1.0654929 , -0.94413215, -1.1149988 , -0.87359685,\n",
       "        -0.74774444, -0.47917303, -0.855298  , -0.82175446, -0.5085722 ,\n",
       "        -0.8708938 , -0.7080334 , -0.73585886, -0.30546102, -0.79563016,\n",
       "        -0.8143318 , -0.60298115, -1.1688929 , -0.7592518 , -0.50551015,\n",
       "        -0.42435753, -1.0388726 , -0.6389326 , -0.4947527 , -0.32281926,\n",
       "        -0.86019254, -0.715451  , -0.44836795, -0.6745256 , -0.7148247 ,\n",
       "        -0.6941388 , -0.744022  , -0.48187968, -0.6823203 , -0.94184893,\n",
       "        -1.0720016 , -0.92321044, -0.9217684 , -0.53263664, -0.36520267,\n",
       "        -0.5919072 , -0.9577809 , -0.5292064 , -0.44178987, -0.48624378,\n",
       "        -0.8401942 , -0.5163445 , -0.79818714, -0.8297769 , -0.36861557,\n",
       "        -0.8345171 , -0.8345908 , -0.72925353, -1.0079309 , -0.23860143,\n",
       "        -0.8110469 , -0.3815502 , -0.8033986 , -0.54512817, -0.9296068 ,\n",
       "        -1.0765791 , -0.09666684, -0.6186371 , -0.75645304, -0.39989933,\n",
       "        -0.83807206, -0.6991779 , -0.2268238 , -0.7646076 , -0.7329471 ,\n",
       "        -0.70573264, -0.8874484 , -0.55998003, -0.9133968 , -0.7130984 ,\n",
       "        -0.9231696 , -0.47170684, -0.85673875, -1.0349579 , -0.59033006,\n",
       "        -0.97842306, -0.7463513 , -0.7308897 , -0.48771033, -0.55484617,\n",
       "        -0.7866825 , -0.6789063 , -0.9229129 , -1.3049116 , -0.6015771 ,\n",
       "        -0.91685796, -0.8770778 , -0.7441809 , -0.8318752 , -0.4461999 ,\n",
       "        -0.74138   , -0.86065316, -0.5208054 , -0.76829857, -0.6948509 ,\n",
       "        -0.75791335, -0.24610348, -0.22480203, -0.7857186 , -0.99154186,\n",
       "        -0.7536548 , -0.34038514, -0.7950539 , -0.75063014, -1.0280491 ,\n",
       "        -0.6290381 , -0.690685  , -0.36635765, -0.67253375, -0.5390768 ,\n",
       "        -0.7766789 , -0.8458305 , -0.8049631 , -0.9315908 , -0.83485866,\n",
       "        -0.71423656, -1.0550649 , -0.5744383 , -0.5776482 , -0.6141404 ,\n",
       "        -0.9158669 , -0.8695732 , -0.94498515, -0.89030606, -0.7495628 ,\n",
       "        -0.58031857, -0.7151839 , -1.2892148 , -0.786654  , -0.21456191,\n",
       "        -0.5209136 , -0.69797486, -0.87532836, -0.34074223, -0.81454617,\n",
       "        -0.75576705, -0.7863748 , -0.8350926 , -0.32317674, -0.6853701 ,\n",
       "        -0.9892173 , -0.78728145, -0.79978216, -0.8396424 , -0.5519047 ,\n",
       "        -1.1569804 , -0.73068994, -0.86060166, -0.36525682, -0.9772056 ,\n",
       "        -0.29671603, -0.7970688 , -0.6030568 , -0.59733254, -0.55914944,\n",
       "        -0.83550835, -0.74234605, -0.7458986 , -0.5922046 , -0.8535487 ,\n",
       "        -1.0255033 , -1.0354588 ,  0.35653135, -0.9787557 , -0.99942833,\n",
       "        -0.77299756, -0.53189605, -0.59203565, -0.33414146, -0.9568651 ,\n",
       "        -0.5646779 , -0.75187844, -1.0480083 , -0.6918022 , -0.6971248 ,\n",
       "        -0.77046806, -1.0703388 , -0.9754308 , -0.42257497, -0.9897199 ,\n",
       "        -0.7560951 , -0.75867444, -0.28247172, -0.93997425, -0.5843143 ,\n",
       "        -0.6626432 , -0.74912983, -0.86097735, -0.6715876 , -0.6770028 ,\n",
       "        -0.89218265, -0.79881173, -0.41192973, -0.59154534, -0.26065254,\n",
       "        -0.8931376 , -0.61567426, -0.87069535, -0.9916513 , -0.71123135,\n",
       "        -0.4921528 , -0.70993316, -0.8117828 , -0.33142328, -0.39336818,\n",
       "        -0.8508605 , -0.48204544, -0.7497612 , -0.46079987, -0.51960146,\n",
       "        -0.92929244, -0.74291617, -0.82730293, -0.7379736 , -0.7438417 ,\n",
       "        -0.6304524 , -0.72744995, -0.85007536, -0.3512579 , -1.0211724 ,\n",
       "        -0.43688208, -0.6308645 , -0.6062578 , -0.6528515 , -0.6378453 ,\n",
       "        -0.9443096 , -0.9971505 , -0.796638  , -0.6713223 , -0.5184089 ,\n",
       "        -0.94528973, -0.35082376, -0.96980876, -0.5575063 , -0.6737092 ,\n",
       "        -0.91184974, -0.6038707 , -0.9159912 , -0.65361965, -0.8729367 ,\n",
       "        -1.0598643 , -0.85768664, -1.0366546 , -0.73627865, -0.3719077 ,\n",
       "        -0.34646297, -0.43880236, -0.908039  , -0.653311  , -0.25472358,\n",
       "        -0.89909196, -0.5886765 , -0.91153   , -0.6176268 , -0.7882113 ,\n",
       "        -0.81999606, -0.84992784, -1.001833  , -0.01858433, -0.5863945 ,\n",
       "        -0.27841642, -0.5945769 , -0.8551585 , -0.65736043, -0.7051062 ,\n",
       "        -0.93297654, -0.8371272 , -0.91195405, -1.000361  , -0.728948  ,\n",
       "        -0.53774315, -0.595103  , -1.1484402 , -1.0177116 , -0.37030175,\n",
       "        -0.63050276, -0.7695749 , -0.7157384 , -0.8673552 , -0.6994162 ,\n",
       "        -0.8843584 , -0.65736026, -0.90061456, -1.0373873 , -0.696217  ,\n",
       "        -0.9208063 , -0.7743207 , -0.4780876 , -0.8416628 , -0.92621976,\n",
       "        -0.5823429 , -0.76579005, -0.29873392, -0.7330647 , -0.74131984,\n",
       "        -0.78695595, -0.8346436 , -0.9612899 , -1.1711692 , -1.0320503 ,\n",
       "        -0.6593316 , -0.5513593 , -0.68055296, -0.58192664, -0.6796016 ,\n",
       "        -0.6706442 , -0.70287544, -0.8010943 , -1.0854157 , -0.49702495,\n",
       "        -0.6721347 , -0.4487459 , -0.8838427 , -0.9843363 , -0.804993  ,\n",
       "        -0.92997855, -0.6845463 , -0.9893227 , -1.1956239 , -0.8130097 ,\n",
       "        -0.4849313 , -0.4347491 , -0.57402503, -0.4652761 , -1.0957    ,\n",
       "        -1.0322578 , -0.5291855 , -0.35328877, -0.63943446, -0.37503016,\n",
       "        -0.9531655 , -0.58760864], dtype=float32)>,\n",
       " <tf.Variable 'dense_layer_4_1/kernel:0' shape=(512, 10) dtype=float32, numpy=\n",
       " array([[-0.66375923, -0.20214018, -0.15328205, ..., -0.11945322,\n",
       "         -0.21704675, -0.5998185 ],\n",
       "        [-0.87697846, -0.03075726, -0.08376382, ..., -0.04918905,\n",
       "         -0.4294732 , -0.2142615 ],\n",
       "        [-0.60211354, -0.16142409, -0.3027122 , ..., -0.28254467,\n",
       "         -0.39632118, -0.2879008 ],\n",
       "        ...,\n",
       "        [-0.37189138, -0.23510095, -0.1307017 , ..., -0.3008866 ,\n",
       "         -0.15480375, -0.3829885 ],\n",
       "        [-0.32665512, -0.2520203 , -0.371443  , ..., -0.20058699,\n",
       "         -0.4451676 , -0.32839733],\n",
       "        [-0.16473784, -0.31014487, -0.4785778 , ..., -0.10363201,\n",
       "         -0.11509958, -0.04660525]], dtype=float32)>,\n",
       " <tf.Variable 'dense_layer_4_1/bias:0' shape=(10,) dtype=float32, numpy=\n",
       " array([ 1.189597  , -0.7949364 , -0.92511517, -0.4785647 , -0.33940768,\n",
       "        -0.8825297 , -0.33439437, -0.95009017,  1.6654049 ,  0.93292344],\n",
       "       dtype=float32)>]"
      ]
     },
     "execution_count": 60,
     "metadata": {
      "tags": []
     },
     "output_type": "execute_result"
    }
   ],
   "source": [
    "model_6.weights"
   ]
  },
  {
   "cell_type": "code",
   "execution_count": null,
   "metadata": {
    "colab": {
     "base_uri": "https://localhost:8080/",
     "height": 1000
    },
    "id": "ZC-vDEb8VRga",
    "outputId": "02c75016-802a-4897-f8e8-02a6ba4d234e"
   },
   "outputs": [
    {
     "data": {
      "text/plain": [
       "{'build_input_shape': TensorShape([None, 784]),\n",
       " 'layers': [{'class_name': 'Dense',\n",
       "   'config': {'activation': 'relu',\n",
       "    'activity_regularizer': None,\n",
       "    'batch_input_shape': (None, 784),\n",
       "    'bias_constraint': None,\n",
       "    'bias_initializer': {'class_name': 'Zeros', 'config': {}},\n",
       "    'bias_regularizer': None,\n",
       "    'dtype': 'float32',\n",
       "    'kernel_constraint': None,\n",
       "    'kernel_initializer': {'class_name': 'GlorotUniform',\n",
       "     'config': {'seed': None}},\n",
       "    'kernel_regularizer': None,\n",
       "    'name': 'dense_layer',\n",
       "    'trainable': True,\n",
       "    'units': 512,\n",
       "    'use_bias': True}},\n",
       "  {'class_name': 'Dropout',\n",
       "   'config': {'dtype': 'float32',\n",
       "    'name': 'dropout_8',\n",
       "    'noise_shape': None,\n",
       "    'rate': 0.3,\n",
       "    'seed': None,\n",
       "    'trainable': True}},\n",
       "  {'class_name': 'Dense',\n",
       "   'config': {'activation': 'relu',\n",
       "    'activity_regularizer': None,\n",
       "    'bias_constraint': None,\n",
       "    'bias_initializer': {'class_name': 'Zeros', 'config': {}},\n",
       "    'bias_regularizer': None,\n",
       "    'dtype': 'float32',\n",
       "    'kernel_constraint': None,\n",
       "    'kernel_initializer': {'class_name': 'GlorotUniform',\n",
       "     'config': {'seed': None}},\n",
       "    'kernel_regularizer': None,\n",
       "    'name': 'dense_layer_2',\n",
       "    'trainable': True,\n",
       "    'units': 512,\n",
       "    'use_bias': True}},\n",
       "  {'class_name': 'Dropout',\n",
       "   'config': {'dtype': 'float32',\n",
       "    'name': 'dropout_9',\n",
       "    'noise_shape': None,\n",
       "    'rate': 0.3,\n",
       "    'seed': None,\n",
       "    'trainable': True}},\n",
       "  {'class_name': 'Dense',\n",
       "   'config': {'activation': 'relu',\n",
       "    'activity_regularizer': None,\n",
       "    'bias_constraint': None,\n",
       "    'bias_initializer': {'class_name': 'Zeros', 'config': {}},\n",
       "    'bias_regularizer': None,\n",
       "    'dtype': 'float32',\n",
       "    'kernel_constraint': None,\n",
       "    'kernel_initializer': {'class_name': 'GlorotUniform',\n",
       "     'config': {'seed': None}},\n",
       "    'kernel_regularizer': None,\n",
       "    'name': 'dense_layer_3',\n",
       "    'trainable': True,\n",
       "    'units': 512,\n",
       "    'use_bias': True}},\n",
       "  {'class_name': 'Dropout',\n",
       "   'config': {'dtype': 'float32',\n",
       "    'name': 'dropout_10',\n",
       "    'noise_shape': None,\n",
       "    'rate': 0.3,\n",
       "    'seed': None,\n",
       "    'trainable': True}},\n",
       "  {'class_name': 'Dense',\n",
       "   'config': {'activation': 'softmax',\n",
       "    'activity_regularizer': None,\n",
       "    'bias_constraint': None,\n",
       "    'bias_initializer': {'class_name': 'Zeros', 'config': {}},\n",
       "    'bias_regularizer': None,\n",
       "    'dtype': 'float32',\n",
       "    'kernel_constraint': None,\n",
       "    'kernel_initializer': {'class_name': 'GlorotUniform',\n",
       "     'config': {'seed': None}},\n",
       "    'kernel_regularizer': None,\n",
       "    'name': 'dense_layer_4',\n",
       "    'trainable': True,\n",
       "    'units': 10,\n",
       "    'use_bias': True}}],\n",
       " 'name': 'sequential_6'}"
      ]
     },
     "execution_count": 61,
     "metadata": {
      "tags": []
     },
     "output_type": "execute_result"
    }
   ],
   "source": [
    "model_6.get_config()"
   ]
  },
  {
   "cell_type": "code",
   "execution_count": null,
   "metadata": {
    "id": "0KJt8pcTVRgd"
   },
   "outputs": [],
   "source": []
  },
  {
   "cell_type": "markdown",
   "metadata": {
    "id": "QWkwhwgLceJZ"
   },
   "source": [
    "###Improved Model 7: Use rmsprop"
   ]
  },
  {
   "cell_type": "code",
   "execution_count": 48,
   "metadata": {
    "executionInfo": {
     "elapsed": 1328,
     "status": "ok",
     "timestamp": 1606820494396,
     "user": {
      "displayName": "saish datta",
      "photoUrl": "https://lh3.googleusercontent.com/a-/AOh14Gj1uI-O0cP8d2PT6_HqiThvJsj2xAVV7-g2-A2wFg=s64",
      "userId": "15870591529822835278"
     },
     "user_tz": -330
    },
    "id": "bS3QO4sYceJc"
   },
   "outputs": [],
   "source": [
    "import tensorflow as tf\n",
    "\n",
    "#In Keras, layers are assembled to build models \n",
    "from tensorflow.keras.layers import Dense\n",
    "from tensorflow.keras.layers import Dropout\n",
    "\n",
    "#Most common type of model is a stack of layers\n",
    "model_7 = tf.keras.Sequential()\n",
    "N_hidden = 512\n",
    "\n",
    "# Adds a densely-connected layer with 64 units to the model:\n",
    "model_7.add(Dense(N_hidden, name='dense_layer', input_shape=(784,), activation = 'relu'))\n",
    "# Now the model will take as input arrays of shape (*, 784)# and output arrays of shape (*, 64)\n",
    "model_7.add(Dropout(0.3))\n",
    "\n",
    "# Adding another dense layer:\n",
    "model_7.add(Dense(N_hidden, name='dense_layer_2', activation='relu'))\n",
    "model_7.add(Dropout(0.3))\n",
    "\n",
    "# Adding another dense layer:\n",
    "model_7.add(Dense(N_hidden, name='dense_layer_3', activation='relu'))\n",
    "model_7.add(Dropout(0.3))\n",
    "\n",
    "# Add an output layer with 10 output units (10 different classes):\n",
    "model_7.add(Dense(10, name='dense_layer_4', activation = 'softmax'))\n"
   ]
  },
  {
   "cell_type": "code",
   "execution_count": 49,
   "metadata": {
    "executionInfo": {
     "elapsed": 1285,
     "status": "ok",
     "timestamp": 1606820498192,
     "user": {
      "displayName": "saish datta",
      "photoUrl": "https://lh3.googleusercontent.com/a-/AOh14Gj1uI-O0cP8d2PT6_HqiThvJsj2xAVV7-g2-A2wFg=s64",
      "userId": "15870591529822835278"
     },
     "user_tz": -330
    },
    "id": "Uq7fP8c3ceJi"
   },
   "outputs": [],
   "source": [
    "# Compiling the model.\n",
    "model_7.compile(optimizer='rmsprop', \n",
    "              loss='categorical_crossentropy',\n",
    "              metrics=['accuracy'])"
   ]
  },
  {
   "cell_type": "code",
   "execution_count": 50,
   "metadata": {
    "colab": {
     "base_uri": "https://localhost:8080/"
    },
    "executionInfo": {
     "elapsed": 149962,
     "status": "ok",
     "timestamp": 1606820652615,
     "user": {
      "displayName": "saish datta",
      "photoUrl": "https://lh3.googleusercontent.com/a-/AOh14Gj1uI-O0cP8d2PT6_HqiThvJsj2xAVV7-g2-A2wFg=s64",
      "userId": "15870591529822835278"
     },
     "user_tz": -330
    },
    "id": "HBFX9MKSceJn",
    "outputId": "4ed51e8f-bd16-4e4e-a9ef-7f2ecf0e0c8f"
   },
   "outputs": [
    {
     "name": "stdout",
     "output_type": "stream",
     "text": [
      "Epoch 1/10\n",
      "750/750 [==============================] - 15s 20ms/step - loss: 0.6219 - accuracy: 0.7757 - val_loss: 0.4862 - val_accuracy: 0.8347\n",
      "Epoch 2/10\n",
      "750/750 [==============================] - 15s 20ms/step - loss: 0.4932 - accuracy: 0.8281 - val_loss: 0.4205 - val_accuracy: 0.8443\n",
      "Epoch 3/10\n",
      "750/750 [==============================] - 15s 20ms/step - loss: 0.4783 - accuracy: 0.8398 - val_loss: 0.4419 - val_accuracy: 0.8447\n",
      "Epoch 4/10\n",
      "750/750 [==============================] - 15s 20ms/step - loss: 0.4738 - accuracy: 0.8438 - val_loss: 0.4088 - val_accuracy: 0.8615\n",
      "Epoch 5/10\n",
      "750/750 [==============================] - 15s 20ms/step - loss: 0.4779 - accuracy: 0.8437 - val_loss: 0.4981 - val_accuracy: 0.8138\n",
      "Epoch 6/10\n",
      "750/750 [==============================] - 15s 20ms/step - loss: 0.4803 - accuracy: 0.8460 - val_loss: 0.4053 - val_accuracy: 0.8717\n",
      "Epoch 7/10\n",
      "750/750 [==============================] - 15s 20ms/step - loss: 0.4764 - accuracy: 0.8503 - val_loss: 0.4374 - val_accuracy: 0.8599\n",
      "Epoch 8/10\n",
      "750/750 [==============================] - 15s 19ms/step - loss: 0.4927 - accuracy: 0.8497 - val_loss: 0.4334 - val_accuracy: 0.8584\n",
      "Epoch 9/10\n",
      "750/750 [==============================] - 15s 19ms/step - loss: 0.4895 - accuracy: 0.8517 - val_loss: 0.4558 - val_accuracy: 0.8634\n",
      "Epoch 10/10\n",
      "750/750 [==============================] - 15s 19ms/step - loss: 0.4903 - accuracy: 0.8519 - val_loss: 0.4567 - val_accuracy: 0.8742\n"
     ]
    }
   ],
   "source": [
    "# Training the model. \n",
    "training = model_7.fit(X_train, Y_train, batch_size=64, epochs=10, validation_split=0.2) "
   ]
  },
  {
   "cell_type": "code",
   "execution_count": 51,
   "metadata": {
    "colab": {
     "base_uri": "https://localhost:8080/",
     "height": 590
    },
    "executionInfo": {
     "elapsed": 1270,
     "status": "ok",
     "timestamp": 1606820684111,
     "user": {
      "displayName": "saish datta",
      "photoUrl": "https://lh3.googleusercontent.com/a-/AOh14Gj1uI-O0cP8d2PT6_HqiThvJsj2xAVV7-g2-A2wFg=s64",
      "userId": "15870591529822835278"
     },
     "user_tz": -330
    },
    "id": "qCNeUiiJceJs",
    "outputId": "fee738a0-42a5-4fb5-a34c-d5e2825b4b6d"
   },
   "outputs": [
    {
     "name": "stdout",
     "output_type": "stream",
     "text": [
      "dict_keys(['loss', 'accuracy', 'val_loss', 'val_accuracy'])\n"
     ]
    },
    {
     "data": {
      "image/png": "[encoded data removed]",
      "text/plain": [
       "<Figure size 432x288 with 1 Axes>"
      ]
     },
     "metadata": {
      "needs_background": "light",
      "tags": []
     },
     "output_type": "display_data"
    },
    {
     "data": {
      "image/png": "[encoded data removed]",
      "text/plain": [
       "<Figure size 432x288 with 1 Axes>"
      ]
     },
     "metadata": {
      "needs_background": "light",
      "tags": []
     },
     "output_type": "display_data"
    }
   ],
   "source": [
    "import matplotlib.pyplot as plt\n",
    "%matplotlib inline\n",
    "# list all data in training\n",
    "print(training.history.keys())\n",
    "# summarize training for accuracy\n",
    "plt.plot(training.history['accuracy'])\n",
    "plt.plot(training.history['val_accuracy'])\n",
    "plt.title('model accuracy')\n",
    "plt.ylabel('accuracy')\n",
    "plt.xlabel('epoch')\n",
    "plt.legend(['train', 'test'], loc='upper left')\n",
    "plt.show()\n",
    "# summarize traning for loss\n",
    "plt.plot(training.history['loss'])\n",
    "plt.plot(training.history['val_loss'])\n",
    "plt.title('model loss')\n",
    "plt.ylabel('loss')\n",
    "plt.xlabel('epoch')\n",
    "plt.legend(['train', 'test'], loc='upper left')\n",
    "plt.show()"
   ]
  },
  {
   "cell_type": "code",
   "execution_count": 52,
   "metadata": {
    "colab": {
     "base_uri": "https://localhost:8080/"
    },
    "executionInfo": {
     "elapsed": 2782,
     "status": "ok",
     "timestamp": 1606820695054,
     "user": {
      "displayName": "saish datta",
      "photoUrl": "https://lh3.googleusercontent.com/a-/AOh14Gj1uI-O0cP8d2PT6_HqiThvJsj2xAVV7-g2-A2wFg=s64",
      "userId": "15870591529822835278"
     },
     "user_tz": -330
    },
    "id": "rvAZJLh9ceJw",
    "outputId": "f3403212-99f3-44a0-c7c2-cc83ad5bd589"
   },
   "outputs": [
    {
     "name": "stdout",
     "output_type": "stream",
     "text": [
      "313/313 [==============================] - 1s 4ms/step - loss: 0.4740 - accuracy: 0.8608\n",
      "Test accuracy: 0.86080002784729\n"
     ]
    }
   ],
   "source": [
    "#evaluate the model\n",
    "test_loss, test_acc = model_7.evaluate(X_test, Y_test)\n",
    "print('Test accuracy:', test_acc)"
   ]
  },
  {
   "cell_type": "code",
   "execution_count": null,
   "metadata": {
    "colab": {
     "base_uri": "https://localhost:8080/",
     "height": 34
    },
    "id": "2T7oOyVNceJ0",
    "outputId": "a25ac2f8-6526-454e-b17a-2a967778ba37"
   },
   "outputs": [
    {
     "data": {
      "text/plain": [
       "<bound method Network.summary of <tensorflow.python.keras.engine.sequential.Sequential object at 0x7ffa9a1c0b00>>"
      ]
     },
     "execution_count": 59,
     "metadata": {
      "tags": []
     },
     "output_type": "execute_result"
    }
   ],
   "source": [
    "model_7.summary"
   ]
  },
  {
   "cell_type": "code",
   "execution_count": null,
   "metadata": {
    "colab": {
     "base_uri": "https://localhost:8080/",
     "height": 1000
    },
    "id": "XespZk4IceJ4",
    "outputId": "494cb512-ba9b-4e95-eead-c3af6affe6d7"
   },
   "outputs": [
    {
     "data": {
      "text/plain": [
       "[<tf.Variable 'dense_layer_8/kernel:0' shape=(784, 512) dtype=float32, numpy=\n",
       " array([[-0.02043436, -0.03052251, -0.04867187, ..., -0.00341104,\n",
       "          0.0646666 ,  0.06193061],\n",
       "        [ 0.00580537, -0.03989251,  0.02505963, ...,  0.00726219,\n",
       "         -0.03476311, -0.04609244],\n",
       "        [ 0.02528511, -0.0624702 ,  0.02157883, ...,  0.02244397,\n",
       "         -0.00719848,  0.04892342],\n",
       "        ...,\n",
       "        [ 0.03892381,  0.06000207,  0.02830688, ..., -0.03362466,\n",
       "         -0.06500859, -0.02711738],\n",
       "        [-0.062404  ,  0.04495282,  0.00313219, ...,  0.05914421,\n",
       "         -0.0092866 , -0.01132109],\n",
       "        [-0.04838803, -0.00661732,  0.05316094, ...,  0.05458824,\n",
       "         -0.0405038 ,  0.02893919]], dtype=float32)>,\n",
       " <tf.Variable 'dense_layer_8/bias:0' shape=(512,) dtype=float32, numpy=\n",
       " array([-0.2696233 , -0.21055523, -0.33684137, -0.42744735,  0.18318221,\n",
       "        -0.27374473, -0.4295545 , -0.4989392 , -0.40381438, -0.0173907 ,\n",
       "        -0.02753447, -0.14542247, -0.69777596, -0.59039474, -0.27526793,\n",
       "        -0.4565259 , -0.19103886, -0.03038125, -0.14431506, -0.44546953,\n",
       "        -0.4384869 , -0.22670168, -0.12920149, -0.3529104 ,  0.01874708,\n",
       "         0.03865247, -0.09942317, -0.37635398,  0.05034769, -0.5097547 ,\n",
       "         0.08612788, -0.19895247, -0.09185734,  0.18310507, -0.32752576,\n",
       "        -0.02264479,  0.01025114, -0.15946889, -0.38689563, -0.34469634,\n",
       "        -0.36817837,  0.12921374, -0.11992764, -0.01881557, -0.3884351 ,\n",
       "        -0.00718244, -0.31887013, -0.52107877,  0.12082034, -0.19646251,\n",
       "        -0.22191986, -0.1437224 , -0.29777363, -0.53086865, -0.12631057,\n",
       "         0.13094419, -0.13917129,  0.00583606, -0.16718774,  0.03018015,\n",
       "        -0.58638734, -0.02188976, -0.4473377 , -0.04404052, -0.16019145,\n",
       "        -0.14673918,  0.01173183,  0.09187844, -0.01668436,  0.12805556,\n",
       "        -0.16952692, -0.607649  , -0.40257218, -0.03683537, -0.7947761 ,\n",
       "        -0.28343934, -0.57222146, -0.2707892 , -0.18641129, -0.07556085,\n",
       "        -0.08062723, -0.3644887 , -0.54991335, -0.2002851 , -0.5600216 ,\n",
       "        -0.40424347, -0.21844392, -0.16454019,  0.02891395,  0.12312049,\n",
       "        -0.30026382, -0.3627983 , -0.17188379,  0.01734723, -0.29349625,\n",
       "        -0.26071537, -0.38225314, -0.03323523, -0.17537077, -0.441885  ,\n",
       "        -0.09777397, -0.18430358,  0.09732835, -0.03439459,  0.15488645,\n",
       "        -0.28570494,  0.00417195, -0.54466563, -0.47075158, -0.69965667,\n",
       "        -0.22724637, -0.47913924, -0.01870635, -0.22890826, -0.06281532,\n",
       "        -0.71873   , -0.13300101, -0.13784057, -0.48036802, -0.24672139,\n",
       "         0.05949189, -0.13928486, -0.3953031 , -0.31828818, -0.0839654 ,\n",
       "        -0.23584065, -0.21653795, -0.20123477, -0.3937147 , -0.16197862,\n",
       "        -0.92149967, -0.03392668, -0.22747813, -0.4104444 , -0.29569617,\n",
       "        -0.35044834, -0.34732348, -0.14372009, -0.29292223, -0.21738692,\n",
       "        -0.52905613, -0.3450462 ,  0.16480425, -0.03414582, -0.10628978,\n",
       "        -0.27911526, -0.2083701 , -0.06697109, -0.17012432, -0.50735015,\n",
       "        -0.06452555, -0.49289736, -0.42184952,  0.00881977, -0.26190704,\n",
       "        -0.1537478 , -0.37149155, -0.13380708, -0.45335138, -0.30430567,\n",
       "        -0.26924622, -0.36665708, -0.6085542 , -0.10758677, -0.03512141,\n",
       "         0.01186022,  0.00505938, -0.10092407, -0.09170897,  0.05898591,\n",
       "         0.067136  ,  0.00938657, -0.00600094, -0.18202594, -0.25668278,\n",
       "         0.2309898 , -0.26955432, -0.17514804, -0.38176596, -0.3553004 ,\n",
       "        -0.23361991, -0.2979614 , -0.25536564, -0.33286262, -0.15431745,\n",
       "        -0.24253343, -0.09628185, -0.29247952, -0.01097796, -0.31394276,\n",
       "        -0.6662563 ,  0.16397506,  0.32289138, -0.27665627, -0.3913615 ,\n",
       "         0.25286132, -0.1246611 , -0.03693834, -0.31339404, -0.32478696,\n",
       "        -0.17795783, -0.6421901 , -0.25299466, -0.02144221, -0.16489227,\n",
       "         0.13300562, -0.15642543, -0.1099498 , -0.03995977, -0.5069289 ,\n",
       "        -0.18727073, -0.23603149, -0.28105575, -0.27661386, -0.337104  ,\n",
       "        -0.07837322, -0.17777477, -0.32150966,  0.03210541, -0.40579638,\n",
       "        -0.4404787 , -0.19481236, -0.21178351, -0.5810828 , -0.43712327,\n",
       "        -0.73686093, -0.47085842, -0.28466633,  0.03144144, -0.56787217,\n",
       "        -0.14624263, -0.20184365, -0.23991668, -0.18999131, -0.36354816,\n",
       "        -0.2857371 ,  0.07118796, -0.16984595, -0.25582024, -0.19779249,\n",
       "        -0.19449149, -0.17772178, -0.0158757 , -0.61694527, -0.44698957,\n",
       "         0.05527673, -0.05759416, -0.11423653, -0.51053125, -0.37863708,\n",
       "        -0.17570409,  0.08945898,  0.02739712, -0.36063945, -0.4308034 ,\n",
       "        -0.17203261, -0.16994484, -0.20994629, -0.18219425, -0.19212613,\n",
       "        -0.03048081,  0.02987648, -0.53590727,  0.02363749, -0.25157776,\n",
       "        -0.291716  , -0.11998188, -0.08307215, -0.26601776, -0.47802582,\n",
       "        -0.23956335, -0.05240866, -0.45372567, -0.1917211 , -0.04963914,\n",
       "        -0.25976416, -0.4559752 , -0.422362  , -0.30344194, -0.25408193,\n",
       "        -0.37525412, -0.4620375 ,  0.02101701, -0.40512285, -0.36818326,\n",
       "        -0.09237959, -0.1341872 , -0.5137707 , -0.6031753 , -0.12332745,\n",
       "         0.08364153, -0.06272127, -0.49000153, -0.28939503, -0.3084176 ,\n",
       "        -0.69817895, -0.02564907, -0.42432424, -0.26996675,  0.05392009,\n",
       "         0.14806002,  0.04884285, -0.23323989, -0.14799803, -0.05732735,\n",
       "        -0.19667597,  0.20462413, -0.03246721, -0.12511227, -0.07271943,\n",
       "        -0.39755863, -0.06195214, -0.26317418, -0.19539754, -0.49757048,\n",
       "        -0.01245722, -0.3604564 , -0.09649093, -0.20428418, -0.33626205,\n",
       "         0.23393664, -0.1268835 ,  0.08728244,  0.12389429, -0.23385076,\n",
       "        -0.22964492, -0.02930309, -0.17697999, -0.11112972, -0.2553529 ,\n",
       "        -0.34331092,  0.02823567,  0.17985946, -0.26964682,  0.11702529,\n",
       "        -0.4939382 , -0.13730083,  0.06791068,  0.27215633, -0.34416676,\n",
       "         0.00473885, -0.04341743,  0.10614222, -0.06123485, -0.0990551 ,\n",
       "         0.19862166,  0.09108048, -0.20261574, -0.06709547, -0.18506475,\n",
       "        -0.03284829, -0.4014016 , -0.19971503,  0.08533444, -0.45590803,\n",
       "        -0.18259707, -0.22731334, -0.3533481 , -0.15132391, -0.04689423,\n",
       "        -0.41710454, -0.2276736 ,  0.01853679, -0.16237736, -0.5176968 ,\n",
       "        -0.3898137 , -0.5058089 ,  0.03047854, -0.1807336 , -0.05003184,\n",
       "         0.0065933 , -0.25060648, -0.2503102 ,  0.12828723, -0.60870755,\n",
       "        -0.25974667, -0.29079655, -0.32036665, -0.6914658 , -0.6382996 ,\n",
       "         0.10248274,  0.15497299, -0.22279367, -0.44842225, -0.20044848,\n",
       "        -0.26829386, -0.46701038, -0.02301912, -0.22469227, -0.4052091 ,\n",
       "        -0.45218182, -0.32259455, -0.19550417, -0.21909153, -0.27853864,\n",
       "        -0.4405603 , -0.09006552, -0.17720135,  0.02760173, -0.21334021,\n",
       "         0.11099483, -0.04707084, -0.5503532 ,  0.23122033, -0.17021382,\n",
       "         0.15474261, -0.02252994,  0.12281571, -0.11179549, -0.05886948,\n",
       "        -0.14441329, -0.01090423, -0.42050385, -0.02933597, -0.09983373,\n",
       "        -0.3681018 , -0.20683399, -0.5355109 , -0.0464318 , -0.19561288,\n",
       "         0.08495087, -0.11086687, -0.07394721,  0.02250678, -0.20211917,\n",
       "        -0.31972215, -0.15853697, -0.21581222,  0.16825831, -0.21617159,\n",
       "        -0.48592985, -0.23364028, -0.13722137, -0.04469431, -0.1355897 ,\n",
       "        -0.10819568, -0.2219548 , -0.10088089, -0.13666353,  0.1145459 ,\n",
       "        -0.2602746 , -0.24390417, -0.14585629, -0.16982166, -0.03354973,\n",
       "        -0.1882672 , -0.47209433, -0.23154792, -0.2852839 ,  0.00447701,\n",
       "        -0.2466137 ,  0.01513781, -0.35772336, -0.47153482, -0.16192749,\n",
       "        -0.18880709,  0.02534606, -0.21622372, -0.16643879,  0.13549176,\n",
       "        -0.36174542,  0.00318471, -0.00846594, -0.34606802, -0.17864048,\n",
       "        -0.50079393,  0.15257677, -0.13326643, -0.03427297, -0.13887885,\n",
       "        -0.10833173, -0.42906177,  0.07073282, -0.8272588 , -0.34088227,\n",
       "        -0.19610593, -0.12080865,  0.04765316, -0.10128038, -0.34742182,\n",
       "        -0.14102283, -0.19830221, -0.5170853 , -0.26167715,  0.08200791,\n",
       "        -0.0350775 , -0.8242871 , -0.1458042 , -0.57211834, -0.3030035 ,\n",
       "        -0.07657946, -0.01900173,  0.02733069, -0.17630917, -0.5489323 ,\n",
       "        -0.4436115 , -0.24990772, -0.4653536 , -0.12367339, -0.02347991,\n",
       "        -0.5163176 , -0.31180143, -0.02765441, -0.20840229, -0.02387062,\n",
       "        -0.39871982, -0.04175514, -0.4467921 , -0.10026515, -0.59768313,\n",
       "        -0.46691343, -0.28173923], dtype=float32)>,\n",
       " <tf.Variable 'dense_layer_2_5/kernel:0' shape=(512, 512) dtype=float32, numpy=\n",
       " array([[-0.44035417, -0.08319122, -0.07522572, ...,  0.07430229,\n",
       "         -0.02726143,  0.12732434],\n",
       "        [-0.01406842,  0.12247626, -0.43497545, ...,  0.00618181,\n",
       "          0.06629271,  0.47217116],\n",
       "        [ 0.4767634 ,  0.44265702,  0.11117949, ..., -0.20954657,\n",
       "          0.1171995 ,  0.00962094],\n",
       "        ...,\n",
       "        [ 0.19733089,  0.07500589,  0.21224241, ..., -0.38945597,\n",
       "          0.04087703,  0.03677493],\n",
       "        [-0.19920942,  0.29997236, -0.4244362 , ...,  0.35777205,\n",
       "          0.03635927, -0.00325797],\n",
       "        [-0.00409521,  0.20231165, -0.22174703, ..., -0.5272831 ,\n",
       "         -0.13503195, -0.3593861 ]], dtype=float32)>,\n",
       " <tf.Variable 'dense_layer_2_5/bias:0' shape=(512,) dtype=float32, numpy=\n",
       " array([-5.13993859e-01, -6.00391090e-01, -1.02565205e+00,  1.96603984e-02,\n",
       "        -9.64286447e-01, -3.02042425e-01, -2.79223353e-01, -7.91683316e-01,\n",
       "        -1.25697148e+00, -6.34749413e-01, -6.42875314e-01, -8.38303924e-01,\n",
       "         3.75048369e-01,  1.22826135e+00,  4.10792455e-02, -3.48823369e-01,\n",
       "        -8.37945402e-01, -5.57077825e-01, -1.92337680e+00, -6.88903630e-01,\n",
       "        -1.42878699e+00, -1.74578571e+00, -6.96560562e-01, -6.23477757e-01,\n",
       "        -9.93947685e-01, -1.40119100e+00,  7.48132765e-02,  5.23510695e-01,\n",
       "        -1.05909204e+00, -1.05678938e-01, -8.51926327e-01, -1.13171136e+00,\n",
       "        -8.36204886e-01,  3.30297112e-01, -1.12232172e+00, -4.22348201e-01,\n",
       "         3.22610825e-01, -8.03642333e-01, -1.11286557e+00,  1.96023822e-01,\n",
       "        -4.54311579e-01, -2.12987915e-01, -3.06256473e-01, -8.04532349e-01,\n",
       "        -5.48995323e-02, -1.13650477e+00, -1.86033383e-01, -9.95462835e-01,\n",
       "        -4.03522074e-01, -1.08907378e+00, -8.13603401e-01, -9.99267757e-01,\n",
       "         5.36068916e-01, -6.78450227e-01, -7.46327698e-01, -1.99973002e-01,\n",
       "         7.15477407e-01, -1.36275184e+00, -8.76522958e-01, -1.02583504e+00,\n",
       "        -9.96108770e-01, -4.05463755e-01, -8.10392559e-01,  1.37380624e+00,\n",
       "        -2.95545578e-01, -9.79546234e-02, -6.87758207e-01,  1.37252361e-01,\n",
       "        -1.00489795e+00, -7.31188238e-01, -1.23231530e+00, -7.89228559e-01,\n",
       "        -7.27989614e-01, -1.33074176e+00,  1.49906680e-01, -1.05883646e+00,\n",
       "        -5.39433658e-01, -1.45379090e+00, -1.29124737e+00, -4.15208399e-01,\n",
       "        -8.63828897e-01, -9.65946019e-02, -8.06198716e-01,  7.72223234e-01,\n",
       "        -5.28183877e-01, -8.11358690e-01, -1.29313731e+00, -2.81887174e-01,\n",
       "        -2.34232470e-01,  2.72289991e-01, -4.95405912e-01, -1.16225076e+00,\n",
       "        -5.89152217e-01, -1.40832210e+00, -6.53198481e-01, -1.64954972e+00,\n",
       "        -1.73463035e+00, -6.83469832e-01, -1.08742547e+00, -4.15921718e-01,\n",
       "        -5.64897597e-01, -5.75317085e-01, -3.57972383e-01, -7.70333111e-02,\n",
       "         5.02940774e-01, -3.48621428e-01, -1.67420805e+00,  4.32348907e-01,\n",
       "        -1.09945118e+00, -1.02830088e+00,  1.01219761e+00, -1.87412828e-01,\n",
       "        -7.77675569e-01, -5.06599367e-01, -4.45302278e-02, -1.74747241e+00,\n",
       "        -7.70861804e-01, -1.05901241e+00, -6.58254802e-01, -4.50766087e-01,\n",
       "        -2.78983831e-01, -7.41755545e-01, -1.05651760e+00, -1.38073552e+00,\n",
       "        -1.38550818e+00, -1.53669310e+00, -1.61619540e-02,  8.02636564e-01,\n",
       "         6.76285267e-01, -7.58338749e-01, -1.20348024e+00, -1.11127841e+00,\n",
       "        -1.28241324e+00, -5.53993940e-01,  4.75458503e-01, -5.81060231e-01,\n",
       "         1.11498185e-01,  2.34780073e-01, -1.54807985e-01, -1.31210756e+00,\n",
       "        -1.01029563e+00, -7.78311253e-01, -1.35789561e+00, -9.19717014e-01,\n",
       "        -1.25609207e+00, -1.13194034e-01,  4.00508881e-01, -7.22618163e-01,\n",
       "        -1.05772948e+00,  8.85079741e-01,  2.38701358e-01, -1.20700800e+00,\n",
       "        -9.45724249e-01, -2.56541193e-01, -1.04020667e+00, -4.46437269e-01,\n",
       "        -1.27823102e+00,  4.19540219e-02, -1.09785640e+00, -6.76395416e-01,\n",
       "        -1.42547119e+00, -7.81508744e-01,  2.02204455e-02, -4.60170597e-01,\n",
       "        -1.12832502e-01, -3.05958148e-02, -8.34242404e-01, -6.01991117e-01,\n",
       "        -1.35451603e+00,  5.91995418e-01, -1.92008555e-01, -1.08873390e-01,\n",
       "        -1.77869666e+00, -6.13185048e-01, -7.10151672e-01, -1.09448314e+00,\n",
       "        -6.54223919e-01, -6.84696555e-01,  4.48063940e-01,  4.58558649e-01,\n",
       "        -5.46245396e-01, -1.15159893e+00, -1.02293718e+00, -1.77409399e+00,\n",
       "         7.78888345e-01,  7.69424319e-01,  9.80672419e-01, -8.34414840e-01,\n",
       "        -1.65368617e+00,  1.82723805e-01, -3.48805815e-01,  1.24507211e-01,\n",
       "         2.37278119e-01, -5.60807735e-02, -5.00301957e-01, -2.18070909e-01,\n",
       "        -1.61055732e+00, -2.26019114e-01,  7.75548041e-01, -6.70987248e-01,\n",
       "         1.98382604e+00, -1.04046023e+00, -5.54885507e-01, -2.90101588e-01,\n",
       "        -1.12315583e+00, -1.18832004e+00, -1.22823548e+00, -1.74251258e-01,\n",
       "        -9.14054513e-01, -2.63018757e-01, -7.74992168e-01, -1.27801156e+00,\n",
       "        -9.33559060e-01,  2.05987796e-01, -1.59480453e-01, -1.09042811e+00,\n",
       "        -1.09509528e+00, -6.64956212e-01,  1.22047389e+00, -2.79797286e-01,\n",
       "        -3.29573601e-01, -1.16599846e+00, -3.21700424e-01, -1.57216862e-01,\n",
       "         5.63583374e-01, -1.25729418e+00,  1.17708288e-01, -5.57234645e-01,\n",
       "        -4.79370236e-01, -5.70572734e-01, -4.61992890e-01, -1.08069491e+00,\n",
       "        -6.53409421e-01, -7.16538906e-01, -2.41746426e-01, -5.07942021e-01,\n",
       "        -4.68171716e-01, -2.47752979e-01, -9.04691517e-01, -6.67369962e-01,\n",
       "        -1.34503663e+00,  1.85226537e-02, -3.79310936e-01, -1.39572001e+00,\n",
       "         4.64081764e-01, -9.38338637e-01, -1.11537993e+00, -1.31472063e+00,\n",
       "        -7.87087977e-01, -1.05997586e+00,  9.56119969e-03, -9.43344533e-01,\n",
       "        -9.82930541e-01, -8.45232189e-01, -1.16556644e+00, -2.73454964e-01,\n",
       "        -9.34464395e-01, -1.48634553e+00, -6.12162650e-01, -4.49973404e-01,\n",
       "        -1.10974312e+00, -4.35393810e-01,  2.73395449e-01, -1.15229201e+00,\n",
       "        -1.38232112e-01, -1.01961672e+00, -5.12036324e-01, -1.65319180e+00,\n",
       "         1.95128575e-01, -7.52609253e-01, -9.01265621e-01, -4.79678452e-01,\n",
       "        -3.37921605e-02, -4.91553545e-01, -5.19144177e-01,  1.30168962e+00,\n",
       "         1.46624491e-01, -3.12240571e-01, -1.01353788e+00,  7.93070719e-02,\n",
       "        -8.85418057e-01, -1.12976515e+00,  4.87937182e-02, -1.06495357e+00,\n",
       "        -1.15780950e+00, -3.01599354e-01, -1.44103014e+00, -1.28499758e+00,\n",
       "        -3.30908209e-01, -1.28941488e+00, -1.18278933e+00, -5.54402173e-01,\n",
       "        -2.85615593e-01, -4.49711978e-02, -9.42202330e-01, -2.66867995e-01,\n",
       "        -7.69118011e-01,  7.64079571e-01, -1.17536232e-01, -8.64830196e-01,\n",
       "        -1.19897142e-01,  7.06472516e-01, -1.38264489e+00, -1.40981483e+00,\n",
       "        -1.15140748e+00, -6.27923369e-01, -1.20787334e+00, -1.40465343e+00,\n",
       "         3.05553563e-02, -5.49145460e-01, -4.04190302e-01,  1.19988441e-01,\n",
       "         1.10349052e-01, -3.18197012e-01, -1.16373801e+00, -8.13742816e-01,\n",
       "        -3.84455979e-01,  1.29048789e+00,  1.63350940e-01,  4.87377234e-02,\n",
       "         1.03423977e+00, -1.28455147e-01, -7.60217071e-01, -8.02872598e-01,\n",
       "        -2.04705209e-01, -1.05168617e+00, -2.26982296e-01, -1.33699095e+00,\n",
       "        -6.94345534e-01, -9.97800231e-01,  9.47174788e-01,  1.55735433e+00,\n",
       "        -1.68504179e+00, -6.99089170e-01,  3.24006855e-01,  4.19574261e-01,\n",
       "        -2.51091629e-01, -8.90560508e-01,  1.01554610e-01, -1.73334777e+00,\n",
       "         5.45299172e-01, -7.27448225e-01, -6.43097103e-01, -6.85685575e-01,\n",
       "        -1.06288576e+00, -1.18928814e+00, -1.22173868e-01, -4.76252109e-01,\n",
       "         1.59050155e+00, -8.25810254e-01,  1.83092833e-01, -4.69368696e-01,\n",
       "        -7.31222332e-01,  2.34381258e-01, -6.28112793e-01, -8.21995676e-01,\n",
       "         1.31180930e+00,  1.58326164e-01, -6.27635598e-01, -5.77869058e-01,\n",
       "         5.17966270e-01, -6.39632881e-01, -1.97725087e-01, -6.88482940e-01,\n",
       "        -4.93213832e-01,  2.35682219e-01, -2.33186573e-01,  1.16268411e-01,\n",
       "        -4.31978464e-01, -1.03097367e+00,  3.57852578e-01, -9.90536809e-01,\n",
       "        -3.81958514e-01, -3.36107910e-01, -3.96031022e-01,  2.74617344e-01,\n",
       "        -5.73949933e-01, -3.98032337e-01,  4.74945784e-01,  7.25420415e-01,\n",
       "        -7.19808042e-01, -1.19499588e+00, -7.47749865e-01,  9.54723656e-01,\n",
       "        -7.12248385e-02,  1.89240709e-01, -6.12605393e-01, -6.64402962e-01,\n",
       "        -4.51597214e-01, -3.88169229e-01, -1.39560950e+00, -1.21942353e+00,\n",
       "        -5.59358299e-01, -1.46660352e+00, -6.25434041e-01, -4.28992689e-01,\n",
       "         3.48823607e-01, -1.67483222e+00, -5.01311004e-01, -6.81041479e-01,\n",
       "        -5.03798246e-01, -4.97232139e-01, -6.03999376e-01, -7.78506219e-01,\n",
       "        -7.03479171e-01, -3.80188107e-01, -1.02675462e+00, -9.96801496e-01,\n",
       "        -5.53062141e-01, -1.52935497e-02, -4.29160714e-01, -9.34096158e-01,\n",
       "        -6.02862332e-04, -4.71756995e-01,  2.69963086e-01, -1.41654205e+00,\n",
       "        -2.24975586e-01, -1.02273989e+00,  1.20645128e-02, -1.55409193e+00,\n",
       "        -1.76030123e+00, -1.11711633e+00, -6.51259780e-01, -2.23467618e-01,\n",
       "        -8.10638845e-01, -9.60752904e-01, -1.36539257e+00, -9.10105228e-01,\n",
       "        -1.48305082e+00, -1.68019056e-01, -5.60022712e-01, -4.33587888e-03,\n",
       "        -4.15617436e-01, -2.00661325e+00, -1.53646934e+00, -1.05210733e+00,\n",
       "        -6.56461716e-01, -1.27272201e+00, -7.24964976e-01, -1.15101790e+00,\n",
       "        -1.66066498e-01, -4.08188343e-01, -3.60998690e-01, -1.04052734e+00,\n",
       "        -5.98054051e-01,  3.84903282e-01, -7.63664663e-01, -8.65060031e-01,\n",
       "        -7.69958317e-01, -7.77396977e-01, -6.18239880e-01, -1.17311716e+00,\n",
       "        -9.23062682e-01, -8.87576699e-01, -2.41828725e-01,  3.45028818e-01,\n",
       "         5.76221168e-01, -6.81725323e-01, -9.19991791e-01, -1.09187603e+00,\n",
       "        -4.42823976e-01, -7.30655491e-02, -2.20693082e-01, -5.12944698e-01,\n",
       "        -9.33151543e-01, -2.99604893e-01, -9.13692236e-01, -1.00229609e+00,\n",
       "        -5.91773510e-01, -2.98719168e-01, -6.92933798e-01, -9.50371444e-01,\n",
       "        -5.73854625e-01,  6.10569596e-01, -6.84277594e-01,  1.38407037e-01,\n",
       "        -1.00095713e+00, -2.75662571e-01,  6.52880430e-01, -9.36283290e-01,\n",
       "        -1.66488600e+00, -8.92647684e-01, -9.92556512e-02,  1.11648214e+00,\n",
       "        -1.01740646e+00, -1.19313347e+00, -1.92739964e-01, -5.85202992e-01,\n",
       "        -4.96495217e-01, -1.08517420e+00, -9.39378321e-01, -8.05199504e-01,\n",
       "        -9.13305223e-01, -1.77148864e-01,  4.10916299e-01, -7.05146611e-01,\n",
       "         1.77325368e+00,  7.84417272e-01, -1.85980582e+00, -1.42040646e+00,\n",
       "         7.58153796e-01, -9.91205871e-01, -1.08365393e+00,  5.04517376e-01,\n",
       "        -8.74965370e-01,  3.77183259e-01, -5.83088815e-01, -1.23768067e+00,\n",
       "         6.33844495e-01, -4.58534807e-01, -9.40453053e-01, -1.36342514e+00],\n",
       "       dtype=float32)>,\n",
       " <tf.Variable 'dense_layer_3_5/kernel:0' shape=(512, 512) dtype=float32, numpy=\n",
       " array([[ 0.18611118, -0.19383721, -0.50466704, ...,  0.15832447,\n",
       "         -0.22649865, -0.18223947],\n",
       "        [-0.3003918 ,  0.06276278, -0.01877323, ..., -0.03724123,\n",
       "         -0.22941291, -0.24485902],\n",
       "        [-0.12177542,  0.09897343,  0.04078612, ..., -0.17337352,\n",
       "         -0.1430232 , -0.06145266],\n",
       "        ...,\n",
       "        [-0.14638147, -0.16636848, -0.23927179, ..., -0.0186762 ,\n",
       "         -0.1765334 ,  0.14642686],\n",
       "        [ 0.05269847,  0.20927593,  0.05150254, ...,  0.11848488,\n",
       "          0.07681153, -0.0859415 ],\n",
       "        [-0.20123975,  0.14314917, -0.32045376, ..., -0.02859597,\n",
       "          0.20120038, -0.17695075]], dtype=float32)>,\n",
       " <tf.Variable 'dense_layer_3_5/bias:0' shape=(512,) dtype=float32, numpy=\n",
       " array([-1.0062634 , -0.6798678 , -0.72317207, -0.7866308 , -0.87084115,\n",
       "        -0.8408435 , -1.0654339 , -0.948204  , -0.84516823, -0.5893209 ,\n",
       "        -0.6942598 , -0.6271085 , -0.97328496, -0.9154043 , -0.7976199 ,\n",
       "        -0.77897245, -0.6938282 , -1.1434863 , -0.8073318 , -0.48979288,\n",
       "        -0.92079127, -0.8113516 , -0.45187646, -0.8155408 , -0.5984913 ,\n",
       "        -0.7168748 , -0.905786  , -0.66941166, -0.4613903 , -0.72540545,\n",
       "        -0.6220611 , -0.8541153 , -0.7365284 , -0.6223517 , -0.5412959 ,\n",
       "        -0.7411032 , -0.7689171 , -0.7968402 , -0.75489575, -0.71123785,\n",
       "        -0.71877116, -0.31203088, -1.0126634 , -0.6827104 , -1.1628327 ,\n",
       "        -0.47750184, -1.0873864 , -0.7576321 , -0.9778263 , -0.7593377 ,\n",
       "        -0.9057787 , -0.84406066, -0.96321076, -0.8104089 , -1.0336996 ,\n",
       "        -0.2296144 , -0.6729928 , -0.5156294 , -0.57416487, -0.73320013,\n",
       "        -0.82658553, -1.0187305 , -0.7649182 , -0.7520017 , -1.0833211 ,\n",
       "        -0.20817956, -0.9731998 , -0.79823947, -0.85748786,  0.048072  ,\n",
       "        -0.15858278, -0.4367053 , -0.85373944, -1.0870684 , -0.31460348,\n",
       "        -1.0415232 , -0.48766443, -0.69375753, -0.22836734, -0.68779635,\n",
       "        -0.58665144, -0.7297727 , -0.79413277, -0.7861993 , -0.95585364,\n",
       "        -0.60391015, -0.9465874 , -0.60670006, -0.4399705 , -0.5377412 ,\n",
       "        -1.0288782 , -0.5810415 , -0.79219985, -0.58170253, -0.54736334,\n",
       "        -0.8764467 , -0.9655326 , -0.70532495, -0.588143  , -0.85187316,\n",
       "        -0.66847026, -0.6121687 , -0.8665182 , -0.36163744, -0.7178133 ,\n",
       "        -0.49264994, -1.1255641 , -0.22981928, -0.95019794, -0.91873693,\n",
       "        -0.6240258 , -0.86049986, -0.86565924, -0.8531966 , -0.18484254,\n",
       "        -0.7021266 , -0.51949173, -0.70348865, -1.1067518 , -1.2936584 ,\n",
       "         0.07854186, -0.839392  , -0.7121911 , -0.7004871 , -0.15000954,\n",
       "        -0.18104567, -0.95428777, -0.8971758 , -0.9562184 , -0.591648  ,\n",
       "        -0.48650676, -0.65950805, -1.0524215 , -0.45353857, -0.938585  ,\n",
       "        -0.66908365, -1.1357177 , -0.9644425 , -1.4211128 , -0.91758627,\n",
       "        -1.0313491 , -0.5328197 , -0.6369358 , -0.8100263 , -0.30138087,\n",
       "        -0.5472418 , -0.925562  , -0.8282746 , -0.8195398 , -0.62726194,\n",
       "        -0.77606946, -0.9458622 , -0.86645406, -0.52859056, -0.49687022,\n",
       "        -0.90320927, -0.8220788 , -0.45998296, -1.0910898 , -0.7667234 ,\n",
       "        -0.84906846, -0.66477805, -0.95537347, -0.81817025, -0.7082717 ,\n",
       "        -0.44126666, -0.81905085, -0.7545922 , -0.78417075, -0.7020788 ,\n",
       "        -0.29222977, -0.7248468 , -1.0615196 , -0.68877745, -0.9429862 ,\n",
       "        -0.5749579 , -1.0654929 , -0.94413215, -1.1149988 , -0.87359685,\n",
       "        -0.74774444, -0.47917303, -0.855298  , -0.82175446, -0.5085722 ,\n",
       "        -0.8708938 , -0.7080334 , -0.73585886, -0.30546102, -0.79563016,\n",
       "        -0.8143318 , -0.60298115, -1.1688929 , -0.7592518 , -0.50551015,\n",
       "        -0.42435753, -1.0388726 , -0.6389326 , -0.4947527 , -0.32281926,\n",
       "        -0.86019254, -0.715451  , -0.44836795, -0.6745256 , -0.7148247 ,\n",
       "        -0.6941388 , -0.744022  , -0.48187968, -0.6823203 , -0.94184893,\n",
       "        -1.0720016 , -0.92321044, -0.9217684 , -0.53263664, -0.36520267,\n",
       "        -0.5919072 , -0.9577809 , -0.5292064 , -0.44178987, -0.48624378,\n",
       "        -0.8401942 , -0.5163445 , -0.79818714, -0.8297769 , -0.36861557,\n",
       "        -0.8345171 , -0.8345908 , -0.72925353, -1.0079309 , -0.23860143,\n",
       "        -0.8110469 , -0.3815502 , -0.8033986 , -0.54512817, -0.9296068 ,\n",
       "        -1.0765791 , -0.09666684, -0.6186371 , -0.75645304, -0.39989933,\n",
       "        -0.83807206, -0.6991779 , -0.2268238 , -0.7646076 , -0.7329471 ,\n",
       "        -0.70573264, -0.8874484 , -0.55998003, -0.9133968 , -0.7130984 ,\n",
       "        -0.9231696 , -0.47170684, -0.85673875, -1.0349579 , -0.59033006,\n",
       "        -0.97842306, -0.7463513 , -0.7308897 , -0.48771033, -0.55484617,\n",
       "        -0.7866825 , -0.6789063 , -0.9229129 , -1.3049116 , -0.6015771 ,\n",
       "        -0.91685796, -0.8770778 , -0.7441809 , -0.8318752 , -0.4461999 ,\n",
       "        -0.74138   , -0.86065316, -0.5208054 , -0.76829857, -0.6948509 ,\n",
       "        -0.75791335, -0.24610348, -0.22480203, -0.7857186 , -0.99154186,\n",
       "        -0.7536548 , -0.34038514, -0.7950539 , -0.75063014, -1.0280491 ,\n",
       "        -0.6290381 , -0.690685  , -0.36635765, -0.67253375, -0.5390768 ,\n",
       "        -0.7766789 , -0.8458305 , -0.8049631 , -0.9315908 , -0.83485866,\n",
       "        -0.71423656, -1.0550649 , -0.5744383 , -0.5776482 , -0.6141404 ,\n",
       "        -0.9158669 , -0.8695732 , -0.94498515, -0.89030606, -0.7495628 ,\n",
       "        -0.58031857, -0.7151839 , -1.2892148 , -0.786654  , -0.21456191,\n",
       "        -0.5209136 , -0.69797486, -0.87532836, -0.34074223, -0.81454617,\n",
       "        -0.75576705, -0.7863748 , -0.8350926 , -0.32317674, -0.6853701 ,\n",
       "        -0.9892173 , -0.78728145, -0.79978216, -0.8396424 , -0.5519047 ,\n",
       "        -1.1569804 , -0.73068994, -0.86060166, -0.36525682, -0.9772056 ,\n",
       "        -0.29671603, -0.7970688 , -0.6030568 , -0.59733254, -0.55914944,\n",
       "        -0.83550835, -0.74234605, -0.7458986 , -0.5922046 , -0.8535487 ,\n",
       "        -1.0255033 , -1.0354588 ,  0.35653135, -0.9787557 , -0.99942833,\n",
       "        -0.77299756, -0.53189605, -0.59203565, -0.33414146, -0.9568651 ,\n",
       "        -0.5646779 , -0.75187844, -1.0480083 , -0.6918022 , -0.6971248 ,\n",
       "        -0.77046806, -1.0703388 , -0.9754308 , -0.42257497, -0.9897199 ,\n",
       "        -0.7560951 , -0.75867444, -0.28247172, -0.93997425, -0.5843143 ,\n",
       "        -0.6626432 , -0.74912983, -0.86097735, -0.6715876 , -0.6770028 ,\n",
       "        -0.89218265, -0.79881173, -0.41192973, -0.59154534, -0.26065254,\n",
       "        -0.8931376 , -0.61567426, -0.87069535, -0.9916513 , -0.71123135,\n",
       "        -0.4921528 , -0.70993316, -0.8117828 , -0.33142328, -0.39336818,\n",
       "        -0.8508605 , -0.48204544, -0.7497612 , -0.46079987, -0.51960146,\n",
       "        -0.92929244, -0.74291617, -0.82730293, -0.7379736 , -0.7438417 ,\n",
       "        -0.6304524 , -0.72744995, -0.85007536, -0.3512579 , -1.0211724 ,\n",
       "        -0.43688208, -0.6308645 , -0.6062578 , -0.6528515 , -0.6378453 ,\n",
       "        -0.9443096 , -0.9971505 , -0.796638  , -0.6713223 , -0.5184089 ,\n",
       "        -0.94528973, -0.35082376, -0.96980876, -0.5575063 , -0.6737092 ,\n",
       "        -0.91184974, -0.6038707 , -0.9159912 , -0.65361965, -0.8729367 ,\n",
       "        -1.0598643 , -0.85768664, -1.0366546 , -0.73627865, -0.3719077 ,\n",
       "        -0.34646297, -0.43880236, -0.908039  , -0.653311  , -0.25472358,\n",
       "        -0.89909196, -0.5886765 , -0.91153   , -0.6176268 , -0.7882113 ,\n",
       "        -0.81999606, -0.84992784, -1.001833  , -0.01858433, -0.5863945 ,\n",
       "        -0.27841642, -0.5945769 , -0.8551585 , -0.65736043, -0.7051062 ,\n",
       "        -0.93297654, -0.8371272 , -0.91195405, -1.000361  , -0.728948  ,\n",
       "        -0.53774315, -0.595103  , -1.1484402 , -1.0177116 , -0.37030175,\n",
       "        -0.63050276, -0.7695749 , -0.7157384 , -0.8673552 , -0.6994162 ,\n",
       "        -0.8843584 , -0.65736026, -0.90061456, -1.0373873 , -0.696217  ,\n",
       "        -0.9208063 , -0.7743207 , -0.4780876 , -0.8416628 , -0.92621976,\n",
       "        -0.5823429 , -0.76579005, -0.29873392, -0.7330647 , -0.74131984,\n",
       "        -0.78695595, -0.8346436 , -0.9612899 , -1.1711692 , -1.0320503 ,\n",
       "        -0.6593316 , -0.5513593 , -0.68055296, -0.58192664, -0.6796016 ,\n",
       "        -0.6706442 , -0.70287544, -0.8010943 , -1.0854157 , -0.49702495,\n",
       "        -0.6721347 , -0.4487459 , -0.8838427 , -0.9843363 , -0.804993  ,\n",
       "        -0.92997855, -0.6845463 , -0.9893227 , -1.1956239 , -0.8130097 ,\n",
       "        -0.4849313 , -0.4347491 , -0.57402503, -0.4652761 , -1.0957    ,\n",
       "        -1.0322578 , -0.5291855 , -0.35328877, -0.63943446, -0.37503016,\n",
       "        -0.9531655 , -0.58760864], dtype=float32)>,\n",
       " <tf.Variable 'dense_layer_4_1/kernel:0' shape=(512, 10) dtype=float32, numpy=\n",
       " array([[-0.66375923, -0.20214018, -0.15328205, ..., -0.11945322,\n",
       "         -0.21704675, -0.5998185 ],\n",
       "        [-0.87697846, -0.03075726, -0.08376382, ..., -0.04918905,\n",
       "         -0.4294732 , -0.2142615 ],\n",
       "        [-0.60211354, -0.16142409, -0.3027122 , ..., -0.28254467,\n",
       "         -0.39632118, -0.2879008 ],\n",
       "        ...,\n",
       "        [-0.37189138, -0.23510095, -0.1307017 , ..., -0.3008866 ,\n",
       "         -0.15480375, -0.3829885 ],\n",
       "        [-0.32665512, -0.2520203 , -0.371443  , ..., -0.20058699,\n",
       "         -0.4451676 , -0.32839733],\n",
       "        [-0.16473784, -0.31014487, -0.4785778 , ..., -0.10363201,\n",
       "         -0.11509958, -0.04660525]], dtype=float32)>,\n",
       " <tf.Variable 'dense_layer_4_1/bias:0' shape=(10,) dtype=float32, numpy=\n",
       " array([ 1.189597  , -0.7949364 , -0.92511517, -0.4785647 , -0.33940768,\n",
       "        -0.8825297 , -0.33439437, -0.95009017,  1.6654049 ,  0.93292344],\n",
       "       dtype=float32)>]"
      ]
     },
     "execution_count": 60,
     "metadata": {
      "tags": []
     },
     "output_type": "execute_result"
    }
   ],
   "source": [
    "model_7.weights"
   ]
  },
  {
   "cell_type": "code",
   "execution_count": null,
   "metadata": {
    "colab": {
     "base_uri": "https://localhost:8080/",
     "height": 1000
    },
    "id": "RAqCr1p-ceJ8",
    "outputId": "02c75016-802a-4897-f8e8-02a6ba4d234e"
   },
   "outputs": [
    {
     "data": {
      "text/plain": [
       "{'build_input_shape': TensorShape([None, 784]),\n",
       " 'layers': [{'class_name': 'Dense',\n",
       "   'config': {'activation': 'relu',\n",
       "    'activity_regularizer': None,\n",
       "    'batch_input_shape': (None, 784),\n",
       "    'bias_constraint': None,\n",
       "    'bias_initializer': {'class_name': 'Zeros', 'config': {}},\n",
       "    'bias_regularizer': None,\n",
       "    'dtype': 'float32',\n",
       "    'kernel_constraint': None,\n",
       "    'kernel_initializer': {'class_name': 'GlorotUniform',\n",
       "     'config': {'seed': None}},\n",
       "    'kernel_regularizer': None,\n",
       "    'name': 'dense_layer',\n",
       "    'trainable': True,\n",
       "    'units': 512,\n",
       "    'use_bias': True}},\n",
       "  {'class_name': 'Dropout',\n",
       "   'config': {'dtype': 'float32',\n",
       "    'name': 'dropout_8',\n",
       "    'noise_shape': None,\n",
       "    'rate': 0.3,\n",
       "    'seed': None,\n",
       "    'trainable': True}},\n",
       "  {'class_name': 'Dense',\n",
       "   'config': {'activation': 'relu',\n",
       "    'activity_regularizer': None,\n",
       "    'bias_constraint': None,\n",
       "    'bias_initializer': {'class_name': 'Zeros', 'config': {}},\n",
       "    'bias_regularizer': None,\n",
       "    'dtype': 'float32',\n",
       "    'kernel_constraint': None,\n",
       "    'kernel_initializer': {'class_name': 'GlorotUniform',\n",
       "     'config': {'seed': None}},\n",
       "    'kernel_regularizer': None,\n",
       "    'name': 'dense_layer_2',\n",
       "    'trainable': True,\n",
       "    'units': 512,\n",
       "    'use_bias': True}},\n",
       "  {'class_name': 'Dropout',\n",
       "   'config': {'dtype': 'float32',\n",
       "    'name': 'dropout_9',\n",
       "    'noise_shape': None,\n",
       "    'rate': 0.3,\n",
       "    'seed': None,\n",
       "    'trainable': True}},\n",
       "  {'class_name': 'Dense',\n",
       "   'config': {'activation': 'relu',\n",
       "    'activity_regularizer': None,\n",
       "    'bias_constraint': None,\n",
       "    'bias_initializer': {'class_name': 'Zeros', 'config': {}},\n",
       "    'bias_regularizer': None,\n",
       "    'dtype': 'float32',\n",
       "    'kernel_constraint': None,\n",
       "    'kernel_initializer': {'class_name': 'GlorotUniform',\n",
       "     'config': {'seed': None}},\n",
       "    'kernel_regularizer': None,\n",
       "    'name': 'dense_layer_3',\n",
       "    'trainable': True,\n",
       "    'units': 512,\n",
       "    'use_bias': True}},\n",
       "  {'class_name': 'Dropout',\n",
       "   'config': {'dtype': 'float32',\n",
       "    'name': 'dropout_10',\n",
       "    'noise_shape': None,\n",
       "    'rate': 0.3,\n",
       "    'seed': None,\n",
       "    'trainable': True}},\n",
       "  {'class_name': 'Dense',\n",
       "   'config': {'activation': 'softmax',\n",
       "    'activity_regularizer': None,\n",
       "    'bias_constraint': None,\n",
       "    'bias_initializer': {'class_name': 'Zeros', 'config': {}},\n",
       "    'bias_regularizer': None,\n",
       "    'dtype': 'float32',\n",
       "    'kernel_constraint': None,\n",
       "    'kernel_initializer': {'class_name': 'GlorotUniform',\n",
       "     'config': {'seed': None}},\n",
       "    'kernel_regularizer': None,\n",
       "    'name': 'dense_layer_4',\n",
       "    'trainable': True,\n",
       "    'units': 10,\n",
       "    'use_bias': True}}],\n",
       " 'name': 'sequential_6'}"
      ]
     },
     "execution_count": 61,
     "metadata": {
      "tags": []
     },
     "output_type": "execute_result"
    }
   ],
   "source": [
    "model_7.get_config()"
   ]
  },
  {
   "cell_type": "code",
   "execution_count": null,
   "metadata": {
    "id": "_ppyWTqgceLx"
   },
   "outputs": [],
   "source": []
  },
  {
   "cell_type": "code",
   "execution_count": null,
   "metadata": {
    "id": "4dRZu5Mq-7As"
   },
   "outputs": [],
   "source": [
    "from google.colab import drive\n",
    "drive.mount('/content/drive')"
   ]
  }
 ],
 "metadata": {
  "accelerator": "TPU",
  "colab": {
   "collapsed_sections": [
    "yZBPiGLXYGUM",
    "M0UnlNytbPmC",
    "WQR_cGsYaWVD",
    "ajqy56PT_pHr",
    "n8iGAu5OAO5Y",
    "mBnxm6kkzUYm",
    "AFbx6XHI0KyQ",
    "jX8DXi1jiFYS"
   ],
   "name": "Assignment1 Multilayer perceptron.ipynb",
   "provenance": []
  },
  "kernelspec": {
   "display_name": "Python 3",
   "language": "python",
   "name": "python3"
  },
  "language_info": {
   "codemirror_mode": {
    "name": "ipython",
    "version": 3
   },
   "file_extension": ".py",
   "mimetype": "text/x-python",
   "name": "python",
   "nbconvert_exporter": "python",
   "pygments_lexer": "ipython3",
   "version": "3.7.4"
  }
 },
 "nbformat": 4,
 "nbformat_minor": 4
}
